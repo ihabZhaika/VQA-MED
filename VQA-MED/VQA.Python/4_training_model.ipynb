{
 "cells": [
  {
   "cell_type": "markdown",
   "metadata": {},
   "source": [
    "# Training Model"
   ]
  },
  {
   "cell_type": "markdown",
   "metadata": {},
   "source": [
    "In this note book we will be training the model.  \n",
    "When training the model, we have several parameters we can use for getting better results:\n",
    "1. **augmentations** - How many augmentations should be used for each question-image pair.\n",
    "2. **batch_size**\n",
    "3. **epochs**\n",
    "4. **use_class_weight** - should class weights be used for compensating for skewed data.\n"
   ]
  },
  {
   "cell_type": "markdown",
   "metadata": {},
   "source": [
    "### Some main functions we used:"
   ]
  },
  {
   "cell_type": "code",
   "execution_count": 1,
   "metadata": {},
   "outputs": [
    {
     "name": "stderr",
     "output_type": "stream",
     "text": [
      "Using TensorFlow backend.\n"
     ]
    },
    {
     "name": "stdout",
     "output_type": "stream",
     "text": [
      "Getting the label using a hot vector\n",
      "\n"
     ]
    },
    {
     "data": {
      "text/html": [
       "<style type=\"text/css\">.highlight .hll { background-color: #ffffcc }\n",
       ".highlight  { background: #f8f8f8; }\n",
       ".highlight .c { color: #408080; font-style: italic } /* Comment */\n",
       ".highlight .err { border: 1px solid #FF0000 } /* Error */\n",
       ".highlight .k { color: #008000; font-weight: bold } /* Keyword */\n",
       ".highlight .o { color: #666666 } /* Operator */\n",
       ".highlight .ch { color: #408080; font-style: italic } /* Comment.Hashbang */\n",
       ".highlight .cm { color: #408080; font-style: italic } /* Comment.Multiline */\n",
       ".highlight .cp { color: #BC7A00 } /* Comment.Preproc */\n",
       ".highlight .cpf { color: #408080; font-style: italic } /* Comment.PreprocFile */\n",
       ".highlight .c1 { color: #408080; font-style: italic } /* Comment.Single */\n",
       ".highlight .cs { color: #408080; font-style: italic } /* Comment.Special */\n",
       ".highlight .gd { color: #A00000 } /* Generic.Deleted */\n",
       ".highlight .ge { font-style: italic } /* Generic.Emph */\n",
       ".highlight .gr { color: #FF0000 } /* Generic.Error */\n",
       ".highlight .gh { color: #000080; font-weight: bold } /* Generic.Heading */\n",
       ".highlight .gi { color: #00A000 } /* Generic.Inserted */\n",
       ".highlight .go { color: #888888 } /* Generic.Output */\n",
       ".highlight .gp { color: #000080; font-weight: bold } /* Generic.Prompt */\n",
       ".highlight .gs { font-weight: bold } /* Generic.Strong */\n",
       ".highlight .gu { color: #800080; font-weight: bold } /* Generic.Subheading */\n",
       ".highlight .gt { color: #0044DD } /* Generic.Traceback */\n",
       ".highlight .kc { color: #008000; font-weight: bold } /* Keyword.Constant */\n",
       ".highlight .kd { color: #008000; font-weight: bold } /* Keyword.Declaration */\n",
       ".highlight .kn { color: #008000; font-weight: bold } /* Keyword.Namespace */\n",
       ".highlight .kp { color: #008000 } /* Keyword.Pseudo */\n",
       ".highlight .kr { color: #008000; font-weight: bold } /* Keyword.Reserved */\n",
       ".highlight .kt { color: #B00040 } /* Keyword.Type */\n",
       ".highlight .m { color: #666666 } /* Literal.Number */\n",
       ".highlight .s { color: #BA2121 } /* Literal.String */\n",
       ".highlight .na { color: #7D9029 } /* Name.Attribute */\n",
       ".highlight .nb { color: #008000 } /* Name.Builtin */\n",
       ".highlight .nc { color: #0000FF; font-weight: bold } /* Name.Class */\n",
       ".highlight .no { color: #880000 } /* Name.Constant */\n",
       ".highlight .nd { color: #AA22FF } /* Name.Decorator */\n",
       ".highlight .ni { color: #999999; font-weight: bold } /* Name.Entity */\n",
       ".highlight .ne { color: #D2413A; font-weight: bold } /* Name.Exception */\n",
       ".highlight .nf { color: #0000FF } /* Name.Function */\n",
       ".highlight .nl { color: #A0A000 } /* Name.Label */\n",
       ".highlight .nn { color: #0000FF; font-weight: bold } /* Name.Namespace */\n",
       ".highlight .nt { color: #008000; font-weight: bold } /* Name.Tag */\n",
       ".highlight .nv { color: #19177C } /* Name.Variable */\n",
       ".highlight .ow { color: #AA22FF; font-weight: bold } /* Operator.Word */\n",
       ".highlight .w { color: #bbbbbb } /* Text.Whitespace */\n",
       ".highlight .mb { color: #666666 } /* Literal.Number.Bin */\n",
       ".highlight .mf { color: #666666 } /* Literal.Number.Float */\n",
       ".highlight .mh { color: #666666 } /* Literal.Number.Hex */\n",
       ".highlight .mi { color: #666666 } /* Literal.Number.Integer */\n",
       ".highlight .mo { color: #666666 } /* Literal.Number.Oct */\n",
       ".highlight .sa { color: #BA2121 } /* Literal.String.Affix */\n",
       ".highlight .sb { color: #BA2121 } /* Literal.String.Backtick */\n",
       ".highlight .sc { color: #BA2121 } /* Literal.String.Char */\n",
       ".highlight .dl { color: #BA2121 } /* Literal.String.Delimiter */\n",
       ".highlight .sd { color: #BA2121; font-style: italic } /* Literal.String.Doc */\n",
       ".highlight .s2 { color: #BA2121 } /* Literal.String.Double */\n",
       ".highlight .se { color: #BB6622; font-weight: bold } /* Literal.String.Escape */\n",
       ".highlight .sh { color: #BA2121 } /* Literal.String.Heredoc */\n",
       ".highlight .si { color: #BB6688; font-weight: bold } /* Literal.String.Interpol */\n",
       ".highlight .sx { color: #008000 } /* Literal.String.Other */\n",
       ".highlight .sr { color: #BB6688 } /* Literal.String.Regex */\n",
       ".highlight .s1 { color: #BA2121 } /* Literal.String.Single */\n",
       ".highlight .ss { color: #19177C } /* Literal.String.Symbol */\n",
       ".highlight .bp { color: #008000 } /* Name.Builtin.Pseudo */\n",
       ".highlight .fm { color: #0000FF } /* Name.Function.Magic */\n",
       ".highlight .vc { color: #19177C } /* Name.Variable.Class */\n",
       ".highlight .vg { color: #19177C } /* Name.Variable.Global */\n",
       ".highlight .vi { color: #19177C } /* Name.Variable.Instance */\n",
       ".highlight .vm { color: #19177C } /* Name.Variable.Magic */\n",
       ".highlight .il { color: #666666 } /* Literal.Number.Integer.Long */</style><div class=\"highlight\"><pre><span></span>    <span class=\"nd\">@staticmethod</span>\n",
       "    <span class=\"k\">def</span> <span class=\"nf\">_generate_data</span><span class=\"p\">(</span><span class=\"n\">df</span><span class=\"p\">:</span> <span class=\"n\">pd</span><span class=\"o\">.</span><span class=\"n\">DataFrame</span><span class=\"p\">,</span> <span class=\"n\">prediction_vector</span><span class=\"p\">:</span> <span class=\"nb\">iter</span><span class=\"p\">)</span> <span class=\"o\">-&gt;</span> <span class=\"p\">(</span><span class=\"nb\">iter</span><span class=\"p\">,</span> <span class=\"nb\">iter</span><span class=\"p\">):</span>\n",
       "        <span class=\"sd\">&quot;&quot;&quot;Generates data containing batch_size samples&quot;&quot;&quot;</span>  <span class=\"c1\"># X : (n_samples, *dim, n_channels)</span>\n",
       "        <span class=\"k\">try</span><span class=\"p\">:</span>\n",
       "            <span class=\"n\">features</span> <span class=\"o\">=</span> <span class=\"n\">get_features</span><span class=\"p\">(</span><span class=\"n\">df</span><span class=\"p\">)</span>\n",
       "            <span class=\"n\">labels</span> <span class=\"o\">=</span> <span class=\"n\">sentences_to_hot_vector</span><span class=\"p\">(</span><span class=\"n\">labels</span><span class=\"o\">=</span><span class=\"n\">df</span><span class=\"o\">.</span><span class=\"n\">processed_answer</span><span class=\"p\">,</span> <span class=\"n\">classes</span><span class=\"o\">=</span><span class=\"n\">prediction_vector</span><span class=\"p\">)</span>\n",
       "\n",
       "        <span class=\"k\">except</span> <span class=\"ne\">Exception</span> <span class=\"k\">as</span> <span class=\"n\">ex</span><span class=\"p\">:</span>\n",
       "            <span class=\"n\">logger</span><span class=\"o\">.</span><span class=\"n\">warning</span><span class=\"p\">(</span><span class=\"n\">f</span><span class=\"s1\">&#39;Failed to get features:</span><span class=\"se\">\\n</span><span class=\"s1\">:{ex}&#39;</span><span class=\"p\">)</span>\n",
       "            <span class=\"k\">raise</span>\n",
       "\n",
       "        <span class=\"n\">X</span> <span class=\"o\">=</span> <span class=\"n\">features</span>\n",
       "        <span class=\"n\">y</span> <span class=\"o\">=</span> <span class=\"n\">labels</span>\n",
       "        <span class=\"k\">return</span> <span class=\"n\">X</span><span class=\"p\">,</span> <span class=\"n\">y</span>\n",
       "</pre></div>\n"
      ],
      "text/plain": [
       "<IPython.core.display.HTML object>"
      ]
     },
     "metadata": {},
     "output_type": "display_data"
    },
    {
     "name": "stdout",
     "output_type": "stream",
     "text": [
      "\n",
      "\n",
      "The underlying method:\n",
      "\n"
     ]
    },
    {
     "data": {
      "text/html": [
       "<style type=\"text/css\">.highlight .hll { background-color: #ffffcc }\n",
       ".highlight  { background: #f8f8f8; }\n",
       ".highlight .c { color: #408080; font-style: italic } /* Comment */\n",
       ".highlight .err { border: 1px solid #FF0000 } /* Error */\n",
       ".highlight .k { color: #008000; font-weight: bold } /* Keyword */\n",
       ".highlight .o { color: #666666 } /* Operator */\n",
       ".highlight .ch { color: #408080; font-style: italic } /* Comment.Hashbang */\n",
       ".highlight .cm { color: #408080; font-style: italic } /* Comment.Multiline */\n",
       ".highlight .cp { color: #BC7A00 } /* Comment.Preproc */\n",
       ".highlight .cpf { color: #408080; font-style: italic } /* Comment.PreprocFile */\n",
       ".highlight .c1 { color: #408080; font-style: italic } /* Comment.Single */\n",
       ".highlight .cs { color: #408080; font-style: italic } /* Comment.Special */\n",
       ".highlight .gd { color: #A00000 } /* Generic.Deleted */\n",
       ".highlight .ge { font-style: italic } /* Generic.Emph */\n",
       ".highlight .gr { color: #FF0000 } /* Generic.Error */\n",
       ".highlight .gh { color: #000080; font-weight: bold } /* Generic.Heading */\n",
       ".highlight .gi { color: #00A000 } /* Generic.Inserted */\n",
       ".highlight .go { color: #888888 } /* Generic.Output */\n",
       ".highlight .gp { color: #000080; font-weight: bold } /* Generic.Prompt */\n",
       ".highlight .gs { font-weight: bold } /* Generic.Strong */\n",
       ".highlight .gu { color: #800080; font-weight: bold } /* Generic.Subheading */\n",
       ".highlight .gt { color: #0044DD } /* Generic.Traceback */\n",
       ".highlight .kc { color: #008000; font-weight: bold } /* Keyword.Constant */\n",
       ".highlight .kd { color: #008000; font-weight: bold } /* Keyword.Declaration */\n",
       ".highlight .kn { color: #008000; font-weight: bold } /* Keyword.Namespace */\n",
       ".highlight .kp { color: #008000 } /* Keyword.Pseudo */\n",
       ".highlight .kr { color: #008000; font-weight: bold } /* Keyword.Reserved */\n",
       ".highlight .kt { color: #B00040 } /* Keyword.Type */\n",
       ".highlight .m { color: #666666 } /* Literal.Number */\n",
       ".highlight .s { color: #BA2121 } /* Literal.String */\n",
       ".highlight .na { color: #7D9029 } /* Name.Attribute */\n",
       ".highlight .nb { color: #008000 } /* Name.Builtin */\n",
       ".highlight .nc { color: #0000FF; font-weight: bold } /* Name.Class */\n",
       ".highlight .no { color: #880000 } /* Name.Constant */\n",
       ".highlight .nd { color: #AA22FF } /* Name.Decorator */\n",
       ".highlight .ni { color: #999999; font-weight: bold } /* Name.Entity */\n",
       ".highlight .ne { color: #D2413A; font-weight: bold } /* Name.Exception */\n",
       ".highlight .nf { color: #0000FF } /* Name.Function */\n",
       ".highlight .nl { color: #A0A000 } /* Name.Label */\n",
       ".highlight .nn { color: #0000FF; font-weight: bold } /* Name.Namespace */\n",
       ".highlight .nt { color: #008000; font-weight: bold } /* Name.Tag */\n",
       ".highlight .nv { color: #19177C } /* Name.Variable */\n",
       ".highlight .ow { color: #AA22FF; font-weight: bold } /* Operator.Word */\n",
       ".highlight .w { color: #bbbbbb } /* Text.Whitespace */\n",
       ".highlight .mb { color: #666666 } /* Literal.Number.Bin */\n",
       ".highlight .mf { color: #666666 } /* Literal.Number.Float */\n",
       ".highlight .mh { color: #666666 } /* Literal.Number.Hex */\n",
       ".highlight .mi { color: #666666 } /* Literal.Number.Integer */\n",
       ".highlight .mo { color: #666666 } /* Literal.Number.Oct */\n",
       ".highlight .sa { color: #BA2121 } /* Literal.String.Affix */\n",
       ".highlight .sb { color: #BA2121 } /* Literal.String.Backtick */\n",
       ".highlight .sc { color: #BA2121 } /* Literal.String.Char */\n",
       ".highlight .dl { color: #BA2121 } /* Literal.String.Delimiter */\n",
       ".highlight .sd { color: #BA2121; font-style: italic } /* Literal.String.Doc */\n",
       ".highlight .s2 { color: #BA2121 } /* Literal.String.Double */\n",
       ".highlight .se { color: #BB6622; font-weight: bold } /* Literal.String.Escape */\n",
       ".highlight .sh { color: #BA2121 } /* Literal.String.Heredoc */\n",
       ".highlight .si { color: #BB6688; font-weight: bold } /* Literal.String.Interpol */\n",
       ".highlight .sx { color: #008000 } /* Literal.String.Other */\n",
       ".highlight .sr { color: #BB6688 } /* Literal.String.Regex */\n",
       ".highlight .s1 { color: #BA2121 } /* Literal.String.Single */\n",
       ".highlight .ss { color: #19177C } /* Literal.String.Symbol */\n",
       ".highlight .bp { color: #008000 } /* Name.Builtin.Pseudo */\n",
       ".highlight .fm { color: #0000FF } /* Name.Function.Magic */\n",
       ".highlight .vc { color: #19177C } /* Name.Variable.Class */\n",
       ".highlight .vg { color: #19177C } /* Name.Variable.Global */\n",
       ".highlight .vi { color: #19177C } /* Name.Variable.Instance */\n",
       ".highlight .vm { color: #19177C } /* Name.Variable.Magic */\n",
       ".highlight .il { color: #666666 } /* Literal.Number.Integer.Long */</style><div class=\"highlight\"><pre><span></span><span class=\"k\">def</span> <span class=\"nf\">sentences_to_hot_vector</span><span class=\"p\">(</span><span class=\"n\">labels</span><span class=\"p\">:</span> <span class=\"nb\">iter</span><span class=\"p\">,</span> <span class=\"n\">classes</span><span class=\"p\">:</span> <span class=\"nb\">iter</span><span class=\"p\">)</span> <span class=\"o\">-&gt;</span> <span class=\"nb\">iter</span><span class=\"p\">:</span>\n",
       "    <span class=\"kn\">from</span> <span class=\"nn\">sklearn.preprocessing</span> <span class=\"kn\">import</span> <span class=\"n\">MultiLabelBinarizer</span><span class=\"p\">,</span> <span class=\"n\">LabelBinarizer</span>\n",
       "    <span class=\"n\">labels_arr</span> <span class=\"o\">=</span> <span class=\"nb\">list</span><span class=\"p\">(</span><span class=\"n\">labels</span><span class=\"p\">)</span>\n",
       "    <span class=\"n\">classes_arr</span> <span class=\"o\">=</span> <span class=\"n\">np</span><span class=\"o\">.</span><span class=\"n\">asarray</span><span class=\"p\">(</span><span class=\"n\">classes</span><span class=\"p\">)</span>\n",
       "\n",
       "    <span class=\"n\">number_of_items_in_class</span> <span class=\"o\">=</span> <span class=\"nb\">max</span><span class=\"p\">([</span><span class=\"nb\">len</span><span class=\"p\">(</span><span class=\"n\">c</span><span class=\"o\">.</span><span class=\"n\">split</span><span class=\"p\">())</span> <span class=\"k\">for</span> <span class=\"n\">c</span> <span class=\"ow\">in</span> <span class=\"n\">classes_arr</span><span class=\"p\">])</span>\n",
       "    <span class=\"k\">if</span> <span class=\"n\">number_of_items_in_class</span> <span class=\"o\">==</span> <span class=\"mi\">1</span><span class=\"p\">:</span>\n",
       "        <span class=\"n\">splitted_labels</span> <span class=\"o\">=</span> <span class=\"p\">[</span><span class=\"n\">ans</span><span class=\"o\">.</span><span class=\"n\">lower</span><span class=\"p\">()</span><span class=\"o\">.</span><span class=\"n\">split</span><span class=\"p\">()</span> <span class=\"k\">for</span> <span class=\"n\">ans</span> <span class=\"ow\">in</span> <span class=\"n\">labels_arr</span><span class=\"p\">]</span>\n",
       "        <span class=\"n\">clean_splitted_labels</span> <span class=\"o\">=</span> <span class=\"p\">[[</span><span class=\"n\">w</span> <span class=\"k\">for</span> <span class=\"n\">w</span> <span class=\"ow\">in</span> <span class=\"n\">arr</span> <span class=\"k\">if</span> <span class=\"n\">w</span> <span class=\"ow\">in</span> <span class=\"n\">classes_arr</span><span class=\"p\">]</span> <span class=\"k\">for</span> <span class=\"n\">arr</span> <span class=\"ow\">in</span> <span class=\"n\">splitted_labels</span><span class=\"p\">]</span>\n",
       "\n",
       "    <span class=\"k\">else</span><span class=\"p\">:</span>\n",
       "        <span class=\"n\">clean_splitted_labels</span> <span class=\"o\">=</span> <span class=\"p\">[[</span><span class=\"n\">lbl</span><span class=\"p\">]</span> <span class=\"k\">for</span> <span class=\"n\">lbl</span> <span class=\"ow\">in</span> <span class=\"n\">labels_arr</span><span class=\"p\">]</span>\n",
       "\n",
       "    <span class=\"n\">mlb</span> <span class=\"o\">=</span> <span class=\"n\">MultiLabelBinarizer</span><span class=\"p\">(</span><span class=\"n\">classes</span><span class=\"o\">=</span><span class=\"n\">classes_arr</span><span class=\"o\">.</span><span class=\"n\">reshape</span><span class=\"p\">(</span><span class=\"n\">classes_arr</span><span class=\"o\">.</span><span class=\"n\">shape</span><span class=\"p\">[</span><span class=\"mi\">0</span><span class=\"p\">]),</span> <span class=\"n\">sparse_output</span><span class=\"o\">=</span><span class=\"bp\">False</span><span class=\"p\">)</span>\n",
       "    <span class=\"n\">mlb</span><span class=\"o\">.</span><span class=\"n\">fit</span><span class=\"p\">(</span><span class=\"n\">labels_arr</span><span class=\"p\">)</span>\n",
       "    <span class=\"n\">arr_hot_vector</span> <span class=\"o\">=</span> <span class=\"n\">mlb</span><span class=\"o\">.</span><span class=\"n\">transform</span><span class=\"p\">(</span><span class=\"n\">clean_splitted_labels</span><span class=\"p\">)</span>\n",
       "\n",
       "    <span class=\"k\">return</span> <span class=\"n\">arr_hot_vector</span>\n",
       "</pre></div>\n"
      ],
      "text/plain": [
       "<IPython.core.display.HTML object>"
      ]
     },
     "metadata": {},
     "output_type": "display_data"
    },
    {
     "name": "stdout",
     "output_type": "stream",
     "text": [
      "\n",
      "\n",
      "Getting the features using question embeding concatenation:\n",
      "\n"
     ]
    },
    {
     "data": {
      "text/html": [
       "<style type=\"text/css\">.highlight .hll { background-color: #ffffcc }\n",
       ".highlight  { background: #f8f8f8; }\n",
       ".highlight .c { color: #408080; font-style: italic } /* Comment */\n",
       ".highlight .err { border: 1px solid #FF0000 } /* Error */\n",
       ".highlight .k { color: #008000; font-weight: bold } /* Keyword */\n",
       ".highlight .o { color: #666666 } /* Operator */\n",
       ".highlight .ch { color: #408080; font-style: italic } /* Comment.Hashbang */\n",
       ".highlight .cm { color: #408080; font-style: italic } /* Comment.Multiline */\n",
       ".highlight .cp { color: #BC7A00 } /* Comment.Preproc */\n",
       ".highlight .cpf { color: #408080; font-style: italic } /* Comment.PreprocFile */\n",
       ".highlight .c1 { color: #408080; font-style: italic } /* Comment.Single */\n",
       ".highlight .cs { color: #408080; font-style: italic } /* Comment.Special */\n",
       ".highlight .gd { color: #A00000 } /* Generic.Deleted */\n",
       ".highlight .ge { font-style: italic } /* Generic.Emph */\n",
       ".highlight .gr { color: #FF0000 } /* Generic.Error */\n",
       ".highlight .gh { color: #000080; font-weight: bold } /* Generic.Heading */\n",
       ".highlight .gi { color: #00A000 } /* Generic.Inserted */\n",
       ".highlight .go { color: #888888 } /* Generic.Output */\n",
       ".highlight .gp { color: #000080; font-weight: bold } /* Generic.Prompt */\n",
       ".highlight .gs { font-weight: bold } /* Generic.Strong */\n",
       ".highlight .gu { color: #800080; font-weight: bold } /* Generic.Subheading */\n",
       ".highlight .gt { color: #0044DD } /* Generic.Traceback */\n",
       ".highlight .kc { color: #008000; font-weight: bold } /* Keyword.Constant */\n",
       ".highlight .kd { color: #008000; font-weight: bold } /* Keyword.Declaration */\n",
       ".highlight .kn { color: #008000; font-weight: bold } /* Keyword.Namespace */\n",
       ".highlight .kp { color: #008000 } /* Keyword.Pseudo */\n",
       ".highlight .kr { color: #008000; font-weight: bold } /* Keyword.Reserved */\n",
       ".highlight .kt { color: #B00040 } /* Keyword.Type */\n",
       ".highlight .m { color: #666666 } /* Literal.Number */\n",
       ".highlight .s { color: #BA2121 } /* Literal.String */\n",
       ".highlight .na { color: #7D9029 } /* Name.Attribute */\n",
       ".highlight .nb { color: #008000 } /* Name.Builtin */\n",
       ".highlight .nc { color: #0000FF; font-weight: bold } /* Name.Class */\n",
       ".highlight .no { color: #880000 } /* Name.Constant */\n",
       ".highlight .nd { color: #AA22FF } /* Name.Decorator */\n",
       ".highlight .ni { color: #999999; font-weight: bold } /* Name.Entity */\n",
       ".highlight .ne { color: #D2413A; font-weight: bold } /* Name.Exception */\n",
       ".highlight .nf { color: #0000FF } /* Name.Function */\n",
       ".highlight .nl { color: #A0A000 } /* Name.Label */\n",
       ".highlight .nn { color: #0000FF; font-weight: bold } /* Name.Namespace */\n",
       ".highlight .nt { color: #008000; font-weight: bold } /* Name.Tag */\n",
       ".highlight .nv { color: #19177C } /* Name.Variable */\n",
       ".highlight .ow { color: #AA22FF; font-weight: bold } /* Operator.Word */\n",
       ".highlight .w { color: #bbbbbb } /* Text.Whitespace */\n",
       ".highlight .mb { color: #666666 } /* Literal.Number.Bin */\n",
       ".highlight .mf { color: #666666 } /* Literal.Number.Float */\n",
       ".highlight .mh { color: #666666 } /* Literal.Number.Hex */\n",
       ".highlight .mi { color: #666666 } /* Literal.Number.Integer */\n",
       ".highlight .mo { color: #666666 } /* Literal.Number.Oct */\n",
       ".highlight .sa { color: #BA2121 } /* Literal.String.Affix */\n",
       ".highlight .sb { color: #BA2121 } /* Literal.String.Backtick */\n",
       ".highlight .sc { color: #BA2121 } /* Literal.String.Char */\n",
       ".highlight .dl { color: #BA2121 } /* Literal.String.Delimiter */\n",
       ".highlight .sd { color: #BA2121; font-style: italic } /* Literal.String.Doc */\n",
       ".highlight .s2 { color: #BA2121 } /* Literal.String.Double */\n",
       ".highlight .se { color: #BB6622; font-weight: bold } /* Literal.String.Escape */\n",
       ".highlight .sh { color: #BA2121 } /* Literal.String.Heredoc */\n",
       ".highlight .si { color: #BB6688; font-weight: bold } /* Literal.String.Interpol */\n",
       ".highlight .sx { color: #008000 } /* Literal.String.Other */\n",
       ".highlight .sr { color: #BB6688 } /* Literal.String.Regex */\n",
       ".highlight .s1 { color: #BA2121 } /* Literal.String.Single */\n",
       ".highlight .ss { color: #19177C } /* Literal.String.Symbol */\n",
       ".highlight .bp { color: #008000 } /* Name.Builtin.Pseudo */\n",
       ".highlight .fm { color: #0000FF } /* Name.Function.Magic */\n",
       ".highlight .vc { color: #19177C } /* Name.Variable.Class */\n",
       ".highlight .vg { color: #19177C } /* Name.Variable.Global */\n",
       ".highlight .vi { color: #19177C } /* Name.Variable.Instance */\n",
       ".highlight .vm { color: #19177C } /* Name.Variable.Magic */\n",
       ".highlight .il { color: #666666 } /* Literal.Number.Integer.Long */</style><div class=\"highlight\"><pre><span></span><span class=\"k\">def</span> <span class=\"nf\">get_features</span><span class=\"p\">(</span><span class=\"n\">df</span><span class=\"p\">:</span> <span class=\"n\">pd</span><span class=\"o\">.</span><span class=\"n\">DataFrame</span><span class=\"p\">):</span>\n",
       "    <span class=\"n\">series_reshaped</span> <span class=\"o\">=</span> <span class=\"n\">df</span><span class=\"o\">.</span><span class=\"n\">question_embedding</span><span class=\"o\">.</span><span class=\"n\">apply</span><span class=\"p\">(</span><span class=\"k\">lambda</span> <span class=\"n\">embedding</span><span class=\"p\">:</span> <span class=\"n\">embedding</span><span class=\"o\">.</span><span class=\"n\">reshape</span><span class=\"p\">((</span><span class=\"n\">embedding</span><span class=\"o\">.</span><span class=\"n\">shape</span><span class=\"p\">[</span><span class=\"mi\">0</span><span class=\"p\">],</span> <span class=\"mi\">1</span><span class=\"p\">)))</span>\n",
       "    <span class=\"n\">shape_sample</span> <span class=\"o\">=</span> <span class=\"n\">series_reshaped</span><span class=\"o\">.</span><span class=\"n\">values</span><span class=\"p\">[</span><span class=\"mi\">0</span><span class=\"p\">]</span><span class=\"o\">.</span><span class=\"n\">shape</span>\n",
       "    <span class=\"n\">set_shape</span> <span class=\"o\">=</span> <span class=\"p\">(</span><span class=\"nb\">len</span><span class=\"p\">(</span><span class=\"n\">series_reshaped</span><span class=\"o\">.</span><span class=\"n\">values</span><span class=\"p\">),</span> <span class=\"n\">shape_sample</span><span class=\"p\">[</span><span class=\"mi\">0</span><span class=\"p\">],</span><span class=\"mi\">1</span><span class=\"p\">)</span>\n",
       "\n",
       "    <span class=\"n\">question_features</span> <span class=\"o\">=</span> <span class=\"n\">np</span><span class=\"o\">.</span><span class=\"n\">reshape</span><span class=\"p\">(</span><span class=\"nb\">list</span><span class=\"p\">(</span><span class=\"n\">series_reshaped</span><span class=\"o\">.</span><span class=\"n\">values</span><span class=\"p\">),</span> <span class=\"n\">set_shape</span><span class=\"p\">)</span>\n",
       "\n",
       "    <span class=\"n\">pool</span> <span class=\"o\">=</span> <span class=\"n\">ThreadPool</span><span class=\"p\">(</span><span class=\"n\">processes</span><span class=\"o\">=</span><span class=\"mi\">7</span><span class=\"p\">)</span>\n",
       "    <span class=\"n\">unique_image_paths</span> <span class=\"o\">=</span> <span class=\"n\">df</span><span class=\"o\">.</span><span class=\"n\">path</span><span class=\"o\">.</span><span class=\"n\">drop_duplicates</span><span class=\"p\">()</span>\n",
       "    <span class=\"n\">worker_generator</span> <span class=\"o\">=</span> <span class=\"n\">pool</span><span class=\"o\">.</span><span class=\"n\">imap</span><span class=\"p\">(</span><span class=\"k\">lambda</span> <span class=\"n\">im_path</span><span class=\"p\">:</span> <span class=\"n\">np</span><span class=\"o\">.</span><span class=\"n\">array</span><span class=\"p\">(</span><span class=\"n\">get_image</span><span class=\"p\">(</span><span class=\"n\">im_path</span><span class=\"p\">)),</span> <span class=\"n\">unique_image_paths</span><span class=\"p\">)</span>\n",
       "    <span class=\"n\">images</span> <span class=\"o\">=</span> <span class=\"nb\">list</span><span class=\"p\">(</span><span class=\"n\">worker_generator</span><span class=\"p\">)</span>\n",
       "\n",
       "    <span class=\"n\">image_by_path</span> <span class=\"o\">=</span> <span class=\"p\">{</span><span class=\"n\">im_path</span><span class=\"p\">:</span><span class=\"n\">img</span> <span class=\"k\">for</span> <span class=\"n\">im_path</span><span class=\"p\">,</span> <span class=\"n\">img</span> <span class=\"ow\">in</span> <span class=\"nb\">zip</span><span class=\"p\">(</span><span class=\"n\">unique_image_paths</span><span class=\"p\">,</span> <span class=\"n\">images</span><span class=\"p\">)}</span>\n",
       "\n",
       "    <span class=\"n\">image_features</span> <span class=\"o\">=</span> <span class=\"n\">np</span><span class=\"o\">.</span><span class=\"n\">asarray</span><span class=\"p\">([</span><span class=\"n\">image_by_path</span><span class=\"p\">[</span><span class=\"n\">im_path</span><span class=\"p\">]</span> <span class=\"k\">for</span> <span class=\"n\">im_path</span> <span class=\"ow\">in</span> <span class=\"n\">df</span><span class=\"p\">[</span><span class=\"s1\">&#39;path&#39;</span><span class=\"p\">]])</span>\n",
       "\n",
       "    <span class=\"n\">features</span> <span class=\"o\">=</span> <span class=\"p\">[</span><span class=\"n\">question_features</span><span class=\"p\">,</span> <span class=\"n\">image_features</span><span class=\"p\">]</span>\n",
       "\n",
       "    <span class=\"k\">return</span> <span class=\"n\">features</span>\n",
       "</pre></div>\n"
      ],
      "text/plain": [
       "<IPython.core.display.HTML object>"
      ]
     },
     "metadata": {},
     "output_type": "display_data"
    }
   ],
   "source": [
    "import IPython\n",
    "from IPython.display import display_html\n",
    "from common.functions import get_highlighted_function_code\n",
    "from common.functions import get_features, sentences_to_hot_vector, hot_vector_to_words\n",
    "from classes.DataGenerator import DataGenerator\n",
    "\n",
    "code_generate_data = get_highlighted_function_code(DataGenerator._generate_data, remove_comments=True)\n",
    "code_get_features = get_highlighted_function_code(get_features, remove_comments=True)\n",
    "code_hot_vector = get_highlighted_function_code(sentences_to_hot_vector, remove_comments=True)\n",
    "\n",
    "print('Getting the label using a hot vector\\n')\n",
    "IPython.display.display(code_generate_data)\n",
    "\n",
    "print('\\n\\nThe underlying method:\\n')\n",
    "IPython.display.display(code_hot_vector)\n",
    "\n",
    "print('\\n\\nGetting the features using question embeding concatenation:\\n')\n",
    "IPython.display.display(code_get_features)"
   ]
  },
  {
   "cell_type": "markdown",
   "metadata": {},
   "source": [
    "---\n",
    "## The code:"
   ]
  },
  {
   "cell_type": "code",
   "execution_count": 2,
   "metadata": {},
   "outputs": [],
   "source": [
    "from classes.vqa_model_trainer import VqaModelTrainer\n",
    "from common.model_utils import get_trainable_params_distribution\n",
    "from common.settings import data_access as data_access_api\n",
    "from data_access.api import SpecificDataAccess\n",
    "from data_access.model_folder import ModelFolder\n",
    "from common.utils import VerboseTimer"
   ]
  },
  {
   "cell_type": "code",
   "execution_count": 3,
   "metadata": {},
   "outputs": [],
   "source": [
    "import logging\n",
    "import vqa_logger \n",
    "logger = logging.getLogger(__name__)"
   ]
  },
  {
   "cell_type": "code",
   "execution_count": 4,
   "metadata": {},
   "outputs": [
    {
     "data": {
      "text/plain": [
       "ModelFolder(folder=\"C:\\\\Users\\\\Public\\\\Documents\\\\Data\\\\2019\\\\models\\\\20190503_1357_08\")"
      ]
     },
     "execution_count": 4,
     "metadata": {},
     "output_type": "execute_result"
    }
   ],
   "source": [
    "model_location = 'C:\\\\Users\\\\Public\\\\Documents\\\\Data\\\\2019\\\\models\\\\20190503_1357_08\\\\'\n",
    "model_folder = ModelFolder(model_location)\n",
    "model_folder"
   ]
  },
  {
   "cell_type": "markdown",
   "metadata": {},
   "source": [
    "### Loading the model to train:"
   ]
  },
  {
   "cell_type": "code",
   "execution_count": 5,
   "metadata": {},
   "outputs": [
    {
     "name": "stdout",
     "output_type": "stream",
     "text": [
      "[2019-05-03 14:58:08][common.utils][DEBUG] Starting 'Loading Model'\n",
      "[2019-05-03 14:58:11][common.utils][DEBUG] Loading Model: 0:00:03.177274\n"
     ]
    }
   ],
   "source": [
    "question_category = model_folder.question_category\n",
    "kw_args = {\n",
    "'augmentations': 20,\n",
    "'batch_size': 32,\n",
    "'epochs': 1,\n",
    "'question_category': question_category,\n",
    "'use_class_weight':False,\n",
    "}\n",
    "\n",
    "data_access = SpecificDataAccess(data_access_api.folder, question_category=question_category, group=None)\n",
    "mt = VqaModelTrainer(model_folder, data_access=data_access, **kw_args)"
   ]
  },
  {
   "cell_type": "markdown",
   "metadata": {},
   "source": [
    "#### Lets take a look at the parameters:"
   ]
  },
  {
   "cell_type": "code",
   "execution_count": 6,
   "metadata": {},
   "outputs": [
    {
     "name": "stdout",
     "output_type": "stream",
     "text": [
      "Got a total of 50,565 trainable parameters\n"
     ]
    },
    {
     "data": {
      "text/html": [
       "<div>\n",
       "<style scoped>\n",
       "    .dataframe tbody tr th:only-of-type {\n",
       "        vertical-align: middle;\n",
       "    }\n",
       "\n",
       "    .dataframe tbody tr th {\n",
       "        vertical-align: top;\n",
       "    }\n",
       "\n",
       "    .dataframe thead th {\n",
       "        text-align: right;\n",
       "    }\n",
       "</style>\n",
       "<table border=\"1\" class=\"dataframe\">\n",
       "  <thead>\n",
       "    <tr style=\"text-align: right;\">\n",
       "      <th></th>\n",
       "      <th>index</th>\n",
       "      <th>layer</th>\n",
       "      <th>trainable_params</th>\n",
       "      <th>pretty_value</th>\n",
       "    </tr>\n",
       "  </thead>\n",
       "  <tbody>\n",
       "    <tr>\n",
       "      <th>0</th>\n",
       "      <td>5</td>\n",
       "      <td>post_concat_dense1_8/kernel:0</td>\n",
       "      <td>40960</td>\n",
       "      <td>40,960</td>\n",
       "    </tr>\n",
       "    <tr>\n",
       "      <th>1</th>\n",
       "      <td>3</td>\n",
       "      <td>embedding_batch_normalization/beta:0</td>\n",
       "      <td>4608</td>\n",
       "      <td>4,608</td>\n",
       "    </tr>\n",
       "    <tr>\n",
       "      <th>2</th>\n",
       "      <td>7</td>\n",
       "      <td>embedding_batch_normalization/gamma:0</td>\n",
       "      <td>4608</td>\n",
       "      <td>4,608</td>\n",
       "    </tr>\n",
       "  </tbody>\n",
       "</table>\n",
       "</div>"
      ],
      "text/plain": [
       "   index                                  layer  trainable_params pretty_value\n",
       "0      5          post_concat_dense1_8/kernel:0             40960       40,960\n",
       "1      3   embedding_batch_normalization/beta:0              4608        4,608\n",
       "2      7  embedding_batch_normalization/gamma:0              4608        4,608"
      ]
     },
     "execution_count": 6,
     "metadata": {},
     "output_type": "execute_result"
    }
   ],
   "source": [
    "get_trainable_params_distribution(mt.model)\n",
    "# mt.model.summary()"
   ]
  },
  {
   "cell_type": "markdown",
   "metadata": {},
   "source": [
    "#### Take a look at the meta data:"
   ]
  },
  {
   "cell_type": "code",
   "execution_count": 7,
   "metadata": {},
   "outputs": [
    {
     "name": "stdout",
     "output_type": "stream",
     "text": [
      "[2019-05-03 14:58:11][data_access.api][DEBUG] loading processed data from:\n",
      "C:\\Users\\avitu\\Documents\\GitHub\\VQA-MED\\VQA-MED\\VQA.Python\\data\\model_input.parquet\n",
      "[2019-05-03 14:58:11][data_access.api][DEBUG] loading parquet from:\n",
      "C:\\Users\\avitu\\Documents\\GitHub\\VQA-MED\\VQA-MED\\VQA.Python\\data\\model_input.parquet\n",
      "[2019-05-03 14:58:11][common.utils][DEBUG] Starting 'Loading parquet'\n",
      "[2019-05-03 14:58:14][common.utils][DEBUG] Loading parquet: 0:00:03.188204\n",
      "[2019-05-03 14:58:14][common.utils][DEBUG] Starting 'Converting to pandas'\n",
      "[2019-05-03 14:58:15][common.utils][DEBUG] Converting to pandas: 0:00:00.569857\n"
     ]
    },
    {
     "data": {
      "text/html": [
       "<table style=\"display:inline\" border=\"1\" class=\"dataframe\">\n",
       "  <thead>\n",
       "    <tr style=\"text-align: right;\">\n",
       "      <th></th>\n",
       "      <th>processed_answer</th>\n",
       "      <th>question_category</th>\n",
       "    </tr>\n",
       "  </thead>\n",
       "  <tbody>\n",
       "    <tr>\n",
       "      <th>573</th>\n",
       "      <td>femoral neck stress fractures</td>\n",
       "      <td>Abnormality</td>\n",
       "    </tr>\n",
       "    <tr>\n",
       "      <th>1186</th>\n",
       "      <td>peripheral vascular disease</td>\n",
       "      <td>Abnormality</td>\n",
       "    </tr>\n",
       "    <tr>\n",
       "      <th>417</th>\n",
       "      <td>cryptococcus cryptococcoma presumed</td>\n",
       "      <td>Abnormality</td>\n",
       "    </tr>\n",
       "    <tr>\n",
       "      <th>470</th>\n",
       "      <td>diffuse rhabdomyosarcoma</td>\n",
       "      <td>Abnormality</td>\n",
       "    </tr>\n",
       "    <tr>\n",
       "      <th>509</th>\n",
       "      <td>elbow dislocation</td>\n",
       "      <td>Abnormality</td>\n",
       "    </tr>\n",
       "    <tr>\n",
       "      <th>290</th>\n",
       "      <td>cervical hemangioblastoma</td>\n",
       "      <td>Abnormality</td>\n",
       "    </tr>\n",
       "    <tr>\n",
       "      <th>944</th>\n",
       "      <td>meniscal ossicle</td>\n",
       "      <td>Abnormality</td>\n",
       "    </tr>\n",
       "    <tr>\n",
       "      <th>1286</th>\n",
       "      <td>pseudofracture of the cervical vertebral body</td>\n",
       "      <td>Abnormality</td>\n",
       "    </tr>\n",
       "    <tr>\n",
       "      <th>302</th>\n",
       "      <td>chiari malformation cervical occipital encepha...</td>\n",
       "      <td>Abnormality</td>\n",
       "    </tr>\n",
       "    <tr>\n",
       "      <th>652</th>\n",
       "      <td>glioblastome multiforme gbm</td>\n",
       "      <td>Abnormality</td>\n",
       "    </tr>\n",
       "  </tbody>\n",
       "</table style=\"display:inline\"><table style=\"display:inline\" border=\"1\" class=\"dataframe\">\n",
       "  <thead>\n",
       "    <tr style=\"text-align: right;\">\n",
       "      <th></th>\n",
       "      <th>word</th>\n",
       "      <th>question_category</th>\n",
       "    </tr>\n",
       "  </thead>\n",
       "  <tbody>\n",
       "    <tr>\n",
       "      <th>171</th>\n",
       "      <td>balo</td>\n",
       "      <td>Abnormality</td>\n",
       "    </tr>\n",
       "    <tr>\n",
       "      <th>366</th>\n",
       "      <td>colles</td>\n",
       "      <td>Abnormality</td>\n",
       "    </tr>\n",
       "    <tr>\n",
       "      <th>1376</th>\n",
       "      <td>ovary</td>\n",
       "      <td>Abnormality</td>\n",
       "    </tr>\n",
       "    <tr>\n",
       "      <th>8</th>\n",
       "      <td>abscesses</td>\n",
       "      <td>Abnormality</td>\n",
       "    </tr>\n",
       "    <tr>\n",
       "      <th>511</th>\n",
       "      <td>dish</td>\n",
       "      <td>Abnormality</td>\n",
       "    </tr>\n",
       "    <tr>\n",
       "      <th>1484</th>\n",
       "      <td>plate</td>\n",
       "      <td>Abnormality</td>\n",
       "    </tr>\n",
       "    <tr>\n",
       "      <th>1669</th>\n",
       "      <td>scaphocephaly</td>\n",
       "      <td>Abnormality</td>\n",
       "    </tr>\n",
       "    <tr>\n",
       "      <th>1161</th>\n",
       "      <td>meningioma</td>\n",
       "      <td>Abnormality</td>\n",
       "    </tr>\n",
       "    <tr>\n",
       "      <th>1475</th>\n",
       "      <td>placement</td>\n",
       "      <td>Abnormality</td>\n",
       "    </tr>\n",
       "    <tr>\n",
       "      <th>306</th>\n",
       "      <td>children</td>\n",
       "      <td>Abnormality</td>\n",
       "    </tr>\n",
       "  </tbody>\n",
       "</table style=\"display:inline\">"
      ]
     },
     "metadata": {},
     "output_type": "display_data"
    }
   ],
   "source": [
    "meta = data_access.load_meta()\n",
    "df_meta_answers = meta['answers']\n",
    "df_words = meta['words']\n",
    "df_data = data_access.load_processed_data()\n",
    "\n",
    "def display_side_by_side(*args):\n",
    "    html_str=''\n",
    "    for df in args:\n",
    "        html_str+=df.to_html()\n",
    "    display_html(html_str.replace('table','table style=\"display:inline\"'),raw=True)\n",
    "    \n",
    "display_side_by_side(df_meta_answers.sample(10),df_words.sample(10))\n",
    "\n"
   ]
  },
  {
   "cell_type": "markdown",
   "metadata": {},
   "source": [
    "### Train the model"
   ]
  },
  {
   "cell_type": "code",
   "execution_count": 8,
   "metadata": {
    "collapsed": false
   },
   "outputs": [
    {
     "name": "stdout",
     "output_type": "stream",
     "text": [
      "[2019-05-03 14:58:15][data_access.api][DEBUG] loading processed data from:\n",
      "C:\\Users\\avitu\\Documents\\GitHub\\VQA-MED\\VQA-MED\\VQA.Python\\data\\model_input.parquet\n",
      "[2019-05-03 14:58:15][data_access.api][DEBUG] loading parquet from:\n",
      "C:\\Users\\avitu\\Documents\\GitHub\\VQA-MED\\VQA-MED\\VQA.Python\\data\\model_input.parquet\n",
      "[2019-05-03 14:58:15][common.utils][DEBUG] Starting 'Loading parquet'\n",
      "[2019-05-03 14:58:18][common.utils][DEBUG] Loading parquet: 0:00:02.584861\n",
      "[2019-05-03 14:58:18][common.utils][DEBUG] Starting 'Converting to pandas'\n",
      "[2019-05-03 14:58:18][common.utils][DEBUG] Converting to pandas: 0:00:00.019675\n",
      "[2019-05-03 14:58:18][data_access.api][DEBUG] Loading augmentations:\n",
      "C:\\Users\\avitu\\Documents\\GitHub\\VQA-MED\\VQA-MED\\VQA.Python\\data\\augmentations.parquet\n",
      "[2019-05-03 14:58:18][data_access.api][DEBUG] loading parquet from:\n",
      "C:\\Users\\avitu\\Documents\\GitHub\\VQA-MED\\VQA-MED\\VQA.Python\\data\\augmentations.parquet\n",
      "[2019-05-03 14:58:18][common.utils][DEBUG] Starting 'Loading parquet'\n",
      "[2019-05-03 14:58:18][common.utils][DEBUG] Loading parquet: 0:00:00.055598\n",
      "[2019-05-03 14:58:18][common.utils][DEBUG] Starting 'Converting to pandas'\n",
      "[2019-05-03 14:58:18][common.utils][DEBUG] Converting to pandas: 0:00:00.019458\n"
     ]
    },
    {
     "ename": "ValueError",
     "evalue": "Buffer dtype mismatch, expected 'Python object' but got 'long long'",
     "output_type": "error",
     "traceback": [
      "\u001b[1;31m---------------------------------------------------------------------------\u001b[0m",
      "\u001b[1;31mValueError\u001b[0m                                Traceback (most recent call last)",
      "\u001b[1;31mValueError\u001b[0m: Buffer dtype mismatch, expected 'Python object' but got 'long long'"
     ]
    },
    {
     "name": "stderr",
     "output_type": "stream",
     "text": [
      "Exception ignored in: 'pandas._libs.lib.is_bool_array'\n",
      "ValueError: Buffer dtype mismatch, expected 'Python object' but got 'long long'\n"
     ]
    },
    {
     "name": "stdout",
     "output_type": "stream",
     "text": [
      "[2019-05-03 14:58:18][data_access.api][DEBUG] loading processed data from:\n",
      "C:\\Users\\avitu\\Documents\\GitHub\\VQA-MED\\VQA-MED\\VQA.Python\\data\\model_input.parquet\n",
      "[2019-05-03 14:58:18][data_access.api][DEBUG] loading parquet from:\n",
      "C:\\Users\\avitu\\Documents\\GitHub\\VQA-MED\\VQA-MED\\VQA.Python\\data\\model_input.parquet\n",
      "[2019-05-03 14:58:18][common.utils][DEBUG] Starting 'Loading parquet'\n",
      "[2019-05-03 14:58:19][common.utils][DEBUG] Loading parquet: 0:00:00.572948\n",
      "[2019-05-03 14:58:19][common.utils][DEBUG] Starting 'Converting to pandas'\n",
      "[2019-05-03 14:58:19][common.utils][DEBUG] Converting to pandas: 0:00:00.004995\n",
      "[2019-05-03 14:58:20][common.utils][DEBUG] Starting 'Training Model'\n",
      "[2019-05-03 14:58:20][classes.vqa_model_trainer][DEBUG] ===========================================================================\n",
      "[2019-05-03 14:58:20][classes.vqa_model_trainer][DEBUG] Expected shape: [(None, 4608, 1), (None, None, None, 3)]\n",
      "[2019-05-03 14:58:20][classes.vqa_model_trainer][DEBUG] ---------------------------------------------------------------------------\n",
      "[2019-05-03 14:58:20][classes.vqa_model_trainer][DEBUG] Actual training shape:((32, 4608, 1), (32, 224, 224, 3))\n",
      "[2019-05-03 14:58:20][classes.vqa_model_trainer][DEBUG] Actual Validation shape:((500, 4608, 1), (500, 224, 224, 3))\n",
      "[2019-05-03 14:58:20][classes.vqa_model_trainer][DEBUG] ---------------------------------------------------------------------------\n",
      "[2019-05-03 14:58:20][classes.vqa_model_trainer][DEBUG] Train Labels shape:(32, 45)\n",
      "[2019-05-03 14:58:20][classes.vqa_model_trainer][DEBUG] Validation Labels shape:(500, 45)\n",
      "[2019-05-03 14:58:20][classes.vqa_model_trainer][DEBUG] ===========================================================================\n",
      "Epoch 1/1\n",
      "2000/2000 [==============================] - 821s 410ms/step - loss: 1.4595 - f1_score: nan - recall_score: nan - precision_score: 0.4132 - acc: 0.5779 - val_loss: 1.0329 - val_f1_score: 0.6608 - val_recall_score: 0.7891 - val_precision_score: 0.5720 - val_acc: 0.6400\n",
      "[2019-05-03 15:12:06][common.utils][DEBUG] Training Model: 0:13:46.028197\n"
     ]
    }
   ],
   "source": [
    "history = mt.train()"
   ]
  },
  {
   "cell_type": "markdown",
   "metadata": {},
   "source": [
    "### Save trained model:"
   ]
  },
  {
   "cell_type": "code",
   "execution_count": 9,
   "metadata": {},
   "outputs": [
    {
     "name": "stdout",
     "output_type": "stream",
     "text": [
      "[2019-05-03 15:12:06][common.utils][DEBUG] Starting 'Saving trained Model'\n",
      "[2019-05-03 15:12:06][common.utils][DEBUG] Starting 'Saving trained Model'\n",
      "[2019-05-03 15:12:06][data_access.model_folder][DEBUG] model saved\n",
      "[2019-05-03 15:12:06][data_access.model_folder][DEBUG] saving prediction vector\n",
      "[2019-05-03 15:12:06][data_access.model_folder][DEBUG] saved prediction vector\n",
      "[2019-05-03 15:12:06][data_access.model_folder][DEBUG] Writing Summary\n",
      "[2019-05-03 15:12:06][data_access.model_folder][DEBUG] Done Writing Summary\n",
      "[2019-05-03 15:12:06][data_access.model_folder][DEBUG] Saving image\n",
      "[2019-05-03 15:12:07][data_access.model_folder][DEBUG] Image saved ('C:\\Users\\Public\\Documents\\Data\\2019\\models\\20190503_1512_06\\model.png')\n",
      "[2019-05-03 15:12:07][data_access.model_folder][DEBUG] Saving History\n",
      "[2019-05-03 15:12:07][data_access.model_folder][DEBUG] History saved to 'C:\\Users\\Public\\Documents\\Data\\2019\\models\\20190503_1512_06\\model_history.pkl'\n",
      "[2019-05-03 15:12:07][common.utils][DEBUG] Saving trained Model: 0:00:00.565583\n",
      "[2019-05-03 15:12:07][classes.vqa_model_trainer][INFO] Summary: C:\\Users\\Public\\Documents\\Data\\2019\\models\\20190503_1512_06\\model_summary.txt\n",
      "Image: C:\\Users\\Public\\Documents\\Data\\2019\\models\\20190503_1512_06\\model.png\n",
      "History: C:\\Users\\Public\\Documents\\Data\\2019\\models\\20190503_1512_06\\model_history.pkl\n",
      "\n",
      "[2019-05-03 15:12:07][classes.vqa_model_trainer][INFO] model_location = 'C:\\Users\\Public\\Documents\\Data\\2019\\models\\20190503_1512_06\\vqa_model.h5'\n",
      "[2019-05-03 15:12:07][classes.vqa_model_trainer][INFO] model_location = 'C:\\\\Users\\\\Public\\\\Documents\\\\Data\\\\2019\\\\models\\\\20190503_1512_06\\\\vqa_model.h5'\n",
      "[2019-05-03 15:12:07][common.utils][DEBUG] Starting 'Loading Model'\n",
      "[2019-05-03 15:12:08][common.utils][DEBUG] Loading Model: 0:00:01.611303\n",
      "[2019-05-03 15:12:10][common.utils][DEBUG] Saving trained Model: 0:00:03.582955\n"
     ]
    }
   ],
   "source": [
    "with VerboseTimer(\"Saving trained Model\"):\n",
    "    model_folder = mt.save(mt.model, mt.model_folder, history)\n"
   ]
  },
  {
   "cell_type": "code",
   "execution_count": 10,
   "metadata": {},
   "outputs": [
    {
     "name": "stdout",
     "output_type": "stream",
     "text": [
      "C:\\Users\\Public\\Documents\\Data\\2019\\models\\20190503_1512_06\\vqa_model.h5\n"
     ]
    }
   ],
   "source": [
    "print (model_folder.model_path)"
   ]
  }
 ],
 "metadata": {
  "kernelspec": {
   "display_name": "Python 3",
   "language": "python",
   "name": "python3"
  },
  "language_info": {
   "codemirror_mode": {
    "name": "ipython",
    "version": 3
   },
   "file_extension": ".py",
   "mimetype": "text/x-python",
   "name": "python",
   "nbconvert_exporter": "python",
   "pygments_lexer": "ipython3",
   "version": "3.6.7"
  }
 },
 "nbformat": 4,
 "nbformat_minor": 2
}
