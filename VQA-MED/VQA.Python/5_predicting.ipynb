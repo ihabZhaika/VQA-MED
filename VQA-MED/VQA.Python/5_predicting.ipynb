{
 "cells": [
  {
   "cell_type": "code",
   "execution_count": 1,
   "metadata": {},
   "outputs": [
    {
     "data": {
      "text/html": [
       "<div>\n",
       "<style scoped>\n",
       "    .dataframe tbody tr th:only-of-type {\n",
       "        vertical-align: middle;\n",
       "    }\n",
       "\n",
       "    .dataframe tbody tr th {\n",
       "        vertical-align: top;\n",
       "    }\n",
       "\n",
       "    .dataframe thead th {\n",
       "        text-align: right;\n",
       "    }\n",
       "</style>\n",
       "<table border=\"1\" class=\"dataframe\">\n",
       "  <thead>\n",
       "    <tr style=\"text-align: right;\">\n",
       "      <th></th>\n",
       "      <th>accuracy</th>\n",
       "      <th>loss</th>\n",
       "      <th>history_location</th>\n",
       "      <th>id</th>\n",
       "      <th>val_accuracy</th>\n",
       "      <th>val_loss</th>\n",
       "      <th>image_base_net</th>\n",
       "      <th>model_location</th>\n",
       "      <th>class_strategy</th>\n",
       "    </tr>\n",
       "  </thead>\n",
       "  <tbody>\n",
       "    <tr>\n",
       "      <th>0</th>\n",
       "      <td>0.9570</td>\n",
       "      <td>0.1248</td>\n",
       "      <td></td>\n",
       "      <td>1</td>\n",
       "      <td>0.542</td>\n",
       "      <td>2.7968</td>\n",
       "      <td>resnet50</td>\n",
       "      <td>C:\\Users\\Public\\Documents\\Data\\2018\\vqa_models...</td>\n",
       "      <td>None</td>\n",
       "    </tr>\n",
       "    <tr>\n",
       "      <th>1</th>\n",
       "      <td>0.9776</td>\n",
       "      <td>0.0843</td>\n",
       "      <td></td>\n",
       "      <td>2</td>\n",
       "      <td>0.648</td>\n",
       "      <td>2.7968</td>\n",
       "      <td>vgg19</td>\n",
       "      <td>C:\\Users\\Public\\Documents\\Data\\2018\\vqa_models...</td>\n",
       "      <td>None</td>\n",
       "    </tr>\n",
       "  </tbody>\n",
       "</table>\n",
       "</div>"
      ],
      "text/plain": [
       "   accuracy    loss history_location  id  val_accuracy  val_loss  \\\n",
       "0    0.9570  0.1248                    1         0.542    2.7968   \n",
       "1    0.9776  0.0843                    2         0.648    2.7968   \n",
       "\n",
       "  image_base_net                                     model_location  \\\n",
       "0       resnet50  C:\\Users\\Public\\Documents\\Data\\2018\\vqa_models...   \n",
       "1          vgg19  C:\\Users\\Public\\Documents\\Data\\2018\\vqa_models...   \n",
       "\n",
       "  class_strategy  \n",
       "0           None  \n",
       "1           None  "
      ]
     },
     "execution_count": 1,
     "metadata": {},
     "output_type": "execute_result"
    }
   ],
   "source": [
    "from common.DAL import get_models_data_frame, get_model\n",
    "df_models = get_models_data_frame()\n",
    "df_models.head()"
   ]
  },
  {
   "cell_type": "code",
   "execution_count": 2,
   "metadata": {},
   "outputs": [
    {
     "data": {
      "text/plain": [
       "Model(id=1,\n",
       "\tmodel_location=C:\\Users\\Public\\Documents\\Data\\2018\\vqa_models\\20180730_0524_48\\vqa_model_ClassifyStrategies.CATEGORIAL_trained.h5,\n",
       "\thistory_location=,\n",
       "\timage_base_net=resnet50,\n",
       "\tloss=0.1248,\n",
       "\tval_loss=2.7968,\n",
       "\taccuracy=0.957,\n",
       "\tval_accuracy=0.542,\n",
       "\tclass_strategy=None)"
      ]
     },
     "execution_count": 2,
     "metadata": {},
     "output_type": "execute_result"
    }
   ],
   "source": [
    "model_id = 1\n",
    "model_dal = get_model(model_id)\n",
    "model_dal"
   ]
  },
  {
   "cell_type": "code",
   "execution_count": 10,
   "metadata": {},
   "outputs": [],
   "source": [
    "#From Step #2:\n",
    "vqa_specs_location = 'C:\\\\Users\\\\avitu\\\\Documents\\\\GitHub\\\\VQA-MED\\\\VQA-MED\\\\VQA.Python\\\\data\\\\vqa_specs.pkl'"
   ]
  },
  {
   "cell_type": "code",
   "execution_count": 4,
   "metadata": {},
   "outputs": [
    {
     "data": {
      "text/plain": [
       "'C:\\\\Users\\\\Public\\\\Documents\\\\Data\\\\2018\\\\vqa_models\\\\20180730_0524_48\\\\vqa_model_ClassifyStrategies.CATEGORIAL_trained.h5'"
      ]
     },
     "execution_count": 4,
     "metadata": {},
     "output_type": "execute_result"
    }
   ],
   "source": [
    "model_location = model_dal.model_location\n",
    "model_location\n",
    "# model_location = 'C:\\\\Users\\\\Public\\\\Documents\\\\Data\\\\2018\\\\vqa_models\\\\20180629_1220_23\\\\vqa_model_ClassifyStrategies.NLP_trained.h5'"
   ]
  },
  {
   "cell_type": "code",
   "execution_count": 5,
   "metadata": {},
   "outputs": [
    {
     "name": "stderr",
     "output_type": "stream",
     "text": [
      "c:\\local\\Anaconda3-4.1.1-Windows-x86_64\\envs\\conda_env\\lib\\site-packages\\h5py\\__init__.py:34: FutureWarning: Conversion of the second argument of issubdtype from `float` to `np.floating` is deprecated. In future, it will be treated as `np.float64 == np.dtype(float).type`.\n",
      "  from ._conv import register_converters as _register_converters\n",
      "Using TensorFlow backend.\n"
     ]
    }
   ],
   "source": [
    "# %%capture\n",
    "import os\n",
    "import numpy as np\n",
    "from pandas import HDFStore\n",
    "from vqa_logger import logger \n",
    "from enum import Enum\n",
    "import IPython\n",
    "from keras.models import load_model"
   ]
  },
  {
   "cell_type": "code",
   "execution_count": 6,
   "metadata": {},
   "outputs": [],
   "source": [
    "from common.constatns import images_path_test\n",
    "from common.utils import VerboseTimer\n",
    "from parsers.VQA18 import Vqa18Base\n",
    "from common.functions import get_size, get_highlited_function_code, normalize_data_strucrture\n",
    "from vqa_logger import logger\n",
    "from common.os_utils import File "
   ]
  },
  {
   "cell_type": "code",
   "execution_count": 7,
   "metadata": {},
   "outputs": [
    {
     "name": "stdout",
     "output_type": "stream",
     "text": [
      "Loading Model: 0:00:15.844122\n"
     ]
    }
   ],
   "source": [
    "with VerboseTimer(\"Loading Model\"):\n",
    "    model = load_model(model_location)"
   ]
  },
  {
   "cell_type": "code",
   "execution_count": 11,
   "metadata": {},
   "outputs": [
    {
     "data": {
      "text/plain": [
       "'C:\\\\Users\\\\avitu\\\\Documents\\\\GitHub\\\\VQA-MED\\\\VQA-MED\\\\Cognitive-LUIS-Windows-master\\\\Sample\\\\VQA.Python\\\\data\\\\model_input.h5'"
      ]
     },
     "execution_count": 11,
     "metadata": {},
     "output_type": "execute_result"
    }
   ],
   "source": [
    "vqa_specs = File.load_pickle(vqa_specs_location)\n",
    "data_location = vqa_specs.data_location\n",
    "data_location"
   ]
  },
  {
   "cell_type": "code",
   "execution_count": 12,
   "metadata": {},
   "outputs": [
    {
     "data": {
      "text/html": [
       "<style type=\"text/css\">.highlight .hll { background-color: #ffffcc }\n",
       ".highlight  { background: #f8f8f8; }\n",
       ".highlight .c { color: #408080; font-style: italic } /* Comment */\n",
       ".highlight .err { border: 1px solid #FF0000 } /* Error */\n",
       ".highlight .k { color: #008000; font-weight: bold } /* Keyword */\n",
       ".highlight .o { color: #666666 } /* Operator */\n",
       ".highlight .ch { color: #408080; font-style: italic } /* Comment.Hashbang */\n",
       ".highlight .cm { color: #408080; font-style: italic } /* Comment.Multiline */\n",
       ".highlight .cp { color: #BC7A00 } /* Comment.Preproc */\n",
       ".highlight .cpf { color: #408080; font-style: italic } /* Comment.PreprocFile */\n",
       ".highlight .c1 { color: #408080; font-style: italic } /* Comment.Single */\n",
       ".highlight .cs { color: #408080; font-style: italic } /* Comment.Special */\n",
       ".highlight .gd { color: #A00000 } /* Generic.Deleted */\n",
       ".highlight .ge { font-style: italic } /* Generic.Emph */\n",
       ".highlight .gr { color: #FF0000 } /* Generic.Error */\n",
       ".highlight .gh { color: #000080; font-weight: bold } /* Generic.Heading */\n",
       ".highlight .gi { color: #00A000 } /* Generic.Inserted */\n",
       ".highlight .go { color: #888888 } /* Generic.Output */\n",
       ".highlight .gp { color: #000080; font-weight: bold } /* Generic.Prompt */\n",
       ".highlight .gs { font-weight: bold } /* Generic.Strong */\n",
       ".highlight .gu { color: #800080; font-weight: bold } /* Generic.Subheading */\n",
       ".highlight .gt { color: #0044DD } /* Generic.Traceback */\n",
       ".highlight .kc { color: #008000; font-weight: bold } /* Keyword.Constant */\n",
       ".highlight .kd { color: #008000; font-weight: bold } /* Keyword.Declaration */\n",
       ".highlight .kn { color: #008000; font-weight: bold } /* Keyword.Namespace */\n",
       ".highlight .kp { color: #008000 } /* Keyword.Pseudo */\n",
       ".highlight .kr { color: #008000; font-weight: bold } /* Keyword.Reserved */\n",
       ".highlight .kt { color: #B00040 } /* Keyword.Type */\n",
       ".highlight .m { color: #666666 } /* Literal.Number */\n",
       ".highlight .s { color: #BA2121 } /* Literal.String */\n",
       ".highlight .na { color: #7D9029 } /* Name.Attribute */\n",
       ".highlight .nb { color: #008000 } /* Name.Builtin */\n",
       ".highlight .nc { color: #0000FF; font-weight: bold } /* Name.Class */\n",
       ".highlight .no { color: #880000 } /* Name.Constant */\n",
       ".highlight .nd { color: #AA22FF } /* Name.Decorator */\n",
       ".highlight .ni { color: #999999; font-weight: bold } /* Name.Entity */\n",
       ".highlight .ne { color: #D2413A; font-weight: bold } /* Name.Exception */\n",
       ".highlight .nf { color: #0000FF } /* Name.Function */\n",
       ".highlight .nl { color: #A0A000 } /* Name.Label */\n",
       ".highlight .nn { color: #0000FF; font-weight: bold } /* Name.Namespace */\n",
       ".highlight .nt { color: #008000; font-weight: bold } /* Name.Tag */\n",
       ".highlight .nv { color: #19177C } /* Name.Variable */\n",
       ".highlight .ow { color: #AA22FF; font-weight: bold } /* Operator.Word */\n",
       ".highlight .w { color: #bbbbbb } /* Text.Whitespace */\n",
       ".highlight .mb { color: #666666 } /* Literal.Number.Bin */\n",
       ".highlight .mf { color: #666666 } /* Literal.Number.Float */\n",
       ".highlight .mh { color: #666666 } /* Literal.Number.Hex */\n",
       ".highlight .mi { color: #666666 } /* Literal.Number.Integer */\n",
       ".highlight .mo { color: #666666 } /* Literal.Number.Oct */\n",
       ".highlight .sa { color: #BA2121 } /* Literal.String.Affix */\n",
       ".highlight .sb { color: #BA2121 } /* Literal.String.Backtick */\n",
       ".highlight .sc { color: #BA2121 } /* Literal.String.Char */\n",
       ".highlight .dl { color: #BA2121 } /* Literal.String.Delimiter */\n",
       ".highlight .sd { color: #BA2121; font-style: italic } /* Literal.String.Doc */\n",
       ".highlight .s2 { color: #BA2121 } /* Literal.String.Double */\n",
       ".highlight .se { color: #BB6622; font-weight: bold } /* Literal.String.Escape */\n",
       ".highlight .sh { color: #BA2121 } /* Literal.String.Heredoc */\n",
       ".highlight .si { color: #BB6688; font-weight: bold } /* Literal.String.Interpol */\n",
       ".highlight .sx { color: #008000 } /* Literal.String.Other */\n",
       ".highlight .sr { color: #BB6688 } /* Literal.String.Regex */\n",
       ".highlight .s1 { color: #BA2121 } /* Literal.String.Single */\n",
       ".highlight .ss { color: #19177C } /* Literal.String.Symbol */\n",
       ".highlight .bp { color: #008000 } /* Name.Builtin.Pseudo */\n",
       ".highlight .fm { color: #0000FF } /* Name.Function.Magic */\n",
       ".highlight .vc { color: #19177C } /* Name.Variable.Class */\n",
       ".highlight .vg { color: #19177C } /* Name.Variable.Global */\n",
       ".highlight .vi { color: #19177C } /* Name.Variable.Instance */\n",
       ".highlight .vm { color: #19177C } /* Name.Variable.Magic */\n",
       ".highlight .il { color: #666666 } /* Literal.Number.Integer.Long */</style><div class=\"highlight\"><pre><span></span><span class=\"k\">def</span> <span class=\"nf\">normalize_data_strucrture</span><span class=\"p\">(</span><span class=\"n\">df</span><span class=\"p\">,</span> <span class=\"n\">group</span><span class=\"p\">,</span> <span class=\"n\">image_folder</span><span class=\"p\">):</span>\n",
       "    <span class=\"n\">cols</span> <span class=\"o\">=</span> <span class=\"p\">[</span><span class=\"s1\">&#39;image_name&#39;</span><span class=\"p\">,</span> <span class=\"s1\">&#39;question&#39;</span><span class=\"p\">,</span> <span class=\"s1\">&#39;answer&#39;</span><span class=\"p\">]</span>\n",
       "\n",
       "    <span class=\"n\">df_c</span> <span class=\"o\">=</span> <span class=\"n\">df</span><span class=\"p\">[</span><span class=\"n\">cols</span><span class=\"p\">]</span><span class=\"o\">.</span><span class=\"n\">copy</span><span class=\"p\">()</span>\n",
       "    <span class=\"n\">df_c</span><span class=\"p\">[</span><span class=\"s1\">&#39;group&#39;</span><span class=\"p\">]</span> <span class=\"o\">=</span> <span class=\"n\">group</span>\n",
       "\n",
       "\n",
       "    <span class=\"k\">def</span> <span class=\"nf\">get_image_path</span><span class=\"p\">(</span><span class=\"n\">image_name</span><span class=\"p\">):</span>\n",
       "        <span class=\"k\">return</span> <span class=\"n\">os</span><span class=\"o\">.</span><span class=\"n\">path</span><span class=\"o\">.</span><span class=\"n\">join</span><span class=\"p\">(</span><span class=\"n\">image_folder</span><span class=\"p\">,</span> <span class=\"n\">image_name</span><span class=\"o\">+</span> <span class=\"s1\">&#39;.jpg&#39;</span><span class=\"p\">)</span>\n",
       "\n",
       "    <span class=\"n\">df_c</span><span class=\"p\">[</span><span class=\"s1\">&#39;path&#39;</span><span class=\"p\">]</span> <span class=\"o\">=</span> <span class=\"n\">df_c</span><span class=\"o\">.</span><span class=\"n\">apply</span><span class=\"p\">(</span><span class=\"k\">lambda</span> <span class=\"n\">x</span><span class=\"p\">:</span>  <span class=\"n\">get_image_path</span><span class=\"p\">(</span><span class=\"n\">x</span><span class=\"p\">[</span><span class=\"s1\">&#39;image_name&#39;</span><span class=\"p\">]),</span><span class=\"n\">axis</span><span class=\"o\">=</span><span class=\"mi\">1</span><span class=\"p\">)</span> <span class=\"c1\">#x: get_image_path(x[&#39;group&#39;],x[&#39;image_name&#39;])</span>\n",
       "\n",
       "    <span class=\"k\">return</span> <span class=\"n\">df_c</span>\n",
       "</pre></div>\n"
      ],
      "text/plain": [
       "<IPython.core.display.HTML object>"
      ]
     },
     "metadata": {},
     "output_type": "display_data"
    }
   ],
   "source": [
    "code = get_highlited_function_code(normalize_data_strucrture,remove_comments=True)\n",
    "IPython.display.display(code)"
   ]
  },
  {
   "cell_type": "code",
   "execution_count": null,
   "metadata": {},
   "outputs": [],
   "source": [
    "logger.debug(f\"Loading test data from {data_location}\")\n",
    "with VerboseTimer(\"Loading Test Data\"):\n",
    "    with HDFStore(data_location) as store:        \n",
    "        df_data = store['test']"
   ]
  },
  {
   "cell_type": "code",
   "execution_count": null,
   "metadata": {},
   "outputs": [],
   "source": [
    "df_data.head(2)"
   ]
  },
  {
   "cell_type": "markdown",
   "metadata": {},
   "source": [
    "## TODO: Duplicate:"
   ]
  },
  {
   "cell_type": "code",
   "execution_count": 14,
   "metadata": {},
   "outputs": [],
   "source": [
    "def concate_row(df, col):\n",
    "    return np.concatenate(df[col], axis=0)\n",
    "\n",
    "def get_features_and_labels(df):\n",
    "    image_features = np.asarray([np.array(im) for im in df['image']])\n",
    "    # np.concatenate(image_features['question_embedding'], axis=0).shape\n",
    "    question_features = concate_row(df, 'question_embedding') \n",
    "\n",
    "    reshaped_q = np.array([a.reshape(a.shape + (1,)) for a in question_features])\n",
    "    \n",
    "    features = ([f for f in [reshaped_q, image_features]])    \n",
    "    \n",
    "    return features\n",
    "    \n",
    "    \n"
   ]
  },
  {
   "cell_type": "code",
   "execution_count": null,
   "metadata": {},
   "outputs": [],
   "source": [
    "features = get_features_and_labels(df_data)"
   ]
  },
  {
   "cell_type": "code",
   "execution_count": null,
   "metadata": {},
   "outputs": [],
   "source": [
    "\n",
    "p = model.predict(features)"
   ]
  },
  {
   "cell_type": "code",
   "execution_count": null,
   "metadata": {},
   "outputs": [],
   "source": [
    "p"
   ]
  },
  {
   "cell_type": "code",
   "execution_count": null,
   "metadata": {},
   "outputs": [],
   "source": [
    "predictions = [np.argmax(a, axis=None, out=None) for a in p]\n",
    "predictions[:10]"
   ]
  },
  {
   "cell_type": "code",
   "execution_count": null,
   "metadata": {},
   "outputs": [],
   "source": [
    "meta_data = vqa_specs.meta_data\n",
    "ix_to_img_device = meta_data['ix_to_img_device']\n",
    "results = [ix_to_img_device[i] for i in predictions]\n",
    "results[:10]\n",
    "\n",
    "list(zip(df_data.image_name.values, results))[:10]"
   ]
  },
  {
   "cell_type": "code",
   "execution_count": null,
   "metadata": {},
   "outputs": [],
   "source": [
    "# from IPython.core.interactiveshell import InteractiveShell\n",
    "# InteractiveShell.ast_node_interactivity = \"all\"\n",
    "idx = 42\n",
    "image_names = df_data.image_name.values\n",
    "image_name = image_names[idx]\n",
    "\n",
    "print(f'Result: {results[idx]}')\n",
    "idxs = [index for index, value in enumerate(image_names) if value == image_name]\n",
    "all_results_for_image = {results[idx] for idx in idxs}\n",
    "print(f'All results for image: {results[idx]}')\n",
    "print('DataFrame:')\n",
    "      \n",
    "df_image = df_data[df_data.image_name==image_name]\n",
    "\n",
    "image_path = df_image['path'].values[0]\n",
    "\n",
    "\n",
    "df_mini = df_image[['question','answer']]\n",
    "df_mini"
   ]
  },
  {
   "cell_type": "code",
   "execution_count": null,
   "metadata": {},
   "outputs": [],
   "source": [
    "from IPython.display import Image\n",
    "Image(filename = image_path, width=400, height=400)"
   ]
  }
 ],
 "metadata": {
  "kernelspec": {
   "display_name": "Python conda_env",
   "language": "python",
   "name": "conda_env"
  },
  "language_info": {
   "codemirror_mode": {
    "name": "ipython",
    "version": 3
   },
   "file_extension": ".py",
   "mimetype": "text/x-python",
   "name": "python",
   "nbconvert_exporter": "python",
   "pygments_lexer": "ipython3",
   "version": "3.6.2"
  }
 },
 "nbformat": 4,
 "nbformat_minor": 2
}
