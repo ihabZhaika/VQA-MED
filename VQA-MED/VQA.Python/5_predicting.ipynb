{
 "cells": [
  {
   "cell_type": "code",
   "execution_count": 1,
   "metadata": {},
   "outputs": [],
   "source": [
    "import pandas as pd\n",
    "import numpy as np"
   ]
  },
  {
   "cell_type": "code",
   "execution_count": 2,
   "metadata": {},
   "outputs": [
    {
     "name": "stderr",
     "output_type": "stream",
     "text": [
      "Using TensorFlow backend.\n"
     ]
    }
   ],
   "source": [
    "from classes.vqa_model_predictor import VqaModelPredictor, DefaultVqaModelPredictor\n",
    "from data_access.api import DataAccess, SpecificDataAccess\n",
    "from common.DAL import get_models_data_frame, get_model\n",
    "from common.DAL import ModelScore\n",
    "from common.settings import data_access as data_access_api\n",
    "from common import DAL\n",
    "\n",
    "\n",
    "from evaluate.VqaMedEvaluatorBase import VqaMedEvaluatorBase\n",
    "from common.functions import get_highlighted_function_code\n",
    "import vqa_logger \n"
   ]
  },
  {
   "cell_type": "code",
   "execution_count": 3,
   "metadata": {},
   "outputs": [],
   "source": [
    "from keras import backend as keras_backend\n",
    "keras_backend.clear_session()"
   ]
  },
  {
   "cell_type": "code",
   "execution_count": 4,
   "metadata": {},
   "outputs": [
    {
     "data": {
      "text/html": [
       "<div>\n",
       "<style scoped>\n",
       "    .dataframe tbody tr th:only-of-type {\n",
       "        vertical-align: middle;\n",
       "    }\n",
       "\n",
       "    .dataframe tbody tr th {\n",
       "        vertical-align: top;\n",
       "    }\n",
       "\n",
       "    .dataframe thead th {\n",
       "        text-align: right;\n",
       "    }\n",
       "</style>\n",
       "<table border=\"1\" class=\"dataframe\">\n",
       "  <thead>\n",
       "    <tr style=\"text-align: right;\">\n",
       "      <th></th>\n",
       "      <th>bleu</th>\n",
       "      <th>wbss</th>\n",
       "      <th>model_id</th>\n",
       "      <th>models</th>\n",
       "      <th>precsision</th>\n",
       "      <th>val_accuracy</th>\n",
       "      <th>id</th>\n",
       "      <th>precsision_val</th>\n",
       "      <th>class_strategy</th>\n",
       "      <th>loss_function</th>\n",
       "      <th>...</th>\n",
       "      <th>notes</th>\n",
       "      <th>image_base_net</th>\n",
       "      <th>f1_score</th>\n",
       "      <th>loss</th>\n",
       "      <th>f1_score_val</th>\n",
       "      <th>val_loss</th>\n",
       "      <th>recall</th>\n",
       "      <th>accuracy</th>\n",
       "      <th>recall_val</th>\n",
       "      <th>model_scores</th>\n",
       "    </tr>\n",
       "  </thead>\n",
       "  <tbody>\n",
       "    <tr>\n",
       "      <th>4</th>\n",
       "      <td>0.500328</td>\n",
       "      <td>0.492218</td>\n",
       "      <td>5.0</td>\n",
       "      <td>Model(id=5,\\n\\tmodel_location=C:\\Users\\Public\\...</td>\n",
       "      <td>0.155601</td>\n",
       "      <td>0.5250</td>\n",
       "      <td>5</td>\n",
       "      <td>0.0025</td>\n",
       "      <td>answers</td>\n",
       "      <td>cosine_proximity</td>\n",
       "      <td>...</td>\n",
       "      <td>post_concat_dense_units: 8;\\nOptimizer: RMSpro...</td>\n",
       "      <td>vgg19</td>\n",
       "      <td>NaN</td>\n",
       "      <td>-0.444728</td>\n",
       "      <td>NaN</td>\n",
       "      <td>-0.551524</td>\n",
       "      <td>0.052583</td>\n",
       "      <td>0.415071</td>\n",
       "      <td>NaN</td>\n",
       "      <td>[ModelScore(model_id=5, bleu=0.500327796417358...</td>\n",
       "    </tr>\n",
       "    <tr>\n",
       "      <th>10</th>\n",
       "      <td>0.492549</td>\n",
       "      <td>0.487867</td>\n",
       "      <td>11.0</td>\n",
       "      <td>Model(id=11,\\n\\tmodel_location=C:\\Users\\Public...</td>\n",
       "      <td>0.146905</td>\n",
       "      <td>0.5095</td>\n",
       "      <td>11</td>\n",
       "      <td>0.0130</td>\n",
       "      <td>answers</td>\n",
       "      <td>cosine_proximity</td>\n",
       "      <td>...</td>\n",
       "      <td>post_concat_dense_units: 8;\\nOptimizer: Adam\\n...</td>\n",
       "      <td>vgg19</td>\n",
       "      <td>NaN</td>\n",
       "      <td>-0.439734</td>\n",
       "      <td>NaN</td>\n",
       "      <td>-0.548146</td>\n",
       "      <td>0.049318</td>\n",
       "      <td>0.407705</td>\n",
       "      <td>NaN</td>\n",
       "      <td>[ModelScore(model_id=11, bleu=0.49254873984395...</td>\n",
       "    </tr>\n",
       "    <tr>\n",
       "      <th>13</th>\n",
       "      <td>0.489031</td>\n",
       "      <td>0.483364</td>\n",
       "      <td>14.0</td>\n",
       "      <td>Model(id=14,\\n\\tmodel_location=C:\\Users\\Public...</td>\n",
       "      <td>0.157314</td>\n",
       "      <td>0.5120</td>\n",
       "      <td>14</td>\n",
       "      <td>0.0145</td>\n",
       "      <td>answers</td>\n",
       "      <td>cosine_proximity</td>\n",
       "      <td>...</td>\n",
       "      <td>post_concat_dense_units: 32;\\nOptimizer: Adam\\...</td>\n",
       "      <td>vgg19</td>\n",
       "      <td>NaN</td>\n",
       "      <td>-0.443905</td>\n",
       "      <td>NaN</td>\n",
       "      <td>-0.548455</td>\n",
       "      <td>0.053854</td>\n",
       "      <td>0.410856</td>\n",
       "      <td>NaN</td>\n",
       "      <td>[ModelScore(model_id=14, bleu=0.48903126651995...</td>\n",
       "    </tr>\n",
       "    <tr>\n",
       "      <th>11</th>\n",
       "      <td>0.482111</td>\n",
       "      <td>0.478576</td>\n",
       "      <td>12.0</td>\n",
       "      <td>Model(id=12,\\n\\tmodel_location=C:\\Users\\Public...</td>\n",
       "      <td>0.158612</td>\n",
       "      <td>0.5090</td>\n",
       "      <td>12</td>\n",
       "      <td>0.0030</td>\n",
       "      <td>answers</td>\n",
       "      <td>cosine_proximity</td>\n",
       "      <td>...</td>\n",
       "      <td>post_concat_dense_units: 32;\\nOptimizer: RMSpr...</td>\n",
       "      <td>vgg19</td>\n",
       "      <td>NaN</td>\n",
       "      <td>-0.442488</td>\n",
       "      <td>NaN</td>\n",
       "      <td>-0.546081</td>\n",
       "      <td>0.058549</td>\n",
       "      <td>0.419154</td>\n",
       "      <td>NaN</td>\n",
       "      <td>[ModelScore(model_id=12, bleu=0.48211126282634...</td>\n",
       "    </tr>\n",
       "    <tr>\n",
       "      <th>3</th>\n",
       "      <td>0.448923</td>\n",
       "      <td>0.448564</td>\n",
       "      <td>4.0</td>\n",
       "      <td>Model(id=4,\\n\\tmodel_location=C:\\Users\\Public\\...</td>\n",
       "      <td>0.221935</td>\n",
       "      <td>0.4600</td>\n",
       "      <td>4</td>\n",
       "      <td>0.2305</td>\n",
       "      <td>answers</td>\n",
       "      <td>cosine_proximity</td>\n",
       "      <td>...</td>\n",
       "      <td>First model with Answers as labels\\n\\nmodel_lo...</td>\n",
       "      <td>vgg19</td>\n",
       "      <td>NaN</td>\n",
       "      <td>-0.446679</td>\n",
       "      <td>NaN</td>\n",
       "      <td>-0.482220</td>\n",
       "      <td>0.646282</td>\n",
       "      <td>0.418025</td>\n",
       "      <td>0.645632</td>\n",
       "      <td>[ModelScore(model_id=4, bleu=0.448922947892968...</td>\n",
       "    </tr>\n",
       "  </tbody>\n",
       "</table>\n",
       "<p>5 rows × 25 columns</p>\n",
       "</div>"
      ],
      "text/plain": [
       "        bleu      wbss  model_id  \\\n",
       "4   0.500328  0.492218       5.0   \n",
       "10  0.492549  0.487867      11.0   \n",
       "13  0.489031  0.483364      14.0   \n",
       "11  0.482111  0.478576      12.0   \n",
       "3   0.448923  0.448564       4.0   \n",
       "\n",
       "                                               models  precsision  \\\n",
       "4   Model(id=5,\\n\\tmodel_location=C:\\Users\\Public\\...    0.155601   \n",
       "10  Model(id=11,\\n\\tmodel_location=C:\\Users\\Public...    0.146905   \n",
       "13  Model(id=14,\\n\\tmodel_location=C:\\Users\\Public...    0.157314   \n",
       "11  Model(id=12,\\n\\tmodel_location=C:\\Users\\Public...    0.158612   \n",
       "3   Model(id=4,\\n\\tmodel_location=C:\\Users\\Public\\...    0.221935   \n",
       "\n",
       "    val_accuracy  id  precsision_val class_strategy     loss_function  \\\n",
       "4         0.5250   5          0.0025        answers  cosine_proximity   \n",
       "10        0.5095  11          0.0130        answers  cosine_proximity   \n",
       "13        0.5120  14          0.0145        answers  cosine_proximity   \n",
       "11        0.5090  12          0.0030        answers  cosine_proximity   \n",
       "3         0.4600   4          0.2305        answers  cosine_proximity   \n",
       "\n",
       "                          ...                          \\\n",
       "4                         ...                           \n",
       "10                        ...                           \n",
       "13                        ...                           \n",
       "11                        ...                           \n",
       "3                         ...                           \n",
       "\n",
       "                                                notes  image_base_net  \\\n",
       "4   post_concat_dense_units: 8;\\nOptimizer: RMSpro...           vgg19   \n",
       "10  post_concat_dense_units: 8;\\nOptimizer: Adam\\n...           vgg19   \n",
       "13  post_concat_dense_units: 32;\\nOptimizer: Adam\\...           vgg19   \n",
       "11  post_concat_dense_units: 32;\\nOptimizer: RMSpr...           vgg19   \n",
       "3   First model with Answers as labels\\n\\nmodel_lo...           vgg19   \n",
       "\n",
       "   f1_score      loss  f1_score_val  val_loss    recall  accuracy  recall_val  \\\n",
       "4       NaN -0.444728           NaN -0.551524  0.052583  0.415071         NaN   \n",
       "10      NaN -0.439734           NaN -0.548146  0.049318  0.407705         NaN   \n",
       "13      NaN -0.443905           NaN -0.548455  0.053854  0.410856         NaN   \n",
       "11      NaN -0.442488           NaN -0.546081  0.058549  0.419154         NaN   \n",
       "3       NaN -0.446679           NaN -0.482220  0.646282  0.418025    0.645632   \n",
       "\n",
       "                                         model_scores  \n",
       "4   [ModelScore(model_id=5, bleu=0.500327796417358...  \n",
       "10  [ModelScore(model_id=11, bleu=0.49254873984395...  \n",
       "13  [ModelScore(model_id=14, bleu=0.48903126651995...  \n",
       "11  [ModelScore(model_id=12, bleu=0.48211126282634...  \n",
       "3   [ModelScore(model_id=4, bleu=0.448922947892968...  \n",
       "\n",
       "[5 rows x 25 columns]"
      ]
     },
     "execution_count": 4,
     "metadata": {},
     "output_type": "execute_result"
    }
   ],
   "source": [
    "df_models = get_models_data_frame()\n",
    "try:\n",
    "    df_show = df_models.sort_values(by=['wbss', 'bleu'], ascending=False).head()\n",
    "except KeyError: #if no scode yet\n",
    "    df_show = df_models\n",
    "    df_show['wbss'] = np.nan\n",
    "    df_show['bleu'] = np.nan\n",
    "\n",
    "    \n",
    "df_show.tail()"
   ]
  },
  {
   "cell_type": "code",
   "execution_count": null,
   "metadata": {},
   "outputs": [],
   "source": [
    "import logging\n",
    "import  vqa_logger \n",
    "logger = logging.getLogger(__name__)\n",
    "import IPython\n"
   ]
  },
  {
   "cell_type": "code",
   "execution_count": null,
   "metadata": {},
   "outputs": [
    {
     "name": "stdout",
     "output_type": "stream",
     "text": [
      "[2019-04-09 11:07:06][classes.vqa_model_predictor][DEBUG] Getting model #67 (Abnormality model\n",
      "20 augmentations\n",
      "60 epochs\n",
      "based on model 5\n",
      "\n",
      "model_location = 'C:\\Users\\Public\\Documents\\Data\\2019\\models\\20190318_0550_23\\vqa_model.h5'\n",
      "\n",
      ")\n",
      "[2019-04-09 11:07:07][common.utils][DEBUG] Starting 'Loading Model'\n",
      "[2019-04-09 11:07:10][common.utils][DEBUG] Loading Model: 0:00:03.504723\n",
      "[2019-04-09 11:07:10][classes.vqa_model_predictor][WARNING] Expected main model to be with no question category, but got: \"Abnormality\"\n",
      "[2019-04-09 11:07:10][data_access.api][DEBUG] loading processed data from:\n",
      "C:\\Users\\avitu\\Documents\\GitHub\\VQA-MED\\VQA-MED\\VQA.Python\\data\\model_input.parquet\n",
      "[2019-04-09 11:07:10][data_access.api][DEBUG] loading parquet from:\n",
      "C:\\Users\\avitu\\Documents\\GitHub\\VQA-MED\\VQA-MED\\VQA.Python\\data\\model_input.parquet\n",
      "[2019-04-09 11:07:10][common.utils][DEBUG] Starting 'Loading parquet'\n",
      "[2019-04-09 11:07:10][common.utils][DEBUG] Loading parquet: 0:00:00.115741\n",
      "[2019-04-09 11:07:10][common.utils][DEBUG] Starting 'Converting to pandas'\n",
      "[2019-04-09 11:07:10][common.utils][DEBUG] Converting to pandas: 0:00:00.005429\n",
      "[2019-04-09 11:07:10][data_access.api][DEBUG] loading processed data from:\n",
      "C:\\Users\\avitu\\Documents\\GitHub\\VQA-MED\\VQA-MED\\VQA.Python\\data\\model_input.parquet\n",
      "[2019-04-09 11:07:10][data_access.api][DEBUG] loading parquet from:\n",
      "C:\\Users\\avitu\\Documents\\GitHub\\VQA-MED\\VQA-MED\\VQA.Python\\data\\model_input.parquet\n",
      "[2019-04-09 11:07:10][common.utils][DEBUG] Starting 'Loading parquet'\n",
      "[2019-04-09 11:07:11][common.utils][DEBUG] Loading parquet: 0:00:00.502393\n",
      "[2019-04-09 11:07:11][common.utils][DEBUG] Starting 'Converting to pandas'\n",
      "[2019-04-09 11:07:11][common.utils][DEBUG] Converting to pandas: 0:00:00.005123\n"
     ]
    },
    {
     "data": {
      "text/plain": [
       "VqaModelPredictor(model=67, specialized_classifiers=None)"
      ]
     },
     "execution_count": 6,
     "metadata": {},
     "output_type": "execute_result"
    }
   ],
   "source": [
    "model_id = 67#int(model_id)\n",
    "# model_folder = 'C:\\\\Users\\\\Public\\\\Documents\\\\Data\\\\2019\\\\models\\\\20190315_1823_38\\\\'\n",
    "question_category = None#'Abnormality'\n",
    "data_access = SpecificDataAccess(data_access_api.folder, question_category=question_category, group=None)\n",
    "# SpecificDataAccess?\n",
    "\n",
    "\n",
    "model_arg = model_id\n",
    "mp = DefaultVqaModelPredictor(model_arg,data_access=data_access)\n",
    "mp"
   ]
  },
  {
   "cell_type": "code",
   "execution_count": null,
   "metadata": {},
   "outputs": [
    {
     "data": {
      "text/html": [
       "<div>\n",
       "<style scoped>\n",
       "    .dataframe tbody tr th:only-of-type {\n",
       "        vertical-align: middle;\n",
       "    }\n",
       "\n",
       "    .dataframe tbody tr th {\n",
       "        vertical-align: top;\n",
       "    }\n",
       "\n",
       "    .dataframe thead th {\n",
       "        text-align: right;\n",
       "    }\n",
       "</style>\n",
       "<table border=\"1\" class=\"dataframe\">\n",
       "  <thead>\n",
       "    <tr style=\"text-align: right;\">\n",
       "      <th></th>\n",
       "      <th>image_name</th>\n",
       "      <th>question</th>\n",
       "      <th>answer</th>\n",
       "      <th>path</th>\n",
       "      <th>processed_question</th>\n",
       "      <th>processed_answer</th>\n",
       "      <th>diagnosis</th>\n",
       "      <th>question_category</th>\n",
       "      <th>answer_embedding</th>\n",
       "      <th>question_embedding</th>\n",
       "      <th>group</th>\n",
       "    </tr>\n",
       "  </thead>\n",
       "  <tbody>\n",
       "    <tr>\n",
       "      <th>12792</th>\n",
       "      <td>synpic54733.jpg</td>\n",
       "      <td>what imaging modality was used to take this im...</td>\n",
       "      <td>ct with iv contrast</td>\n",
       "      <td>C:\\Users\\Public\\Documents\\Data\\2019\\validation...</td>\n",
       "      <td>what imaging modality was used to take this image</td>\n",
       "      <td>ct with iv contrast</td>\n",
       "      <td></td>\n",
       "      <td>Modality</td>\n",
       "      <td>[2.099064826965332, -1.0595695972442627, -2.87...</td>\n",
       "      <td>[-1.434064269065857, 1.7265870571136475, -1.88...</td>\n",
       "      <td>validation</td>\n",
       "    </tr>\n",
       "    <tr>\n",
       "      <th>12793</th>\n",
       "      <td>synpic25647.jpg</td>\n",
       "      <td>what kind of scan is this?</td>\n",
       "      <td>xr - plain film</td>\n",
       "      <td>C:\\Users\\Public\\Documents\\Data\\2019\\validation...</td>\n",
       "      <td>what kind of scan is this</td>\n",
       "      <td>xr plain film</td>\n",
       "      <td></td>\n",
       "      <td>Modality</td>\n",
       "      <td>[2.8070127964019775, -1.271533489227295, -2.06...</td>\n",
       "      <td>[-2.201078176498413, 3.3418636322021484, 0.157...</td>\n",
       "      <td>validation</td>\n",
       "    </tr>\n",
       "  </tbody>\n",
       "</table>\n",
       "</div>"
      ],
      "text/plain": [
       "            image_name                                           question  \\\n",
       "12792  synpic54733.jpg  what imaging modality was used to take this im...   \n",
       "12793  synpic25647.jpg                         what kind of scan is this?   \n",
       "\n",
       "                    answer                                               path  \\\n",
       "12792  ct with iv contrast  C:\\Users\\Public\\Documents\\Data\\2019\\validation...   \n",
       "12793      xr - plain film  C:\\Users\\Public\\Documents\\Data\\2019\\validation...   \n",
       "\n",
       "                                      processed_question     processed_answer  \\\n",
       "12792  what imaging modality was used to take this image  ct with iv contrast   \n",
       "12793                          what kind of scan is this        xr plain film   \n",
       "\n",
       "      diagnosis question_category  \\\n",
       "12792                    Modality   \n",
       "12793                    Modality   \n",
       "\n",
       "                                        answer_embedding  \\\n",
       "12792  [2.099064826965332, -1.0595695972442627, -2.87...   \n",
       "12793  [2.8070127964019775, -1.271533489227295, -2.06...   \n",
       "\n",
       "                                      question_embedding       group  \n",
       "12792  [-1.434064269065857, 1.7265870571136475, -1.88...  validation  \n",
       "12793  [-2.201078176498413, 3.3418636322021484, 0.157...  validation  "
      ]
     },
     "execution_count": 7,
     "metadata": {},
     "output_type": "execute_result"
    }
   ],
   "source": [
    "mp.df_validation.head(2)"
   ]
  },
  {
   "cell_type": "code",
   "execution_count": null,
   "metadata": {},
   "outputs": [
    {
     "data": {
      "text/html": [
       "<style type=\"text/css\">.highlight .hll { background-color: #ffffcc }\n",
       ".highlight  { background: #f8f8f8; }\n",
       ".highlight .c { color: #408080; font-style: italic } /* Comment */\n",
       ".highlight .err { border: 1px solid #FF0000 } /* Error */\n",
       ".highlight .k { color: #008000; font-weight: bold } /* Keyword */\n",
       ".highlight .o { color: #666666 } /* Operator */\n",
       ".highlight .ch { color: #408080; font-style: italic } /* Comment.Hashbang */\n",
       ".highlight .cm { color: #408080; font-style: italic } /* Comment.Multiline */\n",
       ".highlight .cp { color: #BC7A00 } /* Comment.Preproc */\n",
       ".highlight .cpf { color: #408080; font-style: italic } /* Comment.PreprocFile */\n",
       ".highlight .c1 { color: #408080; font-style: italic } /* Comment.Single */\n",
       ".highlight .cs { color: #408080; font-style: italic } /* Comment.Special */\n",
       ".highlight .gd { color: #A00000 } /* Generic.Deleted */\n",
       ".highlight .ge { font-style: italic } /* Generic.Emph */\n",
       ".highlight .gr { color: #FF0000 } /* Generic.Error */\n",
       ".highlight .gh { color: #000080; font-weight: bold } /* Generic.Heading */\n",
       ".highlight .gi { color: #00A000 } /* Generic.Inserted */\n",
       ".highlight .go { color: #888888 } /* Generic.Output */\n",
       ".highlight .gp { color: #000080; font-weight: bold } /* Generic.Prompt */\n",
       ".highlight .gs { font-weight: bold } /* Generic.Strong */\n",
       ".highlight .gu { color: #800080; font-weight: bold } /* Generic.Subheading */\n",
       ".highlight .gt { color: #0044DD } /* Generic.Traceback */\n",
       ".highlight .kc { color: #008000; font-weight: bold } /* Keyword.Constant */\n",
       ".highlight .kd { color: #008000; font-weight: bold } /* Keyword.Declaration */\n",
       ".highlight .kn { color: #008000; font-weight: bold } /* Keyword.Namespace */\n",
       ".highlight .kp { color: #008000 } /* Keyword.Pseudo */\n",
       ".highlight .kr { color: #008000; font-weight: bold } /* Keyword.Reserved */\n",
       ".highlight .kt { color: #B00040 } /* Keyword.Type */\n",
       ".highlight .m { color: #666666 } /* Literal.Number */\n",
       ".highlight .s { color: #BA2121 } /* Literal.String */\n",
       ".highlight .na { color: #7D9029 } /* Name.Attribute */\n",
       ".highlight .nb { color: #008000 } /* Name.Builtin */\n",
       ".highlight .nc { color: #0000FF; font-weight: bold } /* Name.Class */\n",
       ".highlight .no { color: #880000 } /* Name.Constant */\n",
       ".highlight .nd { color: #AA22FF } /* Name.Decorator */\n",
       ".highlight .ni { color: #999999; font-weight: bold } /* Name.Entity */\n",
       ".highlight .ne { color: #D2413A; font-weight: bold } /* Name.Exception */\n",
       ".highlight .nf { color: #0000FF } /* Name.Function */\n",
       ".highlight .nl { color: #A0A000 } /* Name.Label */\n",
       ".highlight .nn { color: #0000FF; font-weight: bold } /* Name.Namespace */\n",
       ".highlight .nt { color: #008000; font-weight: bold } /* Name.Tag */\n",
       ".highlight .nv { color: #19177C } /* Name.Variable */\n",
       ".highlight .ow { color: #AA22FF; font-weight: bold } /* Operator.Word */\n",
       ".highlight .w { color: #bbbbbb } /* Text.Whitespace */\n",
       ".highlight .mb { color: #666666 } /* Literal.Number.Bin */\n",
       ".highlight .mf { color: #666666 } /* Literal.Number.Float */\n",
       ".highlight .mh { color: #666666 } /* Literal.Number.Hex */\n",
       ".highlight .mi { color: #666666 } /* Literal.Number.Integer */\n",
       ".highlight .mo { color: #666666 } /* Literal.Number.Oct */\n",
       ".highlight .sa { color: #BA2121 } /* Literal.String.Affix */\n",
       ".highlight .sb { color: #BA2121 } /* Literal.String.Backtick */\n",
       ".highlight .sc { color: #BA2121 } /* Literal.String.Char */\n",
       ".highlight .dl { color: #BA2121 } /* Literal.String.Delimiter */\n",
       ".highlight .sd { color: #BA2121; font-style: italic } /* Literal.String.Doc */\n",
       ".highlight .s2 { color: #BA2121 } /* Literal.String.Double */\n",
       ".highlight .se { color: #BB6622; font-weight: bold } /* Literal.String.Escape */\n",
       ".highlight .sh { color: #BA2121 } /* Literal.String.Heredoc */\n",
       ".highlight .si { color: #BB6688; font-weight: bold } /* Literal.String.Interpol */\n",
       ".highlight .sx { color: #008000 } /* Literal.String.Other */\n",
       ".highlight .sr { color: #BB6688 } /* Literal.String.Regex */\n",
       ".highlight .s1 { color: #BA2121 } /* Literal.String.Single */\n",
       ".highlight .ss { color: #19177C } /* Literal.String.Symbol */\n",
       ".highlight .bp { color: #008000 } /* Name.Builtin.Pseudo */\n",
       ".highlight .fm { color: #0000FF } /* Name.Function.Magic */\n",
       ".highlight .vc { color: #19177C } /* Name.Variable.Class */\n",
       ".highlight .vg { color: #19177C } /* Name.Variable.Global */\n",
       ".highlight .vi { color: #19177C } /* Name.Variable.Instance */\n",
       ".highlight .vm { color: #19177C } /* Name.Variable.Magic */\n",
       ".highlight .il { color: #666666 } /* Literal.Number.Integer.Long */</style><div class=\"highlight\"><pre><span></span>    <span class=\"k\">def</span> <span class=\"nf\">predict</span><span class=\"p\">(</span><span class=\"bp\">self</span><span class=\"p\">,</span> <span class=\"n\">df_data</span><span class=\"p\">:</span> <span class=\"n\">pd</span><span class=\"o\">.</span><span class=\"n\">DataFrame</span><span class=\"p\">,</span> <span class=\"n\">percentile</span><span class=\"o\">=</span><span class=\"mf\">99.8</span><span class=\"p\">)</span> <span class=\"o\">-&gt;</span> <span class=\"n\">pd</span><span class=\"o\">.</span><span class=\"n\">DataFrame</span><span class=\"p\">:</span>\n",
       "        <span class=\"c1\"># predict</span>\n",
       "        <span class=\"n\">general_prediction_vector</span> <span class=\"o\">=</span> <span class=\"bp\">self</span><span class=\"o\">.</span><span class=\"n\">model_folder</span><span class=\"o\">.</span><span class=\"n\">prediction_vector</span>\n",
       "        <span class=\"n\">predictions</span> <span class=\"o\">=</span> <span class=\"p\">{}</span>\n",
       "        <span class=\"k\">for</span> <span class=\"n\">category</span><span class=\"p\">,</span> <span class=\"n\">args</span> <span class=\"ow\">in</span> <span class=\"bp\">self</span><span class=\"o\">.</span><span class=\"n\">model_by_question_category</span><span class=\"o\">.</span><span class=\"n\">items</span><span class=\"p\">():</span>\n",
       "            <span class=\"k\">if</span> <span class=\"n\">args</span> <span class=\"ow\">is</span> <span class=\"bp\">None</span> <span class=\"ow\">or</span> <span class=\"ow\">not</span> <span class=\"nb\">all</span><span class=\"p\">(</span><span class=\"n\">args</span><span class=\"p\">):</span>\n",
       "                <span class=\"n\">logger</span><span class=\"o\">.</span><span class=\"n\">info</span><span class=\"p\">(</span><span class=\"n\">f</span><span class=\"s1\">&#39;Category &quot;{category}&quot; had no specialized classifier. using general model...&#39;</span><span class=\"p\">)</span>\n",
       "                <span class=\"n\">vqa_model</span> <span class=\"o\">=</span> <span class=\"bp\">self</span><span class=\"o\">.</span><span class=\"n\">model</span>\n",
       "                <span class=\"n\">prediction_vector</span> <span class=\"o\">=</span> <span class=\"n\">general_prediction_vector</span>\n",
       "            <span class=\"k\">else</span><span class=\"p\">:</span>\n",
       "                <span class=\"p\">(</span><span class=\"n\">specific_vqa_model</span><span class=\"p\">,</span> <span class=\"n\">specific_model_folder</span><span class=\"p\">)</span> <span class=\"o\">=</span> <span class=\"n\">args</span>\n",
       "                <span class=\"n\">specific_model_predictions_vector</span> <span class=\"o\">=</span> <span class=\"n\">specific_model_folder</span><span class=\"o\">.</span><span class=\"n\">prediction_vector</span>\n",
       "\n",
       "                <span class=\"n\">is_expecting_smaller_prediction_vector</span> <span class=\"o\">=</span> <span class=\"bp\">self</span><span class=\"o\">.</span><span class=\"n\">model_folder</span><span class=\"o\">.</span><span class=\"n\">question_category</span> <span class=\"ow\">is</span> <span class=\"bp\">None</span>\n",
       "                <span class=\"k\">if</span> <span class=\"n\">is_expecting_smaller_prediction_vector</span><span class=\"p\">:</span>\n",
       "                    <span class=\"c1\"># assert len(specific_model_predictions_vector) &lt; len(general_prediction_vector)</span>\n",
       "                    <span class=\"c1\"># Commenting out in order to be able to use models with older meta and mixture of words / answer...</span>\n",
       "                    <span class=\"k\">pass</span>\n",
       "\n",
       "                <span class=\"n\">logger</span><span class=\"o\">.</span><span class=\"n\">info</span><span class=\"p\">(</span><span class=\"n\">f</span><span class=\"s1\">&#39;For Category &quot;{category}&quot; using specialized classifier from:</span><span class=\"se\">\\n</span><span class=\"s1\">{specific_model_folder}&#39;</span><span class=\"p\">)</span>\n",
       "\n",
       "                <span class=\"n\">vqa_model</span> <span class=\"o\">=</span> <span class=\"n\">specific_vqa_model</span>\n",
       "                <span class=\"n\">prediction_vector</span> <span class=\"o\">=</span> <span class=\"n\">specific_model_predictions_vector</span>\n",
       "\n",
       "            <span class=\"n\">logger</span><span class=\"o\">.</span><span class=\"n\">debug</span><span class=\"p\">(</span><span class=\"n\">f</span><span class=\"s1\">&#39;Classifying: &quot;{category}&quot;&#39;</span><span class=\"p\">)</span>\n",
       "            <span class=\"n\">relevant_idxs</span> <span class=\"o\">=</span> <span class=\"n\">df_data</span><span class=\"o\">.</span><span class=\"n\">question_category</span> <span class=\"o\">==</span> <span class=\"n\">category</span>\n",
       "            <span class=\"n\">df_relevant</span> <span class=\"o\">=</span> <span class=\"n\">df_data</span><span class=\"p\">[</span><span class=\"n\">relevant_idxs</span><span class=\"p\">]</span>\n",
       "            <span class=\"k\">if</span> <span class=\"nb\">len</span><span class=\"p\">(</span><span class=\"n\">df_relevant</span><span class=\"p\">)</span> <span class=\"o\">&gt;</span> <span class=\"mi\">0</span><span class=\"p\">:</span>\n",
       "\n",
       "                <span class=\"n\">df_specific_predictions</span> <span class=\"o\">=</span> <span class=\"bp\">self</span><span class=\"o\">.</span><span class=\"n\">_predict_keras</span><span class=\"p\">(</span><span class=\"n\">df_relevant</span><span class=\"p\">,</span>\n",
       "                                                              <span class=\"n\">vqa_model</span><span class=\"p\">,</span>\n",
       "                                                              <span class=\"n\">words_decoder</span><span class=\"o\">=</span><span class=\"n\">prediction_vector</span><span class=\"p\">,</span>\n",
       "                                                              <span class=\"n\">percentile</span><span class=\"o\">=</span><span class=\"n\">percentile</span><span class=\"p\">)</span>\n",
       "            <span class=\"k\">else</span><span class=\"p\">:</span>\n",
       "                <span class=\"n\">logger</span><span class=\"o\">.</span><span class=\"n\">warning</span><span class=\"p\">(</span><span class=\"n\">f</span><span class=\"s1\">&#39;Did not get any data for category &quot;{category}&quot;&#39;</span><span class=\"p\">)</span>\n",
       "                <span class=\"k\">continue</span>\n",
       "\n",
       "            <span class=\"n\">predictions</span><span class=\"p\">[</span><span class=\"n\">category</span><span class=\"p\">]</span> <span class=\"o\">=</span> <span class=\"n\">df_specific_predictions</span>\n",
       "\n",
       "        <span class=\"n\">df_predictions</span> <span class=\"o\">=</span> <span class=\"n\">pd</span><span class=\"o\">.</span><span class=\"n\">concat</span><span class=\"p\">(</span><span class=\"n\">predictions</span><span class=\"o\">.</span><span class=\"n\">values</span><span class=\"p\">())</span>\n",
       "        <span class=\"c1\"># Those are the mandatory columns</span>\n",
       "        <span class=\"n\">sort_columns</span> <span class=\"o\">=</span> <span class=\"p\">[</span><span class=\"s1\">&#39;image_name&#39;</span><span class=\"p\">,</span> <span class=\"s1\">&#39;question&#39;</span><span class=\"p\">,</span> <span class=\"s1\">&#39;answer&#39;</span><span class=\"p\">,</span> <span class=\"s1\">&#39;prediction&#39;</span><span class=\"p\">,</span> <span class=\"s1\">&#39;probabilities&#39;</span><span class=\"p\">]</span>\n",
       "        <span class=\"n\">ordered_columns</span> <span class=\"o\">=</span> <span class=\"nb\">sorted</span><span class=\"p\">(</span><span class=\"n\">df_predictions</span><span class=\"o\">.</span><span class=\"n\">columns</span><span class=\"p\">,</span> <span class=\"n\">key</span><span class=\"o\">=</span><span class=\"k\">lambda</span> <span class=\"n\">v</span><span class=\"p\">:</span> <span class=\"p\">(</span><span class=\"n\">v</span> <span class=\"ow\">not</span> <span class=\"ow\">in</span> <span class=\"n\">sort_columns</span><span class=\"p\">,</span><span class=\"n\">sort_columns</span><span class=\"o\">.</span><span class=\"n\">index</span><span class=\"p\">(</span><span class=\"n\">v</span><span class=\"p\">)</span> <span class=\"k\">if</span> <span class=\"n\">v</span> <span class=\"ow\">in</span> <span class=\"n\">sort_columns</span> <span class=\"k\">else</span> <span class=\"mi\">100</span><span class=\"p\">),</span> <span class=\"n\">reverse</span><span class=\"o\">=</span><span class=\"bp\">False</span><span class=\"p\">)</span>\n",
       "\n",
       "        <span class=\"n\">ret</span> <span class=\"o\">=</span> <span class=\"n\">df_predictions</span><span class=\"p\">[</span><span class=\"n\">ordered_columns</span><span class=\"p\">]</span><span class=\"o\">.</span><span class=\"n\">sort_index</span><span class=\"p\">()</span>\n",
       "        <span class=\"k\">return</span> <span class=\"n\">ret</span>\n",
       "</pre></div>\n"
      ],
      "text/plain": [
       "<IPython.core.display.HTML object>"
      ]
     },
     "metadata": {},
     "output_type": "display_data"
    }
   ],
   "source": [
    "code = get_highlighted_function_code(mp.predict,remove_comments=False)\n",
    "IPython.display.display(code)"
   ]
  },
  {
   "cell_type": "code",
   "execution_count": null,
   "metadata": {},
   "outputs": [
    {
     "name": "stdout",
     "output_type": "stream",
     "text": [
      "[2019-04-09 11:07:11][data_access.api][DEBUG] loading processed data from:\n",
      "C:\\Users\\avitu\\Documents\\GitHub\\VQA-MED\\VQA-MED\\VQA.Python\\data\\model_input.parquet\n",
      "[2019-04-09 11:07:11][data_access.api][DEBUG] loading parquet from:\n",
      "C:\\Users\\avitu\\Documents\\GitHub\\VQA-MED\\VQA-MED\\VQA.Python\\data\\model_input.parquet\n",
      "[2019-04-09 11:07:11][common.utils][DEBUG] Starting 'Loading parquet'\n",
      "[2019-04-09 11:07:14][common.utils][DEBUG] Loading parquet: 0:00:03.326765\n",
      "[2019-04-09 11:07:14][common.utils][DEBUG] Starting 'Converting to pandas'\n",
      "[2019-04-09 11:07:14][common.utils][DEBUG] Converting to pandas: 0:00:00.019554\n"
     ]
    }
   ],
   "source": [
    "df_validation = mp.df_validation\n",
    "df_train = data_access.load_processed_data(group='train')"
   ]
  },
  {
   "cell_type": "code",
   "execution_count": null,
   "metadata": {},
   "outputs": [],
   "source": [
    "validation_set = df_train"
   ]
  },
  {
   "cell_type": "code",
   "execution_count": null,
   "metadata": {},
   "outputs": [
    {
     "data": {
      "text/html": [
       "<div>\n",
       "<style scoped>\n",
       "    .dataframe tbody tr th:only-of-type {\n",
       "        vertical-align: middle;\n",
       "    }\n",
       "\n",
       "    .dataframe tbody tr th {\n",
       "        vertical-align: top;\n",
       "    }\n",
       "\n",
       "    .dataframe thead th {\n",
       "        text-align: right;\n",
       "    }\n",
       "</style>\n",
       "<table border=\"1\" class=\"dataframe\">\n",
       "  <thead>\n",
       "    <tr style=\"text-align: right;\">\n",
       "      <th></th>\n",
       "      <th>image_name</th>\n",
       "      <th>question</th>\n",
       "      <th>answer</th>\n",
       "      <th>path</th>\n",
       "      <th>processed_question</th>\n",
       "      <th>processed_answer</th>\n",
       "      <th>diagnosis</th>\n",
       "      <th>question_category</th>\n",
       "      <th>answer_embedding</th>\n",
       "      <th>question_embedding</th>\n",
       "      <th>group</th>\n",
       "    </tr>\n",
       "  </thead>\n",
       "  <tbody>\n",
       "    <tr>\n",
       "      <th>6615</th>\n",
       "      <td>synpic43617.jpg</td>\n",
       "      <td>what is the organ system in this image?</td>\n",
       "      <td>genitourinary</td>\n",
       "      <td>C:\\Users\\Public\\Documents\\Data\\2019\\train\\Trai...</td>\n",
       "      <td>what is the organ system in this image</td>\n",
       "      <td>genitourinary</td>\n",
       "      <td></td>\n",
       "      <td>Organ</td>\n",
       "      <td>[0.6055684089660645, 0.8185107111930847, 1.109...</td>\n",
       "      <td>[-2.5832438468933105, 1.1982464790344238, -0.0...</td>\n",
       "      <td>train</td>\n",
       "    </tr>\n",
       "    <tr>\n",
       "      <th>9903</th>\n",
       "      <td>synpic51335.jpg</td>\n",
       "      <td>what abnormality is seen in the image?</td>\n",
       "      <td>trigeminal schwannoma (cn v)</td>\n",
       "      <td>C:\\Users\\Public\\Documents\\Data\\2019\\train\\Trai...</td>\n",
       "      <td>what abnormality is seen in the image</td>\n",
       "      <td>trigeminal schwannoma cn</td>\n",
       "      <td>schwannoma</td>\n",
       "      <td>Abnormality</td>\n",
       "      <td>[-2.4576714038848877, 0.9698212742805481, 0.01...</td>\n",
       "      <td>[-1.3684511184692383, 3.027883529663086, -1.70...</td>\n",
       "      <td>train</td>\n",
       "    </tr>\n",
       "    <tr>\n",
       "      <th>5949</th>\n",
       "      <td>synpic38450.jpg</td>\n",
       "      <td>which plane is the image taken?</td>\n",
       "      <td>axial</td>\n",
       "      <td>C:\\Users\\Public\\Documents\\Data\\2019\\train\\Trai...</td>\n",
       "      <td>which plane is the image taken</td>\n",
       "      <td>axial</td>\n",
       "      <td></td>\n",
       "      <td>Plane</td>\n",
       "      <td>[-1.3220698833465576, -0.9305600523948669, 0.8...</td>\n",
       "      <td>[-2.4232277870178223, 4.579081058502197, 0.132...</td>\n",
       "      <td>train</td>\n",
       "    </tr>\n",
       "  </tbody>\n",
       "</table>\n",
       "</div>"
      ],
      "text/plain": [
       "           image_name                                 question  \\\n",
       "6615  synpic43617.jpg  what is the organ system in this image?   \n",
       "9903  synpic51335.jpg   what abnormality is seen in the image?   \n",
       "5949  synpic38450.jpg          which plane is the image taken?   \n",
       "\n",
       "                            answer  \\\n",
       "6615                 genitourinary   \n",
       "9903  trigeminal schwannoma (cn v)   \n",
       "5949                         axial   \n",
       "\n",
       "                                                   path  \\\n",
       "6615  C:\\Users\\Public\\Documents\\Data\\2019\\train\\Trai...   \n",
       "9903  C:\\Users\\Public\\Documents\\Data\\2019\\train\\Trai...   \n",
       "5949  C:\\Users\\Public\\Documents\\Data\\2019\\train\\Trai...   \n",
       "\n",
       "                          processed_question          processed_answer  \\\n",
       "6615  what is the organ system in this image             genitourinary   \n",
       "9903   what abnormality is seen in the image  trigeminal schwannoma cn   \n",
       "5949          which plane is the image taken                     axial   \n",
       "\n",
       "       diagnosis question_category  \\\n",
       "6615                         Organ   \n",
       "9903  schwannoma       Abnormality   \n",
       "5949                         Plane   \n",
       "\n",
       "                                       answer_embedding  \\\n",
       "6615  [0.6055684089660645, 0.8185107111930847, 1.109...   \n",
       "9903  [-2.4576714038848877, 0.9698212742805481, 0.01...   \n",
       "5949  [-1.3220698833465576, -0.9305600523948669, 0.8...   \n",
       "\n",
       "                                     question_embedding  group  \n",
       "6615  [-2.5832438468933105, 1.1982464790344238, -0.0...  train  \n",
       "9903  [-1.3684511184692383, 3.027883529663086, -1.70...  train  \n",
       "5949  [-2.4232277870178223, 4.579081058502197, 0.132...  train  "
      ]
     },
     "execution_count": 11,
     "metadata": {},
     "output_type": "execute_result"
    }
   ],
   "source": [
    "validation_set.sample(3)"
   ]
  },
  {
   "cell_type": "code",
   "execution_count": null,
   "metadata": {},
   "outputs": [
    {
     "name": "stdout",
     "output_type": "stream",
     "text": [
      "[2019-04-09 11:07:14][classes.vqa_model_predictor][INFO] Category \"Abnormality\" had no specialized classifier. using general model...\n",
      "[2019-04-09 11:07:14][classes.vqa_model_predictor][DEBUG] Classifying: \"Abnormality\"\n",
      "[2019-04-09 11:07:15][common.functions][DEBUG] Getting image features\n"
     ]
    },
    {
     "name": "stderr",
     "output_type": "stream",
     "text": [
      "100%|████████████████████████████████████████████████████████████████████████████████████████████████████████████████████████████████████████████████████████████████████████████████████████████████████| 3192/3192 [00:06<00:00, 496.82it/s]\n"
     ]
    },
    {
     "name": "stdout",
     "output_type": "stream",
     "text": [
      "[2019-04-09 11:07:21][common.utils][DEBUG] Starting 'Raw model prediction'\n",
      "[2019-04-09 11:08:04][common.utils][DEBUG] Raw model prediction: 0:00:42.199792\n"
     ]
    },
    {
     "name": "stderr",
     "output_type": "stream",
     "text": [
      "Prediction: [13, 33, 68, 140]; probabilities: [5.604323e-06, 5.848: 100%|████████████████████████████████████████████████████████████████████████████████████████████████████████████████████████████████| 3192/3192 [00:14<00:00, 214.76it/s]\n"
     ]
    },
    {
     "name": "stdout",
     "output_type": "stream",
     "text": [
      "[2019-04-09 11:08:29][classes.vqa_model_predictor][INFO] Category \"Modality\" had no specialized classifier. using general model...\n",
      "[2019-04-09 11:08:29][classes.vqa_model_predictor][DEBUG] Classifying: \"Modality\"\n",
      "[2019-04-09 11:08:29][common.functions][DEBUG] Getting image features\n"
     ]
    },
    {
     "name": "stderr",
     "output_type": "stream",
     "text": [
      "100%|████████████████████████████████████████████████████████████████████████████████████████████████████████████████████████████████████████████████████████████████████████████████████████████████████| 3200/3200 [00:06<00:00, 512.06it/s]\n"
     ]
    },
    {
     "name": "stdout",
     "output_type": "stream",
     "text": [
      "[2019-04-09 11:08:36][common.utils][DEBUG] Starting 'Raw model prediction'\n"
     ]
    }
   ],
   "source": [
    "df_predictions = mp.predict(validation_set)\n",
    "df_predictions.sample(5)"
   ]
  },
  {
   "cell_type": "code",
   "execution_count": null,
   "metadata": {},
   "outputs": [],
   "source": [
    "df_predictions.describe()"
   ]
  },
  {
   "cell_type": "markdown",
   "metadata": {},
   "source": [
    "#### Take a look at results for a single image:"
   ]
  },
  {
   "cell_type": "code",
   "execution_count": null,
   "metadata": {},
   "outputs": [],
   "source": [
    "\n",
    "image_name = df_predictions.image_name.sample(1).values[0]\n",
    "\n",
    "df_image = df_predictions[df_predictions.image_name == image_name]\n",
    "# print(f'Result: {set(df_image.prediction)}')\n",
    "\n",
    "image_path = df_image.path.values[0]\n",
    "\n",
    "def get_row_evaluation(row, metric):\n",
    "    return VqaMedEvaluatorBase.get_all_evaluation(predictions=[row.prediction], ground_truth=[row.answer])[metric]\n",
    "\n",
    "sorted_cols = sorted(df_image.columns, key=lambda s: s not  in ['answer', 'prediction'])\n",
    "df_image = df_image[sorted_cols]\n",
    "\n",
    "df_image['wbss'] = df_image.apply(lambda row: get_row_evaluation(row, 'wbss'), axis=1)\n",
    "df_image['bleu'] = df_image.apply(lambda row: get_row_evaluation(row, 'bleu'), axis=1)\n",
    "df_image"
   ]
  },
  {
   "cell_type": "code",
   "execution_count": null,
   "metadata": {},
   "outputs": [],
   "source": [
    "from IPython.display import Image, HTML, display_html\n",
    "image = Image(filename = image_path, width=600, height=600)\n",
    "image"
   ]
  },
  {
   "cell_type": "markdown",
   "metadata": {},
   "source": [
    "## Evaluating the Model"
   ]
  },
  {
   "cell_type": "code",
   "execution_count": null,
   "metadata": {},
   "outputs": [],
   "source": [
    "validation_prediction = df_predictions\n",
    "predictions = validation_prediction.prediction.values\n",
    "ground_truth = validation_prediction.answer.values\n",
    "results = VqaMedEvaluatorBase.get_all_evaluation(predictions=predictions, ground_truth=ground_truth)\n",
    "print(f'Got results of\\n{results}')"
   ]
  },
  {
   "cell_type": "code",
   "execution_count": null,
   "metadata": {},
   "outputs": [],
   "source": [
    "# validation_prediction.sort_values(by=['probabilities'], ascending=False)"
   ]
  },
  {
   "cell_type": "code",
   "execution_count": null,
   "metadata": {},
   "outputs": [],
   "source": [
    "model_db_id = mp.model_idx_in_db\n",
    "assert model_db_id >= 0 \n",
    "model_db_id"
   ]
  },
  {
   "cell_type": "code",
   "execution_count": null,
   "metadata": {},
   "outputs": [],
   "source": [
    "bleu = results['bleu']\n",
    "wbss = results['wbss']\n",
    "model_score = ModelScore(model_db_id, bleu=bleu, wbss=wbss)\n",
    "model_score"
   ]
  },
  {
   "cell_type": "markdown",
   "metadata": {},
   "source": [
    "##### Add the score to DB:"
   ]
  },
  {
   "cell_type": "markdown",
   "metadata": {},
   "source": [
    "# DAL.insert_dal(model_score)"
   ]
  }
 ],
 "metadata": {
  "kernelspec": {
   "display_name": "Python 3",
   "language": "python",
   "name": "python3"
  },
  "language_info": {
   "codemirror_mode": {
    "name": "ipython",
    "version": 3
   },
   "file_extension": ".py",
   "mimetype": "text/x-python",
   "name": "python",
   "nbconvert_exporter": "python",
   "pygments_lexer": "ipython3",
   "version": "3.6.7"
  }
 },
 "nbformat": 4,
 "nbformat_minor": 2
}
