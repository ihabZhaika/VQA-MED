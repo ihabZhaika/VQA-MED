{
 "cells": [
  {
   "cell_type": "code",
   "execution_count": 25,
   "metadata": {},
   "outputs": [],
   "source": [
    "import os\n",
    "import pandas as pd\n",
    "from tqdm import tqdm\n",
    "import vqa_logger \n",
    "import logging\n",
    "from pathlib import Path\n",
    "import datetime\n",
    "from common import DAL\n",
    "import seaborn as sns\n",
    "import matplotlib.pyplot as plt\n",
    "import numpy as np\n",
    "import math\n",
    "logger = logging.getLogger(__name__)"
   ]
  },
  {
   "cell_type": "code",
   "execution_count": 26,
   "metadata": {},
   "outputs": [],
   "source": [
    "df_models = DAL.get_models_data_frame()\n",
    "df_models = df_models[['class_strategy', 'parameter_count', 'loss_function', 'trainable_parameter_count','activation', 'notes',]]\n",
    "# 'model_location',\n",
    "df_scores = DAL.get_partial_scores_data_frame()\n",
    "df_question_categories = DAL.get_question_categories_data_frame()\n",
    "df_evaluation_types = DAL.get_evaluation_types_data_frame()"
   ]
  },
  {
   "cell_type": "code",
   "execution_count": 27,
   "metadata": {},
   "outputs": [],
   "source": [
    "# df_models.tail()"
   ]
  },
  {
   "cell_type": "code",
   "execution_count": 28,
   "metadata": {},
   "outputs": [],
   "source": [
    "# df_scores.tail()"
   ]
  },
  {
   "cell_type": "code",
   "execution_count": 29,
   "metadata": {},
   "outputs": [],
   "source": [
    "# df_question_categories"
   ]
  },
  {
   "cell_type": "code",
   "execution_count": 30,
   "metadata": {},
   "outputs": [],
   "source": [
    "# df_evaluation_types"
   ]
  },
  {
   "cell_type": "code",
   "execution_count": 31,
   "metadata": {},
   "outputs": [
    {
     "data": {
      "text/html": [
       "<div>\n",
       "<style scoped>\n",
       "    .dataframe tbody tr th:only-of-type {\n",
       "        vertical-align: middle;\n",
       "    }\n",
       "\n",
       "    .dataframe tbody tr th {\n",
       "        vertical-align: top;\n",
       "    }\n",
       "\n",
       "    .dataframe thead th {\n",
       "        text-align: right;\n",
       "    }\n",
       "</style>\n",
       "<table border=\"1\" class=\"dataframe\">\n",
       "  <thead>\n",
       "    <tr style=\"text-align: right;\">\n",
       "      <th></th>\n",
       "      <th>Category</th>\n",
       "      <th>name</th>\n",
       "      <th>score</th>\n",
       "      <th>class_strategy</th>\n",
       "      <th>loss_function</th>\n",
       "      <th>activation</th>\n",
       "      <th>parameter_count</th>\n",
       "      <th>trainable_parameter_count</th>\n",
       "      <th>notes</th>\n",
       "    </tr>\n",
       "  </thead>\n",
       "  <tbody>\n",
       "    <tr>\n",
       "      <th>202</th>\n",
       "      <td>Abnormality</td>\n",
       "      <td>wbss</td>\n",
       "      <td>0.079517</td>\n",
       "      <td>answers</td>\n",
       "      <td>categorical_crossentropy</td>\n",
       "      <td>softmax</td>\n",
       "      <td>20111052</td>\n",
       "      <td>86396</td>\n",
       "      <td>post_concat_dense_units: (8,);\\nOptimizer: RMS...</td>\n",
       "    </tr>\n",
       "    <tr>\n",
       "      <th>202</th>\n",
       "      <td>Abnormality</td>\n",
       "      <td>bleu</td>\n",
       "      <td>0.032323</td>\n",
       "      <td>answers</td>\n",
       "      <td>categorical_crossentropy</td>\n",
       "      <td>softmax</td>\n",
       "      <td>20111052</td>\n",
       "      <td>86396</td>\n",
       "      <td>post_concat_dense_units: (8,);\\nOptimizer: RMS...</td>\n",
       "    </tr>\n",
       "    <tr>\n",
       "      <th>202</th>\n",
       "      <td>Abnormality</td>\n",
       "      <td>strict_accuracy</td>\n",
       "      <td>0.012579</td>\n",
       "      <td>answers</td>\n",
       "      <td>categorical_crossentropy</td>\n",
       "      <td>softmax</td>\n",
       "      <td>20111052</td>\n",
       "      <td>86396</td>\n",
       "      <td>post_concat_dense_units: (8,);\\nOptimizer: RMS...</td>\n",
       "    </tr>\n",
       "    <tr>\n",
       "      <th>201</th>\n",
       "      <td>Abnormality</td>\n",
       "      <td>wbss</td>\n",
       "      <td>0.064820</td>\n",
       "      <td>answers</td>\n",
       "      <td>categorical_crossentropy</td>\n",
       "      <td>softmax</td>\n",
       "      <td>20107949</td>\n",
       "      <td>83297</td>\n",
       "      <td>post_concat_dense_units: (8, 7, 6);\\nOptimizer...</td>\n",
       "    </tr>\n",
       "    <tr>\n",
       "      <th>201</th>\n",
       "      <td>Abnormality</td>\n",
       "      <td>bleu</td>\n",
       "      <td>0.020804</td>\n",
       "      <td>answers</td>\n",
       "      <td>categorical_crossentropy</td>\n",
       "      <td>softmax</td>\n",
       "      <td>20107949</td>\n",
       "      <td>83297</td>\n",
       "      <td>post_concat_dense_units: (8, 7, 6);\\nOptimizer...</td>\n",
       "    </tr>\n",
       "  </tbody>\n",
       "</table>\n",
       "</div>"
      ],
      "text/plain": [
       "        Category             name     score class_strategy  \\\n",
       "202  Abnormality             wbss  0.079517        answers   \n",
       "202  Abnormality             bleu  0.032323        answers   \n",
       "202  Abnormality  strict_accuracy  0.012579        answers   \n",
       "201  Abnormality             wbss  0.064820        answers   \n",
       "201  Abnormality             bleu  0.020804        answers   \n",
       "\n",
       "                loss_function activation  parameter_count  \\\n",
       "202  categorical_crossentropy    softmax         20111052   \n",
       "202  categorical_crossentropy    softmax         20111052   \n",
       "202  categorical_crossentropy    softmax         20111052   \n",
       "201  categorical_crossentropy    softmax         20107949   \n",
       "201  categorical_crossentropy    softmax         20107949   \n",
       "\n",
       "     trainable_parameter_count  \\\n",
       "202                      86396   \n",
       "202                      86396   \n",
       "202                      86396   \n",
       "201                      83297   \n",
       "201                      83297   \n",
       "\n",
       "                                                 notes  \n",
       "202  post_concat_dense_units: (8,);\\nOptimizer: RMS...  \n",
       "202  post_concat_dense_units: (8,);\\nOptimizer: RMS...  \n",
       "202  post_concat_dense_units: (8,);\\nOptimizer: RMS...  \n",
       "201  post_concat_dense_units: (8, 7, 6);\\nOptimizer...  \n",
       "201  post_concat_dense_units: (8, 7, 6);\\nOptimizer...  "
      ]
     },
     "execution_count": 31,
     "metadata": {},
     "output_type": "execute_result"
    }
   ],
   "source": [
    "df = df_models.join(df_scores, how='inner')\\\n",
    "    .join(df_question_categories, on='question_category_id')\\\n",
    "    .join(df_evaluation_types, on='evaluation_type')\\\n",
    "    .sort_index(ascending=False)\n",
    "\n",
    "\n",
    "df=df[['Category', 'name', 'score','class_strategy',  'loss_function','activation', 'parameter_count','trainable_parameter_count', 'notes']]\n",
    "df.head()\n"
   ]
  },
  {
   "cell_type": "markdown",
   "metadata": {},
   "source": [
    "### Get data from notes:"
   ]
  },
  {
   "cell_type": "code",
   "execution_count": 32,
   "metadata": {},
   "outputs": [],
   "source": [
    "new_columns_data = \\\n",
    "{'post_concat_dense_units': None,\n",
    "'Optimizer': None,\n",
    "# 'loss': None,\n",
    "'activation': None,\n",
    "'prediction ': None,\n",
    "'lstm_units': None,\n",
    "'batch_size': None,\n",
    "'epochs': None,\n",
    "'class weights': False,\n",
    "'Inputs Attention': False}"
   ]
  },
  {
   "cell_type": "code",
   "execution_count": 33,
   "metadata": {},
   "outputs": [],
   "source": [
    "def note_to_lines(raw):\n",
    "    n = raw\n",
    "    for c in [';']:\n",
    "        n = n.replace(c, '')\n",
    "    lines = (l.strip() for l in n.split('\\n'))\n",
    "    lines = [l for l in lines if ': ' in l]\n",
    "    return lines\n",
    "\n",
    "\n",
    "raw = df.notes.values[0]\n",
    "lines = note_to_lines(raw)\n",
    "# print('\\n'.join(lines))\n",
    "\n",
    "def get_data_from_lines(lines, col_name):\n",
    "    default_val = new_columns_data[col_name]\n",
    "    relevant_lines = [l for l in lines if col_name in l]\n",
    "    assert len(relevant_lines) <=1\n",
    "    if len(relevant_lines) == 0:\n",
    "        data = default_val\n",
    "    else:\n",
    "        line = relevant_lines[0]\n",
    "        data_str = line.split()[-1]\n",
    "        try:\n",
    "            data = eval(data_str)            \n",
    "        except:\n",
    "            data = data_str\n",
    "        \n",
    "    return data\n",
    "# print('-'*10)        \n",
    "# for col in new_columns_data:  \n",
    "#     data = get_data_from_lines(lines, col)\n",
    "#     print(f'{col}: {data}')\n"
   ]
  },
  {
   "cell_type": "code",
   "execution_count": 34,
   "metadata": {},
   "outputs": [
    {
     "name": "stdout",
     "output_type": "stream",
     "text": [
      "post_concat_dense_units: (8,)\n",
      "Optimizer: RMSprop\n",
      "activation: softmax\n",
      "prediction : answers\n",
      "lstm_units: 128\n",
      "batch_size: 32\n",
      "epochs: 3\n",
      "class weights: False\n",
      "Inputs Attention: False\n"
     ]
    }
   ],
   "source": [
    "def notes_to_data(notes, col_name):\n",
    "    lines =note_to_lines(notes)\n",
    "    data = get_data_from_lines(lines, col_name)\n",
    "    return data\n",
    "\n",
    "for col in new_columns_data:  \n",
    "    data = notes_to_data(raw, col)\n",
    "    print(f'{col}: {data}')"
   ]
  },
  {
   "cell_type": "code",
   "execution_count": 35,
   "metadata": {},
   "outputs": [],
   "source": [
    "for col in new_columns_data:  \n",
    "    df[col.replace(' ', '_')] = df.notes.apply(lambda notes: notes_to_data(notes, col))    \n"
   ]
  },
  {
   "cell_type": "code",
   "execution_count": 63,
   "metadata": {},
   "outputs": [
    {
     "name": "stdout",
     "output_type": "stream",
     "text": [
      "['Abnormality' 'Modality' 'Organ' 'Plane' 'Abnormality_yes_no']\n",
      "['wbss' 'bleu' 'strict_accuracy']\n"
     ]
    }
   ],
   "source": [
    "print(df.Category.drop_duplicates().values)\n",
    "print(df.name.drop_duplicates().values)"
   ]
  },
  {
   "cell_type": "markdown",
   "metadata": {},
   "source": [
    "## Plot results"
   ]
  },
  {
   "cell_type": "code",
   "execution_count": 37,
   "metadata": {},
   "outputs": [],
   "source": [
    "cmaps = [c for c in dir(plt.cm) if not c.startswith('_')] \n",
    "try:\n",
    "    i += 1\n",
    "except:\n",
    "    i = 0\n",
    "\n",
    "cmap = cmaps[i]\n",
    "# cmap = \"Blues\"\n",
    "# cmap = plt.cm.jet\n",
    "# cmap ='Accent'\n",
    "cmap = 'Paired'"
   ]
  },
  {
   "cell_type": "code",
   "execution_count": 77,
   "metadata": {},
   "outputs": [
    {
     "name": "stdout",
     "output_type": "stream",
     "text": [
      "Index(['Category', 'name', 'score', 'class_strategy', 'loss_function',\n",
      "       'activation', 'parameter_count', 'trainable_parameter_count', 'notes',\n",
      "       'post_concat_dense_units', 'Optimizer', 'prediction_', 'lstm_units',\n",
      "       'batch_size', 'epochs', 'class_weights', 'Inputs_Attention'],\n",
      "      dtype='object')\n"
     ]
    },
    {
     "data": {
      "text/html": [
       "<div>\n",
       "<style scoped>\n",
       "    .dataframe tbody tr th:only-of-type {\n",
       "        vertical-align: middle;\n",
       "    }\n",
       "\n",
       "    .dataframe tbody tr th {\n",
       "        vertical-align: top;\n",
       "    }\n",
       "\n",
       "    .dataframe thead th {\n",
       "        text-align: right;\n",
       "    }\n",
       "</style>\n",
       "<table border=\"1\" class=\"dataframe\">\n",
       "  <thead>\n",
       "    <tr style=\"text-align: right;\">\n",
       "      <th></th>\n",
       "      <th>Category</th>\n",
       "      <th>name</th>\n",
       "      <th>score</th>\n",
       "      <th>class_strategy</th>\n",
       "      <th>loss_function</th>\n",
       "      <th>activation</th>\n",
       "      <th>parameter_count</th>\n",
       "      <th>trainable_parameter_count</th>\n",
       "      <th>notes</th>\n",
       "      <th>post_concat_dense_units</th>\n",
       "      <th>Optimizer</th>\n",
       "      <th>prediction_</th>\n",
       "      <th>lstm_units</th>\n",
       "      <th>batch_size</th>\n",
       "      <th>epochs</th>\n",
       "      <th>class_weights</th>\n",
       "      <th>Inputs_Attention</th>\n",
       "    </tr>\n",
       "  </thead>\n",
       "  <tbody>\n",
       "    <tr>\n",
       "      <th>104</th>\n",
       "      <td>Abnormality</td>\n",
       "      <td>strict_accuracy</td>\n",
       "      <td>0.000000</td>\n",
       "      <td>words</td>\n",
       "      <td>cosine_proximity</td>\n",
       "      <td>sigmoid</td>\n",
       "      <td>20092917</td>\n",
       "      <td>59305</td>\n",
       "      <td>post_concat_dense_units: (7, 8, 6);\\nOptimizer...</td>\n",
       "      <td>6)</td>\n",
       "      <td>RMSprop</td>\n",
       "      <td>words</td>\n",
       "      <td>0.0</td>\n",
       "      <td>32.0</td>\n",
       "      <td>NaN</td>\n",
       "      <td>False</td>\n",
       "      <td>False</td>\n",
       "    </tr>\n",
       "    <tr>\n",
       "      <th>164</th>\n",
       "      <td>Abnormality</td>\n",
       "      <td>strict_accuracy</td>\n",
       "      <td>0.014675</td>\n",
       "      <td>answers</td>\n",
       "      <td>categorical_crossentropy</td>\n",
       "      <td>softmax</td>\n",
       "      <td>20089701</td>\n",
       "      <td>56083</td>\n",
       "      <td>post_concat_dense_units: (6, 9);\\nOptimizer: R...</td>\n",
       "      <td>9)</td>\n",
       "      <td>RMSprop</td>\n",
       "      <td>answers</td>\n",
       "      <td>0.0</td>\n",
       "      <td>32.0</td>\n",
       "      <td>12.0</td>\n",
       "      <td>False</td>\n",
       "      <td>False</td>\n",
       "    </tr>\n",
       "    <tr>\n",
       "      <th>121</th>\n",
       "      <td>Abnormality</td>\n",
       "      <td>strict_accuracy</td>\n",
       "      <td>0.040000</td>\n",
       "      <td>answers</td>\n",
       "      <td>cosine_proximity</td>\n",
       "      <td>sigmoid</td>\n",
       "      <td>20098270</td>\n",
       "      <td>64654</td>\n",
       "      <td>post_concat_dense_units: [8];\\nOptimizer: RMSp...</td>\n",
       "      <td>[8]</td>\n",
       "      <td>RMSprop</td>\n",
       "      <td>answers</td>\n",
       "      <td>0.0</td>\n",
       "      <td>32.0</td>\n",
       "      <td>NaN</td>\n",
       "      <td>False</td>\n",
       "      <td>False</td>\n",
       "    </tr>\n",
       "    <tr>\n",
       "      <th>124</th>\n",
       "      <td>Abnormality</td>\n",
       "      <td>strict_accuracy</td>\n",
       "      <td>0.048000</td>\n",
       "      <td>answers</td>\n",
       "      <td>cosine_proximity</td>\n",
       "      <td>sigmoid</td>\n",
       "      <td>20089701</td>\n",
       "      <td>56083</td>\n",
       "      <td>post_concat_dense_units: (6, 9);\\nOptimizer: R...</td>\n",
       "      <td>9)</td>\n",
       "      <td>RMSprop</td>\n",
       "      <td>answers</td>\n",
       "      <td>0.0</td>\n",
       "      <td>32.0</td>\n",
       "      <td>NaN</td>\n",
       "      <td>False</td>\n",
       "      <td>False</td>\n",
       "    </tr>\n",
       "    <tr>\n",
       "      <th>83</th>\n",
       "      <td>Abnormality</td>\n",
       "      <td>strict_accuracy</td>\n",
       "      <td>0.000000</td>\n",
       "      <td>words</td>\n",
       "      <td>cosine_proximity</td>\n",
       "      <td>sigmoid</td>\n",
       "      <td>20098931</td>\n",
       "      <td>65313</td>\n",
       "      <td>post_concat_dense_units: (7, 9);\\nOptimizer: R...</td>\n",
       "      <td>9)</td>\n",
       "      <td>RMSprop</td>\n",
       "      <td>words</td>\n",
       "      <td>0.0</td>\n",
       "      <td>32.0</td>\n",
       "      <td>NaN</td>\n",
       "      <td>False</td>\n",
       "      <td>False</td>\n",
       "    </tr>\n",
       "  </tbody>\n",
       "</table>\n",
       "</div>"
      ],
      "text/plain": [
       "        Category             name     score class_strategy  \\\n",
       "104  Abnormality  strict_accuracy  0.000000          words   \n",
       "164  Abnormality  strict_accuracy  0.014675        answers   \n",
       "121  Abnormality  strict_accuracy  0.040000        answers   \n",
       "124  Abnormality  strict_accuracy  0.048000        answers   \n",
       "83   Abnormality  strict_accuracy  0.000000          words   \n",
       "\n",
       "                loss_function activation  parameter_count  \\\n",
       "104          cosine_proximity    sigmoid         20092917   \n",
       "164  categorical_crossentropy    softmax         20089701   \n",
       "121          cosine_proximity    sigmoid         20098270   \n",
       "124          cosine_proximity    sigmoid         20089701   \n",
       "83           cosine_proximity    sigmoid         20098931   \n",
       "\n",
       "     trainable_parameter_count  \\\n",
       "104                      59305   \n",
       "164                      56083   \n",
       "121                      64654   \n",
       "124                      56083   \n",
       "83                       65313   \n",
       "\n",
       "                                                 notes  \\\n",
       "104  post_concat_dense_units: (7, 8, 6);\\nOptimizer...   \n",
       "164  post_concat_dense_units: (6, 9);\\nOptimizer: R...   \n",
       "121  post_concat_dense_units: [8];\\nOptimizer: RMSp...   \n",
       "124  post_concat_dense_units: (6, 9);\\nOptimizer: R...   \n",
       "83   post_concat_dense_units: (7, 9);\\nOptimizer: R...   \n",
       "\n",
       "    post_concat_dense_units Optimizer prediction_  lstm_units  batch_size  \\\n",
       "104                      6)   RMSprop       words         0.0        32.0   \n",
       "164                      9)   RMSprop     answers         0.0        32.0   \n",
       "121                     [8]   RMSprop     answers         0.0        32.0   \n",
       "124                      9)   RMSprop     answers         0.0        32.0   \n",
       "83                       9)   RMSprop       words         0.0        32.0   \n",
       "\n",
       "     epochs  class_weights  Inputs_Attention  \n",
       "104     NaN          False             False  \n",
       "164    12.0          False             False  \n",
       "121     NaN          False             False  \n",
       "124     NaN          False             False  \n",
       "83      NaN          False             False  "
      ]
     },
     "execution_count": 77,
     "metadata": {},
     "output_type": "execute_result"
    }
   ],
   "source": [
    "category = 'Abnormality'\n",
    "evaluation = 'strict_accuracy'\n",
    "cdf = df[(df.Category==category) & (df.name==evaluation)]\n",
    "print( cdf.columns)\n",
    "cdf.sample(5)"
   ]
  },
  {
   "cell_type": "code",
   "execution_count": 78,
   "metadata": {},
   "outputs": [
    {
     "name": "stdout",
     "output_type": "stream",
     "text": [
      "Paired\n",
      "106\n"
     ]
    },
    {
     "data": {
      "text/html": [
       "<div>\n",
       "<style scoped>\n",
       "    .dataframe tbody tr th:only-of-type {\n",
       "        vertical-align: middle;\n",
       "    }\n",
       "\n",
       "    .dataframe tbody tr th {\n",
       "        vertical-align: top;\n",
       "    }\n",
       "\n",
       "    .dataframe thead th {\n",
       "        text-align: right;\n",
       "    }\n",
       "</style>\n",
       "<table border=\"1\" class=\"dataframe\">\n",
       "  <thead>\n",
       "    <tr style=\"text-align: right;\">\n",
       "      <th></th>\n",
       "      <th>prediction_</th>\n",
       "      <th>score</th>\n",
       "      <th>trainable_parameter_count</th>\n",
       "    </tr>\n",
       "  </thead>\n",
       "  <tbody>\n",
       "    <tr>\n",
       "      <th>202</th>\n",
       "      <td>answers</td>\n",
       "      <td>0.012579</td>\n",
       "      <td>6623230446815674368</td>\n",
       "    </tr>\n",
       "    <tr>\n",
       "      <th>201</th>\n",
       "      <td>answers</td>\n",
       "      <td>0.002096</td>\n",
       "      <td>4141980420240572416</td>\n",
       "    </tr>\n",
       "    <tr>\n",
       "      <th>186</th>\n",
       "      <td>answers</td>\n",
       "      <td>0.016771</td>\n",
       "      <td>-6716130288661954560</td>\n",
       "    </tr>\n",
       "    <tr>\n",
       "      <th>177</th>\n",
       "      <td>answers</td>\n",
       "      <td>0.004193</td>\n",
       "      <td>-4925812092436480000</td>\n",
       "    </tr>\n",
       "    <tr>\n",
       "      <th>176</th>\n",
       "      <td>answers</td>\n",
       "      <td>0.000000</td>\n",
       "      <td>-4803609417284059136</td>\n",
       "    </tr>\n",
       "  </tbody>\n",
       "</table>\n",
       "</div>"
      ],
      "text/plain": [
       "    prediction_     score  trainable_parameter_count\n",
       "202     answers  0.012579        6623230446815674368\n",
       "201     answers  0.002096        4141980420240572416\n",
       "186     answers  0.016771       -6716130288661954560\n",
       "177     answers  0.004193       -4925812092436480000\n",
       "176     answers  0.000000       -4803609417284059136"
      ]
     },
     "execution_count": 78,
     "metadata": {},
     "output_type": "execute_result"
    }
   ],
   "source": [
    "x_name = 'parameter_count'\n",
    "y_name = 'trainable_parameter_count'\n",
    "\n",
    "# x_name = 'epochs'\n",
    "# y_name = 'batch_size'\n",
    "\n",
    "x_name = 'prediction_'\n",
    "y_name = 'score'\n",
    "\n",
    "sizes_name = 'trainable_parameter_count'\n",
    "df_plot = cdf[[x_name, y_name]]\n",
    "df_plot.loc[:,sizes_name] = (100*cdf[sizes_name])**10\n",
    "\n",
    "print(cmap)\n",
    "print(len(cdf))\n",
    "df_plot.head()\n",
    "\n",
    "# # create data\n",
    "# x = df_plot[x_name]#np.random.rand(15)\n",
    "# y = df_plot[y_name]#x+np.random.rand(15)\n",
    "# z = df_plot[sizes_name]#x+np.random.rand(15)"
   ]
  },
  {
   "cell_type": "code",
   "execution_count": 79,
   "metadata": {},
   "outputs": [
    {
     "data": {
      "text/plain": [
       "True"
      ]
     },
     "execution_count": 79,
     "metadata": {},
     "output_type": "execute_result"
    }
   ],
   "source": [
    "is_categorial = df_plot.dtypes[x_name] == object\n",
    "is_categorial\n",
    "# df_plot.dtypes"
   ]
  },
  {
   "cell_type": "code",
   "execution_count": 80,
   "metadata": {},
   "outputs": [
    {
     "data": {
      "text/plain": [
       "Text(0.5, 1.0, \"'strict_accuracy' for 'Abnormality'\")"
      ]
     },
     "execution_count": 80,
     "metadata": {},
     "output_type": "execute_result"
    },
    {
     "data": {
      "image/png": "[encoded data removed]",
      "text/plain": [
       "<Figure size 1440x720 with 1 Axes>"
      ]
     },
     "metadata": {},
     "output_type": "display_data"
    }
   ],
   "source": [
    "%matplotlib inline\n",
    "plt.rcParams['figure.figsize'] = [20, 10]\n",
    "sns.set(style=\"white\", color_codes=True)\n",
    "\n",
    "sizes=(10, 500)\n",
    "if is_categorial:\n",
    "    sns.stripplot(x=x_name, y=y_name, data=cdf, alpha=.3,size=cdf[sizes_name], jitter=0.03, edgecolor='gray', sizes=sizes)# size=z,\n",
    "else:    \n",
    "    sns.scatterplot(x=x_name, y=y_name, data=cdf,  hue=x_name, size=sizes_name, palette=cmap, sizes=sizes,  alpha=.3, edgecolor='gray')\n",
    "    \n",
    "sns.despine()\n",
    " \n",
    "# Add titles (main and on axis)\n",
    "plt.xlabel(x_name.replace('_', ' '))\n",
    "plt.ylabel(y_name.replace('_', ' '))\n",
    "plt.title(f\"'{evaluation}' for '{category}'\")\n",
    " \n",
    "# plt.show()\n"
   ]
  }
 ],
 "metadata": {
  "kernelspec": {
   "display_name": "Python 3",
   "language": "python",
   "name": "python3"
  },
  "language_info": {
   "codemirror_mode": {
    "name": "ipython",
    "version": 3
   },
   "file_extension": ".py",
   "mimetype": "text/x-python",
   "name": "python",
   "nbconvert_exporter": "python",
   "pygments_lexer": "ipython3",
   "version": "3.6.7"
  }
 },
 "nbformat": 4,
 "nbformat_minor": 2
}
