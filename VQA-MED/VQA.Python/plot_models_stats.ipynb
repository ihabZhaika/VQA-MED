{
 "cells": [
  {
   "cell_type": "code",
   "execution_count": 1,
   "metadata": {},
   "outputs": [],
   "source": [
    "import os\n",
    "import pandas as pd\n",
    "from tqdm import tqdm\n",
    "import vqa_logger \n",
    "import logging\n",
    "from pathlib import Path\n",
    "import datetime\n",
    "from common import DAL\n",
    "import seaborn as sns\n",
    "import matplotlib.pyplot as plt\n",
    "import numpy as np\n",
    "import math\n",
    "logger = logging.getLogger(__name__)"
   ]
  },
  {
   "cell_type": "code",
   "execution_count": 2,
   "metadata": {},
   "outputs": [],
   "source": [
    "df_models = DAL.get_models_data_frame()\n",
    "df_models = df_models[['class_strategy', 'parameter_count', 'loss_function', 'trainable_parameter_count','activation', 'notes',]]\n",
    "# 'model_location',\n",
    "df_scores = DAL.get_partial_scores_data_frame()\n",
    "df_question_categories = DAL.get_question_categories_data_frame()\n",
    "df_evaluation_types = DAL.get_evaluation_types_data_frame()"
   ]
  },
  {
   "cell_type": "code",
   "execution_count": 3,
   "metadata": {},
   "outputs": [],
   "source": [
    "# df_models.tail()"
   ]
  },
  {
   "cell_type": "code",
   "execution_count": 4,
   "metadata": {},
   "outputs": [],
   "source": [
    "# df_scores.tail()"
   ]
  },
  {
   "cell_type": "code",
   "execution_count": 5,
   "metadata": {},
   "outputs": [],
   "source": [
    "# df_question_categories"
   ]
  },
  {
   "cell_type": "code",
   "execution_count": 6,
   "metadata": {},
   "outputs": [],
   "source": [
    "# df_evaluation_types"
   ]
  },
  {
   "cell_type": "code",
   "execution_count": 7,
   "metadata": {},
   "outputs": [
    {
     "data": {
      "text/html": [
       "<div>\n",
       "<style scoped>\n",
       "    .dataframe tbody tr th:only-of-type {\n",
       "        vertical-align: middle;\n",
       "    }\n",
       "\n",
       "    .dataframe tbody tr th {\n",
       "        vertical-align: top;\n",
       "    }\n",
       "\n",
       "    .dataframe thead th {\n",
       "        text-align: right;\n",
       "    }\n",
       "</style>\n",
       "<table border=\"1\" class=\"dataframe\">\n",
       "  <thead>\n",
       "    <tr style=\"text-align: right;\">\n",
       "      <th></th>\n",
       "      <th>Category</th>\n",
       "      <th>name</th>\n",
       "      <th>score</th>\n",
       "      <th>class_strategy</th>\n",
       "      <th>loss_function</th>\n",
       "      <th>activation</th>\n",
       "      <th>parameter_count</th>\n",
       "      <th>trainable_parameter_count</th>\n",
       "      <th>notes</th>\n",
       "    </tr>\n",
       "  </thead>\n",
       "  <tbody>\n",
       "    <tr>\n",
       "      <th>203</th>\n",
       "      <td>Abnormality</td>\n",
       "      <td>wbss</td>\n",
       "      <td>0.094783</td>\n",
       "      <td>answers</td>\n",
       "      <td>categorical_crossentropy</td>\n",
       "      <td>softmax</td>\n",
       "      <td>20107947</td>\n",
       "      <td>83295</td>\n",
       "      <td>post_concat_dense_units: (8, 7, 6);\\nOptimizer...</td>\n",
       "    </tr>\n",
       "    <tr>\n",
       "      <th>203</th>\n",
       "      <td>Abnormality</td>\n",
       "      <td>bleu</td>\n",
       "      <td>0.046267</td>\n",
       "      <td>answers</td>\n",
       "      <td>categorical_crossentropy</td>\n",
       "      <td>softmax</td>\n",
       "      <td>20107947</td>\n",
       "      <td>83295</td>\n",
       "      <td>post_concat_dense_units: (8, 7, 6);\\nOptimizer...</td>\n",
       "    </tr>\n",
       "    <tr>\n",
       "      <th>203</th>\n",
       "      <td>Abnormality</td>\n",
       "      <td>strict_accuracy</td>\n",
       "      <td>0.020964</td>\n",
       "      <td>answers</td>\n",
       "      <td>categorical_crossentropy</td>\n",
       "      <td>softmax</td>\n",
       "      <td>20107947</td>\n",
       "      <td>83295</td>\n",
       "      <td>post_concat_dense_units: (8, 7, 6);\\nOptimizer...</td>\n",
       "    </tr>\n",
       "    <tr>\n",
       "      <th>202</th>\n",
       "      <td>Abnormality</td>\n",
       "      <td>wbss</td>\n",
       "      <td>0.079517</td>\n",
       "      <td>answers</td>\n",
       "      <td>categorical_crossentropy</td>\n",
       "      <td>softmax</td>\n",
       "      <td>20111052</td>\n",
       "      <td>86396</td>\n",
       "      <td>post_concat_dense_units: (8,);\\nOptimizer: RMS...</td>\n",
       "    </tr>\n",
       "    <tr>\n",
       "      <th>202</th>\n",
       "      <td>Abnormality</td>\n",
       "      <td>bleu</td>\n",
       "      <td>0.032323</td>\n",
       "      <td>answers</td>\n",
       "      <td>categorical_crossentropy</td>\n",
       "      <td>softmax</td>\n",
       "      <td>20111052</td>\n",
       "      <td>86396</td>\n",
       "      <td>post_concat_dense_units: (8,);\\nOptimizer: RMS...</td>\n",
       "    </tr>\n",
       "  </tbody>\n",
       "</table>\n",
       "</div>"
      ],
      "text/plain": [
       "        Category             name     score class_strategy  \\\n",
       "203  Abnormality             wbss  0.094783        answers   \n",
       "203  Abnormality             bleu  0.046267        answers   \n",
       "203  Abnormality  strict_accuracy  0.020964        answers   \n",
       "202  Abnormality             wbss  0.079517        answers   \n",
       "202  Abnormality             bleu  0.032323        answers   \n",
       "\n",
       "                loss_function activation  parameter_count  \\\n",
       "203  categorical_crossentropy    softmax         20107947   \n",
       "203  categorical_crossentropy    softmax         20107947   \n",
       "203  categorical_crossentropy    softmax         20107947   \n",
       "202  categorical_crossentropy    softmax         20111052   \n",
       "202  categorical_crossentropy    softmax         20111052   \n",
       "\n",
       "     trainable_parameter_count  \\\n",
       "203                      83295   \n",
       "203                      83295   \n",
       "203                      83295   \n",
       "202                      86396   \n",
       "202                      86396   \n",
       "\n",
       "                                                 notes  \n",
       "203  post_concat_dense_units: (8, 7, 6);\\nOptimizer...  \n",
       "203  post_concat_dense_units: (8, 7, 6);\\nOptimizer...  \n",
       "203  post_concat_dense_units: (8, 7, 6);\\nOptimizer...  \n",
       "202  post_concat_dense_units: (8,);\\nOptimizer: RMS...  \n",
       "202  post_concat_dense_units: (8,);\\nOptimizer: RMS...  "
      ]
     },
     "execution_count": 7,
     "metadata": {},
     "output_type": "execute_result"
    }
   ],
   "source": [
    "df = df_models.join(df_scores, how='inner')\\\n",
    "    .join(df_question_categories, on='question_category_id')\\\n",
    "    .join(df_evaluation_types, on='evaluation_type')\\\n",
    "    .sort_index(ascending=False)\n",
    "\n",
    "\n",
    "df=df[['Category', 'name', 'score','class_strategy',  'loss_function','activation', 'parameter_count','trainable_parameter_count', 'notes']]\n",
    "df.head()\n"
   ]
  },
  {
   "cell_type": "markdown",
   "metadata": {},
   "source": [
    "### Get data from notes:"
   ]
  },
  {
   "cell_type": "code",
   "execution_count": 8,
   "metadata": {},
   "outputs": [],
   "source": [
    "new_columns_data = \\\n",
    "{'post_concat_dense_units': None,\n",
    "'Optimizer': None,\n",
    "# 'loss': None,\n",
    "'activation': None,\n",
    "'prediction ': None,\n",
    "'lstm_units': None,\n",
    "'batch_size': None,\n",
    "'epochs': None,\n",
    "'class weights': False,\n",
    "'Inputs Attention': False}"
   ]
  },
  {
   "cell_type": "code",
   "execution_count": 9,
   "metadata": {},
   "outputs": [
    {
     "name": "stdout",
     "output_type": "stream",
     "text": [
      "----------\n",
      "post_concat_dense_units: (8, 7, 6)\n",
      "Optimizer: RMSprop\n",
      "activation: softmax\n",
      "prediction : answers\n",
      "lstm_units: 128\n",
      "batch_size: 32\n",
      "epochs: 3\n",
      "class weights: False\n",
      "Inputs Attention: False\n"
     ]
    }
   ],
   "source": [
    "def note_to_lines(raw):\n",
    "    n = raw\n",
    "    for c in [';']:\n",
    "        n = n.replace(c, '')\n",
    "    lines = (l.strip() for l in n.split('\\n'))\n",
    "    lines = [l for l in lines if ': ' in l]\n",
    "    return lines\n",
    "\n",
    "\n",
    "raw = df.notes.values[0]\n",
    "lines = note_to_lines(raw)\n",
    "# print('\\n'.join(lines))\n",
    "\n",
    "def get_data_from_lines(lines, col_name):\n",
    "    default_val = new_columns_data[col_name]\n",
    "    relevant_lines = [l for l in lines if col_name in l]\n",
    "    assert len(relevant_lines) <=1\n",
    "    if len(relevant_lines) == 0:\n",
    "        data = default_val\n",
    "    else:\n",
    "        line = relevant_lines[0]\n",
    "        data_str = line.split(': ')[-1]\n",
    "        try:\n",
    "            data = eval(data_str)            \n",
    "        except:\n",
    "            data = data_str\n",
    "        \n",
    "    return data\n",
    "print('-'*10)        \n",
    "for col in new_columns_data:  \n",
    "    data = get_data_from_lines(lines, col)\n",
    "    print(f'{col}: {data}')\n"
   ]
  },
  {
   "cell_type": "code",
   "execution_count": 10,
   "metadata": {},
   "outputs": [
    {
     "name": "stdout",
     "output_type": "stream",
     "text": [
      "post_concat_dense_units: (8, 7, 6)\n",
      "Optimizer: RMSprop\n",
      "activation: softmax\n",
      "prediction : answers\n",
      "lstm_units: 128\n",
      "batch_size: 32\n",
      "epochs: 3\n",
      "class weights: False\n",
      "Inputs Attention: False\n"
     ]
    }
   ],
   "source": [
    "def notes_to_data(notes, col_name):\n",
    "    lines =note_to_lines(notes)\n",
    "    data = get_data_from_lines(lines, col_name)\n",
    "    return data\n",
    "\n",
    "for col in new_columns_data:  \n",
    "    data = notes_to_data(raw, col)\n",
    "    print(f'{col}: {data}')"
   ]
  },
  {
   "cell_type": "code",
   "execution_count": 11,
   "metadata": {},
   "outputs": [],
   "source": [
    "for col in new_columns_data:  \n",
    "    df[col.replace(' ', '_')] = df.notes.apply(lambda notes: notes_to_data(notes, col))    \n"
   ]
  },
  {
   "cell_type": "code",
   "execution_count": 12,
   "metadata": {},
   "outputs": [
    {
     "name": "stdout",
     "output_type": "stream",
     "text": [
      "['Abnormality' 'Modality' 'Organ' 'Plane' 'Abnormality_yes_no']\n",
      "['wbss' 'bleu' 'strict_accuracy']\n",
      "[(8, 7, 6) (8, 7, 6) (8, 7, 6) ... None None None]\n"
     ]
    }
   ],
   "source": [
    "print(df.Category.drop_duplicates().values)\n",
    "print(df.name.drop_duplicates().values)\n",
    "print(df.post_concat_dense_units.values)"
   ]
  },
  {
   "cell_type": "code",
   "execution_count": 13,
   "metadata": {},
   "outputs": [],
   "source": [
    "def dense_layers_to_total(dense_str):\n",
    "    if dense_str is None:\n",
    "        return 8\n",
    "    \n",
    "    try:\n",
    "        data = eval(str(dense_str))\n",
    "    except:\n",
    "        data = 8\n",
    "    \n",
    "    if not isinstance(data, int):\n",
    "        data = sum(data)\n",
    "    \n",
    "    return data\n",
    "        \n",
    "    "
   ]
  },
  {
   "cell_type": "code",
   "execution_count": 14,
   "metadata": {},
   "outputs": [],
   "source": [
    "df['total_dens_units'] = df.post_concat_dense_units.apply(dense_layers_to_total).astype(int)"
   ]
  },
  {
   "cell_type": "markdown",
   "metadata": {},
   "source": [
    "## Plot results"
   ]
  },
  {
   "cell_type": "code",
   "execution_count": 15,
   "metadata": {},
   "outputs": [],
   "source": [
    "cmaps = [c for c in dir(plt.cm) if not c.startswith('_')] \n",
    "try:\n",
    "    i += 1\n",
    "except:\n",
    "    i = 0\n",
    "\n",
    "cmap = cmaps[i]\n",
    "# cmap = \"Blues\"\n",
    "# cmap = plt.cm.jet\n",
    "# cmap ='Accent'\n",
    "cmap = 'Paired'"
   ]
  },
  {
   "cell_type": "code",
   "execution_count": 16,
   "metadata": {},
   "outputs": [
    {
     "data": {
      "text/plain": [
       "Index(['Category', 'name', 'score', 'class_strategy', 'loss_function',\n",
       "       'activation', 'parameter_count', 'trainable_parameter_count', 'notes',\n",
       "       'post_concat_dense_units', 'Optimizer', 'prediction_', 'lstm_units',\n",
       "       'batch_size', 'epochs', 'class_weights', 'Inputs_Attention',\n",
       "       'total_dens_units'],\n",
       "      dtype='object')"
      ]
     },
     "execution_count": 16,
     "metadata": {},
     "output_type": "execute_result"
    }
   ],
   "source": [
    "df.columns"
   ]
  },
  {
   "cell_type": "code",
   "execution_count": 111,
   "metadata": {},
   "outputs": [
    {
     "name": "stdout",
     "output_type": "stream",
     "text": [
      "Index(['Category', 'name', 'score', 'class_strategy', 'loss_function',\n",
      "       'activation', 'parameter_count', 'trainable_parameter_count', 'notes',\n",
      "       'post_concat_dense_units', 'Optimizer', 'prediction_', 'lstm_units',\n",
      "       'batch_size', 'epochs', 'class_weights', 'Inputs_Attention',\n",
      "       'total_dens_units'],\n",
      "      dtype='object')\n"
     ]
    },
    {
     "data": {
      "text/html": [
       "<div>\n",
       "<style scoped>\n",
       "    .dataframe tbody tr th:only-of-type {\n",
       "        vertical-align: middle;\n",
       "    }\n",
       "\n",
       "    .dataframe tbody tr th {\n",
       "        vertical-align: top;\n",
       "    }\n",
       "\n",
       "    .dataframe thead th {\n",
       "        text-align: right;\n",
       "    }\n",
       "</style>\n",
       "<table border=\"1\" class=\"dataframe\">\n",
       "  <thead>\n",
       "    <tr style=\"text-align: right;\">\n",
       "      <th></th>\n",
       "      <th>Category</th>\n",
       "      <th>name</th>\n",
       "      <th>score</th>\n",
       "      <th>class_strategy</th>\n",
       "      <th>loss_function</th>\n",
       "      <th>activation</th>\n",
       "      <th>parameter_count</th>\n",
       "      <th>trainable_parameter_count</th>\n",
       "      <th>notes</th>\n",
       "      <th>post_concat_dense_units</th>\n",
       "      <th>Optimizer</th>\n",
       "      <th>prediction_</th>\n",
       "      <th>lstm_units</th>\n",
       "      <th>batch_size</th>\n",
       "      <th>epochs</th>\n",
       "      <th>class_weights</th>\n",
       "      <th>Inputs_Attention</th>\n",
       "      <th>total_dens_units</th>\n",
       "    </tr>\n",
       "  </thead>\n",
       "  <tbody>\n",
       "    <tr>\n",
       "      <th>98</th>\n",
       "      <td>Abnormality</td>\n",
       "      <td>strict_accuracy</td>\n",
       "      <td>0.000000</td>\n",
       "      <td>words</td>\n",
       "      <td>cosine_proximity</td>\n",
       "      <td>sigmoid</td>\n",
       "      <td>20089817</td>\n",
       "      <td>56203</td>\n",
       "      <td>post_concat_dense_units: (6, 8, 7);\\nOptimizer...</td>\n",
       "      <td>(6, 8, 7)</td>\n",
       "      <td>RMSprop</td>\n",
       "      <td>words</td>\n",
       "      <td>0.0</td>\n",
       "      <td>32.0</td>\n",
       "      <td>NaN</td>\n",
       "      <td>False</td>\n",
       "      <td>False</td>\n",
       "      <td>21</td>\n",
       "    </tr>\n",
       "    <tr>\n",
       "      <th>173</th>\n",
       "      <td>Abnormality</td>\n",
       "      <td>strict_accuracy</td>\n",
       "      <td>0.008386</td>\n",
       "      <td>answers</td>\n",
       "      <td>categorical_crossentropy</td>\n",
       "      <td>softmax</td>\n",
       "      <td>20107949</td>\n",
       "      <td>83297</td>\n",
       "      <td>post_concat_dense_units: (8, 7, 6);\\nOptimizer...</td>\n",
       "      <td>(8, 7, 6)</td>\n",
       "      <td>RMSprop</td>\n",
       "      <td>answers</td>\n",
       "      <td>128.0</td>\n",
       "      <td>32.0</td>\n",
       "      <td>3.0</td>\n",
       "      <td>True</td>\n",
       "      <td>True</td>\n",
       "      <td>21</td>\n",
       "    </tr>\n",
       "    <tr>\n",
       "      <th>103</th>\n",
       "      <td>Abnormality</td>\n",
       "      <td>strict_accuracy</td>\n",
       "      <td>0.000000</td>\n",
       "      <td>words</td>\n",
       "      <td>cosine_proximity</td>\n",
       "      <td>sigmoid</td>\n",
       "      <td>20098970</td>\n",
       "      <td>65352</td>\n",
       "      <td>post_concat_dense_units: (7, 6, 9);\\nOptimizer...</td>\n",
       "      <td>(7, 6, 9)</td>\n",
       "      <td>RMSprop</td>\n",
       "      <td>words</td>\n",
       "      <td>0.0</td>\n",
       "      <td>32.0</td>\n",
       "      <td>NaN</td>\n",
       "      <td>False</td>\n",
       "      <td>False</td>\n",
       "      <td>22</td>\n",
       "    </tr>\n",
       "    <tr>\n",
       "      <th>143</th>\n",
       "      <td>Abnormality</td>\n",
       "      <td>strict_accuracy</td>\n",
       "      <td>0.048000</td>\n",
       "      <td>answers</td>\n",
       "      <td>cosine_proximity</td>\n",
       "      <td>sigmoid</td>\n",
       "      <td>20094904</td>\n",
       "      <td>61286</td>\n",
       "      <td>post_concat_dense_units: (7, 8, 9);\\nOptimizer...</td>\n",
       "      <td>(7, 8, 9)</td>\n",
       "      <td>RMSprop</td>\n",
       "      <td>answers</td>\n",
       "      <td>0.0</td>\n",
       "      <td>32.0</td>\n",
       "      <td>NaN</td>\n",
       "      <td>False</td>\n",
       "      <td>False</td>\n",
       "      <td>24</td>\n",
       "    </tr>\n",
       "    <tr>\n",
       "      <th>202</th>\n",
       "      <td>Abnormality</td>\n",
       "      <td>strict_accuracy</td>\n",
       "      <td>0.012579</td>\n",
       "      <td>answers</td>\n",
       "      <td>categorical_crossentropy</td>\n",
       "      <td>softmax</td>\n",
       "      <td>20111052</td>\n",
       "      <td>86396</td>\n",
       "      <td>post_concat_dense_units: (8,);\\nOptimizer: RMS...</td>\n",
       "      <td>(8,)</td>\n",
       "      <td>RMSprop</td>\n",
       "      <td>answers</td>\n",
       "      <td>128.0</td>\n",
       "      <td>32.0</td>\n",
       "      <td>3.0</td>\n",
       "      <td>False</td>\n",
       "      <td>False</td>\n",
       "      <td>8</td>\n",
       "    </tr>\n",
       "  </tbody>\n",
       "</table>\n",
       "</div>"
      ],
      "text/plain": [
       "        Category             name     score class_strategy  \\\n",
       "98   Abnormality  strict_accuracy  0.000000          words   \n",
       "173  Abnormality  strict_accuracy  0.008386        answers   \n",
       "103  Abnormality  strict_accuracy  0.000000          words   \n",
       "143  Abnormality  strict_accuracy  0.048000        answers   \n",
       "202  Abnormality  strict_accuracy  0.012579        answers   \n",
       "\n",
       "                loss_function activation  parameter_count  \\\n",
       "98           cosine_proximity    sigmoid         20089817   \n",
       "173  categorical_crossentropy    softmax         20107949   \n",
       "103          cosine_proximity    sigmoid         20098970   \n",
       "143          cosine_proximity    sigmoid         20094904   \n",
       "202  categorical_crossentropy    softmax         20111052   \n",
       "\n",
       "     trainable_parameter_count  \\\n",
       "98                       56203   \n",
       "173                      83297   \n",
       "103                      65352   \n",
       "143                      61286   \n",
       "202                      86396   \n",
       "\n",
       "                                                 notes  \\\n",
       "98   post_concat_dense_units: (6, 8, 7);\\nOptimizer...   \n",
       "173  post_concat_dense_units: (8, 7, 6);\\nOptimizer...   \n",
       "103  post_concat_dense_units: (7, 6, 9);\\nOptimizer...   \n",
       "143  post_concat_dense_units: (7, 8, 9);\\nOptimizer...   \n",
       "202  post_concat_dense_units: (8,);\\nOptimizer: RMS...   \n",
       "\n",
       "    post_concat_dense_units Optimizer prediction_  lstm_units  batch_size  \\\n",
       "98                (6, 8, 7)   RMSprop       words         0.0        32.0   \n",
       "173               (8, 7, 6)   RMSprop     answers       128.0        32.0   \n",
       "103               (7, 6, 9)   RMSprop       words         0.0        32.0   \n",
       "143               (7, 8, 9)   RMSprop     answers         0.0        32.0   \n",
       "202                    (8,)   RMSprop     answers       128.0        32.0   \n",
       "\n",
       "     epochs  class_weights  Inputs_Attention  total_dens_units  \n",
       "98      NaN          False             False                21  \n",
       "173     3.0           True              True                21  \n",
       "103     NaN          False             False                22  \n",
       "143     NaN          False             False                24  \n",
       "202     3.0          False             False                 8  "
      ]
     },
     "execution_count": 111,
     "metadata": {},
     "output_type": "execute_result"
    }
   ],
   "source": [
    "category = 'Abnormality'\n",
    "evaluation = 'strict_accuracy'# 'bleu'\n",
    "cdf = df[(df.name==evaluation) & ((df.Category==category) | (category is None))]\n",
    "\n",
    "print(cdf.columns)\n",
    "cdf.sample(5)"
   ]
  },
  {
   "cell_type": "code",
   "execution_count": 203,
   "metadata": {},
   "outputs": [
    {
     "name": "stdout",
     "output_type": "stream",
     "text": [
      "Paired\n",
      "107\n"
     ]
    },
    {
     "data": {
      "text/html": [
       "<div>\n",
       "<style scoped>\n",
       "    .dataframe tbody tr th:only-of-type {\n",
       "        vertical-align: middle;\n",
       "    }\n",
       "\n",
       "    .dataframe tbody tr th {\n",
       "        vertical-align: top;\n",
       "    }\n",
       "\n",
       "    .dataframe thead th {\n",
       "        text-align: right;\n",
       "    }\n",
       "</style>\n",
       "<table border=\"1\" class=\"dataframe\">\n",
       "  <thead>\n",
       "    <tr style=\"text-align: right;\">\n",
       "      <th></th>\n",
       "      <th>notes</th>\n",
       "      <th>score</th>\n",
       "      <th>batch_size</th>\n",
       "      <th>epochs</th>\n",
       "    </tr>\n",
       "  </thead>\n",
       "  <tbody>\n",
       "    <tr>\n",
       "      <th>101</th>\n",
       "      <td>post_concat_dense_units: (6, 9, 8);\\nOptimizer...</td>\n",
       "      <td>0.000000</td>\n",
       "      <td>16.5</td>\n",
       "      <td>NaN</td>\n",
       "    </tr>\n",
       "    <tr>\n",
       "      <th>143</th>\n",
       "      <td>post_concat_dense_units: (7, 8, 9);\\nOptimizer...</td>\n",
       "      <td>0.048000</td>\n",
       "      <td>16.5</td>\n",
       "      <td>NaN</td>\n",
       "    </tr>\n",
       "    <tr>\n",
       "      <th>133</th>\n",
       "      <td>post_concat_dense_units: (9, 8);\\nOptimizer: R...</td>\n",
       "      <td>0.048000</td>\n",
       "      <td>16.5</td>\n",
       "      <td>NaN</td>\n",
       "    </tr>\n",
       "    <tr>\n",
       "      <th>176</th>\n",
       "      <td>post_concat_dense_units: (6, 9);\\nOptimizer: R...</td>\n",
       "      <td>0.000000</td>\n",
       "      <td>16.5</td>\n",
       "      <td>3.0</td>\n",
       "    </tr>\n",
       "    <tr>\n",
       "      <th>173</th>\n",
       "      <td>post_concat_dense_units: (8, 7, 6);\\nOptimizer...</td>\n",
       "      <td>0.008386</td>\n",
       "      <td>16.5</td>\n",
       "      <td>3.0</td>\n",
       "    </tr>\n",
       "  </tbody>\n",
       "</table>\n",
       "</div>"
      ],
      "text/plain": [
       "                                                 notes     score  batch_size  \\\n",
       "101  post_concat_dense_units: (6, 9, 8);\\nOptimizer...  0.000000        16.5   \n",
       "143  post_concat_dense_units: (7, 8, 9);\\nOptimizer...  0.048000        16.5   \n",
       "133  post_concat_dense_units: (9, 8);\\nOptimizer: R...  0.048000        16.5   \n",
       "176  post_concat_dense_units: (6, 9);\\nOptimizer: R...  0.000000        16.5   \n",
       "173  post_concat_dense_units: (8, 7, 6);\\nOptimizer...  0.008386        16.5   \n",
       "\n",
       "     epochs  \n",
       "101     NaN  \n",
       "143     NaN  \n",
       "133     NaN  \n",
       "176     3.0  \n",
       "173     3.0  "
      ]
     },
     "execution_count": 203,
     "metadata": {},
     "output_type": "execute_result"
    }
   ],
   "source": [
    "\n",
    "x_name = 'parameter_count'\n",
    "y_name = 'trainable_parameter_count'\n",
    "\n",
    "\n",
    "x_name = 'prediction_'\n",
    "y_name = 'score'\n",
    "\n",
    "x_name = 'Category'\n",
    "y_name = 'score'\n",
    "\n",
    "\n",
    "x_name = 'epochs'\n",
    "y_name = 'score'\n",
    "\n",
    "\n",
    "sizes_name = 'trainable_parameter_count'\n",
    "sizes_name ='total_dens_units'\n",
    "# sizes_name ='epochs'\n",
    "sizes_name = 'batch_size'\n",
    "\n",
    "\n",
    "\n",
    "columns = list({x_name, y_name, 'notes',sizes_name})\n",
    "df_plot = cdf[columns]\n",
    "\n",
    "# df_plot = df_plot.sort_values(by=sizes_name)\n",
    "df_plot.loc[:,sizes_name] = (1+cdf[sizes_name])/2\n",
    "\n",
    "# df_plot.loc[: , 'batch_size'] = df_plot.batch_size.fillna(32)\n",
    "# df_plot.loc[: , 'epochs'] =df_plot.epochs.fillna(10)\n",
    "\n",
    "print(cmap)\n",
    "print(len(cdf))\n",
    "df_plot.sample(5)"
   ]
  },
  {
   "cell_type": "code",
   "execution_count": 204,
   "metadata": {},
   "outputs": [
    {
     "data": {
      "text/plain": [
       "False"
      ]
     },
     "execution_count": 204,
     "metadata": {},
     "output_type": "execute_result"
    }
   ],
   "source": [
    "is_categorial = df_plot.dtypes[x_name] in (object, bool)\n",
    "is_categorial\n",
    "# df_plot.dtypes"
   ]
  },
  {
   "cell_type": "code",
   "execution_count": 220,
   "metadata": {},
   "outputs": [
    {
     "data": {
      "text/plain": [
       "Text(0.5, 1.0, \"'strict_accuracy' for 'Abnormality' (size=batch_size)\")"
      ]
     },
     "execution_count": 220,
     "metadata": {},
     "output_type": "execute_result"
    }
   ],
   "source": [
    "%matplotlib qt  \n",
    "# wx, gtk, osx, tk #inline\n",
    "sns.set(style=\"white\", color_codes=True)\n",
    "\n",
    "size = cdf[sizes_name].values\n",
    "sizes=(75, 1000) #(min(size), max(size)\n",
    "if is_categorial:\n",
    "    jitter=0.02\n",
    "    ax = sns.stripplot(x=x_name, y=y_name, data=cdf, alpha=.3,sizes=sizes, size=size, jitter=jitter, edgecolor='gray')# size=z,\n",
    "elif True:\n",
    "    s_p2 = size **2\n",
    "    plt.scatter(cdf[x_name], cdf[y_name], s=s_p2, sizes=sizes, c=cdf[x_name], cmap=cmap, alpha=.3, edgecolors=\"grey\", linewidth=2)\n",
    "else:    \n",
    "    ax = sns.scatterplot(x=x_name, y=y_name, data=cdf, hue=y_name,  palette=cmap, alpha=.3, edgecolor='gray')#, size=sizes_name, sizes=sizes)\n",
    "    \n",
    "sns.despine()\n",
    " \n",
    "# Add titles (main and on axis)\n",
    "plt.xlabel(x_name.replace('_', ' '))\n",
    "plt.ylabel(y_name.replace('_', ' '))\n",
    "category_str = category if category else 'All Categories'\n",
    "plt.title(f\"'{evaluation}' for '{category_str}' (size={sizes_name})\", {'fontsize': 18})\n",
    " \n",
    "# plt.show()\n"
   ]
  },
  {
   "cell_type": "code",
   "execution_count": 221,
   "metadata": {},
   "outputs": [
    {
     "data": {
      "image/png": "[encoded data removed]",
      "text/plain": [
       "<Figure size 1440x718 with 1 Axes>"
      ]
     },
     "execution_count": 221,
     "metadata": {},
     "output_type": "execute_result"
    }
   ],
   "source": [
    "fig = plt.gcf()\n",
    "plt.rcParams['figure.figsize'] = [20, 10]\n",
    "fig"
   ]
  }
 ],
 "metadata": {
  "kernelspec": {
   "display_name": "Python 3",
   "language": "python",
   "name": "python3"
  },
  "language_info": {
   "codemirror_mode": {
    "name": "ipython",
    "version": 3
   },
   "file_extension": ".py",
   "mimetype": "text/x-python",
   "name": "python",
   "nbconvert_exporter": "python",
   "pygments_lexer": "ipython3",
   "version": "3.6.7"
  }
 },
 "nbformat": 4,
 "nbformat_minor": 2
}
