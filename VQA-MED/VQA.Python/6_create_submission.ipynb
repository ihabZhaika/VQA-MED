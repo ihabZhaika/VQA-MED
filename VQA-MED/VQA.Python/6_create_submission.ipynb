{
 "cells": [
  {
   "cell_type": "code",
   "execution_count": 22,
   "metadata": {},
   "outputs": [],
   "source": [
    "import os\n",
    "import pandas as pd\n",
    "from tqdm import tqdm\n",
    "from classes.vqa_model_predictor import DefaultVqaModelPredictor\n",
    "from evaluate.VqaMedEvaluatorBase import VqaMedEvaluatorBase\n",
    "from common.utils import VerboseTimer\n",
    "import vqa_logger \n",
    "import logging\n",
    "from pathlib import Path\n",
    "import datetime\n",
    "logger = logging.getLogger(__name__)"
   ]
  },
  {
   "cell_type": "code",
   "execution_count": 23,
   "metadata": {},
   "outputs": [
    {
     "name": "stdout",
     "output_type": "stream",
     "text": [
      "[2019-05-03 10:06:20][classes.vqa_model_predictor][DEBUG] Getting model #185 (post_concat_dense_units: (8, 7, 6);\n",
      "Optimizer: RMSprop\n",
      "loss: cosine_proximity\n",
      "activation: sigmoid\n",
      "prediction vector: words\n",
      "lstm_units: 128\n",
      "batch_size: 32\n",
      "epochs: 4\n",
      "class weights: False\n",
      "Inputs Attention: False\n",
      "\n",
      "\n",
      "model_location = 'C:\\Users\\Public\\Documents\\Data\\2019\\models\\20190430_0104_56_Abnormality_dense_8_7_6_lstm_128_trained\\vqa_model.h5')\n",
      "[2019-05-03 10:06:20][common.utils][DEBUG] Starting 'Loading Model'\n",
      "[2019-05-03 10:06:24][common.utils][DEBUG] Loading Model: 0:00:03.931536\n",
      "[2019-05-03 10:06:24][classes.vqa_model_predictor][WARNING] Expected main model to be with no question category, but got: \"Abnormality\"\n",
      "[2019-05-03 10:06:24][classes.vqa_model_predictor][DEBUG] Getting model #202 (post_concat_dense_units: (8,);\n",
      "Optimizer: RMSprop\n",
      "loss: categorical_crossentropy\n",
      "activation: softmax\n",
      "prediction vector: answers\n",
      "lstm_units: 128\n",
      "batch_size: 32\n",
      "epochs: 3\n",
      "class weights: False\n",
      "Inputs Attention: False\n",
      "For Category: Abnormality\n",
      "\n",
      "model_location = 'C:\\Users\\Public\\Documents\\Data\\2019\\models\\20190502_1743_42_Abnormality_dense_8_lstm_128_trained\\vqa_model.h5')\n",
      "[2019-05-03 10:06:24][common.utils][DEBUG] Starting 'Loading Model'\n",
      "[2019-05-03 10:06:28][common.utils][DEBUG] Loading Model: 0:00:04.100755\n",
      "[2019-05-03 10:06:28][root][DEBUG] For Abnormality, got specialized model (DB: 202, Folder: ModelFolder(folder=\"C:\\\\Users\\\\Public\\\\Documents\\\\Data\\\\2019\\\\models\\\\20190502_1743_42_Abnormality_dense_8_lstm_128_trained\"))\n",
      "[2019-05-03 10:06:28][classes.vqa_model_predictor][DEBUG] Getting model #184 (post_concat_dense_units: [8, 6];\n",
      "Optimizer: RMSprop\n",
      "loss: categorical_crossentropy\n",
      "activation: softmax\n",
      "prediction vector: answers\n",
      "lstm_units: 0\n",
      "batch_size: 32\n",
      "epochs: 10\n",
      "class weights: False\n",
      "Inputs Attention: False\n",
      "For Category: Modality\n",
      "\n",
      "model_location = 'C:\\Users\\Public\\Documents\\Data\\2019\\models\\20190429_0405_41_Modality_dense_8_6_trained\\vqa_model.h5')\n",
      "[2019-05-03 10:06:28][common.utils][DEBUG] Starting 'Loading Model'\n",
      "[2019-05-03 10:06:32][common.utils][DEBUG] Loading Model: 0:00:03.379706\n",
      "[2019-05-03 10:06:32][root][DEBUG] For Modality, got specialized model (DB: 184, Folder: ModelFolder(folder=\"C:\\\\Users\\\\Public\\\\Documents\\\\Data\\\\2019\\\\models\\\\20190429_0405_41_Modality_dense_8_6_trained\"))\n",
      "[2019-05-03 10:06:32][classes.vqa_model_predictor][DEBUG] Getting model #70 (prediction_vector: answers\n",
      " question_category: Organ\n",
      "augmentations: 20 \n",
      "epochs: 10\n",
      "batch size: 64\n",
      "based on model 5)\n",
      "[2019-05-03 10:06:32][common.utils][DEBUG] Starting 'Loading Model'\n",
      "[2019-05-03 10:06:35][common.utils][DEBUG] Loading Model: 0:00:03.610760\n",
      "[2019-05-03 10:06:35][root][DEBUG] For Organ, got specialized model (DB: 70, Folder: ModelFolder(folder=\"C:\\\\Users\\\\Public\\\\Documents\\\\Data\\\\2019\\\\models\\\\20190329_0440_18\"))\n",
      "[2019-05-03 10:06:35][classes.vqa_model_predictor][DEBUG] Getting model #188 (post_concat_dense_units: [8];\n",
      "Optimizer: RMSprop\n",
      "loss: categorical_crossentropy\n",
      "activation: softmax\n",
      "prediction vector: answers\n",
      "lstm_units: 0\n",
      "batch_size: 32\n",
      "epochs: 5\n",
      "class weights: False\n",
      "Inputs Attention: False\n",
      "For Category: Plane\n",
      "\n",
      "model_location = 'C:\\Users\\Public\\Documents\\Data\\2019\\models\\20190430_2147_46_Plane_dense_8_trained\\vqa_model.h5')\n",
      "[2019-05-03 10:06:35][common.utils][DEBUG] Starting 'Loading Model'\n",
      "[2019-05-03 10:06:40][common.utils][DEBUG] Loading Model: 0:00:04.535920\n",
      "[2019-05-03 10:06:40][root][DEBUG] For Plane, got specialized model (DB: 188, Folder: ModelFolder(folder=\"C:\\\\Users\\\\Public\\\\Documents\\\\Data\\\\2019\\\\models\\\\20190430_2147_46_Plane_dense_8_trained\"))\n",
      "[2019-05-03 10:06:40][classes.vqa_model_predictor][DEBUG] Getting model #193 (post_concat_dense_units: [9, 6];\n",
      "Optimizer: RMSprop\n",
      "loss: categorical_crossentropy\n",
      "activation: softmax\n",
      "prediction vector: answers\n",
      "lstm_units: 0\n",
      "batch_size: 32\n",
      "epochs: 2\n",
      "class weights: False\n",
      "Inputs Attention: False\n",
      "For Category: Abnormality_yes_no\n",
      "\n",
      "model_location = 'C:\\Users\\Public\\Documents\\Data\\2019\\models\\20190501_0350_23_Abnormality_yes_no_dense_9_6_trained\\vqa_model.h5')\n",
      "[2019-05-03 10:06:40][common.utils][DEBUG] Starting 'Loading Model'\n",
      "[2019-05-03 10:06:46][common.utils][DEBUG] Loading Model: 0:00:05.906867\n",
      "[2019-05-03 10:06:46][root][DEBUG] For Abnormality_yes_no, got specialized model (DB: 193, Folder: ModelFolder(folder=\"C:\\\\Users\\\\Public\\\\Documents\\\\Data\\\\2019\\\\models\\\\20190501_0350_23_Abnormality_yes_no_dense_9_6_trained\"))\n",
      "[2019-05-03 10:06:46][data_access.api][DEBUG] loading processed data from:\n",
      "C:\\Users\\avitu\\Documents\\GitHub\\VQA-MED\\VQA-MED\\VQA.Python\\data\\model_input.parquet\n",
      "[2019-05-03 10:06:46][data_access.api][DEBUG] loading processed data from:\n",
      "C:\\Users\\avitu\\Documents\\GitHub\\VQA-MED\\VQA-MED\\VQA.Python\\data\\model_input.parquet\n"
     ]
    }
   ],
   "source": [
    "# %%capture\n",
    "# mp = DefaultVqaModelPredictor.get_contender()\n",
    "\n",
    "main_model = 172\n",
    "# specialized_classifiers = {'Abnormality': 172, 'Modality': 157, 'Organ': 160, 'Plane': 159, 'Abnormality_yes_no':178}\n",
    "\n",
    "#with class weights (looks worse):\n",
    "# specialized_classifiers = {'Abnormality': 172, 'Modality': 157, 'Organ': 180, 'Plane': 179, 'Abnormality_yes_no':178} \n",
    "# notes = 'Notes: with class weights (looks worse)'\n",
    "\n",
    "#with class weights (looks worse):\n",
    "specialized_classifiers = {'Abnormality': 172, 'Modality': 184, 'Organ': 183, 'Plane': 159, 'Abnormality_yes_no':178} \n",
    "specialized_classifiers = {'Abnormality': 186, 'Modality': 184, 'Organ': 183, 'Plane': 188, 'Abnormality_yes_no':178} \n",
    "\n",
    "main_model = 185\n",
    "specialized_classifiers = {'Abnormality': 185, 'Modality': 184, 'Organ': 183, 'Plane': 188, 'Abnormality_yes_no':178} \n",
    "notes= 'Words prediction for abnormality - Optimized for BLEU'\n",
    "specialized_classifiers = {'Abnormality': 202, 'Modality': 184, 'Organ': 183, 'Plane': 188, 'Abnormality_yes_no':193} \n",
    "notes=''\n",
    "specialized_classifiers = {'Abnormality': 202, 'Modality': 184, 'Organ': 70, 'Plane': 188, 'Abnormality_yes_no':193} \n",
    "notes=''\n",
    "\n",
    "mp = DefaultVqaModelPredictor(model=main_model, specialized_classifiers=specialized_classifiers)"
   ]
  },
  {
   "cell_type": "code",
   "execution_count": 24,
   "metadata": {},
   "outputs": [
    {
     "data": {
      "text/plain": [
       "VqaModelPredictor(model=185, specialized_classifiers={'Abnormality': 202, 'Modality': 184, 'Organ': 70, 'Plane': 188, 'Abnormality_yes_no': 193})"
      ]
     },
     "execution_count": 24,
     "metadata": {},
     "output_type": "execute_result"
    }
   ],
   "source": [
    "mp"
   ]
  },
  {
   "cell_type": "code",
   "execution_count": 25,
   "metadata": {},
   "outputs": [
    {
     "data": {
      "text/plain": [
       "411"
      ]
     },
     "execution_count": 25,
     "metadata": {},
     "output_type": "execute_result"
    }
   ],
   "source": [
    "dd = mp.df_validation\n",
    "category = 'Abnormality'\n",
    "add = dd[dd.question_category==category].answer.drop_duplicates()\n",
    "len(add)\n",
    "# dd.head()"
   ]
  },
  {
   "cell_type": "code",
   "execution_count": 26,
   "metadata": {},
   "outputs": [
    {
     "data": {
      "text/plain": [
       "'words'"
      ]
     },
     "execution_count": 26,
     "metadata": {},
     "output_type": "execute_result"
    }
   ],
   "source": [
    "mp.model_folder.prediction_data_name"
   ]
  },
  {
   "cell_type": "code",
   "execution_count": 27,
   "metadata": {},
   "outputs": [
    {
     "name": "stdout",
     "output_type": "stream",
     "text": [
      "[2019-05-03 10:06:46][common.utils][DEBUG] Starting 'Predictions for VQA contender test'\n",
      "[2019-05-03 10:06:46][classes.vqa_model_predictor][INFO] For Category \"Abnormality\" using specialized classifier from:\n",
      "ModelFolder(folder=\"C:\\\\Users\\\\Public\\\\Documents\\\\Data\\\\2019\\\\models\\\\20190502_1743_42_Abnormality_dense_8_lstm_128_trained\")\n",
      "[2019-05-03 10:06:46][classes.vqa_model_predictor][DEBUG] Classifying: \"Abnormality\"\n",
      "[2019-05-03 10:06:46][common.utils][DEBUG] Starting 'Raw model prediction'\n",
      "[2019-05-03 10:07:01][common.utils][DEBUG] Raw model prediction: 0:00:14.699277\n"
     ]
    },
    {
     "name": "stderr",
     "output_type": "stream",
     "text": [
      "Prediction: [458, 509, 622, 904]; probabilities: [0.05614873, 0.04885: 100%|███████████████████████████████████████████████████████████████████████████████████████████████████████████████████████████████| 114/114 [00:00<00:00, 172.93it/s]\n"
     ]
    },
    {
     "name": "stdout",
     "output_type": "stream",
     "text": [
      "[2019-05-03 10:07:02][classes.vqa_model_predictor][INFO] For Category \"Modality\" using specialized classifier from:\n",
      "ModelFolder(folder=\"C:\\\\Users\\\\Public\\\\Documents\\\\Data\\\\2019\\\\models\\\\20190429_0405_41_Modality_dense_8_6_trained\")\n",
      "[2019-05-03 10:07:02][classes.vqa_model_predictor][DEBUG] Classifying: \"Modality\"\n",
      "[2019-05-03 10:07:03][common.utils][DEBUG] Starting 'Raw model prediction'\n",
      "[2019-05-03 10:07:05][common.utils][DEBUG] Raw model prediction: 0:00:02.346174\n"
     ]
    },
    {
     "name": "stderr",
     "output_type": "stream",
     "text": [
      "Prediction: [44]; probabilities: [0.9917121]: 100%|████████████████████████████████████████████████████████████████████████████████████████████████████████████████████████████████████████████████████████| 125/125 [00:00<00:00, 241.47it/s]\n"
     ]
    },
    {
     "name": "stdout",
     "output_type": "stream",
     "text": [
      "[2019-05-03 10:07:05][classes.vqa_model_predictor][INFO] For Category \"Organ\" using specialized classifier from:\n",
      "ModelFolder(folder=\"C:\\\\Users\\\\Public\\\\Documents\\\\Data\\\\2019\\\\models\\\\20190329_0440_18\")\n",
      "[2019-05-03 10:07:05][classes.vqa_model_predictor][DEBUG] Classifying: \"Organ\"\n",
      "[2019-05-03 10:07:06][common.utils][DEBUG] Starting 'Raw model prediction'\n",
      "[2019-05-03 10:07:08][common.utils][DEBUG] Raw model prediction: 0:00:02.158480\n"
     ]
    },
    {
     "name": "stderr",
     "output_type": "stream",
     "text": [
      "Prediction: [3]; probabilities: [0.23810466]: 100%|████████████████████████████████████████████████████████████████████████████████████████████████████████████████████████████████████████████████████████| 126/126 [00:00<00:00, 253.69it/s]\n"
     ]
    },
    {
     "name": "stdout",
     "output_type": "stream",
     "text": [
      "[2019-05-03 10:07:09][classes.vqa_model_predictor][INFO] For Category \"Plane\" using specialized classifier from:\n",
      "ModelFolder(folder=\"C:\\\\Users\\\\Public\\\\Documents\\\\Data\\\\2019\\\\models\\\\20190430_2147_46_Plane_dense_8_trained\")\n",
      "[2019-05-03 10:07:09][classes.vqa_model_predictor][DEBUG] Classifying: \"Plane\"\n",
      "[2019-05-03 10:07:09][common.utils][DEBUG] Starting 'Raw model prediction'\n",
      "[2019-05-03 10:07:11][common.utils][DEBUG] Raw model prediction: 0:00:02.088771\n"
     ]
    },
    {
     "name": "stderr",
     "output_type": "stream",
     "text": [
      "Prediction: [0]; probabilities: [0.18867284]: 100%|████████████████████████████████████████████████████████████████████████████████████████████████████████████████████████████████████████████████████████| 125/125 [00:00<00:00, 269.55it/s]\n"
     ]
    },
    {
     "name": "stdout",
     "output_type": "stream",
     "text": [
      "[2019-05-03 10:07:12][classes.vqa_model_predictor][INFO] For Category \"Abnormality_yes_no\" using specialized classifier from:\n",
      "ModelFolder(folder=\"C:\\\\Users\\\\Public\\\\Documents\\\\Data\\\\2019\\\\models\\\\20190501_0350_23_Abnormality_yes_no_dense_9_6_trained\")\n",
      "[2019-05-03 10:07:12][classes.vqa_model_predictor][DEBUG] Classifying: \"Abnormality_yes_no\"\n",
      "[2019-05-03 10:07:12][common.utils][DEBUG] Starting 'Raw model prediction'\n",
      "[2019-05-03 10:07:12][common.utils][DEBUG] Raw model prediction: 0:00:00.761217\n"
     ]
    },
    {
     "name": "stderr",
     "output_type": "stream",
     "text": [
      "Prediction: [0]; probabilities: [0.74951106]: 100%|██████████████████████████████████████████████████████████████████████████████████████████████████████████████████████████████████████████████████████████| 10/10 [00:00<00:00, 286.47it/s]\n"
     ]
    },
    {
     "name": "stdout",
     "output_type": "stream",
     "text": [
      "[2019-05-03 10:07:13][common.utils][DEBUG] Predictions for VQA contender test: 0:00:26.737184\n",
      "[2019-05-03 10:07:13][common.utils][DEBUG] Starting 'Predictions for VQA contender validation'\n",
      "[2019-05-03 10:07:13][classes.vqa_model_predictor][INFO] For Category \"Abnormality\" using specialized classifier from:\n",
      "ModelFolder(folder=\"C:\\\\Users\\\\Public\\\\Documents\\\\Data\\\\2019\\\\models\\\\20190502_1743_42_Abnormality_dense_8_lstm_128_trained\")\n",
      "[2019-05-03 10:07:13][classes.vqa_model_predictor][DEBUG] Classifying: \"Abnormality\"\n",
      "[2019-05-03 10:07:14][common.utils][DEBUG] Starting 'Raw model prediction'\n",
      "[2019-05-03 10:08:08][common.utils][DEBUG] Raw model prediction: 0:00:54.687949\n"
     ]
    },
    {
     "name": "stderr",
     "output_type": "stream",
     "text": [
      "Prediction: [441, 521, 1463, 157; probabilities: [0.025094261, 0.0272: 100%|███████████████████████████████████████████████████████████████████████████████████████████████████████████████████████████████| 477/477 [00:02<00:00, 233.88it/s]\n"
     ]
    },
    {
     "name": "stdout",
     "output_type": "stream",
     "text": [
      "[2019-05-03 10:08:12][classes.vqa_model_predictor][INFO] For Category \"Modality\" using specialized classifier from:\n",
      "ModelFolder(folder=\"C:\\\\Users\\\\Public\\\\Documents\\\\Data\\\\2019\\\\models\\\\20190429_0405_41_Modality_dense_8_6_trained\")\n",
      "[2019-05-03 10:08:12][classes.vqa_model_predictor][DEBUG] Classifying: \"Modality\"\n",
      "[2019-05-03 10:08:13][common.utils][DEBUG] Starting 'Raw model prediction'\n",
      "[2019-05-03 10:08:19][common.utils][DEBUG] Raw model prediction: 0:00:05.987191\n"
     ]
    },
    {
     "name": "stderr",
     "output_type": "stream",
     "text": [
      "Prediction: [33]; probabilities: [0.82611775]: 100%|███████████████████████████████████████████████████████████████████████████████████████████████████████████████████████████████████████████████████████| 500/500 [00:02<00:00, 235.98it/s]\n"
     ]
    },
    {
     "name": "stdout",
     "output_type": "stream",
     "text": [
      "[2019-05-03 10:08:21][classes.vqa_model_predictor][INFO] For Category \"Organ\" using specialized classifier from:\n",
      "ModelFolder(folder=\"C:\\\\Users\\\\Public\\\\Documents\\\\Data\\\\2019\\\\models\\\\20190329_0440_18\")\n",
      "[2019-05-03 10:08:21][classes.vqa_model_predictor][DEBUG] Classifying: \"Organ\"\n",
      "[2019-05-03 10:08:22][common.utils][DEBUG] Starting 'Raw model prediction'\n",
      "[2019-05-03 10:08:28][common.utils][DEBUG] Raw model prediction: 0:00:05.988670\n"
     ]
    },
    {
     "name": "stderr",
     "output_type": "stream",
     "text": [
      "Prediction: [8]; probabilities: [0.29317495]: 100%|████████████████████████████████████████████████████████████████████████████████████████████████████████████████████████████████████████████████████████| 500/500 [00:02<00:00, 233.51it/s]\n"
     ]
    },
    {
     "name": "stdout",
     "output_type": "stream",
     "text": [
      "[2019-05-03 10:08:31][classes.vqa_model_predictor][INFO] For Category \"Plane\" using specialized classifier from:\n",
      "ModelFolder(folder=\"C:\\\\Users\\\\Public\\\\Documents\\\\Data\\\\2019\\\\models\\\\20190430_2147_46_Plane_dense_8_trained\")\n",
      "[2019-05-03 10:08:31][classes.vqa_model_predictor][DEBUG] Classifying: \"Plane\"\n",
      "[2019-05-03 10:08:32][common.utils][DEBUG] Starting 'Raw model prediction'\n",
      "[2019-05-03 10:08:38][common.utils][DEBUG] Raw model prediction: 0:00:05.961328\n"
     ]
    },
    {
     "name": "stderr",
     "output_type": "stream",
     "text": [
      "Prediction: [14]; probabilities: [0.9491535]: 100%|████████████████████████████████████████████████████████████████████████████████████████████████████████████████████████████████████████████████████████| 500/500 [00:02<00:00, 229.29it/s]\n"
     ]
    },
    {
     "name": "stdout",
     "output_type": "stream",
     "text": [
      "[2019-05-03 10:08:40][classes.vqa_model_predictor][INFO] For Category \"Abnormality_yes_no\" using specialized classifier from:\n",
      "ModelFolder(folder=\"C:\\\\Users\\\\Public\\\\Documents\\\\Data\\\\2019\\\\models\\\\20190501_0350_23_Abnormality_yes_no_dense_9_6_trained\")\n",
      "[2019-05-03 10:08:40][classes.vqa_model_predictor][DEBUG] Classifying: \"Abnormality_yes_no\"\n",
      "[2019-05-03 10:08:40][common.utils][DEBUG] Starting 'Raw model prediction'\n",
      "[2019-05-03 10:08:40][common.utils][DEBUG] Raw model prediction: 0:00:00.314661\n"
     ]
    },
    {
     "name": "stderr",
     "output_type": "stream",
     "text": [
      "Prediction: [0]; probabilities: [0.9930084]: 100%|███████████████████████████████████████████████████████████████████████████████████████████████████████████████████████████████████████████████████████████| 23/23 [00:00<00:00, 284.68it/s]\n"
     ]
    },
    {
     "name": "stdout",
     "output_type": "stream",
     "text": [
      "[2019-05-03 10:08:41][common.utils][DEBUG] Predictions for VQA contender validation: 0:01:28.012773\n"
     ]
    },
    {
     "data": {
      "text/html": [
       "<div>\n",
       "<style scoped>\n",
       "    .dataframe tbody tr th:only-of-type {\n",
       "        vertical-align: middle;\n",
       "    }\n",
       "\n",
       "    .dataframe tbody tr th {\n",
       "        vertical-align: top;\n",
       "    }\n",
       "\n",
       "    .dataframe thead th {\n",
       "        text-align: right;\n",
       "    }\n",
       "</style>\n",
       "<table border=\"1\" class=\"dataframe\">\n",
       "  <thead>\n",
       "    <tr style=\"text-align: right;\">\n",
       "      <th></th>\n",
       "      <th>image_name</th>\n",
       "      <th>question</th>\n",
       "      <th>answer</th>\n",
       "      <th>prediction</th>\n",
       "      <th>probabilities</th>\n",
       "      <th>path</th>\n",
       "    </tr>\n",
       "    <tr>\n",
       "      <th>index</th>\n",
       "      <th></th>\n",
       "      <th></th>\n",
       "      <th></th>\n",
       "      <th></th>\n",
       "      <th></th>\n",
       "      <th></th>\n",
       "    </tr>\n",
       "  </thead>\n",
       "  <tbody>\n",
       "    <tr>\n",
       "      <th>12792</th>\n",
       "      <td>synpic54733.jpg</td>\n",
       "      <td>what imaging modality was used to take this im...</td>\n",
       "      <td>ct with iv contrast</td>\n",
       "      <td>ct with iv contrast</td>\n",
       "      <td>[(0.857)]</td>\n",
       "      <td>C:\\Users\\Public\\Documents\\Data\\2019\\validation...</td>\n",
       "    </tr>\n",
       "    <tr>\n",
       "      <th>12793</th>\n",
       "      <td>synpic25647.jpg</td>\n",
       "      <td>what kind of scan is this?</td>\n",
       "      <td>xr - plain film</td>\n",
       "      <td>xr plain film</td>\n",
       "      <td>[(1.000)]</td>\n",
       "      <td>C:\\Users\\Public\\Documents\\Data\\2019\\validation...</td>\n",
       "    </tr>\n",
       "    <tr>\n",
       "      <th>12794</th>\n",
       "      <td>synpic35681.jpg</td>\n",
       "      <td>was the mri taken with contrast?</td>\n",
       "      <td>no</td>\n",
       "      <td>no</td>\n",
       "      <td>[(0.657)]</td>\n",
       "      <td>C:\\Users\\Public\\Documents\\Data\\2019\\validation...</td>\n",
       "    </tr>\n",
       "    <tr>\n",
       "      <th>12795</th>\n",
       "      <td>synpic39641.jpg</td>\n",
       "      <td>is this a t1 weighted, t2 weighted, or flair i...</td>\n",
       "      <td>t2</td>\n",
       "      <td>t2</td>\n",
       "      <td>[(0.875)]</td>\n",
       "      <td>C:\\Users\\Public\\Documents\\Data\\2019\\validation...</td>\n",
       "    </tr>\n",
       "    <tr>\n",
       "      <th>12796</th>\n",
       "      <td>synpic35693.jpg</td>\n",
       "      <td>is this a noncontrast mri?</td>\n",
       "      <td>yes</td>\n",
       "      <td>yes</td>\n",
       "      <td>[(0.562)]</td>\n",
       "      <td>C:\\Users\\Public\\Documents\\Data\\2019\\validation...</td>\n",
       "    </tr>\n",
       "  </tbody>\n",
       "</table>\n",
       "</div>"
      ],
      "text/plain": [
       "            image_name                                           question  \\\n",
       "index                                                                       \n",
       "12792  synpic54733.jpg  what imaging modality was used to take this im...   \n",
       "12793  synpic25647.jpg                         what kind of scan is this?   \n",
       "12794  synpic35681.jpg                   was the mri taken with contrast?   \n",
       "12795  synpic39641.jpg  is this a t1 weighted, t2 weighted, or flair i...   \n",
       "12796  synpic35693.jpg                         is this a noncontrast mri?   \n",
       "\n",
       "                    answer           prediction probabilities  \\\n",
       "index                                                           \n",
       "12792  ct with iv contrast  ct with iv contrast     [(0.857)]   \n",
       "12793      xr - plain film        xr plain film     [(1.000)]   \n",
       "12794                   no                   no     [(0.657)]   \n",
       "12795                   t2                   t2     [(0.875)]   \n",
       "12796                  yes                  yes     [(0.562)]   \n",
       "\n",
       "                                                    path  \n",
       "index                                                     \n",
       "12792  C:\\Users\\Public\\Documents\\Data\\2019\\validation...  \n",
       "12793  C:\\Users\\Public\\Documents\\Data\\2019\\validation...  \n",
       "12794  C:\\Users\\Public\\Documents\\Data\\2019\\validation...  \n",
       "12795  C:\\Users\\Public\\Documents\\Data\\2019\\validation...  \n",
       "12796  C:\\Users\\Public\\Documents\\Data\\2019\\validation...  "
      ]
     },
     "execution_count": 27,
     "metadata": {},
     "output_type": "execute_result"
    }
   ],
   "source": [
    "# %%capture\n",
    "datasets = {'test':mp.df_test, 'validation':mp.df_validation}\n",
    "df_name_to_predict = 'test'\n",
    "\n",
    "\n",
    "predictions = {}\n",
    "\n",
    "for name, df in datasets.items():\n",
    "    with VerboseTimer(f\"Predictions for VQA contender {name}\"):\n",
    "        df_predictions = mp.predict(df)\n",
    "        predictions[name] = df_predictions\n",
    "\n",
    "\n",
    "\n",
    "predictions['validation'][:5]"
   ]
  },
  {
   "cell_type": "code",
   "execution_count": 28,
   "metadata": {},
   "outputs": [],
   "source": [
    "outputs = {}\n",
    "for name, df_predictions in predictions.items():\n",
    "    curr_predictions = df_predictions.prediction.values\n",
    "    df_predicted = datasets[name]\n",
    "    df_output = df_predicted.copy()\n",
    "    df_output['image_id'] = df_output.path.apply(lambda p: p.rsplit(os.sep)[-1].rsplit('.', 1)[0])\n",
    "    df_output['prediction'] = curr_predictions\n",
    "\n",
    "    columns_to_remove = ['path',  'answer_embedding', 'question_embedding', 'group', 'diagnosis', 'processed_answer']\n",
    "    for col in columns_to_remove:\n",
    "        del df_output[col]\n",
    "\n",
    "    sort_columns = sorted(df_output.columns, key=lambda c: c not in ['question', 'prediction', 'answer'])\n",
    "    df_output = df_output[sort_columns]    \n",
    "    outputs[name] = df_output"
   ]
  },
  {
   "cell_type": "code",
   "execution_count": 29,
   "metadata": {},
   "outputs": [],
   "source": [
    "df_output_test = outputs['test']\n",
    "df_output_validation = outputs['validation']"
   ]
  },
  {
   "cell_type": "code",
   "execution_count": 30,
   "metadata": {},
   "outputs": [
    {
     "data": {
      "text/html": [
       "<div>\n",
       "<style scoped>\n",
       "    .dataframe tbody tr th:only-of-type {\n",
       "        vertical-align: middle;\n",
       "    }\n",
       "\n",
       "    .dataframe tbody tr th {\n",
       "        vertical-align: top;\n",
       "    }\n",
       "\n",
       "    .dataframe thead th {\n",
       "        text-align: right;\n",
       "    }\n",
       "</style>\n",
       "<table border=\"1\" class=\"dataframe\">\n",
       "  <thead>\n",
       "    <tr style=\"text-align: right;\">\n",
       "      <th></th>\n",
       "      <th>question</th>\n",
       "      <th>answer</th>\n",
       "      <th>prediction</th>\n",
       "      <th>image_name</th>\n",
       "      <th>processed_question</th>\n",
       "      <th>question_category</th>\n",
       "      <th>image_id</th>\n",
       "    </tr>\n",
       "  </thead>\n",
       "  <tbody>\n",
       "    <tr>\n",
       "      <th>14788</th>\n",
       "      <td>what is abnormal in the x-ray?</td>\n",
       "      <td>discoid meniscus</td>\n",
       "      <td>radial head fracture</td>\n",
       "      <td>synpic60458.jpg</td>\n",
       "      <td>what is abnormal in the ray</td>\n",
       "      <td>Abnormality</td>\n",
       "      <td>synpic60458</td>\n",
       "    </tr>\n",
       "    <tr>\n",
       "      <th>14163</th>\n",
       "      <td>what organ system is pictured here?</td>\n",
       "      <td>skull and contents</td>\n",
       "      <td>skull and contents</td>\n",
       "      <td>synpic22755.jpg</td>\n",
       "      <td>what organ system is pictured here</td>\n",
       "      <td>Organ</td>\n",
       "      <td>synpic22755</td>\n",
       "    </tr>\n",
       "    <tr>\n",
       "      <th>14253</th>\n",
       "      <td>which organ is captured by this mri?</td>\n",
       "      <td>skull and contents</td>\n",
       "      <td>skull and contents</td>\n",
       "      <td>synpic34552.jpg</td>\n",
       "      <td>which organ is captured by this mri</td>\n",
       "      <td>Organ</td>\n",
       "      <td>synpic34552</td>\n",
       "    </tr>\n",
       "    <tr>\n",
       "      <th>13968</th>\n",
       "      <td>what organ system is shown in the image?</td>\n",
       "      <td>vascular and lymphatic</td>\n",
       "      <td>gastrointestinal</td>\n",
       "      <td>synpic25382.jpg</td>\n",
       "      <td>what organ system is shown in the image</td>\n",
       "      <td>Organ</td>\n",
       "      <td>synpic25382</td>\n",
       "    </tr>\n",
       "    <tr>\n",
       "      <th>14339</th>\n",
       "      <td>what abnormality is seen in the image?</td>\n",
       "      <td>renal disease in systemic lupus erythematosus ...</td>\n",
       "      <td>hypertrophic pyloric stenosis</td>\n",
       "      <td>synpic100295.jpg</td>\n",
       "      <td>what abnormality is seen in the image</td>\n",
       "      <td>Abnormality</td>\n",
       "      <td>synpic100295</td>\n",
       "    </tr>\n",
       "    <tr>\n",
       "      <th>14276</th>\n",
       "      <td>what organ system is visualized?</td>\n",
       "      <td>musculoskeletal</td>\n",
       "      <td>musculoskeletal</td>\n",
       "      <td>synpic47178.jpg</td>\n",
       "      <td>what organ system is visualized</td>\n",
       "      <td>Organ</td>\n",
       "      <td>synpic47178</td>\n",
       "    </tr>\n",
       "    <tr>\n",
       "      <th>13250</th>\n",
       "      <td>is this a t2 weighted image?</td>\n",
       "      <td>no</td>\n",
       "      <td>no</td>\n",
       "      <td>synpic17228.jpg</td>\n",
       "      <td>is this t2 weighted image</td>\n",
       "      <td>Modality</td>\n",
       "      <td>synpic17228</td>\n",
       "    </tr>\n",
       "    <tr>\n",
       "      <th>13083</th>\n",
       "      <td>what imaging modality was used?</td>\n",
       "      <td>us - ultrasound</td>\n",
       "      <td>us ultrasound</td>\n",
       "      <td>synpic25374.jpg</td>\n",
       "      <td>what imaging modality was used</td>\n",
       "      <td>Modality</td>\n",
       "      <td>synpic25374</td>\n",
       "    </tr>\n",
       "    <tr>\n",
       "      <th>13503</th>\n",
       "      <td>what image plane is this?</td>\n",
       "      <td>oblique</td>\n",
       "      <td>sagittal</td>\n",
       "      <td>synpic100545.jpg</td>\n",
       "      <td>what image plane is this</td>\n",
       "      <td>Plane</td>\n",
       "      <td>synpic100545</td>\n",
       "    </tr>\n",
       "    <tr>\n",
       "      <th>14154</th>\n",
       "      <td>which organ system is imaged?</td>\n",
       "      <td>skull and contents</td>\n",
       "      <td>skull and contents</td>\n",
       "      <td>synpic38876.jpg</td>\n",
       "      <td>which organ system is imaged</td>\n",
       "      <td>Organ</td>\n",
       "      <td>synpic38876</td>\n",
       "    </tr>\n",
       "  </tbody>\n",
       "</table>\n",
       "</div>"
      ],
      "text/plain": [
       "                                       question  \\\n",
       "14788            what is abnormal in the x-ray?   \n",
       "14163       what organ system is pictured here?   \n",
       "14253      which organ is captured by this mri?   \n",
       "13968  what organ system is shown in the image?   \n",
       "14339    what abnormality is seen in the image?   \n",
       "14276          what organ system is visualized?   \n",
       "13250              is this a t2 weighted image?   \n",
       "13083           what imaging modality was used?   \n",
       "13503                 what image plane is this?   \n",
       "14154             which organ system is imaged?   \n",
       "\n",
       "                                                  answer  \\\n",
       "14788                                   discoid meniscus   \n",
       "14163                                 skull and contents   \n",
       "14253                                 skull and contents   \n",
       "13968                             vascular and lymphatic   \n",
       "14339  renal disease in systemic lupus erythematosus ...   \n",
       "14276                                    musculoskeletal   \n",
       "13250                                                 no   \n",
       "13083                                    us - ultrasound   \n",
       "13503                                            oblique   \n",
       "14154                                 skull and contents   \n",
       "\n",
       "                          prediction        image_name  \\\n",
       "14788           radial head fracture   synpic60458.jpg   \n",
       "14163             skull and contents   synpic22755.jpg   \n",
       "14253             skull and contents   synpic34552.jpg   \n",
       "13968               gastrointestinal   synpic25382.jpg   \n",
       "14339  hypertrophic pyloric stenosis  synpic100295.jpg   \n",
       "14276                musculoskeletal   synpic47178.jpg   \n",
       "13250                             no   synpic17228.jpg   \n",
       "13083                  us ultrasound   synpic25374.jpg   \n",
       "13503                       sagittal  synpic100545.jpg   \n",
       "14154             skull and contents   synpic38876.jpg   \n",
       "\n",
       "                            processed_question question_category      image_id  \n",
       "14788              what is abnormal in the ray       Abnormality   synpic60458  \n",
       "14163       what organ system is pictured here             Organ   synpic22755  \n",
       "14253      which organ is captured by this mri             Organ   synpic34552  \n",
       "13968  what organ system is shown in the image             Organ   synpic25382  \n",
       "14339    what abnormality is seen in the image       Abnormality  synpic100295  \n",
       "14276          what organ system is visualized             Organ   synpic47178  \n",
       "13250                is this t2 weighted image          Modality   synpic17228  \n",
       "13083           what imaging modality was used          Modality   synpic25374  \n",
       "13503                 what image plane is this             Plane  synpic100545  \n",
       "14154             which organ system is imaged             Organ   synpic38876  "
      ]
     },
     "execution_count": 30,
     "metadata": {},
     "output_type": "execute_result"
    }
   ],
   "source": [
    "display = df_output_validation[df_output_validation.question_category == 'Abnormality']\n",
    "display = df_output_validation\n",
    "display.sample(10)"
   ]
  },
  {
   "cell_type": "code",
   "execution_count": 31,
   "metadata": {},
   "outputs": [
    {
     "data": {
      "text/plain": [
       "VqaModelPredictor(model=185, specialized_classifiers={'Abnormality': 202, 'Modality': 184, 'Organ': 70, 'Plane': 188, 'Abnormality_yes_no': 193})"
      ]
     },
     "execution_count": 31,
     "metadata": {},
     "output_type": "execute_result"
    }
   ],
   "source": [
    "mp"
   ]
  },
  {
   "cell_type": "code",
   "execution_count": 32,
   "metadata": {},
   "outputs": [
    {
     "data": {
      "text/plain": [
       "(500, 500)"
      ]
     },
     "execution_count": 32,
     "metadata": {},
     "output_type": "execute_result"
    }
   ],
   "source": [
    "len(df_output_test), len(df_output_test.image_id.drop_duplicates())"
   ]
  },
  {
   "cell_type": "code",
   "execution_count": 33,
   "metadata": {},
   "outputs": [],
   "source": [
    "def get_str(df):\n",
    "    strs = []\n",
    "    debug_output_rows = df.apply(lambda row: row.image_id + '|'+ row.question + '|'+ row.prediction, axis=1 )\n",
    "    output_rows = df.apply(lambda row: row.image_id + '|'+ row.prediction + '|'+row.answer, axis=1 )\n",
    "    output_rows = output_rows.str.strip('|')\n",
    "    rows = output_rows.values\n",
    "    res = '\\n'.join(rows)\n",
    "    return res\n",
    "\n",
    "res = get_str(df_output_test)\n",
    "res_val = get_str(df_output_validation)\n"
   ]
  },
  {
   "cell_type": "code",
   "execution_count": 34,
   "metadata": {},
   "outputs": [
    {
     "name": "stdout",
     "output_type": "stream",
     "text": [
      "synpic54082|cta ct angiography\n",
      "synpic48556|no\n",
      "synpic50696|iv\n",
      "synpic37194|us doppler ultrasound\n",
      "synpic31308|an angiogram\n",
      "synpic24739|t2\n",
      "synpic32365|yes\n",
      "synpic47936|iv\n",
      "synpic29792|yes\n",
      "synpic43561|no\n",
      "syn\n"
     ]
    }
   ],
   "source": [
    "print(res[:200])"
   ]
  },
  {
   "cell_type": "markdown",
   "metadata": {},
   "source": [
    "### Get evaluations per category:"
   ]
  },
  {
   "cell_type": "code",
   "execution_count": 35,
   "metadata": {},
   "outputs": [
    {
     "name": "stderr",
     "output_type": "stream",
     "text": [
      "evaluating 500 for Plane items: 100%|███████████████████████████████████████████████████████████████████████████████████████████████████████████████████████████████████████████████████████████████████████████| 5/5 [00:06<00:00,  2.11s/it]\n"
     ]
    }
   ],
   "source": [
    "evaluations = {}\n",
    "pbar = tqdm(df_output_validation.groupby('question_category'))\n",
    "for question_category, df in pbar:        \n",
    "    pbar.set_description(f'evaluating {len(df)} for {question_category} items')\n",
    "    curr_predictions = df.prediction.values\n",
    "    curr_ground_truth = df.answer.values\n",
    "    curr_evaluations = VqaMedEvaluatorBase.get_all_evaluation(predictions=curr_predictions, ground_truth=curr_ground_truth)\n",
    "    evaluations[question_category] = curr_evaluations    \n",
    "\n",
    "   \n"
   ]
  },
  {
   "cell_type": "markdown",
   "metadata": {},
   "source": [
    "### Get Total Evaluation:"
   ]
  },
  {
   "cell_type": "code",
   "execution_count": 36,
   "metadata": {},
   "outputs": [],
   "source": [
    "total_evaluations = VqaMedEvaluatorBase.get_all_evaluation(predictions=df_output_validation.prediction.values, ground_truth=df_output_validation.answer.values)    \n",
    "evaluations['Total'] = total_evaluations"
   ]
  },
  {
   "cell_type": "code",
   "execution_count": 37,
   "metadata": {},
   "outputs": [
    {
     "data": {
      "text/html": [
       "<div>\n",
       "<style scoped>\n",
       "    .dataframe tbody tr th:only-of-type {\n",
       "        vertical-align: middle;\n",
       "    }\n",
       "\n",
       "    .dataframe tbody tr th {\n",
       "        vertical-align: top;\n",
       "    }\n",
       "\n",
       "    .dataframe thead th {\n",
       "        text-align: right;\n",
       "    }\n",
       "</style>\n",
       "<table border=\"1\" class=\"dataframe\">\n",
       "  <thead>\n",
       "    <tr style=\"text-align: right;\">\n",
       "      <th></th>\n",
       "      <th>bleu</th>\n",
       "      <th>strict_accuracy</th>\n",
       "      <th>wbss</th>\n",
       "    </tr>\n",
       "  </thead>\n",
       "  <tbody>\n",
       "    <tr>\n",
       "      <th>Abnormality</th>\n",
       "      <td>0.055031</td>\n",
       "      <td>0.027254</td>\n",
       "      <td>0.102724</td>\n",
       "    </tr>\n",
       "    <tr>\n",
       "      <th>Organ</th>\n",
       "      <td>0.708409</td>\n",
       "      <td>0.700000</td>\n",
       "      <td>0.699596</td>\n",
       "    </tr>\n",
       "    <tr>\n",
       "      <th>Modality</th>\n",
       "      <td>0.750807</td>\n",
       "      <td>0.712000</td>\n",
       "      <td>0.702513</td>\n",
       "    </tr>\n",
       "    <tr>\n",
       "      <th>Plane</th>\n",
       "      <td>0.740000</td>\n",
       "      <td>0.740000</td>\n",
       "      <td>0.743488</td>\n",
       "    </tr>\n",
       "    <tr>\n",
       "      <th>Abnormality_yes_no</th>\n",
       "      <td>0.826087</td>\n",
       "      <td>0.826087</td>\n",
       "      <td>0.834267</td>\n",
       "    </tr>\n",
       "    <tr>\n",
       "      <th>Total</th>\n",
       "      <td>0.572429</td>\n",
       "      <td>0.554000</td>\n",
       "      <td>0.570493</td>\n",
       "    </tr>\n",
       "  </tbody>\n",
       "</table>\n",
       "</div>"
      ],
      "text/plain": [
       "                        bleu  strict_accuracy      wbss\n",
       "Abnormality         0.055031         0.027254  0.102724\n",
       "Organ               0.708409         0.700000  0.699596\n",
       "Modality            0.750807         0.712000  0.702513\n",
       "Plane               0.740000         0.740000  0.743488\n",
       "Abnormality_yes_no  0.826087         0.826087  0.834267\n",
       "Total               0.572429         0.554000  0.570493"
      ]
     },
     "execution_count": 37,
     "metadata": {},
     "output_type": "execute_result"
    }
   ],
   "source": [
    "evaluations\n",
    "df_evaluations = pd.DataFrame(evaluations).T#.sort_values(by=('bleu'))\n",
    "df_evaluations['sort'] = df_evaluations.index == 'Total'\n",
    "df_evaluations = df_evaluations.sort_values(by = ['sort', 'wbss'])\n",
    "del df_evaluations['sort']\n",
    "df_evaluations"
   ]
  },
  {
   "cell_type": "code",
   "execution_count": 38,
   "metadata": {},
   "outputs": [
    {
     "name": "stdout",
     "output_type": "stream",
     "text": [
      "\n",
      "==Model==\n",
      "VqaModelPredictor(model=185, specialized_classifiers={'Abnormality': 202, 'Modality': 184, 'Organ': 70, 'Plane': 188, 'Abnormality_yes_no': 193})\n",
      "\n",
      "==Submodels==\n",
      "Abnormality: ModelFolder(folder=\"C:\\\\Users\\\\Public\\\\Documents\\\\Data\\\\2019\\\\models\\\\20190502_1743_42_Abnormality_dense_8_lstm_128_trained\") (answers)\n",
      "Modality: ModelFolder(folder=\"C:\\\\Users\\\\Public\\\\Documents\\\\Data\\\\2019\\\\models\\\\20190429_0405_41_Modality_dense_8_6_trained\") (answers)\n",
      "Organ: ModelFolder(folder=\"C:\\\\Users\\\\Public\\\\Documents\\\\Data\\\\2019\\\\models\\\\20190329_0440_18\") (answers)\n",
      "Plane: ModelFolder(folder=\"C:\\\\Users\\\\Public\\\\Documents\\\\Data\\\\2019\\\\models\\\\20190430_2147_46_Plane_dense_8_trained\") (answers)\n",
      "Abnormality_yes_no: ModelFolder(folder=\"C:\\\\Users\\\\Public\\\\Documents\\\\Data\\\\2019\\\\models\\\\20190501_0350_23_Abnormality_yes_no_dense_9_6_trained\") (answers)\n",
      "\n",
      "==validation evaluation==\n",
      "                        bleu  strict_accuracy      wbss prediction_vector\n",
      "Abnormality         0.055031         0.027254  0.102724           answers\n",
      "Organ               0.708409         0.700000  0.699596           answers\n",
      "Modality            0.750807         0.712000  0.702513           answers\n",
      "Plane               0.740000         0.740000  0.743488           answers\n",
      "Abnormality_yes_no  0.826087         0.826087  0.834267           answers\n",
      "Total               0.572429         0.554000  0.570493                --\n",
      "\n",
      "==Notes==\n",
      "\n",
      "\n"
     ]
    }
   ],
   "source": [
    "model_repr = repr(mp)\n",
    "model_repr\n",
    "sub_models = {category: folder for category, (model, folder) in mp.model_by_question_category.items()}\n",
    "sub_models_str = '\\n'.join([str(f'{category}: {folder} ({folder.prediction_data_name})') for category, folder in sub_models.items() if folder is not None])\n",
    "\n",
    "model_description_copy = df_evaluations.copy()\n",
    "\n",
    "def get_prediction_vector(category):\n",
    "    sub_model = sub_models.get(category)\n",
    "    if sub_model is not None:\n",
    "        return sub_model.prediction_data_name\n",
    "    else:\n",
    "        return '--'\n",
    "    \n",
    "model_description_copy['prediction_vector'] = model_description_copy.index.map(get_prediction_vector)\n",
    "\n",
    "\n",
    "model_description =f'''\n",
    "==Model==\n",
    "{model_repr}\n",
    "\n",
    "==Submodels==\n",
    "{sub_models_str}\n",
    "\n",
    "==validation evaluation==\n",
    "{model_description_copy.to_string()}\n",
    "\n",
    "==Notes==\n",
    "{notes}\n",
    "'''\n",
    "\n",
    "\n",
    "print(model_description)\n",
    "\n"
   ]
  },
  {
   "cell_type": "code",
   "execution_count": 39,
   "metadata": {},
   "outputs": [],
   "source": [
    "import time\n",
    "now = time.time()\n",
    "ts = datetime.datetime.fromtimestamp(now).strftime('%Y%m%d_%H%M_%S')\n",
    "submission_base_folder = Path('C:\\\\Users\\\\Public\\\\Documents\\\\Data\\\\2019\\\\submissions')\n",
    "submission_folder = submission_base_folder/ts\n",
    "submission_folder.mkdir()\n",
    "\n",
    "\n",
    "txt_path = submission_folder/f'submission_{ts}.txt'\n",
    "txt_path.write_text(res)\n",
    "\n",
    "txt_path_val = submission_folder/f'submission_{ts}_validation.txt'\n",
    "txt_path_val.write_text(res_val)\n",
    "\n",
    "\n",
    "model_description_path = submission_folder/f'model_description.txt'\n",
    "model_description_path.write_text(model_description)\n",
    "\n",
    "with pd.HDFStore(str(submission_folder/ 'predictions.hdf')) as store:\n",
    "    for name, df_predictions in predictions.items():\n",
    "        store[name] = df_predictions"
   ]
  },
  {
   "cell_type": "code",
   "execution_count": 40,
   "metadata": {},
   "outputs": [
    {
     "name": "stdout",
     "output_type": "stream",
     "text": [
      "validation\n"
     ]
    },
    {
     "data": {
      "text/html": [
       "<div>\n",
       "<style scoped>\n",
       "    .dataframe tbody tr th:only-of-type {\n",
       "        vertical-align: middle;\n",
       "    }\n",
       "\n",
       "    .dataframe tbody tr th {\n",
       "        vertical-align: top;\n",
       "    }\n",
       "\n",
       "    .dataframe thead th {\n",
       "        text-align: right;\n",
       "    }\n",
       "</style>\n",
       "<table border=\"1\" class=\"dataframe\">\n",
       "  <thead>\n",
       "    <tr style=\"text-align: right;\">\n",
       "      <th></th>\n",
       "      <th>image_name</th>\n",
       "      <th>question</th>\n",
       "      <th>answer</th>\n",
       "      <th>prediction</th>\n",
       "      <th>probabilities</th>\n",
       "      <th>path</th>\n",
       "    </tr>\n",
       "    <tr>\n",
       "      <th>index</th>\n",
       "      <th></th>\n",
       "      <th></th>\n",
       "      <th></th>\n",
       "      <th></th>\n",
       "      <th></th>\n",
       "      <th></th>\n",
       "    </tr>\n",
       "  </thead>\n",
       "  <tbody>\n",
       "    <tr>\n",
       "      <th>13621</th>\n",
       "      <td>synpic41636.jpg</td>\n",
       "      <td>what plane is this film</td>\n",
       "      <td>coronal</td>\n",
       "      <td>coronal</td>\n",
       "      <td>[(0.997)]</td>\n",
       "      <td>C:\\Users\\Public\\Documents\\Data\\2019\\validation...</td>\n",
       "    </tr>\n",
       "    <tr>\n",
       "      <th>12917</th>\n",
       "      <td>synpic43843.jpg</td>\n",
       "      <td>what type of imaging modality is used to acqui...</td>\n",
       "      <td>an - angiogram</td>\n",
       "      <td>an angiogram</td>\n",
       "      <td>[(0.945)]</td>\n",
       "      <td>C:\\Users\\Public\\Documents\\Data\\2019\\validation...</td>\n",
       "    </tr>\n",
       "    <tr>\n",
       "      <th>13553</th>\n",
       "      <td>synpic17527.jpg</td>\n",
       "      <td>what imaging plane is depicted here?</td>\n",
       "      <td>frontal</td>\n",
       "      <td>pa</td>\n",
       "      <td>[(0.821)]</td>\n",
       "      <td>C:\\Users\\Public\\Documents\\Data\\2019\\validation...</td>\n",
       "    </tr>\n",
       "    <tr>\n",
       "      <th>14415</th>\n",
       "      <td>synpic8182.jpg</td>\n",
       "      <td>what abnormality is seen in the image?</td>\n",
       "      <td>diverticulitis</td>\n",
       "      <td>synovial cyst</td>\n",
       "      <td>[(0.062)]</td>\n",
       "      <td>C:\\Users\\Public\\Documents\\Data\\2019\\validation...</td>\n",
       "    </tr>\n",
       "    <tr>\n",
       "      <th>13961</th>\n",
       "      <td>synpic47664.jpg</td>\n",
       "      <td>what organ system is evaluated primarily?</td>\n",
       "      <td>skull and contents</td>\n",
       "      <td>skull and contents</td>\n",
       "      <td>[(0.126)]</td>\n",
       "      <td>C:\\Users\\Public\\Documents\\Data\\2019\\validation...</td>\n",
       "    </tr>\n",
       "  </tbody>\n",
       "</table>\n",
       "</div>"
      ],
      "text/plain": [
       "            image_name                                           question  \\\n",
       "index                                                                       \n",
       "13621  synpic41636.jpg                            what plane is this film   \n",
       "12917  synpic43843.jpg  what type of imaging modality is used to acqui...   \n",
       "13553  synpic17527.jpg               what imaging plane is depicted here?   \n",
       "14415   synpic8182.jpg             what abnormality is seen in the image?   \n",
       "13961  synpic47664.jpg          what organ system is evaluated primarily?   \n",
       "\n",
       "                   answer          prediction probabilities  \\\n",
       "index                                                         \n",
       "13621             coronal             coronal     [(0.997)]   \n",
       "12917      an - angiogram        an angiogram     [(0.945)]   \n",
       "13553             frontal                  pa     [(0.821)]   \n",
       "14415      diverticulitis       synovial cyst     [(0.062)]   \n",
       "13961  skull and contents  skull and contents     [(0.126)]   \n",
       "\n",
       "                                                    path  \n",
       "index                                                     \n",
       "13621  C:\\Users\\Public\\Documents\\Data\\2019\\validation...  \n",
       "12917  C:\\Users\\Public\\Documents\\Data\\2019\\validation...  \n",
       "13553  C:\\Users\\Public\\Documents\\Data\\2019\\validation...  \n",
       "14415  C:\\Users\\Public\\Documents\\Data\\2019\\validation...  \n",
       "13961  C:\\Users\\Public\\Documents\\Data\\2019\\validation...  "
      ]
     },
     "execution_count": 40,
     "metadata": {},
     "output_type": "execute_result"
    }
   ],
   "source": [
    "print(name)\n",
    "df_predictions.sample(5)"
   ]
  },
  {
   "cell_type": "code",
   "execution_count": 41,
   "metadata": {},
   "outputs": [
    {
     "data": {
      "text/plain": [
       "('pericardial cyst', 'hepatic hemangioma', array(['(0.137)'], dtype=object))"
      ]
     },
     "execution_count": 41,
     "metadata": {},
     "output_type": "execute_result"
    }
   ],
   "source": [
    "idx = 14525\n",
    "series = df_predictions.loc[idx]\n",
    "series.answer, series.prediction ,series.probabilities "
   ]
  },
  {
   "cell_type": "code",
   "execution_count": 42,
   "metadata": {},
   "outputs": [
    {
     "data": {
      "text/plain": [
       "VqaModelPredictor(model=185, specialized_classifiers={'Abnormality': 202, 'Modality': 184, 'Organ': 70, 'Plane': 188, 'Abnormality_yes_no': 193})"
      ]
     },
     "execution_count": 42,
     "metadata": {},
     "output_type": "execute_result"
    }
   ],
   "source": [
    "mp"
   ]
  }
 ],
 "metadata": {
  "kernelspec": {
   "display_name": "Python 3",
   "language": "python",
   "name": "python3"
  },
  "language_info": {
   "codemirror_mode": {
    "name": "ipython",
    "version": 3
   },
   "file_extension": ".py",
   "mimetype": "text/x-python",
   "name": "python",
   "nbconvert_exporter": "python",
   "pygments_lexer": "ipython3",
   "version": "3.6.7"
  }
 },
 "nbformat": 4,
 "nbformat_minor": 2
}
