{
 "cells": [
  {
   "cell_type": "code",
   "execution_count": 1,
   "metadata": {},
   "outputs": [
    {
     "name": "stderr",
     "output_type": "stream",
     "text": [
      "Using TensorFlow backend.\n"
     ]
    }
   ],
   "source": [
    "import os\n",
    "import pandas as pd\n",
    "from tqdm import tqdm\n",
    "from classes.vqa_model_predictor import DefaultVqaModelPredictor\n",
    "from evaluate.VqaMedEvaluatorBase import VqaMedEvaluatorBase\n",
    "from common.utils import VerboseTimer\n",
    "import vqa_logger \n",
    "import logging\n",
    "from pathlib import Path\n",
    "import datetime\n",
    "logger = logging.getLogger(__name__)"
   ]
  },
  {
   "cell_type": "code",
   "execution_count": 2,
   "metadata": {},
   "outputs": [
    {
     "name": "stdout",
     "output_type": "stream",
     "text": [
      "[2019-05-07 16:26:29][classes.vqa_model_predictor][DEBUG] Getting model #185 (post_concat_dense_units: (8, 7, 6);\n",
      "Optimizer: RMSprop\n",
      "loss: cosine_proximity\n",
      "activation: sigmoid\n",
      "prediction vector: words\n",
      "lstm_units: 128\n",
      "batch_size: 32\n",
      "epochs: 4\n",
      "class weights: False\n",
      "Inputs Attention: False\n",
      "\n",
      "\n",
      "model_location = 'C:\\Users\\Public\\Documents\\Data\\2019\\models\\20190430_0104_56_Abnormality_dense_8_7_6_lstm_128_trained\\vqa_model.h5')\n",
      "[2019-05-07 16:26:29][common.utils][DEBUG] Starting 'Loading Model'\n",
      "[2019-05-07 16:26:37][common.utils][DEBUG] Loading Model: 0:00:07.823487\n",
      "[2019-05-07 16:26:37][classes.vqa_model_predictor][WARNING] Expected main model to be with no question category, but got: \"Abnormality\"\n",
      "[2019-05-07 16:26:37][classes.vqa_model_predictor][DEBUG] Getting model #225 (post_concat_dense_units: (8,);\n",
      "Optimizer: RMSprop\n",
      "loss: cosine_proximity\n",
      "activation: softmax\n",
      "prediction vector: answers\n",
      "lstm_units: 128\n",
      "batch_size: 32\n",
      "epochs: 8\n",
      "class weights: False\n",
      "Inputs Attention: False\n",
      "\n",
      "\n",
      "model_location = 'C:\\Users\\Public\\Documents\\Data\\2019\\models\\20190507_1300_25_Abnormality_dense_8_lstm_128_trained\\vqa_model.h5')\n",
      "[2019-05-07 16:26:37][common.utils][DEBUG] Starting 'Loading Model'\n",
      "[2019-05-07 16:26:41][common.utils][DEBUG] Loading Model: 0:00:03.840407\n",
      "[2019-05-07 16:26:41][root][DEBUG] For Abnormality, got specialized model (DB: 225, Folder: ModelFolder(folder=\"C:\\\\Users\\\\Public\\\\Documents\\\\Data\\\\2019\\\\models\\\\20190507_1300_25_Abnormality_dense_8_lstm_128_trained\"))\n",
      "[2019-05-07 16:26:41][classes.vqa_model_predictor][DEBUG] Getting model #216 (post_concat_dense_units: (6, 9);\n",
      "Optimizer: RMSprop\n",
      "loss: categorical_crossentropy\n",
      "activation: softmax\n",
      "prediction vector: answers\n",
      "lstm_units: 0\n",
      "batch_size: 32\n",
      "epochs: 12\n",
      "class weights: False\n",
      "Inputs Attention: False\n",
      "For Category: Modality\n",
      "\n",
      "model_location = 'C:\\Users\\Public\\Documents\\Data\\2019\\models\\20190504_1126_42_Modality_dense_6_9_trained\\vqa_model.h5')\n",
      "[2019-05-07 16:26:41][common.utils][DEBUG] Starting 'Loading Model'\n",
      "[2019-05-07 16:26:44][common.utils][DEBUG] Loading Model: 0:00:03.541908\n",
      "[2019-05-07 16:26:44][root][DEBUG] For Modality, got specialized model (DB: 216, Folder: ModelFolder(folder=\"C:\\\\Users\\\\Public\\\\Documents\\\\Data\\\\2019\\\\models\\\\20190504_1126_42_Modality_dense_6_9_trained\"))\n",
      "[2019-05-07 16:26:44][classes.vqa_model_predictor][DEBUG] Getting model #70 (prediction_vector: answers\n",
      " question_category: Organ\n",
      "augmentations: 20 \n",
      "epochs: 10\n",
      "batch size: 64\n",
      "based on model 5)\n",
      "[2019-05-07 16:26:44][common.utils][DEBUG] Starting 'Loading Model'\n",
      "[2019-05-07 16:26:47][common.utils][DEBUG] Loading Model: 0:00:03.162189\n",
      "[2019-05-07 16:26:47][root][DEBUG] For Organ, got specialized model (DB: 70, Folder: ModelFolder(folder=\"C:\\\\Users\\\\Public\\\\Documents\\\\Data\\\\2019\\\\models\\\\20190329_0440_18\"))\n",
      "[2019-05-07 16:26:47][classes.vqa_model_predictor][DEBUG] Getting model #188 (post_concat_dense_units: [8];\n",
      "Optimizer: RMSprop\n",
      "loss: categorical_crossentropy\n",
      "activation: softmax\n",
      "prediction vector: answers\n",
      "lstm_units: 0\n",
      "batch_size: 32\n",
      "epochs: 5\n",
      "class weights: False\n",
      "Inputs Attention: False\n",
      "For Category: Plane\n",
      "\n",
      "model_location = 'C:\\Users\\Public\\Documents\\Data\\2019\\models\\20190430_2147_46_Plane_dense_8_trained\\vqa_model.h5')\n",
      "[2019-05-07 16:26:47][common.utils][DEBUG] Starting 'Loading Model'\n",
      "[2019-05-07 16:26:51][common.utils][DEBUG] Loading Model: 0:00:03.500895\n",
      "[2019-05-07 16:26:51][root][DEBUG] For Plane, got specialized model (DB: 188, Folder: ModelFolder(folder=\"C:\\\\Users\\\\Public\\\\Documents\\\\Data\\\\2019\\\\models\\\\20190430_2147_46_Plane_dense_8_trained\"))\n",
      "[2019-05-07 16:26:51][classes.vqa_model_predictor][DEBUG] Getting model #193 (post_concat_dense_units: [9, 6];\n",
      "Optimizer: RMSprop\n",
      "loss: categorical_crossentropy\n",
      "activation: softmax\n",
      "prediction vector: answers\n",
      "lstm_units: 0\n",
      "batch_size: 32\n",
      "epochs: 2\n",
      "class weights: False\n",
      "Inputs Attention: False\n",
      "For Category: Abnormality_yes_no\n",
      "\n",
      "model_location = 'C:\\Users\\Public\\Documents\\Data\\2019\\models\\20190501_0350_23_Abnormality_yes_no_dense_9_6_trained\\vqa_model.h5')\n",
      "[2019-05-07 16:26:51][common.utils][DEBUG] Starting 'Loading Model'\n",
      "[2019-05-07 16:26:55][common.utils][DEBUG] Loading Model: 0:00:03.694129\n",
      "[2019-05-07 16:26:55][root][DEBUG] For Abnormality_yes_no, got specialized model (DB: 193, Folder: ModelFolder(folder=\"C:\\\\Users\\\\Public\\\\Documents\\\\Data\\\\2019\\\\models\\\\20190501_0350_23_Abnormality_yes_no_dense_9_6_trained\"))\n",
      "[2019-05-07 16:26:55][data_access.api][DEBUG] loading processed data from:\n",
      "C:\\Users\\avitu\\Documents\\GitHub\\VQA-MED\\VQA-MED\\VQA.Python\\data\\model_input.parquet\n",
      "[2019-05-07 16:26:55][data_access.api][DEBUG] loading parquet from:\n",
      "C:\\Users\\avitu\\Documents\\GitHub\\VQA-MED\\VQA-MED\\VQA.Python\\data\\model_input.parquet\n",
      "[2019-05-07 16:26:55][common.utils][DEBUG] Starting 'Loading parquet'\n",
      "[2019-05-07 16:26:55][common.utils][DEBUG] Loading parquet: 0:00:00.134079\n",
      "[2019-05-07 16:26:55][common.utils][DEBUG] Starting 'Converting to pandas'\n",
      "[2019-05-07 16:26:55][common.utils][DEBUG] Converting to pandas: 0:00:00.010053\n",
      "[2019-05-07 16:26:55][data_access.api][DEBUG] loading processed data from:\n",
      "C:\\Users\\avitu\\Documents\\GitHub\\VQA-MED\\VQA-MED\\VQA.Python\\data\\model_input.parquet\n",
      "[2019-05-07 16:26:55][data_access.api][DEBUG] loading parquet from:\n",
      "C:\\Users\\avitu\\Documents\\GitHub\\VQA-MED\\VQA-MED\\VQA.Python\\data\\model_input.parquet\n",
      "[2019-05-07 16:26:55][common.utils][DEBUG] Starting 'Loading parquet'\n",
      "[2019-05-07 16:26:56][common.utils][DEBUG] Loading parquet: 0:00:00.654158\n",
      "[2019-05-07 16:26:56][common.utils][DEBUG] Starting 'Converting to pandas'\n",
      "[2019-05-07 16:26:56][common.utils][DEBUG] Converting to pandas: 0:00:00.005930\n"
     ]
    }
   ],
   "source": [
    "# %%capture\n",
    "# mp = DefaultVqaModelPredictor.get_contender()\n",
    "\n",
    "main_model = 172\n",
    "# specialized_classifiers = {'Abnormality': 172, 'Modality': 157, 'Organ': 160, 'Plane': 159, 'Abnormality_yes_no':178}\n",
    "\n",
    "#with class weights (looks worse):\n",
    "# specialized_classifiers = {'Abnormality': 172, 'Modality': 157, 'Organ': 180, 'Plane': 179, 'Abnormality_yes_no':178} \n",
    "# notes = 'Notes: with class weights (looks worse)'\n",
    "\n",
    "#with class weights (looks worse):\n",
    "specialized_classifiers = {'Abnormality': 172, 'Modality': 184, 'Organ': 183, 'Plane': 159, 'Abnormality_yes_no':178} \n",
    "specialized_classifiers = {'Abnormality': 186, 'Modality': 184, 'Organ': 183, 'Plane': 188, 'Abnormality_yes_no':178} \n",
    "\n",
    "main_model = 185\n",
    "specialized_classifiers = {'Abnormality': 185, 'Modality': 184, 'Organ': 183, 'Plane': 188, 'Abnormality_yes_no':178} \n",
    "notes= 'Words prediction for abnormality - Optimized for BLEU'\n",
    "specialized_classifiers = {'Abnormality': 202, 'Modality': 184, 'Organ': 183, 'Plane': 188, 'Abnormality_yes_no':193} \n",
    "notes=''\n",
    "specialized_classifiers = {'Abnormality': 202, 'Modality': 184, 'Organ': 70, 'Plane': 188, 'Abnormality_yes_no':193} \n",
    "notes=''\n",
    "\n",
    "specialized_classifiers = {'Abnormality': 120, 'Modality': 184, 'Organ': 70, 'Plane': 188, 'Abnormality_yes_no':193} \n",
    "notes=''\n",
    "\n",
    "specialized_classifiers={'Abnormality': 224, 'Modality': 216, 'Organ': 70, 'Plane': 188, 'Abnormality_yes_no': 193}\n",
    "notes='Cosine proximity'\n",
    "\n",
    "specialized_classifiers={'Abnormality': 225, 'Modality': 216, 'Organ': 70, 'Plane': 188, 'Abnormality_yes_no': 193}\n",
    "notes='Cosine proximity'\n",
    "\n",
    "mp = DefaultVqaModelPredictor(model=main_model, specialized_classifiers=specialized_classifiers)"
   ]
  },
  {
   "cell_type": "code",
   "execution_count": 3,
   "metadata": {},
   "outputs": [
    {
     "data": {
      "text/plain": [
       "VqaModelPredictor(model=185, specialized_classifiers={'Abnormality': 225, 'Modality': 216, 'Organ': 70, 'Plane': 188, 'Abnormality_yes_no': 193})"
      ]
     },
     "execution_count": 3,
     "metadata": {},
     "output_type": "execute_result"
    }
   ],
   "source": [
    "mp"
   ]
  },
  {
   "cell_type": "code",
   "execution_count": 4,
   "metadata": {},
   "outputs": [
    {
     "data": {
      "text/plain": [
       "411"
      ]
     },
     "execution_count": 4,
     "metadata": {},
     "output_type": "execute_result"
    }
   ],
   "source": [
    "dd = mp.df_validation\n",
    "category = 'Abnormality'\n",
    "add = dd[dd.question_category==category].answer.drop_duplicates()\n",
    "len(add)\n",
    "# dd.head()"
   ]
  },
  {
   "cell_type": "code",
   "execution_count": 5,
   "metadata": {},
   "outputs": [
    {
     "data": {
      "text/plain": [
       "'words'"
      ]
     },
     "execution_count": 5,
     "metadata": {},
     "output_type": "execute_result"
    }
   ],
   "source": [
    "mp.model_folder.prediction_data_name"
   ]
  },
  {
   "cell_type": "code",
   "execution_count": 6,
   "metadata": {},
   "outputs": [
    {
     "name": "stdout",
     "output_type": "stream",
     "text": [
      "[2019-05-07 16:26:56][common.utils][DEBUG] Starting 'Predictions for VQA contender test'\n",
      "[2019-05-07 16:26:56][classes.vqa_model_predictor][INFO] For Category \"Abnormality\" using specialized classifier from:\n",
      "ModelFolder(folder=\"C:\\\\Users\\\\Public\\\\Documents\\\\Data\\\\2019\\\\models\\\\20190507_1300_25_Abnormality_dense_8_lstm_128_trained\")\n",
      "[2019-05-07 16:26:56][classes.vqa_model_predictor][DEBUG] Classifying: \"Abnormality\"\n",
      "[2019-05-07 16:26:56][common.utils][DEBUG] Starting 'Raw model prediction'\n",
      "[2019-05-07 16:27:16][common.utils][DEBUG] Raw model prediction: 0:00:20.018389\n"
     ]
    },
    {
     "name": "stderr",
     "output_type": "stream",
     "text": [
      "Prediction: [109, 794, 904, 1281; probabilities: [0.047644794, 0.1837: 100%|███████████████████████████████████████████████████████████████████████████████████████████████████████████████████████████████| 114/114 [00:00<00:00, 212.86it/s]\n"
     ]
    },
    {
     "name": "stdout",
     "output_type": "stream",
     "text": [
      "[2019-05-07 16:27:17][classes.vqa_model_predictor][INFO] For Category \"Modality\" using specialized classifier from:\n",
      "ModelFolder(folder=\"C:\\\\Users\\\\Public\\\\Documents\\\\Data\\\\2019\\\\models\\\\20190504_1126_42_Modality_dense_6_9_trained\")\n",
      "[2019-05-07 16:27:17][classes.vqa_model_predictor][DEBUG] Classifying: \"Modality\"\n",
      "[2019-05-07 16:27:18][common.utils][DEBUG] Starting 'Raw model prediction'\n",
      "[2019-05-07 16:27:21][common.utils][DEBUG] Raw model prediction: 0:00:03.700664\n"
     ]
    },
    {
     "name": "stderr",
     "output_type": "stream",
     "text": [
      "Prediction: [44]; probabilities: [0.9921057]: 100%|████████████████████████████████████████████████████████████████████████████████████████████████████████████████████████████████████████████████████████| 125/125 [00:00<00:00, 195.39it/s]\n"
     ]
    },
    {
     "name": "stdout",
     "output_type": "stream",
     "text": [
      "[2019-05-07 16:27:22][classes.vqa_model_predictor][INFO] For Category \"Organ\" using specialized classifier from:\n",
      "ModelFolder(folder=\"C:\\\\Users\\\\Public\\\\Documents\\\\Data\\\\2019\\\\models\\\\20190329_0440_18\")\n",
      "[2019-05-07 16:27:22][classes.vqa_model_predictor][DEBUG] Classifying: \"Organ\"\n",
      "[2019-05-07 16:27:23][common.utils][DEBUG] Starting 'Raw model prediction'\n",
      "[2019-05-07 16:27:26][common.utils][DEBUG] Raw model prediction: 0:00:03.750966\n"
     ]
    },
    {
     "name": "stderr",
     "output_type": "stream",
     "text": [
      "Prediction: [3]; probabilities: [0.23810466]: 100%|████████████████████████████████████████████████████████████████████████████████████████████████████████████████████████████████████████████████████████| 126/126 [00:00<00:00, 211.62it/s]\n"
     ]
    },
    {
     "name": "stdout",
     "output_type": "stream",
     "text": [
      "[2019-05-07 16:27:27][classes.vqa_model_predictor][INFO] For Category \"Plane\" using specialized classifier from:\n",
      "ModelFolder(folder=\"C:\\\\Users\\\\Public\\\\Documents\\\\Data\\\\2019\\\\models\\\\20190430_2147_46_Plane_dense_8_trained\")\n",
      "[2019-05-07 16:27:27][classes.vqa_model_predictor][DEBUG] Classifying: \"Plane\"\n",
      "[2019-05-07 16:27:27][common.utils][DEBUG] Starting 'Raw model prediction'\n",
      "[2019-05-07 16:27:29][common.utils][DEBUG] Raw model prediction: 0:00:01.845875\n"
     ]
    },
    {
     "name": "stderr",
     "output_type": "stream",
     "text": [
      "Prediction: [0]; probabilities: [0.18867284]: 100%|████████████████████████████████████████████████████████████████████████████████████████████████████████████████████████████████████████████████████████| 125/125 [00:00<00:00, 194.46it/s]\n"
     ]
    },
    {
     "name": "stdout",
     "output_type": "stream",
     "text": [
      "[2019-05-07 16:27:30][classes.vqa_model_predictor][INFO] For Category \"Abnormality_yes_no\" using specialized classifier from:\n",
      "ModelFolder(folder=\"C:\\\\Users\\\\Public\\\\Documents\\\\Data\\\\2019\\\\models\\\\20190501_0350_23_Abnormality_yes_no_dense_9_6_trained\")\n",
      "[2019-05-07 16:27:30][classes.vqa_model_predictor][DEBUG] Classifying: \"Abnormality_yes_no\"\n",
      "[2019-05-07 16:27:30][common.utils][DEBUG] Starting 'Raw model prediction'\n",
      "[2019-05-07 16:27:32][common.utils][DEBUG] Raw model prediction: 0:00:01.644780\n"
     ]
    },
    {
     "name": "stderr",
     "output_type": "stream",
     "text": [
      "Prediction: [0]; probabilities: [0.74951106]: 100%|██████████████████████████████████████████████████████████████████████████████████████████████████████████████████████████████████████████████████████████| 10/10 [00:00<00:00, 149.65it/s]\n"
     ]
    },
    {
     "name": "stdout",
     "output_type": "stream",
     "text": [
      "[2019-05-07 16:27:32][common.utils][DEBUG] Predictions for VQA contender test: 0:00:36.033996\n",
      "[2019-05-07 16:27:32][common.utils][DEBUG] Starting 'Predictions for VQA contender validation'\n",
      "[2019-05-07 16:27:32][classes.vqa_model_predictor][INFO] For Category \"Abnormality\" using specialized classifier from:\n",
      "ModelFolder(folder=\"C:\\\\Users\\\\Public\\\\Documents\\\\Data\\\\2019\\\\models\\\\20190507_1300_25_Abnormality_dense_8_lstm_128_trained\")\n",
      "[2019-05-07 16:27:32][classes.vqa_model_predictor][DEBUG] Classifying: \"Abnormality\"\n",
      "[2019-05-07 16:27:33][common.utils][DEBUG] Starting 'Raw model prediction'\n",
      "[2019-05-07 16:28:25][common.utils][DEBUG] Raw model prediction: 0:00:51.634112\n"
     ]
    },
    {
     "name": "stderr",
     "output_type": "stream",
     "text": [
      "Prediction: [521, 583, 1463, 157; probabilities: [0.0874592, 0.052862: 100%|███████████████████████████████████████████████████████████████████████████████████████████████████████████████████████████████| 477/477 [00:02<00:00, 217.01it/s]\n"
     ]
    },
    {
     "name": "stdout",
     "output_type": "stream",
     "text": [
      "[2019-05-07 16:28:29][classes.vqa_model_predictor][INFO] For Category \"Modality\" using specialized classifier from:\n",
      "ModelFolder(folder=\"C:\\\\Users\\\\Public\\\\Documents\\\\Data\\\\2019\\\\models\\\\20190504_1126_42_Modality_dense_6_9_trained\")\n",
      "[2019-05-07 16:28:29][classes.vqa_model_predictor][DEBUG] Classifying: \"Modality\"\n",
      "[2019-05-07 16:28:30][common.utils][DEBUG] Starting 'Raw model prediction'\n",
      "[2019-05-07 16:28:37][common.utils][DEBUG] Raw model prediction: 0:00:07.477136\n"
     ]
    },
    {
     "name": "stderr",
     "output_type": "stream",
     "text": [
      "Prediction: [33]; probabilities: [0.719443]: 100%|█████████████████████████████████████████████████████████████████████████████████████████████████████████████████████████████████████████████████████████| 500/500 [00:02<00:00, 210.88it/s]\n"
     ]
    },
    {
     "name": "stdout",
     "output_type": "stream",
     "text": [
      "[2019-05-07 16:28:40][classes.vqa_model_predictor][INFO] For Category \"Organ\" using specialized classifier from:\n",
      "ModelFolder(folder=\"C:\\\\Users\\\\Public\\\\Documents\\\\Data\\\\2019\\\\models\\\\20190329_0440_18\")\n",
      "[2019-05-07 16:28:40][classes.vqa_model_predictor][DEBUG] Classifying: \"Organ\"\n",
      "[2019-05-07 16:28:41][common.utils][DEBUG] Starting 'Raw model prediction'\n",
      "[2019-05-07 16:28:47][common.utils][DEBUG] Raw model prediction: 0:00:05.984318\n"
     ]
    },
    {
     "name": "stderr",
     "output_type": "stream",
     "text": [
      "Prediction: [8]; probabilities: [0.29317495]: 100%|████████████████████████████████████████████████████████████████████████████████████████████████████████████████████████████████████████████████████████| 500/500 [00:02<00:00, 215.43it/s]\n"
     ]
    },
    {
     "name": "stdout",
     "output_type": "stream",
     "text": [
      "[2019-05-07 16:28:50][classes.vqa_model_predictor][INFO] For Category \"Plane\" using specialized classifier from:\n",
      "ModelFolder(folder=\"C:\\\\Users\\\\Public\\\\Documents\\\\Data\\\\2019\\\\models\\\\20190430_2147_46_Plane_dense_8_trained\")\n",
      "[2019-05-07 16:28:50][classes.vqa_model_predictor][DEBUG] Classifying: \"Plane\"\n",
      "[2019-05-07 16:28:51][common.utils][DEBUG] Starting 'Raw model prediction'\n",
      "[2019-05-07 16:28:57][common.utils][DEBUG] Raw model prediction: 0:00:05.994011\n"
     ]
    },
    {
     "name": "stderr",
     "output_type": "stream",
     "text": [
      "Prediction: [14]; probabilities: [0.9491535]: 100%|████████████████████████████████████████████████████████████████████████████████████████████████████████████████████████████████████████████████████████| 500/500 [00:02<00:00, 220.60it/s]\n"
     ]
    },
    {
     "name": "stdout",
     "output_type": "stream",
     "text": [
      "[2019-05-07 16:28:59][classes.vqa_model_predictor][INFO] For Category \"Abnormality_yes_no\" using specialized classifier from:\n",
      "ModelFolder(folder=\"C:\\\\Users\\\\Public\\\\Documents\\\\Data\\\\2019\\\\models\\\\20190501_0350_23_Abnormality_yes_no_dense_9_6_trained\")\n",
      "[2019-05-07 16:28:59][classes.vqa_model_predictor][DEBUG] Classifying: \"Abnormality_yes_no\"\n",
      "[2019-05-07 16:28:59][common.utils][DEBUG] Starting 'Raw model prediction'\n",
      "[2019-05-07 16:29:01][common.utils][DEBUG] Raw model prediction: 0:00:01.805905\n"
     ]
    },
    {
     "name": "stderr",
     "output_type": "stream",
     "text": [
      "Prediction: [0]; probabilities: [0.9930084]: 100%|███████████████████████████████████████████████████████████████████████████████████████████████████████████████████████████████████████████████████████████| 23/23 [00:00<00:00, 130.29it/s]\n"
     ]
    },
    {
     "name": "stdout",
     "output_type": "stream",
     "text": [
      "[2019-05-07 16:29:01][common.utils][DEBUG] Predictions for VQA contender validation: 0:01:29.612111\n"
     ]
    },
    {
     "data": {
      "text/html": [
       "<div>\n",
       "<style scoped>\n",
       "    .dataframe tbody tr th:only-of-type {\n",
       "        vertical-align: middle;\n",
       "    }\n",
       "\n",
       "    .dataframe tbody tr th {\n",
       "        vertical-align: top;\n",
       "    }\n",
       "\n",
       "    .dataframe thead th {\n",
       "        text-align: right;\n",
       "    }\n",
       "</style>\n",
       "<table border=\"1\" class=\"dataframe\">\n",
       "  <thead>\n",
       "    <tr style=\"text-align: right;\">\n",
       "      <th></th>\n",
       "      <th>image_name</th>\n",
       "      <th>question</th>\n",
       "      <th>answer</th>\n",
       "      <th>prediction</th>\n",
       "      <th>probabilities</th>\n",
       "      <th>path</th>\n",
       "    </tr>\n",
       "    <tr>\n",
       "      <th>index</th>\n",
       "      <th></th>\n",
       "      <th></th>\n",
       "      <th></th>\n",
       "      <th></th>\n",
       "      <th></th>\n",
       "      <th></th>\n",
       "    </tr>\n",
       "  </thead>\n",
       "  <tbody>\n",
       "    <tr>\n",
       "      <th>12792</th>\n",
       "      <td>synpic54733.jpg</td>\n",
       "      <td>what imaging modality was used to take this im...</td>\n",
       "      <td>ct with iv contrast</td>\n",
       "      <td>ct with iv contrast</td>\n",
       "      <td>[(0.727)]</td>\n",
       "      <td>C:\\Users\\Public\\Documents\\Data\\2019\\validation...</td>\n",
       "    </tr>\n",
       "    <tr>\n",
       "      <th>12793</th>\n",
       "      <td>synpic25647.jpg</td>\n",
       "      <td>what kind of scan is this?</td>\n",
       "      <td>xr - plain film</td>\n",
       "      <td>xr plain film</td>\n",
       "      <td>[(1.000)]</td>\n",
       "      <td>C:\\Users\\Public\\Documents\\Data\\2019\\validation...</td>\n",
       "    </tr>\n",
       "    <tr>\n",
       "      <th>12794</th>\n",
       "      <td>synpic35681.jpg</td>\n",
       "      <td>was the mri taken with contrast?</td>\n",
       "      <td>no</td>\n",
       "      <td>yes</td>\n",
       "      <td>[(0.997)]</td>\n",
       "      <td>C:\\Users\\Public\\Documents\\Data\\2019\\validation...</td>\n",
       "    </tr>\n",
       "    <tr>\n",
       "      <th>12795</th>\n",
       "      <td>synpic39641.jpg</td>\n",
       "      <td>is this a t1 weighted, t2 weighted, or flair i...</td>\n",
       "      <td>t2</td>\n",
       "      <td>t2</td>\n",
       "      <td>[(0.943)]</td>\n",
       "      <td>C:\\Users\\Public\\Documents\\Data\\2019\\validation...</td>\n",
       "    </tr>\n",
       "    <tr>\n",
       "      <th>12796</th>\n",
       "      <td>synpic35693.jpg</td>\n",
       "      <td>is this a noncontrast mri?</td>\n",
       "      <td>yes</td>\n",
       "      <td>yes</td>\n",
       "      <td>[(0.857)]</td>\n",
       "      <td>C:\\Users\\Public\\Documents\\Data\\2019\\validation...</td>\n",
       "    </tr>\n",
       "  </tbody>\n",
       "</table>\n",
       "</div>"
      ],
      "text/plain": [
       "            image_name                                           question  \\\n",
       "index                                                                       \n",
       "12792  synpic54733.jpg  what imaging modality was used to take this im...   \n",
       "12793  synpic25647.jpg                         what kind of scan is this?   \n",
       "12794  synpic35681.jpg                   was the mri taken with contrast?   \n",
       "12795  synpic39641.jpg  is this a t1 weighted, t2 weighted, or flair i...   \n",
       "12796  synpic35693.jpg                         is this a noncontrast mri?   \n",
       "\n",
       "                    answer           prediction probabilities  \\\n",
       "index                                                           \n",
       "12792  ct with iv contrast  ct with iv contrast     [(0.727)]   \n",
       "12793      xr - plain film        xr plain film     [(1.000)]   \n",
       "12794                   no                  yes     [(0.997)]   \n",
       "12795                   t2                   t2     [(0.943)]   \n",
       "12796                  yes                  yes     [(0.857)]   \n",
       "\n",
       "                                                    path  \n",
       "index                                                     \n",
       "12792  C:\\Users\\Public\\Documents\\Data\\2019\\validation...  \n",
       "12793  C:\\Users\\Public\\Documents\\Data\\2019\\validation...  \n",
       "12794  C:\\Users\\Public\\Documents\\Data\\2019\\validation...  \n",
       "12795  C:\\Users\\Public\\Documents\\Data\\2019\\validation...  \n",
       "12796  C:\\Users\\Public\\Documents\\Data\\2019\\validation...  "
      ]
     },
     "execution_count": 6,
     "metadata": {},
     "output_type": "execute_result"
    }
   ],
   "source": [
    "# %%capture\n",
    "datasets = {'test':mp.df_test, 'validation':mp.df_validation}\n",
    "df_name_to_predict = 'test'\n",
    "\n",
    "\n",
    "predictions = {}\n",
    "\n",
    "for name, df in datasets.items():\n",
    "    with VerboseTimer(f\"Predictions for VQA contender {name}\"):\n",
    "        df_predictions = mp.predict(df)\n",
    "        predictions[name] = df_predictions\n",
    "\n",
    "\n",
    "\n",
    "predictions['validation'][:5]"
   ]
  },
  {
   "cell_type": "code",
   "execution_count": 7,
   "metadata": {},
   "outputs": [],
   "source": [
    "outputs = {}\n",
    "for name, df_predictions in predictions.items():\n",
    "    curr_predictions = df_predictions.prediction.values\n",
    "    df_predicted = datasets[name]\n",
    "    df_output = df_predicted.copy()\n",
    "    df_output['image_id'] = df_output.path.apply(lambda p: p.rsplit(os.sep)[-1].rsplit('.', 1)[0])\n",
    "    df_output['prediction'] = curr_predictions\n",
    "\n",
    "    columns_to_remove = ['path',  'answer_embedding', 'question_embedding', 'group', 'diagnosis', 'processed_answer']\n",
    "    for col in columns_to_remove:\n",
    "        del df_output[col]\n",
    "\n",
    "    sort_columns = sorted(df_output.columns, key=lambda c: c not in ['question', 'prediction', 'answer'])\n",
    "    df_output = df_output[sort_columns]    \n",
    "    outputs[name] = df_output"
   ]
  },
  {
   "cell_type": "code",
   "execution_count": 8,
   "metadata": {},
   "outputs": [],
   "source": [
    "df_output_test = outputs['test']\n",
    "df_output_validation = outputs['validation']"
   ]
  },
  {
   "cell_type": "code",
   "execution_count": 9,
   "metadata": {},
   "outputs": [
    {
     "data": {
      "text/html": [
       "<div>\n",
       "<style scoped>\n",
       "    .dataframe tbody tr th:only-of-type {\n",
       "        vertical-align: middle;\n",
       "    }\n",
       "\n",
       "    .dataframe tbody tr th {\n",
       "        vertical-align: top;\n",
       "    }\n",
       "\n",
       "    .dataframe thead th {\n",
       "        text-align: right;\n",
       "    }\n",
       "</style>\n",
       "<table border=\"1\" class=\"dataframe\">\n",
       "  <thead>\n",
       "    <tr style=\"text-align: right;\">\n",
       "      <th></th>\n",
       "      <th>question</th>\n",
       "      <th>answer</th>\n",
       "      <th>prediction</th>\n",
       "      <th>image_name</th>\n",
       "      <th>processed_question</th>\n",
       "      <th>question_category</th>\n",
       "      <th>image_id</th>\n",
       "    </tr>\n",
       "  </thead>\n",
       "  <tbody>\n",
       "    <tr>\n",
       "      <th>12939</th>\n",
       "      <td>is this a t1 weighted, t2 weighted, or flair i...</td>\n",
       "      <td>t2</td>\n",
       "      <td>t2</td>\n",
       "      <td>synpic38404.jpg</td>\n",
       "      <td>is this t1 weighted t2 weighted or flair image</td>\n",
       "      <td>Modality</td>\n",
       "      <td>synpic38404</td>\n",
       "    </tr>\n",
       "    <tr>\n",
       "      <th>14064</th>\n",
       "      <td>what part of the body does this mri show?</td>\n",
       "      <td>skull and contents</td>\n",
       "      <td>face sinuses and neck</td>\n",
       "      <td>synpic59241.jpg</td>\n",
       "      <td>what part of the body does this mri show</td>\n",
       "      <td>Organ</td>\n",
       "      <td>synpic59241</td>\n",
       "    </tr>\n",
       "    <tr>\n",
       "      <th>12885</th>\n",
       "      <td>what type of imaging does this represent?</td>\n",
       "      <td>xr - plain film</td>\n",
       "      <td>xr plain film</td>\n",
       "      <td>synpic43477.jpg</td>\n",
       "      <td>what type of imaging does this represent</td>\n",
       "      <td>Modality</td>\n",
       "      <td>synpic43477</td>\n",
       "    </tr>\n",
       "    <tr>\n",
       "      <th>13847</th>\n",
       "      <td>what organ system is pictured here?</td>\n",
       "      <td>gastrointestinal</td>\n",
       "      <td>gastrointestinal</td>\n",
       "      <td>synpic16475.jpg</td>\n",
       "      <td>what organ system is pictured here</td>\n",
       "      <td>Organ</td>\n",
       "      <td>synpic16475</td>\n",
       "    </tr>\n",
       "    <tr>\n",
       "      <th>14743</th>\n",
       "      <td>what is the primary abnormality in this image?</td>\n",
       "      <td>leptomeningeal carcinomatosis</td>\n",
       "      <td>brain abscess central nervous system</td>\n",
       "      <td>synpic48249.jpg</td>\n",
       "      <td>what is the primary abnormality in this image</td>\n",
       "      <td>Abnormality</td>\n",
       "      <td>synpic48249</td>\n",
       "    </tr>\n",
       "    <tr>\n",
       "      <th>13379</th>\n",
       "      <td>what is the plane?</td>\n",
       "      <td>axial</td>\n",
       "      <td>axial</td>\n",
       "      <td>synpic31036.jpg</td>\n",
       "      <td>what is the plane</td>\n",
       "      <td>Plane</td>\n",
       "      <td>synpic31036</td>\n",
       "    </tr>\n",
       "    <tr>\n",
       "      <th>13356</th>\n",
       "      <td>in what plane is this image taken?</td>\n",
       "      <td>axial</td>\n",
       "      <td>axial</td>\n",
       "      <td>synpic40779.jpg</td>\n",
       "      <td>in what plane is this image taken</td>\n",
       "      <td>Plane</td>\n",
       "      <td>synpic40779</td>\n",
       "    </tr>\n",
       "    <tr>\n",
       "      <th>14048</th>\n",
       "      <td>what is the organ principally shown in this mri?</td>\n",
       "      <td>musculoskeletal</td>\n",
       "      <td>musculoskeletal</td>\n",
       "      <td>synpic16361.jpg</td>\n",
       "      <td>what is the organ principally shown in this mri</td>\n",
       "      <td>Organ</td>\n",
       "      <td>synpic16361</td>\n",
       "    </tr>\n",
       "    <tr>\n",
       "      <th>13210</th>\n",
       "      <td>is this a t2 weighted image?</td>\n",
       "      <td>no</td>\n",
       "      <td>no</td>\n",
       "      <td>synpic53042.jpg</td>\n",
       "      <td>is this t2 weighted image</td>\n",
       "      <td>Modality</td>\n",
       "      <td>synpic53042</td>\n",
       "    </tr>\n",
       "    <tr>\n",
       "      <th>13103</th>\n",
       "      <td>how was the image taken?</td>\n",
       "      <td>xr - plain film</td>\n",
       "      <td>xr plain film</td>\n",
       "      <td>synpic48212.jpg</td>\n",
       "      <td>how was the image taken</td>\n",
       "      <td>Modality</td>\n",
       "      <td>synpic48212</td>\n",
       "    </tr>\n",
       "  </tbody>\n",
       "</table>\n",
       "</div>"
      ],
      "text/plain": [
       "                                                question  \\\n",
       "12939  is this a t1 weighted, t2 weighted, or flair i...   \n",
       "14064          what part of the body does this mri show?   \n",
       "12885          what type of imaging does this represent?   \n",
       "13847                what organ system is pictured here?   \n",
       "14743     what is the primary abnormality in this image?   \n",
       "13379                                 what is the plane?   \n",
       "13356                 in what plane is this image taken?   \n",
       "14048   what is the organ principally shown in this mri?   \n",
       "13210                       is this a t2 weighted image?   \n",
       "13103                           how was the image taken?   \n",
       "\n",
       "                              answer                            prediction  \\\n",
       "12939                             t2                                    t2   \n",
       "14064             skull and contents                 face sinuses and neck   \n",
       "12885                xr - plain film                         xr plain film   \n",
       "13847               gastrointestinal                      gastrointestinal   \n",
       "14743  leptomeningeal carcinomatosis  brain abscess central nervous system   \n",
       "13379                          axial                                 axial   \n",
       "13356                          axial                                 axial   \n",
       "14048                musculoskeletal                       musculoskeletal   \n",
       "13210                             no                                    no   \n",
       "13103                xr - plain film                         xr plain film   \n",
       "\n",
       "            image_name                               processed_question  \\\n",
       "12939  synpic38404.jpg   is this t1 weighted t2 weighted or flair image   \n",
       "14064  synpic59241.jpg         what part of the body does this mri show   \n",
       "12885  synpic43477.jpg         what type of imaging does this represent   \n",
       "13847  synpic16475.jpg               what organ system is pictured here   \n",
       "14743  synpic48249.jpg    what is the primary abnormality in this image   \n",
       "13379  synpic31036.jpg                                what is the plane   \n",
       "13356  synpic40779.jpg                in what plane is this image taken   \n",
       "14048  synpic16361.jpg  what is the organ principally shown in this mri   \n",
       "13210  synpic53042.jpg                        is this t2 weighted image   \n",
       "13103  synpic48212.jpg                          how was the image taken   \n",
       "\n",
       "      question_category     image_id  \n",
       "12939          Modality  synpic38404  \n",
       "14064             Organ  synpic59241  \n",
       "12885          Modality  synpic43477  \n",
       "13847             Organ  synpic16475  \n",
       "14743       Abnormality  synpic48249  \n",
       "13379             Plane  synpic31036  \n",
       "13356             Plane  synpic40779  \n",
       "14048             Organ  synpic16361  \n",
       "13210          Modality  synpic53042  \n",
       "13103          Modality  synpic48212  "
      ]
     },
     "execution_count": 9,
     "metadata": {},
     "output_type": "execute_result"
    }
   ],
   "source": [
    "display = df_output_validation[df_output_validation.question_category == 'Abnormality']\n",
    "display = df_output_validation\n",
    "display.sample(10)"
   ]
  },
  {
   "cell_type": "code",
   "execution_count": 10,
   "metadata": {},
   "outputs": [
    {
     "data": {
      "text/plain": [
       "VqaModelPredictor(model=185, specialized_classifiers={'Abnormality': 225, 'Modality': 216, 'Organ': 70, 'Plane': 188, 'Abnormality_yes_no': 193})"
      ]
     },
     "execution_count": 10,
     "metadata": {},
     "output_type": "execute_result"
    }
   ],
   "source": [
    "mp"
   ]
  },
  {
   "cell_type": "code",
   "execution_count": 11,
   "metadata": {},
   "outputs": [
    {
     "data": {
      "text/plain": [
       "(500, 500)"
      ]
     },
     "execution_count": 11,
     "metadata": {},
     "output_type": "execute_result"
    }
   ],
   "source": [
    "len(df_output_test), len(df_output_test.image_id.drop_duplicates())"
   ]
  },
  {
   "cell_type": "code",
   "execution_count": 12,
   "metadata": {},
   "outputs": [],
   "source": [
    "def get_str(df):\n",
    "    strs = []\n",
    "    debug_output_rows = df.apply(lambda row: row.image_id + '|'+ row.question + '|'+ row.prediction, axis=1 )\n",
    "    output_rows = df.apply(lambda row: row.image_id + '|'+ row.prediction + '|'+row.answer, axis=1 )\n",
    "    output_rows = output_rows.str.strip('|')\n",
    "    rows = output_rows.values\n",
    "    res = '\\n'.join(rows)\n",
    "    return res\n",
    "\n",
    "res = get_str(df_output_test)\n",
    "res_val = get_str(df_output_validation)\n"
   ]
  },
  {
   "cell_type": "code",
   "execution_count": 13,
   "metadata": {},
   "outputs": [
    {
     "name": "stdout",
     "output_type": "stream",
     "text": [
      "synpic54082|cta ct angiography\n",
      "synpic48556|no\n",
      "synpic50696|iv\n",
      "synpic37194|us ultrasound\n",
      "synpic31308|an angiogram\n",
      "synpic24739|t2\n",
      "synpic32365|yes\n",
      "synpic47936|iv\n",
      "synpic29792|yes\n",
      "synpic43561|yes\n",
      "synpic4073\n"
     ]
    }
   ],
   "source": [
    "print(res[:200])"
   ]
  },
  {
   "cell_type": "markdown",
   "metadata": {},
   "source": [
    "### Get evaluations per category:"
   ]
  },
  {
   "cell_type": "code",
   "execution_count": 14,
   "metadata": {},
   "outputs": [
    {
     "name": "stderr",
     "output_type": "stream",
     "text": [
      "evaluating 500 for Plane items: 100%|███████████████████████████████████████████████████████████████████████████████████████████████████████████████████████████████████████████████████████████████████████████| 5/5 [00:08<00:00,  2.55s/it]\n"
     ]
    }
   ],
   "source": [
    "evaluations = {}\n",
    "pbar = tqdm(df_output_validation.groupby('question_category'))\n",
    "for question_category, df in pbar:        \n",
    "    pbar.set_description(f'evaluating {len(df)} for {question_category} items')\n",
    "    curr_predictions = df.prediction.values\n",
    "    curr_ground_truth = df.answer.values\n",
    "    curr_evaluations = VqaMedEvaluatorBase.get_all_evaluation(predictions=curr_predictions, ground_truth=curr_ground_truth)\n",
    "    evaluations[question_category] = curr_evaluations    \n",
    "\n",
    "   \n"
   ]
  },
  {
   "cell_type": "markdown",
   "metadata": {},
   "source": [
    "### Get Total Evaluation:"
   ]
  },
  {
   "cell_type": "code",
   "execution_count": 15,
   "metadata": {},
   "outputs": [],
   "source": [
    "total_evaluations = VqaMedEvaluatorBase.get_all_evaluation(predictions=df_output_validation.prediction.values, ground_truth=df_output_validation.answer.values)    \n",
    "evaluations['Total'] = total_evaluations"
   ]
  },
  {
   "cell_type": "code",
   "execution_count": 16,
   "metadata": {},
   "outputs": [
    {
     "data": {
      "text/html": [
       "<div>\n",
       "<style scoped>\n",
       "    .dataframe tbody tr th:only-of-type {\n",
       "        vertical-align: middle;\n",
       "    }\n",
       "\n",
       "    .dataframe tbody tr th {\n",
       "        vertical-align: top;\n",
       "    }\n",
       "\n",
       "    .dataframe thead th {\n",
       "        text-align: right;\n",
       "    }\n",
       "</style>\n",
       "<table border=\"1\" class=\"dataframe\">\n",
       "  <thead>\n",
       "    <tr style=\"text-align: right;\">\n",
       "      <th></th>\n",
       "      <th>bleu</th>\n",
       "      <th>strict_accuracy</th>\n",
       "      <th>wbss</th>\n",
       "    </tr>\n",
       "  </thead>\n",
       "  <tbody>\n",
       "    <tr>\n",
       "      <th>Abnormality</th>\n",
       "      <td>0.058324</td>\n",
       "      <td>0.031447</td>\n",
       "      <td>0.097026</td>\n",
       "    </tr>\n",
       "    <tr>\n",
       "      <th>Organ</th>\n",
       "      <td>0.708409</td>\n",
       "      <td>0.700000</td>\n",
       "      <td>0.699596</td>\n",
       "    </tr>\n",
       "    <tr>\n",
       "      <th>Modality</th>\n",
       "      <td>0.794645</td>\n",
       "      <td>0.740000</td>\n",
       "      <td>0.740959</td>\n",
       "    </tr>\n",
       "    <tr>\n",
       "      <th>Plane</th>\n",
       "      <td>0.740000</td>\n",
       "      <td>0.740000</td>\n",
       "      <td>0.743488</td>\n",
       "    </tr>\n",
       "    <tr>\n",
       "      <th>Abnormality_yes_no</th>\n",
       "      <td>0.826087</td>\n",
       "      <td>0.826087</td>\n",
       "      <td>0.834267</td>\n",
       "    </tr>\n",
       "    <tr>\n",
       "      <th>Total</th>\n",
       "      <td>0.584174</td>\n",
       "      <td>0.562000</td>\n",
       "      <td>0.578745</td>\n",
       "    </tr>\n",
       "  </tbody>\n",
       "</table>\n",
       "</div>"
      ],
      "text/plain": [
       "                        bleu  strict_accuracy      wbss\n",
       "Abnormality         0.058324         0.031447  0.097026\n",
       "Organ               0.708409         0.700000  0.699596\n",
       "Modality            0.794645         0.740000  0.740959\n",
       "Plane               0.740000         0.740000  0.743488\n",
       "Abnormality_yes_no  0.826087         0.826087  0.834267\n",
       "Total               0.584174         0.562000  0.578745"
      ]
     },
     "execution_count": 16,
     "metadata": {},
     "output_type": "execute_result"
    }
   ],
   "source": [
    "evaluations\n",
    "df_evaluations = pd.DataFrame(evaluations).T#.sort_values(by=('bleu'))\n",
    "df_evaluations['sort'] = df_evaluations.index == 'Total'\n",
    "df_evaluations = df_evaluations.sort_values(by = ['sort', 'wbss'])\n",
    "del df_evaluations['sort']\n",
    "df_evaluations"
   ]
  },
  {
   "cell_type": "code",
   "execution_count": 17,
   "metadata": {},
   "outputs": [
    {
     "name": "stdout",
     "output_type": "stream",
     "text": [
      "\n",
      "==Model==\n",
      "VqaModelPredictor(model=185, specialized_classifiers={'Abnormality': 225, 'Modality': 216, 'Organ': 70, 'Plane': 188, 'Abnormality_yes_no': 193})\n",
      "\n",
      "==Submodels==\n",
      "Abnormality: ModelFolder(folder=\"C:\\\\Users\\\\Public\\\\Documents\\\\Data\\\\2019\\\\models\\\\20190507_1300_25_Abnormality_dense_8_lstm_128_trained\") (answers)\n",
      "Modality: ModelFolder(folder=\"C:\\\\Users\\\\Public\\\\Documents\\\\Data\\\\2019\\\\models\\\\20190504_1126_42_Modality_dense_6_9_trained\") (answers)\n",
      "Organ: ModelFolder(folder=\"C:\\\\Users\\\\Public\\\\Documents\\\\Data\\\\2019\\\\models\\\\20190329_0440_18\") (answers)\n",
      "Plane: ModelFolder(folder=\"C:\\\\Users\\\\Public\\\\Documents\\\\Data\\\\2019\\\\models\\\\20190430_2147_46_Plane_dense_8_trained\") (answers)\n",
      "Abnormality_yes_no: ModelFolder(folder=\"C:\\\\Users\\\\Public\\\\Documents\\\\Data\\\\2019\\\\models\\\\20190501_0350_23_Abnormality_yes_no_dense_9_6_trained\") (answers)\n",
      "\n",
      "==validation evaluation==\n",
      "                        bleu  strict_accuracy      wbss prediction_vector\n",
      "Abnormality         0.058324         0.031447  0.097026           answers\n",
      "Organ               0.708409         0.700000  0.699596           answers\n",
      "Modality            0.794645         0.740000  0.740959           answers\n",
      "Plane               0.740000         0.740000  0.743488           answers\n",
      "Abnormality_yes_no  0.826087         0.826087  0.834267           answers\n",
      "Total               0.584174         0.562000  0.578745                --\n",
      "\n",
      "==Notes==\n",
      "Cosine proximity\n",
      "\n"
     ]
    }
   ],
   "source": [
    "model_repr = repr(mp)\n",
    "model_repr\n",
    "sub_models = {category: folder for category, (model, folder) in mp.model_by_question_category.items()}\n",
    "sub_models_str = '\\n'.join([str(f'{category}: {folder} ({folder.prediction_data_name})') for category, folder in sub_models.items() if folder is not None])\n",
    "\n",
    "model_description_copy = df_evaluations.copy()\n",
    "\n",
    "def get_prediction_vector(category):\n",
    "    sub_model = sub_models.get(category)\n",
    "    if sub_model is not None:\n",
    "        return sub_model.prediction_data_name\n",
    "    else:\n",
    "        return '--'\n",
    "    \n",
    "model_description_copy['prediction_vector'] = model_description_copy.index.map(get_prediction_vector)\n",
    "\n",
    "\n",
    "model_description =f'''\n",
    "==Model==\n",
    "{model_repr}\n",
    "\n",
    "==Submodels==\n",
    "{sub_models_str}\n",
    "\n",
    "==validation evaluation==\n",
    "{model_description_copy.to_string()}\n",
    "\n",
    "==Notes==\n",
    "{notes}\n",
    "'''\n",
    "\n",
    "\n",
    "print(model_description)\n",
    "\n"
   ]
  },
  {
   "cell_type": "code",
   "execution_count": 18,
   "metadata": {},
   "outputs": [],
   "source": [
    "import time\n",
    "now = time.time()\n",
    "ts = datetime.datetime.fromtimestamp(now).strftime('%Y%m%d_%H%M_%S')\n",
    "submission_base_folder = Path('C:\\\\Users\\\\Public\\\\Documents\\\\Data\\\\2019\\\\submissions')\n",
    "submission_folder = submission_base_folder/ts\n",
    "submission_folder.mkdir()\n",
    "\n",
    "\n",
    "txt_path = submission_folder/f'submission_{ts}.txt'\n",
    "txt_path.write_text(res)\n",
    "\n",
    "txt_path_val = submission_folder/f'submission_{ts}_validation.txt'\n",
    "txt_path_val.write_text(res_val)\n",
    "\n",
    "\n",
    "model_description_path = submission_folder/f'model_description.txt'\n",
    "model_description_path.write_text(model_description)\n",
    "\n",
    "with pd.HDFStore(str(submission_folder/ 'predictions.hdf')) as store:\n",
    "    for name, df_predictions in predictions.items():\n",
    "        store[name] = df_predictions"
   ]
  },
  {
   "cell_type": "code",
   "execution_count": 19,
   "metadata": {},
   "outputs": [
    {
     "name": "stdout",
     "output_type": "stream",
     "text": [
      "validation\n"
     ]
    },
    {
     "data": {
      "text/html": [
       "<div>\n",
       "<style scoped>\n",
       "    .dataframe tbody tr th:only-of-type {\n",
       "        vertical-align: middle;\n",
       "    }\n",
       "\n",
       "    .dataframe tbody tr th {\n",
       "        vertical-align: top;\n",
       "    }\n",
       "\n",
       "    .dataframe thead th {\n",
       "        text-align: right;\n",
       "    }\n",
       "</style>\n",
       "<table border=\"1\" class=\"dataframe\">\n",
       "  <thead>\n",
       "    <tr style=\"text-align: right;\">\n",
       "      <th></th>\n",
       "      <th>image_name</th>\n",
       "      <th>question</th>\n",
       "      <th>answer</th>\n",
       "      <th>prediction</th>\n",
       "      <th>probabilities</th>\n",
       "      <th>path</th>\n",
       "    </tr>\n",
       "    <tr>\n",
       "      <th>index</th>\n",
       "      <th></th>\n",
       "      <th></th>\n",
       "      <th></th>\n",
       "      <th></th>\n",
       "      <th></th>\n",
       "      <th></th>\n",
       "    </tr>\n",
       "  </thead>\n",
       "  <tbody>\n",
       "    <tr>\n",
       "      <th>14202</th>\n",
       "      <td>synpic18848.jpg</td>\n",
       "      <td>which organ system is imaged?</td>\n",
       "      <td>gastrointestinal</td>\n",
       "      <td>heart and great vessels</td>\n",
       "      <td>[(0.119)]</td>\n",
       "      <td>C:\\Users\\Public\\Documents\\Data\\2019\\validation...</td>\n",
       "    </tr>\n",
       "    <tr>\n",
       "      <th>14316</th>\n",
       "      <td>synpic34446.jpg</td>\n",
       "      <td>what is abnormal in the mri?</td>\n",
       "      <td>pleomorphic adenoma</td>\n",
       "      <td>colloid neuroepithelial cyst of the third vent...</td>\n",
       "      <td>[(0.071)]</td>\n",
       "      <td>C:\\Users\\Public\\Documents\\Data\\2019\\validation...</td>\n",
       "    </tr>\n",
       "    <tr>\n",
       "      <th>13117</th>\n",
       "      <td>synpic53024.jpg</td>\n",
       "      <td>is this a contrast or noncontrast ct?</td>\n",
       "      <td>noncontrast</td>\n",
       "      <td>noncontrast</td>\n",
       "      <td>[(0.975)]</td>\n",
       "      <td>C:\\Users\\Public\\Documents\\Data\\2019\\validation...</td>\n",
       "    </tr>\n",
       "    <tr>\n",
       "      <th>14119</th>\n",
       "      <td>synpic31104.jpg</td>\n",
       "      <td>what is one organ system seen in this image?</td>\n",
       "      <td>lung, mediastinum, pleura</td>\n",
       "      <td>heart and great vessels</td>\n",
       "      <td>[(0.102)]</td>\n",
       "      <td>C:\\Users\\Public\\Documents\\Data\\2019\\validation...</td>\n",
       "    </tr>\n",
       "    <tr>\n",
       "      <th>13718</th>\n",
       "      <td>synpic58329.jpg</td>\n",
       "      <td>in what plane was this image taken?</td>\n",
       "      <td>axial</td>\n",
       "      <td>coronal</td>\n",
       "      <td>[(0.700)]</td>\n",
       "      <td>C:\\Users\\Public\\Documents\\Data\\2019\\validation...</td>\n",
       "    </tr>\n",
       "  </tbody>\n",
       "</table>\n",
       "</div>"
      ],
      "text/plain": [
       "            image_name                                      question  \\\n",
       "index                                                                  \n",
       "14202  synpic18848.jpg                 which organ system is imaged?   \n",
       "14316  synpic34446.jpg                  what is abnormal in the mri?   \n",
       "13117  synpic53024.jpg         is this a contrast or noncontrast ct?   \n",
       "14119  synpic31104.jpg  what is one organ system seen in this image?   \n",
       "13718  synpic58329.jpg           in what plane was this image taken?   \n",
       "\n",
       "                          answer  \\\n",
       "index                              \n",
       "14202           gastrointestinal   \n",
       "14316        pleomorphic adenoma   \n",
       "13117                noncontrast   \n",
       "14119  lung, mediastinum, pleura   \n",
       "13718                      axial   \n",
       "\n",
       "                                              prediction probabilities  \\\n",
       "index                                                                    \n",
       "14202                            heart and great vessels     [(0.119)]   \n",
       "14316  colloid neuroepithelial cyst of the third vent...     [(0.071)]   \n",
       "13117                                        noncontrast     [(0.975)]   \n",
       "14119                            heart and great vessels     [(0.102)]   \n",
       "13718                                            coronal     [(0.700)]   \n",
       "\n",
       "                                                    path  \n",
       "index                                                     \n",
       "14202  C:\\Users\\Public\\Documents\\Data\\2019\\validation...  \n",
       "14316  C:\\Users\\Public\\Documents\\Data\\2019\\validation...  \n",
       "13117  C:\\Users\\Public\\Documents\\Data\\2019\\validation...  \n",
       "14119  C:\\Users\\Public\\Documents\\Data\\2019\\validation...  \n",
       "13718  C:\\Users\\Public\\Documents\\Data\\2019\\validation...  "
      ]
     },
     "execution_count": 19,
     "metadata": {},
     "output_type": "execute_result"
    }
   ],
   "source": [
    "print(name)\n",
    "df_predictions.sample(5)"
   ]
  },
  {
   "cell_type": "code",
   "execution_count": 20,
   "metadata": {},
   "outputs": [
    {
     "data": {
      "text/plain": [
       "('pericardial cyst', 'empyema', array(['(0.361)'], dtype=object))"
      ]
     },
     "execution_count": 20,
     "metadata": {},
     "output_type": "execute_result"
    }
   ],
   "source": [
    "idx = 14525\n",
    "series = df_predictions.loc[idx]\n",
    "series.answer, series.prediction ,series.probabilities "
   ]
  },
  {
   "cell_type": "code",
   "execution_count": 21,
   "metadata": {},
   "outputs": [
    {
     "data": {
      "text/plain": [
       "VqaModelPredictor(model=185, specialized_classifiers={'Abnormality': 225, 'Modality': 216, 'Organ': 70, 'Plane': 188, 'Abnormality_yes_no': 193})"
      ]
     },
     "execution_count": 21,
     "metadata": {},
     "output_type": "execute_result"
    }
   ],
   "source": [
    "mp"
   ]
  }
 ],
 "metadata": {
  "kernelspec": {
   "display_name": "Python 3",
   "language": "python",
   "name": "python3"
  },
  "language_info": {
   "codemirror_mode": {
    "name": "ipython",
    "version": 3
   },
   "file_extension": ".py",
   "mimetype": "text/x-python",
   "name": "python",
   "nbconvert_exporter": "python",
   "pygments_lexer": "ipython3",
   "version": "3.6.7"
  }
 },
 "nbformat": 4,
 "nbformat_minor": 2
}
