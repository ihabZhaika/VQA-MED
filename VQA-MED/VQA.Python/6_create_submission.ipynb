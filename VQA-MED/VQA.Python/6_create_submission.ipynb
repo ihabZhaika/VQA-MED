{
 "cells": [
  {
   "cell_type": "code",
   "execution_count": 1,
   "metadata": {},
   "outputs": [
    {
     "name": "stderr",
     "output_type": "stream",
     "text": [
      "Using TensorFlow backend.\n"
     ]
    }
   ],
   "source": [
    "import os\n",
    "import pandas as pd\n",
    "from tqdm import tqdm\n",
    "from classes.vqa_model_predictor import DefaultVqaModelPredictor\n",
    "from evaluate.VqaMedEvaluatorBase import VqaMedEvaluatorBase\n",
    "from common.utils import VerboseTimer\n",
    "import vqa_logger \n",
    "import logging\n",
    "from pathlib import Path\n",
    "import datetime\n",
    "logger = logging.getLogger(__name__)"
   ]
  },
  {
   "cell_type": "code",
   "execution_count": 2,
   "metadata": {},
   "outputs": [
    {
     "name": "stdout",
     "output_type": "stream",
     "text": [
      "[2019-04-09 11:00:20][common.utils][DEBUG] Starting 'Loading  VQA contender'\n",
      "[2019-04-09 11:00:20][classes.vqa_model_predictor][DEBUG] Getting model #78 (post_concat_dense_units: 8;\n",
      "Optimizer: RMSprop\n",
      "loss: cosine_proximity\n",
      "activation: sigmoid\n",
      "prediction vector: words\n",
      "lstm_units: 0\n",
      "batch_size: 75\n",
      "Based on #72, with class weights\n",
      "\n",
      "model_location = 'C:\\Users\\Public\\Documents\\Data\\2019\\models\\20190409_1040_43\\vqa_model.h5')\n",
      "[2019-04-09 11:00:20][common.utils][DEBUG] Starting 'Loading Model'\n",
      "[2019-04-09 11:00:24][common.utils][DEBUG] Loading Model: 0:00:04.127377\n",
      "[2019-04-09 11:00:24][classes.vqa_model_predictor][WARNING] Expected main model to be with no question category, but got: \"Abnormality\"\n",
      "[2019-04-09 11:00:24][classes.vqa_model_predictor][DEBUG] Getting model #78 (post_concat_dense_units: 8;\n",
      "Optimizer: RMSprop\n",
      "loss: cosine_proximity\n",
      "activation: sigmoid\n",
      "prediction vector: words\n",
      "lstm_units: 0\n",
      "batch_size: 75\n",
      "Based on #72, with class weights\n",
      "\n",
      "model_location = 'C:\\Users\\Public\\Documents\\Data\\2019\\models\\20190409_1040_43\\vqa_model.h5')\n",
      "[2019-04-09 11:00:24][common.utils][DEBUG] Starting 'Loading Model'\n",
      "[2019-04-09 11:00:26][common.utils][DEBUG] Loading Model: 0:00:01.625555\n",
      "[2019-04-09 11:00:26][root][DEBUG] For Abnormality, got specialized model (DB: 78, Folder: ModelFolder(folder=\"C:\\\\Users\\\\Public\\\\Documents\\\\Data\\\\2019\\\\models\\\\20190409_1040_43\"))\n",
      "[2019-04-09 11:00:26][classes.vqa_model_predictor][DEBUG] Getting model #69 (prediction_vector: answers\n",
      " question_category: Modality\n",
      "augmentations: 20 \n",
      "epochs: 10\n",
      "batch size: 64\n",
      "based on model 5)\n",
      "[2019-04-09 11:00:26][common.utils][DEBUG] Starting 'Loading Model'\n",
      "[2019-04-09 11:00:28][common.utils][DEBUG] Loading Model: 0:00:01.865106\n",
      "[2019-04-09 11:00:28][root][DEBUG] For Modality, got specialized model (DB: 69, Folder: ModelFolder(folder=\"C:\\\\Users\\\\Public\\\\Documents\\\\Data\\\\2019\\\\models\\\\20190329_0133_06\"))\n",
      "[2019-04-09 11:00:28][classes.vqa_model_predictor][DEBUG] Getting model #70 (prediction_vector: answers\n",
      " question_category: Organ\n",
      "augmentations: 20 \n",
      "epochs: 10\n",
      "batch size: 64\n",
      "based on model 5)\n",
      "[2019-04-09 11:00:28][common.utils][DEBUG] Starting 'Loading Model'\n",
      "[2019-04-09 11:00:30][common.utils][DEBUG] Loading Model: 0:00:01.940631\n",
      "[2019-04-09 11:00:30][root][DEBUG] For Organ, got specialized model (DB: 70, Folder: ModelFolder(folder=\"C:\\\\Users\\\\Public\\\\Documents\\\\Data\\\\2019\\\\models\\\\20190329_0440_18\"))\n",
      "[2019-04-09 11:00:30][classes.vqa_model_predictor][DEBUG] Getting model #71 (prediction_vector: answers\n",
      " question_category: Plane\n",
      "augmentations: 20 \n",
      "epochs: 10\n",
      "batch size: 64\n",
      "based on model 5)\n",
      "[2019-04-09 11:00:30][common.utils][DEBUG] Starting 'Loading Model'\n",
      "[2019-04-09 11:00:32][common.utils][DEBUG] Loading Model: 0:00:02.153091\n",
      "[2019-04-09 11:00:32][root][DEBUG] For Plane, got specialized model (DB: 71, Folder: ModelFolder(folder=\"C:\\\\Users\\\\Public\\\\Documents\\\\Data\\\\2019\\\\models\\\\20190329_0647_26\"))\n",
      "[2019-04-09 11:00:32][data_access.api][DEBUG] loading processed data from:\n",
      "C:\\Users\\avitu\\Documents\\GitHub\\VQA-MED\\VQA-MED\\VQA.Python\\data\\model_input.parquet\n",
      "[2019-04-09 11:00:32][data_access.api][DEBUG] loading parquet from:\n",
      "C:\\Users\\avitu\\Documents\\GitHub\\VQA-MED\\VQA-MED\\VQA.Python\\data\\model_input.parquet\n",
      "[2019-04-09 11:00:32][common.utils][DEBUG] Starting 'Loading parquet'\n",
      "[2019-04-09 11:00:32][common.utils][DEBUG] Loading parquet: 0:00:00.108632\n",
      "[2019-04-09 11:00:32][common.utils][DEBUG] Starting 'Converting to pandas'\n",
      "[2019-04-09 11:00:32][common.utils][DEBUG] Converting to pandas: 0:00:00.003393\n",
      "[2019-04-09 11:00:32][data_access.api][DEBUG] loading processed data from:\n",
      "C:\\Users\\avitu\\Documents\\GitHub\\VQA-MED\\VQA-MED\\VQA.Python\\data\\model_input.parquet\n",
      "[2019-04-09 11:00:32][data_access.api][DEBUG] loading parquet from:\n",
      "C:\\Users\\avitu\\Documents\\GitHub\\VQA-MED\\VQA-MED\\VQA.Python\\data\\model_input.parquet\n",
      "[2019-04-09 11:00:32][common.utils][DEBUG] Starting 'Loading parquet'\n",
      "[2019-04-09 11:00:33][common.utils][DEBUG] Loading parquet: 0:00:00.549067\n",
      "[2019-04-09 11:00:33][common.utils][DEBUG] Starting 'Converting to pandas'\n",
      "[2019-04-09 11:00:33][common.utils][DEBUG] Converting to pandas: 0:00:00.005510\n",
      "[2019-04-09 11:00:33][common.utils][DEBUG] Loading  VQA contender: 0:00:12.714673\n"
     ]
    }
   ],
   "source": [
    "%%capture\n",
    "mp = DefaultVqaModelPredictor.get_contender()"
   ]
  },
  {
   "cell_type": "code",
   "execution_count": 3,
   "metadata": {},
   "outputs": [
    {
     "data": {
      "text/plain": [
       "VqaModelPredictor(model=78, specialized_classifiers={'Abnormality': 78, 'Modality': 69, 'Organ': 70, 'Plane': 71})"
      ]
     },
     "execution_count": 3,
     "metadata": {},
     "output_type": "execute_result"
    }
   ],
   "source": [
    "mp"
   ]
  },
  {
   "cell_type": "code",
   "execution_count": 4,
   "metadata": {},
   "outputs": [
    {
     "name": "stdout",
     "output_type": "stream",
     "text": [
      "[2019-04-09 11:00:33][common.utils][DEBUG] Starting 'Predictions for VQA contender test'\n",
      "[2019-04-09 11:00:33][classes.vqa_model_predictor][INFO] For Category \"Abnormality\" using specialized classifier from:\n",
      "ModelFolder(folder=\"C:\\\\Users\\\\Public\\\\Documents\\\\Data\\\\2019\\\\models\\\\20190409_1040_43\")\n",
      "[2019-04-09 11:00:33][classes.vqa_model_predictor][DEBUG] Classifying: \"Abnormality\"\n",
      "[2019-04-09 11:00:33][common.functions][DEBUG] Getting image features\n",
      "[2019-04-09 11:00:33][common.utils][DEBUG] Starting 'Raw model prediction'\n",
      "[2019-04-09 11:00:40][common.utils][DEBUG] Raw model prediction: 0:00:06.529068\n",
      "[2019-04-09 11:00:41][classes.vqa_model_predictor][INFO] For Category \"Modality\" using specialized classifier from:\n",
      "ModelFolder(folder=\"C:\\\\Users\\\\Public\\\\Documents\\\\Data\\\\2019\\\\models\\\\20190329_0133_06\")\n",
      "[2019-04-09 11:00:41][classes.vqa_model_predictor][DEBUG] Classifying: \"Modality\"\n",
      "[2019-04-09 11:00:41][common.functions][DEBUG] Getting image features\n",
      "[2019-04-09 11:00:41][common.utils][DEBUG] Starting 'Raw model prediction'\n",
      "[2019-04-09 11:00:45][common.utils][DEBUG] Raw model prediction: 0:00:03.556264\n",
      "[2019-04-09 11:00:45][classes.vqa_model_predictor][INFO] For Category \"Organ\" using specialized classifier from:\n",
      "ModelFolder(folder=\"C:\\\\Users\\\\Public\\\\Documents\\\\Data\\\\2019\\\\models\\\\20190329_0440_18\")\n",
      "[2019-04-09 11:00:45][classes.vqa_model_predictor][DEBUG] Classifying: \"Organ\"\n",
      "[2019-04-09 11:00:45][common.functions][DEBUG] Getting image features\n",
      "[2019-04-09 11:00:45][common.utils][DEBUG] Starting 'Raw model prediction'\n",
      "[2019-04-09 11:00:49][common.utils][DEBUG] Raw model prediction: 0:00:03.541494\n",
      "[2019-04-09 11:00:49][classes.vqa_model_predictor][INFO] For Category \"Plane\" using specialized classifier from:\n",
      "ModelFolder(folder=\"C:\\\\Users\\\\Public\\\\Documents\\\\Data\\\\2019\\\\models\\\\20190329_0647_26\")\n",
      "[2019-04-09 11:00:49][classes.vqa_model_predictor][DEBUG] Classifying: \"Plane\"\n",
      "[2019-04-09 11:00:49][common.functions][DEBUG] Getting image features\n",
      "[2019-04-09 11:00:50][common.utils][DEBUG] Starting 'Raw model prediction'\n",
      "[2019-04-09 11:00:51][common.utils][DEBUG] Raw model prediction: 0:00:01.710047\n",
      "[2019-04-09 11:00:51][common.utils][DEBUG] Predictions for VQA contender test: 0:00:18.627196\n",
      "[2019-04-09 11:00:52][common.utils][DEBUG] Starting 'Predictions for VQA contender validation'\n",
      "[2019-04-09 11:00:52][classes.vqa_model_predictor][INFO] For Category \"Abnormality\" using specialized classifier from:\n",
      "ModelFolder(folder=\"C:\\\\Users\\\\Public\\\\Documents\\\\Data\\\\2019\\\\models\\\\20190409_1040_43\")\n",
      "[2019-04-09 11:00:52][classes.vqa_model_predictor][DEBUG] Classifying: \"Abnormality\"\n",
      "[2019-04-09 11:00:52][common.functions][DEBUG] Getting image features\n",
      "[2019-04-09 11:00:53][common.utils][DEBUG] Starting 'Raw model prediction'\n",
      "[2019-04-09 11:01:00][common.utils][DEBUG] Raw model prediction: 0:00:07.391021\n",
      "[2019-04-09 11:01:03][classes.vqa_model_predictor][INFO] For Category \"Modality\" using specialized classifier from:\n",
      "ModelFolder(folder=\"C:\\\\Users\\\\Public\\\\Documents\\\\Data\\\\2019\\\\models\\\\20190329_0133_06\")\n",
      "[2019-04-09 11:01:03][classes.vqa_model_predictor][DEBUG] Classifying: \"Modality\"\n",
      "[2019-04-09 11:01:03][common.functions][DEBUG] Getting image features\n",
      "[2019-04-09 11:01:04][common.utils][DEBUG] Starting 'Raw model prediction'\n",
      "[2019-04-09 11:01:10][common.utils][DEBUG] Raw model prediction: 0:00:05.922643\n",
      "[2019-04-09 11:01:11][classes.vqa_model_predictor][INFO] For Category \"Organ\" using specialized classifier from:\n",
      "ModelFolder(folder=\"C:\\\\Users\\\\Public\\\\Documents\\\\Data\\\\2019\\\\models\\\\20190329_0440_18\")\n",
      "[2019-04-09 11:01:11][classes.vqa_model_predictor][DEBUG] Classifying: \"Organ\"\n",
      "[2019-04-09 11:01:11][common.functions][DEBUG] Getting image features\n",
      "[2019-04-09 11:01:13][common.utils][DEBUG] Starting 'Raw model prediction'\n",
      "[2019-04-09 11:01:18][common.utils][DEBUG] Raw model prediction: 0:00:05.882885\n",
      "[2019-04-09 11:01:19][classes.vqa_model_predictor][INFO] For Category \"Plane\" using specialized classifier from:\n",
      "ModelFolder(folder=\"C:\\\\Users\\\\Public\\\\Documents\\\\Data\\\\2019\\\\models\\\\20190329_0647_26\")\n",
      "[2019-04-09 11:01:19][classes.vqa_model_predictor][DEBUG] Classifying: \"Plane\"\n",
      "[2019-04-09 11:01:19][common.functions][DEBUG] Getting image features\n",
      "[2019-04-09 11:01:20][common.utils][DEBUG] Starting 'Raw model prediction'\n",
      "[2019-04-09 11:01:26][common.utils][DEBUG] Raw model prediction: 0:00:05.907054\n",
      "[2019-04-09 11:01:27][common.utils][DEBUG] Predictions for VQA contender validation: 0:00:35.891414\n"
     ]
    }
   ],
   "source": [
    "%%capture\n",
    "datasets = {'test':mp.df_test, 'validation':mp.df_validation}\n",
    "df_name_to_predict = 'test'\n",
    "\n",
    "\n",
    "predictions = {}\n",
    "\n",
    "for name, df in datasets.items():\n",
    "    with VerboseTimer(f\"Predictions for VQA contender {name}\"):\n",
    "        df_predictions = mp.predict(df)\n",
    "        predictions[name] = df_predictions\n",
    "\n",
    "\n",
    "\n",
    "predictions['validation'][:5]"
   ]
  },
  {
   "cell_type": "code",
   "execution_count": 5,
   "metadata": {},
   "outputs": [],
   "source": [
    "outputs = {}\n",
    "for name, df_predictions in predictions.items():\n",
    "    curr_predictions = df_predictions.prediction.values\n",
    "    df_predicted = datasets[name]\n",
    "    df_output = df_predicted.copy()\n",
    "    df_output['image_id'] = df_output.path.apply(lambda p: p.rsplit(os.sep)[-1].rsplit('.', 1)[0])\n",
    "    df_output['prediction'] = curr_predictions\n",
    "\n",
    "    columns_to_remove = ['path',  'answer_embedding', 'question_embedding', 'group', 'diagnosis', 'processed_answer']\n",
    "    for col in columns_to_remove:\n",
    "        del df_output[col]\n",
    "\n",
    "    sort_columns = sorted(df_output.columns, key=lambda c: c not in ['question', 'prediction', 'answer'])\n",
    "    df_output = df_output[sort_columns]    \n",
    "    outputs[name] = df_output"
   ]
  },
  {
   "cell_type": "code",
   "execution_count": 6,
   "metadata": {},
   "outputs": [],
   "source": [
    "df_output_test = outputs['test']\n",
    "df_output_validation = outputs['validation']"
   ]
  },
  {
   "cell_type": "code",
   "execution_count": 7,
   "metadata": {},
   "outputs": [
    {
     "data": {
      "text/html": [
       "<div>\n",
       "<style scoped>\n",
       "    .dataframe tbody tr th:only-of-type {\n",
       "        vertical-align: middle;\n",
       "    }\n",
       "\n",
       "    .dataframe tbody tr th {\n",
       "        vertical-align: top;\n",
       "    }\n",
       "\n",
       "    .dataframe thead th {\n",
       "        text-align: right;\n",
       "    }\n",
       "</style>\n",
       "<table border=\"1\" class=\"dataframe\">\n",
       "  <thead>\n",
       "    <tr style=\"text-align: right;\">\n",
       "      <th></th>\n",
       "      <th>question</th>\n",
       "      <th>answer</th>\n",
       "      <th>prediction</th>\n",
       "      <th>image_name</th>\n",
       "      <th>processed_question</th>\n",
       "      <th>question_category</th>\n",
       "      <th>image_id</th>\n",
       "    </tr>\n",
       "  </thead>\n",
       "  <tbody>\n",
       "    <tr>\n",
       "      <th>13550</th>\n",
       "      <td>which plane is the image shown in?</td>\n",
       "      <td>longitudinal</td>\n",
       "      <td>transverse</td>\n",
       "      <td>synpic27433.jpg</td>\n",
       "      <td>which plane is the image shown in</td>\n",
       "      <td>Plane</td>\n",
       "      <td>synpic27433</td>\n",
       "    </tr>\n",
       "    <tr>\n",
       "      <th>13247</th>\n",
       "      <td>what imaging modality was used to take this im...</td>\n",
       "      <td>mr - t1w w/gadolinium</td>\n",
       "      <td>mr t2 weighted</td>\n",
       "      <td>synpic54675.jpg</td>\n",
       "      <td>what imaging modality was used to take this image</td>\n",
       "      <td>Modality</td>\n",
       "      <td>synpic54675</td>\n",
       "    </tr>\n",
       "    <tr>\n",
       "      <th>13097</th>\n",
       "      <td>is this a contrast or noncontrast ct?</td>\n",
       "      <td>noncontrast</td>\n",
       "      <td>noncontrast</td>\n",
       "      <td>synpic28295.jpg</td>\n",
       "      <td>is this contrast or noncontrast ct</td>\n",
       "      <td>Modality</td>\n",
       "      <td>synpic28295</td>\n",
       "    </tr>\n",
       "    <tr>\n",
       "      <th>14597</th>\n",
       "      <td>what abnormality is seen in the image?</td>\n",
       "      <td>mucocele</td>\n",
       "      <td>abscess cerebral glioblastoma multiforme menin...</td>\n",
       "      <td>synpic28295.jpg</td>\n",
       "      <td>what abnormality is seen in the image</td>\n",
       "      <td>Abnormality</td>\n",
       "      <td>synpic28295</td>\n",
       "    </tr>\n",
       "    <tr>\n",
       "      <th>13552</th>\n",
       "      <td>in what plane was this image taken?</td>\n",
       "      <td>axial</td>\n",
       "      <td>axial</td>\n",
       "      <td>synpic42268.jpg</td>\n",
       "      <td>in what plane was this image taken</td>\n",
       "      <td>Plane</td>\n",
       "      <td>synpic42268</td>\n",
       "    </tr>\n",
       "    <tr>\n",
       "      <th>14538</th>\n",
       "      <td>what is most alarming about this mri?</td>\n",
       "      <td>tricholemmoma</td>\n",
       "      <td>cyst astrocytoma acute cerebral cell</td>\n",
       "      <td>synpic45466.jpg</td>\n",
       "      <td>what is most alarming about this mri</td>\n",
       "      <td>Abnormality</td>\n",
       "      <td>synpic45466</td>\n",
       "    </tr>\n",
       "    <tr>\n",
       "      <th>14083</th>\n",
       "      <td>what is the organ principally shown in this ul...</td>\n",
       "      <td>vascular and lymphatic</td>\n",
       "      <td>skull and contents</td>\n",
       "      <td>synpic25374.jpg</td>\n",
       "      <td>what is the organ principally shown in this ul...</td>\n",
       "      <td>Organ</td>\n",
       "      <td>synpic25374</td>\n",
       "    </tr>\n",
       "    <tr>\n",
       "      <th>13992</th>\n",
       "      <td>what organ system is evaluated primarily?</td>\n",
       "      <td>skull and contents</td>\n",
       "      <td>skull and contents</td>\n",
       "      <td>synpic54169.jpg</td>\n",
       "      <td>what organ system is evaluated primarily</td>\n",
       "      <td>Organ</td>\n",
       "      <td>synpic54169</td>\n",
       "    </tr>\n",
       "    <tr>\n",
       "      <th>13327</th>\n",
       "      <td>in what plane is this image taken?</td>\n",
       "      <td>axial</td>\n",
       "      <td>axial</td>\n",
       "      <td>synpic19169.jpg</td>\n",
       "      <td>in what plane is this image taken</td>\n",
       "      <td>Plane</td>\n",
       "      <td>synpic19169</td>\n",
       "    </tr>\n",
       "    <tr>\n",
       "      <th>12929</th>\n",
       "      <td>what type of image modality is this?</td>\n",
       "      <td>an - angiogram</td>\n",
       "      <td>mr other pulse seq</td>\n",
       "      <td>synpic33236.jpg</td>\n",
       "      <td>what type of image modality is this</td>\n",
       "      <td>Modality</td>\n",
       "      <td>synpic33236</td>\n",
       "    </tr>\n",
       "  </tbody>\n",
       "</table>\n",
       "</div>"
      ],
      "text/plain": [
       "                                                question  \\\n",
       "13550                 which plane is the image shown in?   \n",
       "13247  what imaging modality was used to take this im...   \n",
       "13097              is this a contrast or noncontrast ct?   \n",
       "14597             what abnormality is seen in the image?   \n",
       "13552                in what plane was this image taken?   \n",
       "14538              what is most alarming about this mri?   \n",
       "14083  what is the organ principally shown in this ul...   \n",
       "13992          what organ system is evaluated primarily?   \n",
       "13327                 in what plane is this image taken?   \n",
       "12929               what type of image modality is this?   \n",
       "\n",
       "                       answer  \\\n",
       "13550            longitudinal   \n",
       "13247   mr - t1w w/gadolinium   \n",
       "13097             noncontrast   \n",
       "14597                mucocele   \n",
       "13552                   axial   \n",
       "14538           tricholemmoma   \n",
       "14083  vascular and lymphatic   \n",
       "13992      skull and contents   \n",
       "13327                   axial   \n",
       "12929          an - angiogram   \n",
       "\n",
       "                                              prediction       image_name  \\\n",
       "13550                                         transverse  synpic27433.jpg   \n",
       "13247                                     mr t2 weighted  synpic54675.jpg   \n",
       "13097                                        noncontrast  synpic28295.jpg   \n",
       "14597  abscess cerebral glioblastoma multiforme menin...  synpic28295.jpg   \n",
       "13552                                              axial  synpic42268.jpg   \n",
       "14538               cyst astrocytoma acute cerebral cell  synpic45466.jpg   \n",
       "14083                                 skull and contents  synpic25374.jpg   \n",
       "13992                                 skull and contents  synpic54169.jpg   \n",
       "13327                                              axial  synpic19169.jpg   \n",
       "12929                                 mr other pulse seq  synpic33236.jpg   \n",
       "\n",
       "                                      processed_question question_category  \\\n",
       "13550                  which plane is the image shown in             Plane   \n",
       "13247  what imaging modality was used to take this image          Modality   \n",
       "13097                 is this contrast or noncontrast ct          Modality   \n",
       "14597              what abnormality is seen in the image       Abnormality   \n",
       "13552                 in what plane was this image taken             Plane   \n",
       "14538               what is most alarming about this mri       Abnormality   \n",
       "14083  what is the organ principally shown in this ul...             Organ   \n",
       "13992           what organ system is evaluated primarily             Organ   \n",
       "13327                  in what plane is this image taken             Plane   \n",
       "12929                what type of image modality is this          Modality   \n",
       "\n",
       "          image_id  \n",
       "13550  synpic27433  \n",
       "13247  synpic54675  \n",
       "13097  synpic28295  \n",
       "14597  synpic28295  \n",
       "13552  synpic42268  \n",
       "14538  synpic45466  \n",
       "14083  synpic25374  \n",
       "13992  synpic54169  \n",
       "13327  synpic19169  \n",
       "12929  synpic33236  "
      ]
     },
     "execution_count": 7,
     "metadata": {},
     "output_type": "execute_result"
    }
   ],
   "source": [
    "display = df_output_validation[df_output_validation.question_category == 'Abnormality']\n",
    "display = df_output_validation\n",
    "display.sample(10)"
   ]
  },
  {
   "cell_type": "code",
   "execution_count": 8,
   "metadata": {},
   "outputs": [
    {
     "data": {
      "text/plain": [
       "VqaModelPredictor(model=78, specialized_classifiers={'Abnormality': 78, 'Modality': 69, 'Organ': 70, 'Plane': 71})"
      ]
     },
     "execution_count": 8,
     "metadata": {},
     "output_type": "execute_result"
    }
   ],
   "source": [
    "mp"
   ]
  },
  {
   "cell_type": "code",
   "execution_count": 9,
   "metadata": {},
   "outputs": [
    {
     "data": {
      "text/plain": [
       "(500, 500)"
      ]
     },
     "execution_count": 9,
     "metadata": {},
     "output_type": "execute_result"
    }
   ],
   "source": [
    "len(df_output_test), len(df_output_test.image_id.drop_duplicates())"
   ]
  },
  {
   "cell_type": "code",
   "execution_count": 10,
   "metadata": {},
   "outputs": [],
   "source": [
    "def get_str(df):\n",
    "    strs = []\n",
    "    debug_output_rows = df.apply(lambda row: row.image_id + '|'+ row.question + '|'+ row.prediction, axis=1 )\n",
    "    output_rows = df.apply(lambda row: row.image_id + '|'+ row.prediction + '|'+row.answer, axis=1 )\n",
    "    output_rows = output_rows.str.strip('|')\n",
    "    rows = output_rows.values\n",
    "    res = '\\n'.join(rows)\n",
    "    return res\n",
    "\n",
    "res = get_str(df_output_test)\n",
    "#res_val = get_str(df_output_validation)\n"
   ]
  },
  {
   "cell_type": "code",
   "execution_count": 11,
   "metadata": {},
   "outputs": [
    {
     "name": "stdout",
     "output_type": "stream",
     "text": [
      "synpic54082|cta ct angiography\n",
      "synpic48556|no\n",
      "synpic50696|iv\n",
      "synpic37194|us doppler ultrasound\n",
      "synpic31308|an angiogram\n",
      "synpic24739|t1\n",
      "synpic32365|yes\n",
      "synpic47936|iv\n",
      "synpic29792|yes\n",
      "synpic43561|no\n",
      "syn\n"
     ]
    }
   ],
   "source": [
    "print(res[:200])"
   ]
  },
  {
   "cell_type": "markdown",
   "metadata": {},
   "source": [
    "### Get evaluations per category:"
   ]
  },
  {
   "cell_type": "code",
   "execution_count": 12,
   "metadata": {},
   "outputs": [
    {
     "name": "stderr",
     "output_type": "stream",
     "text": [
      "evaluating 500 for Plane items: 100%|███████████████████████████████████████████████████████████████████████████████████████████████████████████████████████████████████████████████████████████████████████████| 4/4 [00:09<00:00,  3.12s/it]\n"
     ]
    }
   ],
   "source": [
    "evaluations = {}\n",
    "pbar = tqdm(df_output_validation.groupby('question_category'))\n",
    "for question_category, df in pbar:        \n",
    "    pbar.set_description(f'evaluating {len(df)} for {question_category} items')\n",
    "    curr_predictions = df.prediction.values\n",
    "    curr_ground_truth = df.answer.values\n",
    "    curr_evaluations = VqaMedEvaluatorBase.get_all_evaluation(predictions=curr_predictions, ground_truth=curr_ground_truth)\n",
    "    evaluations[question_category] = curr_evaluations    \n",
    "\n",
    "   \n"
   ]
  },
  {
   "cell_type": "markdown",
   "metadata": {},
   "source": [
    "### Get Total Evaluation:"
   ]
  },
  {
   "cell_type": "code",
   "execution_count": 13,
   "metadata": {},
   "outputs": [],
   "source": [
    "total_evaluations = VqaMedEvaluatorBase.get_all_evaluation(predictions=df_output_validation.prediction.values, ground_truth=df_output_validation.answer.values)    \n",
    "evaluations['Total'] = total_evaluations"
   ]
  },
  {
   "cell_type": "code",
   "execution_count": 14,
   "metadata": {},
   "outputs": [
    {
     "data": {
      "text/html": [
       "<div>\n",
       "<style scoped>\n",
       "    .dataframe tbody tr th:only-of-type {\n",
       "        vertical-align: middle;\n",
       "    }\n",
       "\n",
       "    .dataframe tbody tr th {\n",
       "        vertical-align: top;\n",
       "    }\n",
       "\n",
       "    .dataframe thead th {\n",
       "        text-align: right;\n",
       "    }\n",
       "</style>\n",
       "<table border=\"1\" class=\"dataframe\">\n",
       "  <thead>\n",
       "    <tr style=\"text-align: right;\">\n",
       "      <th></th>\n",
       "      <th>bleu</th>\n",
       "      <th>wbss</th>\n",
       "    </tr>\n",
       "  </thead>\n",
       "  <tbody>\n",
       "    <tr>\n",
       "      <th>Abnormality</th>\n",
       "      <td>0.165479</td>\n",
       "      <td>0.155145</td>\n",
       "    </tr>\n",
       "    <tr>\n",
       "      <th>Organ</th>\n",
       "      <td>0.708409</td>\n",
       "      <td>0.699596</td>\n",
       "    </tr>\n",
       "    <tr>\n",
       "      <th>Modality</th>\n",
       "      <td>0.763459</td>\n",
       "      <td>0.713040</td>\n",
       "    </tr>\n",
       "    <tr>\n",
       "      <th>Plane</th>\n",
       "      <td>0.739682</td>\n",
       "      <td>0.743336</td>\n",
       "    </tr>\n",
       "    <tr>\n",
       "      <th>Total</th>\n",
       "      <td>0.594257</td>\n",
       "      <td>0.577779</td>\n",
       "    </tr>\n",
       "  </tbody>\n",
       "</table>\n",
       "</div>"
      ],
      "text/plain": [
       "                 bleu      wbss\n",
       "Abnormality  0.165479  0.155145\n",
       "Organ        0.708409  0.699596\n",
       "Modality     0.763459  0.713040\n",
       "Plane        0.739682  0.743336\n",
       "Total        0.594257  0.577779"
      ]
     },
     "execution_count": 14,
     "metadata": {},
     "output_type": "execute_result"
    }
   ],
   "source": [
    "evaluations\n",
    "df_evaluations = pd.DataFrame(evaluations).T#.sort_values(by=('bleu'))\n",
    "df_evaluations['sort'] = df_evaluations.index == 'Total'\n",
    "df_evaluations = df_evaluations.sort_values(by = ['sort', 'wbss'])\n",
    "del df_evaluations['sort']\n",
    "df_evaluations"
   ]
  },
  {
   "cell_type": "code",
   "execution_count": 15,
   "metadata": {},
   "outputs": [
    {
     "name": "stdout",
     "output_type": "stream",
     "text": [
      "\n",
      "==Model==\n",
      "VqaModelPredictor(model=78, specialized_classifiers={'Abnormality': 78, 'Modality': 69, 'Organ': 70, 'Plane': 71})\n",
      "\n",
      "==Submodels==\n",
      "Abnormality: ModelFolder(folder=\"C:\\\\Users\\\\Public\\\\Documents\\\\Data\\\\2019\\\\models\\\\20190409_1040_43\") (words)\n",
      "Modality: ModelFolder(folder=\"C:\\\\Users\\\\Public\\\\Documents\\\\Data\\\\2019\\\\models\\\\20190329_0133_06\") (answers)\n",
      "Organ: ModelFolder(folder=\"C:\\\\Users\\\\Public\\\\Documents\\\\Data\\\\2019\\\\models\\\\20190329_0440_18\") (answers)\n",
      "Plane: ModelFolder(folder=\"C:\\\\Users\\\\Public\\\\Documents\\\\Data\\\\2019\\\\models\\\\20190329_0647_26\") (answers)\n",
      "\n",
      "==validation evaluation==\n",
      "                 bleu      wbss prediction_vector\n",
      "Abnormality  0.165479  0.155145             words\n",
      "Organ        0.708409  0.699596           answers\n",
      "Modality     0.763459  0.713040           answers\n",
      "Plane        0.739682  0.743336           answers\n",
      "Total        0.594257  0.577779                --\n",
      "\n"
     ]
    }
   ],
   "source": [
    "model_repr = repr(mp)\n",
    "model_repr\n",
    "sub_models = {category: folder for category, (model, folder) in mp.model_by_question_category.items()}\n",
    "sub_models_str = '\\n'.join([str(f'{category}: {folder} ({folder.prediction_data_name})') for category, folder in sub_models.items() if folder is not None])\n",
    "\n",
    "model_description_copy = df_evaluations.copy()\n",
    "\n",
    "def get_prediction_vector(category):\n",
    "    sub_model = sub_models.get(category)\n",
    "    if sub_model is not None:\n",
    "        return sub_model.prediction_data_name\n",
    "    else:\n",
    "        return '--'\n",
    "    \n",
    "model_description_copy['prediction_vector'] = model_description_copy.index.map(get_prediction_vector)\n",
    "\n",
    "\n",
    "model_description =f'''\n",
    "==Model==\n",
    "{model_repr}\n",
    "\n",
    "==Submodels==\n",
    "{sub_models_str}\n",
    "\n",
    "==validation evaluation==\n",
    "{model_description_copy.to_string()}\n",
    "'''\n",
    "\n",
    "\n",
    "print(model_description)\n",
    "\n"
   ]
  },
  {
   "cell_type": "code",
   "execution_count": 16,
   "metadata": {},
   "outputs": [],
   "source": [
    "import time\n",
    "now = time.time()\n",
    "ts = datetime.datetime.fromtimestamp(now).strftime('%Y%m%d_%H%M_%S')\n",
    "submission_base_folder = Path('C:\\\\Users\\\\Public\\\\Documents\\\\Data\\\\2019\\\\submissions')\n",
    "submission_folder = submission_base_folder/ts\n",
    "submission_folder.mkdir()\n",
    "\n",
    "\n",
    "txt_path = submission_folder/f'submission_{ts}.txt'\n",
    "txt_path.write_text(res)\n",
    "\n",
    "\n",
    "model_description_path = submission_folder/f'model_description.txt'\n",
    "model_description_path.write_text(model_description)\n",
    "\n",
    "with pd.HDFStore(str(submission_folder/ 'predictions.hdf')) as store:\n",
    "    for name, df_predictions in predictions.items():\n",
    "        store[name] = df_predictions"
   ]
  },
  {
   "cell_type": "code",
   "execution_count": 17,
   "metadata": {},
   "outputs": [
    {
     "name": "stdout",
     "output_type": "stream",
     "text": [
      "validation\n"
     ]
    },
    {
     "data": {
      "text/html": [
       "<div>\n",
       "<style scoped>\n",
       "    .dataframe tbody tr th:only-of-type {\n",
       "        vertical-align: middle;\n",
       "    }\n",
       "\n",
       "    .dataframe tbody tr th {\n",
       "        vertical-align: top;\n",
       "    }\n",
       "\n",
       "    .dataframe thead th {\n",
       "        text-align: right;\n",
       "    }\n",
       "</style>\n",
       "<table border=\"1\" class=\"dataframe\">\n",
       "  <thead>\n",
       "    <tr style=\"text-align: right;\">\n",
       "      <th></th>\n",
       "      <th>image_name</th>\n",
       "      <th>question</th>\n",
       "      <th>answer</th>\n",
       "      <th>prediction</th>\n",
       "      <th>probabilities</th>\n",
       "      <th>path</th>\n",
       "    </tr>\n",
       "    <tr>\n",
       "      <th>index</th>\n",
       "      <th></th>\n",
       "      <th></th>\n",
       "      <th></th>\n",
       "      <th></th>\n",
       "      <th></th>\n",
       "      <th></th>\n",
       "    </tr>\n",
       "  </thead>\n",
       "  <tbody>\n",
       "    <tr>\n",
       "      <th>13400</th>\n",
       "      <td>synpic27730.jpg</td>\n",
       "      <td>what plane is this film</td>\n",
       "      <td>transverse</td>\n",
       "      <td>coronal</td>\n",
       "      <td>[(0.163)]</td>\n",
       "      <td>C:\\Users\\Public\\Documents\\Data\\2019\\validation...</td>\n",
       "    </tr>\n",
       "    <tr>\n",
       "      <th>12978</th>\n",
       "      <td>synpic56608.jpg</td>\n",
       "      <td>what imaging modality was used to take this im...</td>\n",
       "      <td>ct noncontrast</td>\n",
       "      <td>ct noncontrast</td>\n",
       "      <td>[(0.000)]</td>\n",
       "      <td>C:\\Users\\Public\\Documents\\Data\\2019\\validation...</td>\n",
       "    </tr>\n",
       "    <tr>\n",
       "      <th>14396</th>\n",
       "      <td>synpic17620.jpg</td>\n",
       "      <td>what is most alarming about this ct scan?</td>\n",
       "      <td>cholangiocarcinoma</td>\n",
       "      <td>carcinoma breast adenocarcinoma lung gastroint...</td>\n",
       "      <td>[(0.000), (0.000), (0.000), (0.000), (0.000)]</td>\n",
       "      <td>C:\\Users\\Public\\Documents\\Data\\2019\\validation...</td>\n",
       "    </tr>\n",
       "    <tr>\n",
       "      <th>14763</th>\n",
       "      <td>synpic58887.jpg</td>\n",
       "      <td>what abnormality is seen in the image?</td>\n",
       "      <td>bone metastasis</td>\n",
       "      <td>cyst cerebral aneurysm spinal fracture</td>\n",
       "      <td>[(0.000), (0.000), (0.000), (0.000), (0.000)]</td>\n",
       "      <td>C:\\Users\\Public\\Documents\\Data\\2019\\validation...</td>\n",
       "    </tr>\n",
       "    <tr>\n",
       "      <th>13719</th>\n",
       "      <td>synpic50775.jpg</td>\n",
       "      <td>what plane was used in this mri?</td>\n",
       "      <td>sagittal</td>\n",
       "      <td>axial</td>\n",
       "      <td>[(0.133)]</td>\n",
       "      <td>C:\\Users\\Public\\Documents\\Data\\2019\\validation...</td>\n",
       "    </tr>\n",
       "  </tbody>\n",
       "</table>\n",
       "</div>"
      ],
      "text/plain": [
       "            image_name                                           question  \\\n",
       "index                                                                       \n",
       "13400  synpic27730.jpg                            what plane is this film   \n",
       "12978  synpic56608.jpg  what imaging modality was used to take this im...   \n",
       "14396  synpic17620.jpg          what is most alarming about this ct scan?   \n",
       "14763  synpic58887.jpg             what abnormality is seen in the image?   \n",
       "13719  synpic50775.jpg                   what plane was used in this mri?   \n",
       "\n",
       "                   answer                                         prediction  \\\n",
       "index                                                                          \n",
       "13400          transverse                                            coronal   \n",
       "12978      ct noncontrast                                     ct noncontrast   \n",
       "14396  cholangiocarcinoma  carcinoma breast adenocarcinoma lung gastroint...   \n",
       "14763     bone metastasis             cyst cerebral aneurysm spinal fracture   \n",
       "13719            sagittal                                              axial   \n",
       "\n",
       "                                       probabilities  \\\n",
       "index                                                  \n",
       "13400                                      [(0.163)]   \n",
       "12978                                      [(0.000)]   \n",
       "14396  [(0.000), (0.000), (0.000), (0.000), (0.000)]   \n",
       "14763  [(0.000), (0.000), (0.000), (0.000), (0.000)]   \n",
       "13719                                      [(0.133)]   \n",
       "\n",
       "                                                    path  \n",
       "index                                                     \n",
       "13400  C:\\Users\\Public\\Documents\\Data\\2019\\validation...  \n",
       "12978  C:\\Users\\Public\\Documents\\Data\\2019\\validation...  \n",
       "14396  C:\\Users\\Public\\Documents\\Data\\2019\\validation...  \n",
       "14763  C:\\Users\\Public\\Documents\\Data\\2019\\validation...  \n",
       "13719  C:\\Users\\Public\\Documents\\Data\\2019\\validation...  "
      ]
     },
     "execution_count": 17,
     "metadata": {},
     "output_type": "execute_result"
    }
   ],
   "source": [
    "print(name)\n",
    "df_predictions.sample(5)"
   ]
  },
  {
   "cell_type": "code",
   "execution_count": 18,
   "metadata": {},
   "outputs": [
    {
     "data": {
      "text/plain": [
       "('pericardial cyst',\n",
       " 'multiforme glioblastoma abscess meningioma cerebral',\n",
       " array(['(0.003), (0.003), (0.002), (0.002), (0.002)'], dtype=object))"
      ]
     },
     "execution_count": 18,
     "metadata": {},
     "output_type": "execute_result"
    }
   ],
   "source": [
    "idx = 14525\n",
    "series = df_predictions.loc[idx]\n",
    "series.answer, series.prediction ,series.probabilities "
   ]
  },
  {
   "cell_type": "code",
   "execution_count": 19,
   "metadata": {},
   "outputs": [
    {
     "data": {
      "text/plain": [
       "VqaModelPredictor(model=78, specialized_classifiers={'Abnormality': 78, 'Modality': 69, 'Organ': 70, 'Plane': 71})"
      ]
     },
     "execution_count": 19,
     "metadata": {},
     "output_type": "execute_result"
    }
   ],
   "source": [
    "mp"
   ]
  }
 ],
 "metadata": {
  "kernelspec": {
   "display_name": "Python 3",
   "language": "python",
   "name": "python3"
  },
  "language_info": {
   "codemirror_mode": {
    "name": "ipython",
    "version": 3
   },
   "file_extension": ".py",
   "mimetype": "text/x-python",
   "name": "python",
   "nbconvert_exporter": "python",
   "pygments_lexer": "ipython3",
   "version": "3.6.7"
  }
 },
 "nbformat": 4,
 "nbformat_minor": 2
}
