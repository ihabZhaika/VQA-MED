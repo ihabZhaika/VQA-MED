{
 "cells": [
  {
   "cell_type": "code",
   "execution_count": 1,
   "metadata": {},
   "outputs": [
    {
     "name": "stderr",
     "output_type": "stream",
     "text": [
      "Using TensorFlow backend.\n"
     ]
    }
   ],
   "source": [
    "import os\n",
    "import pandas as pd\n",
    "from tqdm import tqdm\n",
    "from classes.vqa_model_predictor import DefaultVqaModelPredictor\n",
    "from evaluate.VqaMedEvaluatorBase import VqaMedEvaluatorBase\n",
    "from common.utils import VerboseTimer\n",
    "import vqa_logger \n",
    "import logging\n",
    "from pathlib import Path\n",
    "import datetime\n",
    "logger = logging.getLogger(__name__)"
   ]
  },
  {
   "cell_type": "code",
   "execution_count": 2,
   "metadata": {},
   "outputs": [
    {
     "name": "stdout",
     "output_type": "stream",
     "text": [
      "[2019-04-30 22:47:00][classes.vqa_model_predictor][DEBUG] Getting model #185 (post_concat_dense_units: (8, 7, 6);\n",
      "Optimizer: RMSprop\n",
      "loss: cosine_proximity\n",
      "activation: sigmoid\n",
      "prediction vector: words\n",
      "lstm_units: 128\n",
      "batch_size: 32\n",
      "epochs: 4\n",
      "class weights: False\n",
      "Inputs Attention: False\n",
      "\n",
      "\n",
      "model_location = 'C:\\Users\\Public\\Documents\\Data\\2019\\models\\20190430_0104_56_Abnormality_dense_8_7_6_lstm_128_trained\\vqa_model.h5')\n",
      "[2019-04-30 22:47:00][common.utils][DEBUG] Starting 'Loading Model'\n",
      "[2019-04-30 22:47:05][common.utils][DEBUG] Loading Model: 0:00:05.515295\n",
      "[2019-04-30 22:47:05][classes.vqa_model_predictor][WARNING] Expected main model to be with no question category, but got: \"Abnormality\"\n",
      "[2019-04-30 22:47:05][classes.vqa_model_predictor][DEBUG] Getting model #185 (post_concat_dense_units: (8, 7, 6);\n",
      "Optimizer: RMSprop\n",
      "loss: cosine_proximity\n",
      "activation: sigmoid\n",
      "prediction vector: words\n",
      "lstm_units: 128\n",
      "batch_size: 32\n",
      "epochs: 4\n",
      "class weights: False\n",
      "Inputs Attention: False\n",
      "\n",
      "\n",
      "model_location = 'C:\\Users\\Public\\Documents\\Data\\2019\\models\\20190430_0104_56_Abnormality_dense_8_7_6_lstm_128_trained\\vqa_model.h5')\n",
      "[2019-04-30 22:47:06][common.utils][DEBUG] Starting 'Loading Model'\n",
      "[2019-04-30 22:47:09][common.utils][DEBUG] Loading Model: 0:00:03.452802\n",
      "[2019-04-30 22:47:09][root][DEBUG] For Abnormality, got specialized model (DB: 185, Folder: ModelFolder(folder=\"C:\\\\Users\\\\Public\\\\Documents\\\\Data\\\\2019\\\\models\\\\20190430_0104_56_Abnormality_dense_8_7_6_lstm_128_trained\"))\n",
      "[2019-04-30 22:47:09][classes.vqa_model_predictor][DEBUG] Getting model #184 (post_concat_dense_units: [8, 6];\n",
      "Optimizer: RMSprop\n",
      "loss: categorical_crossentropy\n",
      "activation: softmax\n",
      "prediction vector: answers\n",
      "lstm_units: 0\n",
      "batch_size: 32\n",
      "epochs: 10\n",
      "class weights: False\n",
      "Inputs Attention: False\n",
      "For Category: Modality\n",
      "\n",
      "model_location = 'C:\\Users\\Public\\Documents\\Data\\2019\\models\\20190429_0405_41_Modality_dense_8_6_trained\\vqa_model.h5')\n",
      "[2019-04-30 22:47:09][common.utils][DEBUG] Starting 'Loading Model'\n",
      "[2019-04-30 22:47:11][common.utils][DEBUG] Loading Model: 0:00:02.293458\n",
      "[2019-04-30 22:47:11][root][DEBUG] For Modality, got specialized model (DB: 184, Folder: ModelFolder(folder=\"C:\\\\Users\\\\Public\\\\Documents\\\\Data\\\\2019\\\\models\\\\20190429_0405_41_Modality_dense_8_6_trained\"))\n",
      "[2019-04-30 22:47:11][classes.vqa_model_predictor][DEBUG] Getting model #183 (post_concat_dense_units: [8, 6];\n",
      "Optimizer: RMSprop\n",
      "loss: categorical_crossentropy\n",
      "activation: softmax\n",
      "prediction vector: answers\n",
      "lstm_units: 0\n",
      "batch_size: 32\n",
      "epochs: 7\n",
      "class weights: False\n",
      "Inputs Attention: False\n",
      "For Category: Organ\n",
      "\n",
      "model_location = 'C:\\Users\\Public\\Documents\\Data\\2019\\models\\20190429_0153_45_Organ_dense_8_6_trained\\vqa_model.h5')\n",
      "[2019-04-30 22:47:11][common.utils][DEBUG] Starting 'Loading Model'\n",
      "[2019-04-30 22:47:14][common.utils][DEBUG] Loading Model: 0:00:03.086074\n",
      "[2019-04-30 22:47:14][root][DEBUG] For Organ, got specialized model (DB: 183, Folder: ModelFolder(folder=\"C:\\\\Users\\\\Public\\\\Documents\\\\Data\\\\2019\\\\models\\\\20190429_0153_45_Organ_dense_8_6_trained\"))\n",
      "[2019-04-30 22:47:15][classes.vqa_model_predictor][DEBUG] Getting model #188 (post_concat_dense_units: [8];\n",
      "Optimizer: RMSprop\n",
      "loss: categorical_crossentropy\n",
      "activation: softmax\n",
      "prediction vector: answers\n",
      "lstm_units: 0\n",
      "batch_size: 32\n",
      "epochs: 5\n",
      "class weights: False\n",
      "Inputs Attention: False\n",
      "For Category: Plane\n",
      "\n",
      "model_location = 'C:\\Users\\Public\\Documents\\Data\\2019\\models\\20190430_2147_46_Plane_dense_8_trained\\vqa_model.h5')\n",
      "[2019-04-30 22:47:15][common.utils][DEBUG] Starting 'Loading Model'\n",
      "[2019-04-30 22:47:18][common.utils][DEBUG] Loading Model: 0:00:03.536194\n",
      "[2019-04-30 22:47:18][root][DEBUG] For Plane, got specialized model (DB: 188, Folder: ModelFolder(folder=\"C:\\\\Users\\\\Public\\\\Documents\\\\Data\\\\2019\\\\models\\\\20190430_2147_46_Plane_dense_8_trained\"))\n",
      "[2019-04-30 22:47:18][classes.vqa_model_predictor][DEBUG] Getting model #178 (post_concat_dense_units: [8, 6];\n",
      "Optimizer: RMSprop\n",
      "loss: categorical_crossentropy\n",
      "activation: softmax\n",
      "prediction vector: answers\n",
      "lstm_units: 0\n",
      "batch_size: 75\n",
      "epochs: 2\n",
      "class weights: True\n",
      "Inputs Attention: False\n",
      "For Category: Abnormality_yes_no\n",
      "\n",
      "model_location = 'C:\\Users\\Public\\Documents\\Data\\2019\\models\\20190428_1729_41_Abnormality_yes_no_trained\\vqa_model.h5')\n",
      "[2019-04-30 22:47:18][common.utils][DEBUG] Starting 'Loading Model'\n",
      "[2019-04-30 22:47:22][common.utils][DEBUG] Loading Model: 0:00:04.238625\n",
      "[2019-04-30 22:47:22][root][DEBUG] For Abnormality_yes_no, got specialized model (DB: 178, Folder: ModelFolder(folder=\"C:\\\\Users\\\\Public\\\\Documents\\\\Data\\\\2019\\\\models\\\\20190428_1729_41_Abnormality_yes_no_trained\"))\n",
      "[2019-04-30 22:47:22][data_access.api][DEBUG] loading processed data from:\n",
      "C:\\Users\\avitu\\Documents\\GitHub\\VQA-MED\\VQA-MED\\VQA.Python\\data\\model_input.parquet\n",
      "[2019-04-30 22:47:22][data_access.api][DEBUG] loading parquet from:\n",
      "C:\\Users\\avitu\\Documents\\GitHub\\VQA-MED\\VQA-MED\\VQA.Python\\data\\model_input.parquet\n",
      "[2019-04-30 22:47:22][common.utils][DEBUG] Starting 'Loading parquet'\n",
      "[2019-04-30 22:47:23][common.utils][DEBUG] Loading parquet: 0:00:00.241633\n",
      "[2019-04-30 22:47:23][common.utils][DEBUG] Starting 'Converting to pandas'\n",
      "[2019-04-30 22:47:23][common.utils][DEBUG] Converting to pandas: 0:00:00.006389\n",
      "[2019-04-30 22:47:23][data_access.api][DEBUG] loading processed data from:\n",
      "C:\\Users\\avitu\\Documents\\GitHub\\VQA-MED\\VQA-MED\\VQA.Python\\data\\model_input.parquet\n",
      "[2019-04-30 22:47:23][data_access.api][DEBUG] loading parquet from:\n",
      "C:\\Users\\avitu\\Documents\\GitHub\\VQA-MED\\VQA-MED\\VQA.Python\\data\\model_input.parquet\n",
      "[2019-04-30 22:47:23][common.utils][DEBUG] Starting 'Loading parquet'\n",
      "[2019-04-30 22:47:24][common.utils][DEBUG] Loading parquet: 0:00:00.907753\n",
      "[2019-04-30 22:47:24][common.utils][DEBUG] Starting 'Converting to pandas'\n",
      "[2019-04-30 22:47:24][common.utils][DEBUG] Converting to pandas: 0:00:00.013621\n"
     ]
    }
   ],
   "source": [
    "# %%capture\n",
    "# mp = DefaultVqaModelPredictor.get_contender()\n",
    "\n",
    "main_model = 172\n",
    "# specialized_classifiers = {'Abnormality': 172, 'Modality': 157, 'Organ': 160, 'Plane': 159, 'Abnormality_yes_no':178}\n",
    "\n",
    "#with class weights (looks worse):\n",
    "# specialized_classifiers = {'Abnormality': 172, 'Modality': 157, 'Organ': 180, 'Plane': 179, 'Abnormality_yes_no':178} \n",
    "# notes = 'Notes: with class weights (looks worse)'\n",
    "\n",
    "#with class weights (looks worse):\n",
    "specialized_classifiers = {'Abnormality': 172, 'Modality': 184, 'Organ': 183, 'Plane': 159, 'Abnormality_yes_no':178} \n",
    "specialized_classifiers = {'Abnormality': 186, 'Modality': 184, 'Organ': 183, 'Plane': 188, 'Abnormality_yes_no':178} \n",
    "\n",
    "main_model = 185\n",
    "specialized_classifiers = {'Abnormality': 185, 'Modality': 184, 'Organ': 183, 'Plane': 188, 'Abnormality_yes_no':178} \n",
    "specialized_classifiers = {'Abnormality': 202, 'Modality': 184, 'Organ': 183, 'Plane': 188, 'Abnormality_yes_no':193} \n",
    "notes= 'Words prediction for abnormality - Optimized for BLEU'\n",
    "\n",
    "mp = DefaultVqaModelPredictor(model=main_model, specialized_classifiers=specialized_classifiers)"
   ]
  },
  {
   "cell_type": "code",
   "execution_count": 3,
   "metadata": {},
   "outputs": [
    {
     "data": {
      "text/plain": [
       "VqaModelPredictor(model=185, specialized_classifiers={'Abnormality': 185, 'Modality': 184, 'Organ': 183, 'Plane': 188, 'Abnormality_yes_no': 178})"
      ]
     },
     "execution_count": 3,
     "metadata": {},
     "output_type": "execute_result"
    }
   ],
   "source": [
    "mp"
   ]
  },
  {
   "cell_type": "code",
   "execution_count": 4,
   "metadata": {},
   "outputs": [
    {
     "data": {
      "text/plain": [
       "411"
      ]
     },
     "execution_count": 4,
     "metadata": {},
     "output_type": "execute_result"
    }
   ],
   "source": [
    "dd = mp.df_validation\n",
    "category = 'Abnormality'\n",
    "add = dd[dd.question_category==category].answer.drop_duplicates()\n",
    "len(add)\n",
    "# dd.head()"
   ]
  },
  {
   "cell_type": "code",
   "execution_count": 5,
   "metadata": {},
   "outputs": [
    {
     "data": {
      "text/plain": [
       "'words'"
      ]
     },
     "execution_count": 5,
     "metadata": {},
     "output_type": "execute_result"
    }
   ],
   "source": [
    "mp.model_folder.prediction_data_name"
   ]
  },
  {
   "cell_type": "code",
   "execution_count": 6,
   "metadata": {},
   "outputs": [
    {
     "name": "stdout",
     "output_type": "stream",
     "text": [
      "[2019-04-30 22:47:24][common.utils][DEBUG] Starting 'Predictions for VQA contender test'\n",
      "[2019-04-30 22:47:24][classes.vqa_model_predictor][INFO] For Category \"Abnormality\" using specialized classifier from:\n",
      "ModelFolder(folder=\"C:\\\\Users\\\\Public\\\\Documents\\\\Data\\\\2019\\\\models\\\\20190430_0104_56_Abnormality_dense_8_7_6_lstm_128_trained\")\n",
      "[2019-04-30 22:47:24][classes.vqa_model_predictor][DEBUG] Classifying: \"Abnormality\"\n",
      "[2019-04-30 22:47:24][common.utils][DEBUG] Starting 'Raw model prediction'\n",
      "[2019-04-30 22:47:45][common.utils][DEBUG] Raw model prediction: 0:00:20.837955\n"
     ]
    },
    {
     "name": "stderr",
     "output_type": "stream",
     "text": [
      "Prediction: [30, 135, 722, 1130,; probabilities: [0.06414061, 0.06787: 100%|███████████████████████████████████████████████████████████████████████████████████████████████████████████████████████████████| 114/114 [00:00<00:00, 127.01it/s]\n"
     ]
    },
    {
     "name": "stdout",
     "output_type": "stream",
     "text": [
      "[2019-04-30 22:47:47][classes.vqa_model_predictor][INFO] For Category \"Modality\" using specialized classifier from:\n",
      "ModelFolder(folder=\"C:\\\\Users\\\\Public\\\\Documents\\\\Data\\\\2019\\\\models\\\\20190429_0405_41_Modality_dense_8_6_trained\")\n",
      "[2019-04-30 22:47:47][classes.vqa_model_predictor][DEBUG] Classifying: \"Modality\"\n",
      "[2019-04-30 22:47:47][common.utils][DEBUG] Starting 'Raw model prediction'\n",
      "[2019-04-30 22:47:51][common.utils][DEBUG] Raw model prediction: 0:00:03.858554\n"
     ]
    },
    {
     "name": "stderr",
     "output_type": "stream",
     "text": [
      "Prediction: [44]; probabilities: [0.9917121]: 100%|████████████████████████████████████████████████████████████████████████████████████████████████████████████████████████████████████████████████████████| 125/125 [00:00<00:00, 163.84it/s]\n"
     ]
    },
    {
     "name": "stdout",
     "output_type": "stream",
     "text": [
      "[2019-04-30 22:47:52][classes.vqa_model_predictor][INFO] For Category \"Organ\" using specialized classifier from:\n",
      "ModelFolder(folder=\"C:\\\\Users\\\\Public\\\\Documents\\\\Data\\\\2019\\\\models\\\\20190429_0153_45_Organ_dense_8_6_trained\")\n",
      "[2019-04-30 22:47:52][classes.vqa_model_predictor][DEBUG] Classifying: \"Organ\"\n",
      "[2019-04-30 22:47:53][common.utils][DEBUG] Starting 'Raw model prediction'\n",
      "[2019-04-30 22:47:57][common.utils][DEBUG] Raw model prediction: 0:00:03.842773\n"
     ]
    },
    {
     "name": "stderr",
     "output_type": "stream",
     "text": [
      "Prediction: [3]; probabilities: [0.3434257]: 100%|█████████████████████████████████████████████████████████████████████████████████████████████████████████████████████████████████████████████████████████| 126/126 [00:00<00:00, 151.85it/s]\n"
     ]
    },
    {
     "name": "stdout",
     "output_type": "stream",
     "text": [
      "[2019-04-30 22:47:58][classes.vqa_model_predictor][INFO] For Category \"Plane\" using specialized classifier from:\n",
      "ModelFolder(folder=\"C:\\\\Users\\\\Public\\\\Documents\\\\Data\\\\2019\\\\models\\\\20190430_2147_46_Plane_dense_8_trained\")\n",
      "[2019-04-30 22:47:58][classes.vqa_model_predictor][DEBUG] Classifying: \"Plane\"\n",
      "[2019-04-30 22:47:58][common.utils][DEBUG] Starting 'Raw model prediction'\n",
      "[2019-04-30 22:48:00][common.utils][DEBUG] Raw model prediction: 0:00:01.950789\n"
     ]
    },
    {
     "name": "stderr",
     "output_type": "stream",
     "text": [
      "Prediction: [0]; probabilities: [0.18867284]: 100%|████████████████████████████████████████████████████████████████████████████████████████████████████████████████████████████████████████████████████████| 125/125 [00:00<00:00, 182.98it/s]\n"
     ]
    },
    {
     "name": "stdout",
     "output_type": "stream",
     "text": [
      "[2019-04-30 22:48:01][classes.vqa_model_predictor][INFO] For Category \"Abnormality_yes_no\" using specialized classifier from:\n",
      "ModelFolder(folder=\"C:\\\\Users\\\\Public\\\\Documents\\\\Data\\\\2019\\\\models\\\\20190428_1729_41_Abnormality_yes_no_trained\")\n",
      "[2019-04-30 22:48:01][classes.vqa_model_predictor][DEBUG] Classifying: \"Abnormality_yes_no\"\n",
      "[2019-04-30 22:48:01][common.utils][DEBUG] Starting 'Raw model prediction'\n",
      "[2019-04-30 22:48:03][common.utils][DEBUG] Raw model prediction: 0:00:01.715875\n"
     ]
    },
    {
     "name": "stderr",
     "output_type": "stream",
     "text": [
      "Prediction: [0]; probabilities: [0.83784825]: 100%|███████████████████████████████████████████████████████████████████████████████████████████████████████████████████████████████████████████████████████████| 10/10 [00:00<00:00, 80.87it/s]\n"
     ]
    },
    {
     "name": "stdout",
     "output_type": "stream",
     "text": [
      "[2019-04-30 22:48:03][common.utils][DEBUG] Predictions for VQA contender test: 0:00:38.990512\n",
      "[2019-04-30 22:48:03][common.utils][DEBUG] Starting 'Predictions for VQA contender validation'\n",
      "[2019-04-30 22:48:03][classes.vqa_model_predictor][INFO] For Category \"Abnormality\" using specialized classifier from:\n",
      "ModelFolder(folder=\"C:\\\\Users\\\\Public\\\\Documents\\\\Data\\\\2019\\\\models\\\\20190430_0104_56_Abnormality_dense_8_7_6_lstm_128_trained\")\n",
      "[2019-04-30 22:48:03][classes.vqa_model_predictor][DEBUG] Classifying: \"Abnormality\"\n",
      "[2019-04-30 22:48:05][common.utils][DEBUG] Starting 'Raw model prediction'\n",
      "[2019-04-30 22:48:59][common.utils][DEBUG] Raw model prediction: 0:00:54.973201\n"
     ]
    },
    {
     "name": "stderr",
     "output_type": "stream",
     "text": [
      "Prediction: [278, 395, 590, 1725; probabilities: [0.02886143, 0.04533: 100%|███████████████████████████████████████████████████████████████████████████████████████████████████████████████████████████████| 477/477 [00:02<00:00, 231.05it/s]\n"
     ]
    },
    {
     "name": "stdout",
     "output_type": "stream",
     "text": [
      "[2019-04-30 22:49:04][classes.vqa_model_predictor][INFO] For Category \"Modality\" using specialized classifier from:\n",
      "ModelFolder(folder=\"C:\\\\Users\\\\Public\\\\Documents\\\\Data\\\\2019\\\\models\\\\20190429_0405_41_Modality_dense_8_6_trained\")\n",
      "[2019-04-30 22:49:04][classes.vqa_model_predictor][DEBUG] Classifying: \"Modality\"\n",
      "[2019-04-30 22:49:05][common.utils][DEBUG] Starting 'Raw model prediction'\n",
      "[2019-04-30 22:49:12][common.utils][DEBUG] Raw model prediction: 0:00:07.436736\n"
     ]
    },
    {
     "name": "stderr",
     "output_type": "stream",
     "text": [
      "Prediction: [33]; probabilities: [0.82611775]: 100%|███████████████████████████████████████████████████████████████████████████████████████████████████████████████████████████████████████████████████████| 500/500 [00:02<00:00, 221.53it/s]\n"
     ]
    },
    {
     "name": "stdout",
     "output_type": "stream",
     "text": [
      "[2019-04-30 22:49:15][classes.vqa_model_predictor][INFO] For Category \"Organ\" using specialized classifier from:\n",
      "ModelFolder(folder=\"C:\\\\Users\\\\Public\\\\Documents\\\\Data\\\\2019\\\\models\\\\20190429_0153_45_Organ_dense_8_6_trained\")\n",
      "[2019-04-30 22:49:15][classes.vqa_model_predictor][DEBUG] Classifying: \"Organ\"\n",
      "[2019-04-30 22:49:16][common.utils][DEBUG] Starting 'Raw model prediction'\n",
      "[2019-04-30 22:49:22][common.utils][DEBUG] Raw model prediction: 0:00:06.003013\n"
     ]
    },
    {
     "name": "stderr",
     "output_type": "stream",
     "text": [
      "Prediction: [8]; probabilities: [0.4497385]: 100%|█████████████████████████████████████████████████████████████████████████████████████████████████████████████████████████████████████████████████████████| 500/500 [00:02<00:00, 215.72it/s]\n"
     ]
    },
    {
     "name": "stdout",
     "output_type": "stream",
     "text": [
      "[2019-04-30 22:49:24][classes.vqa_model_predictor][INFO] For Category \"Plane\" using specialized classifier from:\n",
      "ModelFolder(folder=\"C:\\\\Users\\\\Public\\\\Documents\\\\Data\\\\2019\\\\models\\\\20190430_2147_46_Plane_dense_8_trained\")\n",
      "[2019-04-30 22:49:24][classes.vqa_model_predictor][DEBUG] Classifying: \"Plane\"\n",
      "[2019-04-30 22:49:26][common.utils][DEBUG] Starting 'Raw model prediction'\n",
      "[2019-04-30 22:49:32][common.utils][DEBUG] Raw model prediction: 0:00:05.985614\n"
     ]
    },
    {
     "name": "stderr",
     "output_type": "stream",
     "text": [
      "Prediction: [14]; probabilities: [0.9491535]: 100%|████████████████████████████████████████████████████████████████████████████████████████████████████████████████████████████████████████████████████████| 500/500 [00:02<00:00, 221.24it/s]\n"
     ]
    },
    {
     "name": "stdout",
     "output_type": "stream",
     "text": [
      "[2019-04-30 22:49:34][classes.vqa_model_predictor][INFO] For Category \"Abnormality_yes_no\" using specialized classifier from:\n",
      "ModelFolder(folder=\"C:\\\\Users\\\\Public\\\\Documents\\\\Data\\\\2019\\\\models\\\\20190428_1729_41_Abnormality_yes_no_trained\")\n",
      "[2019-04-30 22:49:34][classes.vqa_model_predictor][DEBUG] Classifying: \"Abnormality_yes_no\"\n",
      "[2019-04-30 22:49:34][common.utils][DEBUG] Starting 'Raw model prediction'\n",
      "[2019-04-30 22:49:36][common.utils][DEBUG] Raw model prediction: 0:00:01.807432\n"
     ]
    },
    {
     "name": "stderr",
     "output_type": "stream",
     "text": [
      "Prediction: [0]; probabilities: [0.97349566]: 100%|██████████████████████████████████████████████████████████████████████████████████████████████████████████████████████████████████████████████████████████| 23/23 [00:00<00:00, 226.09it/s]\n"
     ]
    },
    {
     "name": "stdout",
     "output_type": "stream",
     "text": [
      "[2019-04-30 22:49:36][common.utils][DEBUG] Predictions for VQA contender validation: 0:01:33.315199\n"
     ]
    },
    {
     "data": {
      "text/html": [
       "<div>\n",
       "<style scoped>\n",
       "    .dataframe tbody tr th:only-of-type {\n",
       "        vertical-align: middle;\n",
       "    }\n",
       "\n",
       "    .dataframe tbody tr th {\n",
       "        vertical-align: top;\n",
       "    }\n",
       "\n",
       "    .dataframe thead th {\n",
       "        text-align: right;\n",
       "    }\n",
       "</style>\n",
       "<table border=\"1\" class=\"dataframe\">\n",
       "  <thead>\n",
       "    <tr style=\"text-align: right;\">\n",
       "      <th></th>\n",
       "      <th>image_name</th>\n",
       "      <th>question</th>\n",
       "      <th>answer</th>\n",
       "      <th>prediction</th>\n",
       "      <th>probabilities</th>\n",
       "      <th>path</th>\n",
       "    </tr>\n",
       "    <tr>\n",
       "      <th>index</th>\n",
       "      <th></th>\n",
       "      <th></th>\n",
       "      <th></th>\n",
       "      <th></th>\n",
       "      <th></th>\n",
       "      <th></th>\n",
       "    </tr>\n",
       "  </thead>\n",
       "  <tbody>\n",
       "    <tr>\n",
       "      <th>12792</th>\n",
       "      <td>synpic54733.jpg</td>\n",
       "      <td>what imaging modality was used to take this im...</td>\n",
       "      <td>ct with iv contrast</td>\n",
       "      <td>ct with iv contrast</td>\n",
       "      <td>[(0.857)]</td>\n",
       "      <td>C:\\Users\\Public\\Documents\\Data\\2019\\validation...</td>\n",
       "    </tr>\n",
       "    <tr>\n",
       "      <th>12793</th>\n",
       "      <td>synpic25647.jpg</td>\n",
       "      <td>what kind of scan is this?</td>\n",
       "      <td>xr - plain film</td>\n",
       "      <td>xr plain film</td>\n",
       "      <td>[(1.000)]</td>\n",
       "      <td>C:\\Users\\Public\\Documents\\Data\\2019\\validation...</td>\n",
       "    </tr>\n",
       "    <tr>\n",
       "      <th>12794</th>\n",
       "      <td>synpic35681.jpg</td>\n",
       "      <td>was the mri taken with contrast?</td>\n",
       "      <td>no</td>\n",
       "      <td>no</td>\n",
       "      <td>[(0.657)]</td>\n",
       "      <td>C:\\Users\\Public\\Documents\\Data\\2019\\validation...</td>\n",
       "    </tr>\n",
       "    <tr>\n",
       "      <th>12795</th>\n",
       "      <td>synpic39641.jpg</td>\n",
       "      <td>is this a t1 weighted, t2 weighted, or flair i...</td>\n",
       "      <td>t2</td>\n",
       "      <td>t2</td>\n",
       "      <td>[(0.875)]</td>\n",
       "      <td>C:\\Users\\Public\\Documents\\Data\\2019\\validation...</td>\n",
       "    </tr>\n",
       "    <tr>\n",
       "      <th>12796</th>\n",
       "      <td>synpic35693.jpg</td>\n",
       "      <td>is this a noncontrast mri?</td>\n",
       "      <td>yes</td>\n",
       "      <td>yes</td>\n",
       "      <td>[(0.562)]</td>\n",
       "      <td>C:\\Users\\Public\\Documents\\Data\\2019\\validation...</td>\n",
       "    </tr>\n",
       "  </tbody>\n",
       "</table>\n",
       "</div>"
      ],
      "text/plain": [
       "            image_name                                           question  \\\n",
       "index                                                                       \n",
       "12792  synpic54733.jpg  what imaging modality was used to take this im...   \n",
       "12793  synpic25647.jpg                         what kind of scan is this?   \n",
       "12794  synpic35681.jpg                   was the mri taken with contrast?   \n",
       "12795  synpic39641.jpg  is this a t1 weighted, t2 weighted, or flair i...   \n",
       "12796  synpic35693.jpg                         is this a noncontrast mri?   \n",
       "\n",
       "                    answer           prediction probabilities  \\\n",
       "index                                                           \n",
       "12792  ct with iv contrast  ct with iv contrast     [(0.857)]   \n",
       "12793      xr - plain film        xr plain film     [(1.000)]   \n",
       "12794                   no                   no     [(0.657)]   \n",
       "12795                   t2                   t2     [(0.875)]   \n",
       "12796                  yes                  yes     [(0.562)]   \n",
       "\n",
       "                                                    path  \n",
       "index                                                     \n",
       "12792  C:\\Users\\Public\\Documents\\Data\\2019\\validation...  \n",
       "12793  C:\\Users\\Public\\Documents\\Data\\2019\\validation...  \n",
       "12794  C:\\Users\\Public\\Documents\\Data\\2019\\validation...  \n",
       "12795  C:\\Users\\Public\\Documents\\Data\\2019\\validation...  \n",
       "12796  C:\\Users\\Public\\Documents\\Data\\2019\\validation...  "
      ]
     },
     "execution_count": 6,
     "metadata": {},
     "output_type": "execute_result"
    }
   ],
   "source": [
    "# %%capture\n",
    "datasets = {'test':mp.df_test, 'validation':mp.df_validation}\n",
    "df_name_to_predict = 'test'\n",
    "\n",
    "\n",
    "predictions = {}\n",
    "\n",
    "for name, df in datasets.items():\n",
    "    with VerboseTimer(f\"Predictions for VQA contender {name}\"):\n",
    "        df_predictions = mp.predict(df)\n",
    "        predictions[name] = df_predictions\n",
    "\n",
    "\n",
    "\n",
    "predictions['validation'][:5]"
   ]
  },
  {
   "cell_type": "code",
   "execution_count": 7,
   "metadata": {},
   "outputs": [],
   "source": [
    "outputs = {}\n",
    "for name, df_predictions in predictions.items():\n",
    "    curr_predictions = df_predictions.prediction.values\n",
    "    df_predicted = datasets[name]\n",
    "    df_output = df_predicted.copy()\n",
    "    df_output['image_id'] = df_output.path.apply(lambda p: p.rsplit(os.sep)[-1].rsplit('.', 1)[0])\n",
    "    df_output['prediction'] = curr_predictions\n",
    "\n",
    "    columns_to_remove = ['path',  'answer_embedding', 'question_embedding', 'group', 'diagnosis', 'processed_answer']\n",
    "    for col in columns_to_remove:\n",
    "        del df_output[col]\n",
    "\n",
    "    sort_columns = sorted(df_output.columns, key=lambda c: c not in ['question', 'prediction', 'answer'])\n",
    "    df_output = df_output[sort_columns]    \n",
    "    outputs[name] = df_output"
   ]
  },
  {
   "cell_type": "code",
   "execution_count": 8,
   "metadata": {},
   "outputs": [],
   "source": [
    "df_output_test = outputs['test']\n",
    "df_output_validation = outputs['validation']"
   ]
  },
  {
   "cell_type": "code",
   "execution_count": 9,
   "metadata": {},
   "outputs": [
    {
     "data": {
      "text/html": [
       "<div>\n",
       "<style scoped>\n",
       "    .dataframe tbody tr th:only-of-type {\n",
       "        vertical-align: middle;\n",
       "    }\n",
       "\n",
       "    .dataframe tbody tr th {\n",
       "        vertical-align: top;\n",
       "    }\n",
       "\n",
       "    .dataframe thead th {\n",
       "        text-align: right;\n",
       "    }\n",
       "</style>\n",
       "<table border=\"1\" class=\"dataframe\">\n",
       "  <thead>\n",
       "    <tr style=\"text-align: right;\">\n",
       "      <th></th>\n",
       "      <th>question</th>\n",
       "      <th>answer</th>\n",
       "      <th>prediction</th>\n",
       "      <th>image_name</th>\n",
       "      <th>processed_question</th>\n",
       "      <th>question_category</th>\n",
       "      <th>image_id</th>\n",
       "    </tr>\n",
       "  </thead>\n",
       "  <tbody>\n",
       "    <tr>\n",
       "      <th>14382</th>\n",
       "      <td>what is most alarming about this x-ray?</td>\n",
       "      <td>scaphoid fracture</td>\n",
       "      <td>syndrome cerebral disease malformation cyst</td>\n",
       "      <td>synpic38953.jpg</td>\n",
       "      <td>what is most alarming about this ray</td>\n",
       "      <td>Abnormality</td>\n",
       "      <td>synpic38953</td>\n",
       "    </tr>\n",
       "    <tr>\n",
       "      <th>14577</th>\n",
       "      <td>what abnormality is seen in the image?</td>\n",
       "      <td>pulmonary artery pseudaneurysm</td>\n",
       "      <td>pulmonary cell lymphoma syndrome aortic</td>\n",
       "      <td>synpic46002.jpg</td>\n",
       "      <td>what abnormality is seen in the image</td>\n",
       "      <td>Abnormality</td>\n",
       "      <td>synpic46002</td>\n",
       "    </tr>\n",
       "    <tr>\n",
       "      <th>14727</th>\n",
       "      <td>what is abnormal in the mri?</td>\n",
       "      <td>fat embolism, brain</td>\n",
       "      <td>glioblastoma multiforme sclerosis cerebral men...</td>\n",
       "      <td>synpic33629.jpg</td>\n",
       "      <td>what is abnormal in the mri</td>\n",
       "      <td>Abnormality</td>\n",
       "      <td>synpic33629</td>\n",
       "    </tr>\n",
       "    <tr>\n",
       "      <th>13965</th>\n",
       "      <td>which organ system is imaged?</td>\n",
       "      <td>skull and contents</td>\n",
       "      <td>skull and contents</td>\n",
       "      <td>synpic34853.jpg</td>\n",
       "      <td>which organ system is imaged</td>\n",
       "      <td>Organ</td>\n",
       "      <td>synpic34853</td>\n",
       "    </tr>\n",
       "    <tr>\n",
       "      <th>14529</th>\n",
       "      <td>what is most alarming about this mri?</td>\n",
       "      <td>os odontoideum</td>\n",
       "      <td>fracture spinal disease stress tear</td>\n",
       "      <td>synpic34276.jpg</td>\n",
       "      <td>what is most alarming about this mri</td>\n",
       "      <td>Abnormality</td>\n",
       "      <td>synpic34276</td>\n",
       "    </tr>\n",
       "    <tr>\n",
       "      <th>13358</th>\n",
       "      <td>what plane was used?</td>\n",
       "      <td>axial</td>\n",
       "      <td>axial</td>\n",
       "      <td>synpic50556.jpg</td>\n",
       "      <td>what plane was used</td>\n",
       "      <td>Plane</td>\n",
       "      <td>synpic50556</td>\n",
       "    </tr>\n",
       "    <tr>\n",
       "      <th>13442</th>\n",
       "      <td>what is the plane of this x-ray?</td>\n",
       "      <td>ap</td>\n",
       "      <td>ap</td>\n",
       "      <td>synpic100332.jpg</td>\n",
       "      <td>what is the plane of this ray</td>\n",
       "      <td>Plane</td>\n",
       "      <td>synpic100332</td>\n",
       "    </tr>\n",
       "    <tr>\n",
       "      <th>13009</th>\n",
       "      <td>what type of imaging modality is seen in this ...</td>\n",
       "      <td>xr - plain film</td>\n",
       "      <td>xr plain film</td>\n",
       "      <td>synpic17121.jpg</td>\n",
       "      <td>what type of imaging modality is seen in this ...</td>\n",
       "      <td>Modality</td>\n",
       "      <td>synpic17121</td>\n",
       "    </tr>\n",
       "    <tr>\n",
       "      <th>12983</th>\n",
       "      <td>is this a noncontrast mri?</td>\n",
       "      <td>no</td>\n",
       "      <td>no</td>\n",
       "      <td>synpic40915.jpg</td>\n",
       "      <td>is this noncontrast mri</td>\n",
       "      <td>Modality</td>\n",
       "      <td>synpic40915</td>\n",
       "    </tr>\n",
       "    <tr>\n",
       "      <th>12923</th>\n",
       "      <td>was gi contrast given to the patient?</td>\n",
       "      <td>no</td>\n",
       "      <td>no</td>\n",
       "      <td>synpic31184.jpg</td>\n",
       "      <td>was gi contrast given to the patient</td>\n",
       "      <td>Modality</td>\n",
       "      <td>synpic31184</td>\n",
       "    </tr>\n",
       "  </tbody>\n",
       "</table>\n",
       "</div>"
      ],
      "text/plain": [
       "                                                question  \\\n",
       "14382            what is most alarming about this x-ray?   \n",
       "14577             what abnormality is seen in the image?   \n",
       "14727                       what is abnormal in the mri?   \n",
       "13965                      which organ system is imaged?   \n",
       "14529              what is most alarming about this mri?   \n",
       "13358                               what plane was used?   \n",
       "13442                   what is the plane of this x-ray?   \n",
       "13009  what type of imaging modality is seen in this ...   \n",
       "12983                         is this a noncontrast mri?   \n",
       "12923              was gi contrast given to the patient?   \n",
       "\n",
       "                               answer  \\\n",
       "14382               scaphoid fracture   \n",
       "14577  pulmonary artery pseudaneurysm   \n",
       "14727             fat embolism, brain   \n",
       "13965              skull and contents   \n",
       "14529                  os odontoideum   \n",
       "13358                           axial   \n",
       "13442                              ap   \n",
       "13009                 xr - plain film   \n",
       "12983                              no   \n",
       "12923                              no   \n",
       "\n",
       "                                              prediction        image_name  \\\n",
       "14382        syndrome cerebral disease malformation cyst   synpic38953.jpg   \n",
       "14577            pulmonary cell lymphoma syndrome aortic   synpic46002.jpg   \n",
       "14727  glioblastoma multiforme sclerosis cerebral men...   synpic33629.jpg   \n",
       "13965                                 skull and contents   synpic34853.jpg   \n",
       "14529                fracture spinal disease stress tear   synpic34276.jpg   \n",
       "13358                                              axial   synpic50556.jpg   \n",
       "13442                                                 ap  synpic100332.jpg   \n",
       "13009                                      xr plain film   synpic17121.jpg   \n",
       "12983                                                 no   synpic40915.jpg   \n",
       "12923                                                 no   synpic31184.jpg   \n",
       "\n",
       "                                      processed_question question_category  \\\n",
       "14382               what is most alarming about this ray       Abnormality   \n",
       "14577              what abnormality is seen in the image       Abnormality   \n",
       "14727                        what is abnormal in the mri       Abnormality   \n",
       "13965                       which organ system is imaged             Organ   \n",
       "14529               what is most alarming about this mri       Abnormality   \n",
       "13358                                what plane was used             Plane   \n",
       "13442                      what is the plane of this ray             Plane   \n",
       "13009  what type of imaging modality is seen in this ...          Modality   \n",
       "12983                            is this noncontrast mri          Modality   \n",
       "12923               was gi contrast given to the patient          Modality   \n",
       "\n",
       "           image_id  \n",
       "14382   synpic38953  \n",
       "14577   synpic46002  \n",
       "14727   synpic33629  \n",
       "13965   synpic34853  \n",
       "14529   synpic34276  \n",
       "13358   synpic50556  \n",
       "13442  synpic100332  \n",
       "13009   synpic17121  \n",
       "12983   synpic40915  \n",
       "12923   synpic31184  "
      ]
     },
     "execution_count": 9,
     "metadata": {},
     "output_type": "execute_result"
    }
   ],
   "source": [
    "display = df_output_validation[df_output_validation.question_category == 'Abnormality']\n",
    "display = df_output_validation\n",
    "display.sample(10)"
   ]
  },
  {
   "cell_type": "code",
   "execution_count": 10,
   "metadata": {},
   "outputs": [
    {
     "data": {
      "text/plain": [
       "VqaModelPredictor(model=185, specialized_classifiers={'Abnormality': 185, 'Modality': 184, 'Organ': 183, 'Plane': 188, 'Abnormality_yes_no': 178})"
      ]
     },
     "execution_count": 10,
     "metadata": {},
     "output_type": "execute_result"
    }
   ],
   "source": [
    "mp"
   ]
  },
  {
   "cell_type": "code",
   "execution_count": 11,
   "metadata": {},
   "outputs": [
    {
     "data": {
      "text/plain": [
       "(500, 500)"
      ]
     },
     "execution_count": 11,
     "metadata": {},
     "output_type": "execute_result"
    }
   ],
   "source": [
    "len(df_output_test), len(df_output_test.image_id.drop_duplicates())"
   ]
  },
  {
   "cell_type": "code",
   "execution_count": 12,
   "metadata": {},
   "outputs": [],
   "source": [
    "def get_str(df):\n",
    "    strs = []\n",
    "    debug_output_rows = df.apply(lambda row: row.image_id + '|'+ row.question + '|'+ row.prediction, axis=1 )\n",
    "    output_rows = df.apply(lambda row: row.image_id + '|'+ row.prediction + '|'+row.answer, axis=1 )\n",
    "    output_rows = output_rows.str.strip('|')\n",
    "    rows = output_rows.values\n",
    "    res = '\\n'.join(rows)\n",
    "    return res\n",
    "\n",
    "res = get_str(df_output_test)\n",
    "res_val = get_str(df_output_validation)\n"
   ]
  },
  {
   "cell_type": "code",
   "execution_count": 13,
   "metadata": {},
   "outputs": [
    {
     "name": "stdout",
     "output_type": "stream",
     "text": [
      "synpic54082|cta ct angiography\n",
      "synpic48556|no\n",
      "synpic50696|iv\n",
      "synpic37194|us doppler ultrasound\n",
      "synpic31308|an angiogram\n",
      "synpic24739|t2\n",
      "synpic32365|yes\n",
      "synpic47936|iv\n",
      "synpic29792|yes\n",
      "synpic43561|no\n",
      "syn\n"
     ]
    }
   ],
   "source": [
    "print(res[:200])"
   ]
  },
  {
   "cell_type": "markdown",
   "metadata": {},
   "source": [
    "### Get evaluations per category:"
   ]
  },
  {
   "cell_type": "code",
   "execution_count": 14,
   "metadata": {},
   "outputs": [
    {
     "name": "stderr",
     "output_type": "stream",
     "text": [
      "evaluating 500 for Plane items: 100%|███████████████████████████████████████████████████████████████████████████████████████████████████████████████████████████████████████████████████████████████████████████| 5/5 [00:10<00:00,  3.52s/it]\n"
     ]
    }
   ],
   "source": [
    "evaluations = {}\n",
    "pbar = tqdm(df_output_validation.groupby('question_category'))\n",
    "for question_category, df in pbar:        \n",
    "    pbar.set_description(f'evaluating {len(df)} for {question_category} items')\n",
    "    curr_predictions = df.prediction.values\n",
    "    curr_ground_truth = df.answer.values\n",
    "    curr_evaluations = VqaMedEvaluatorBase.get_all_evaluation(predictions=curr_predictions, ground_truth=curr_ground_truth)\n",
    "    evaluations[question_category] = curr_evaluations    \n",
    "\n",
    "   \n"
   ]
  },
  {
   "cell_type": "markdown",
   "metadata": {},
   "source": [
    "### Get Total Evaluation:"
   ]
  },
  {
   "cell_type": "code",
   "execution_count": 15,
   "metadata": {},
   "outputs": [],
   "source": [
    "total_evaluations = VqaMedEvaluatorBase.get_all_evaluation(predictions=df_output_validation.prediction.values, ground_truth=df_output_validation.answer.values)    \n",
    "evaluations['Total'] = total_evaluations"
   ]
  },
  {
   "cell_type": "code",
   "execution_count": 16,
   "metadata": {},
   "outputs": [
    {
     "data": {
      "text/html": [
       "<div>\n",
       "<style scoped>\n",
       "    .dataframe tbody tr th:only-of-type {\n",
       "        vertical-align: middle;\n",
       "    }\n",
       "\n",
       "    .dataframe tbody tr th {\n",
       "        vertical-align: top;\n",
       "    }\n",
       "\n",
       "    .dataframe thead th {\n",
       "        text-align: right;\n",
       "    }\n",
       "</style>\n",
       "<table border=\"1\" class=\"dataframe\">\n",
       "  <thead>\n",
       "    <tr style=\"text-align: right;\">\n",
       "      <th></th>\n",
       "      <th>bleu</th>\n",
       "      <th>strict_accuracy</th>\n",
       "      <th>wbss</th>\n",
       "    </tr>\n",
       "  </thead>\n",
       "  <tbody>\n",
       "    <tr>\n",
       "      <th>Abnormality</th>\n",
       "      <td>0.153426</td>\n",
       "      <td>0.000000</td>\n",
       "      <td>0.137130</td>\n",
       "    </tr>\n",
       "    <tr>\n",
       "      <th>Organ</th>\n",
       "      <td>0.677773</td>\n",
       "      <td>0.666000</td>\n",
       "      <td>0.674294</td>\n",
       "    </tr>\n",
       "    <tr>\n",
       "      <th>Modality</th>\n",
       "      <td>0.750807</td>\n",
       "      <td>0.712000</td>\n",
       "      <td>0.702513</td>\n",
       "    </tr>\n",
       "    <tr>\n",
       "      <th>Plane</th>\n",
       "      <td>0.740000</td>\n",
       "      <td>0.740000</td>\n",
       "      <td>0.743488</td>\n",
       "    </tr>\n",
       "    <tr>\n",
       "      <th>Abnormality_yes_no</th>\n",
       "      <td>0.782609</td>\n",
       "      <td>0.782609</td>\n",
       "      <td>0.792833</td>\n",
       "    </tr>\n",
       "    <tr>\n",
       "      <th>Total</th>\n",
       "      <td>0.587737</td>\n",
       "      <td>0.538500</td>\n",
       "      <td>0.571897</td>\n",
       "    </tr>\n",
       "  </tbody>\n",
       "</table>\n",
       "</div>"
      ],
      "text/plain": [
       "                        bleu  strict_accuracy      wbss\n",
       "Abnormality         0.153426         0.000000  0.137130\n",
       "Organ               0.677773         0.666000  0.674294\n",
       "Modality            0.750807         0.712000  0.702513\n",
       "Plane               0.740000         0.740000  0.743488\n",
       "Abnormality_yes_no  0.782609         0.782609  0.792833\n",
       "Total               0.587737         0.538500  0.571897"
      ]
     },
     "execution_count": 16,
     "metadata": {},
     "output_type": "execute_result"
    }
   ],
   "source": [
    "evaluations\n",
    "df_evaluations = pd.DataFrame(evaluations).T#.sort_values(by=('bleu'))\n",
    "df_evaluations['sort'] = df_evaluations.index == 'Total'\n",
    "df_evaluations = df_evaluations.sort_values(by = ['sort', 'wbss'])\n",
    "del df_evaluations['sort']\n",
    "df_evaluations"
   ]
  },
  {
   "cell_type": "code",
   "execution_count": 17,
   "metadata": {},
   "outputs": [
    {
     "name": "stdout",
     "output_type": "stream",
     "text": [
      "\n",
      "==Model==\n",
      "VqaModelPredictor(model=185, specialized_classifiers={'Abnormality': 185, 'Modality': 184, 'Organ': 183, 'Plane': 188, 'Abnormality_yes_no': 178})\n",
      "\n",
      "==Submodels==\n",
      "Abnormality: ModelFolder(folder=\"C:\\\\Users\\\\Public\\\\Documents\\\\Data\\\\2019\\\\models\\\\20190430_0104_56_Abnormality_dense_8_7_6_lstm_128_trained\") (words)\n",
      "Modality: ModelFolder(folder=\"C:\\\\Users\\\\Public\\\\Documents\\\\Data\\\\2019\\\\models\\\\20190429_0405_41_Modality_dense_8_6_trained\") (answers)\n",
      "Organ: ModelFolder(folder=\"C:\\\\Users\\\\Public\\\\Documents\\\\Data\\\\2019\\\\models\\\\20190429_0153_45_Organ_dense_8_6_trained\") (answers)\n",
      "Plane: ModelFolder(folder=\"C:\\\\Users\\\\Public\\\\Documents\\\\Data\\\\2019\\\\models\\\\20190430_2147_46_Plane_dense_8_trained\") (answers)\n",
      "Abnormality_yes_no: ModelFolder(folder=\"C:\\\\Users\\\\Public\\\\Documents\\\\Data\\\\2019\\\\models\\\\20190428_1729_41_Abnormality_yes_no_trained\") (answers)\n",
      "\n",
      "==validation evaluation==\n",
      "                        bleu  strict_accuracy      wbss prediction_vector\n",
      "Abnormality         0.153426         0.000000  0.137130             words\n",
      "Organ               0.677773         0.666000  0.674294           answers\n",
      "Modality            0.750807         0.712000  0.702513           answers\n",
      "Plane               0.740000         0.740000  0.743488           answers\n",
      "Abnormality_yes_no  0.782609         0.782609  0.792833           answers\n",
      "Total               0.587737         0.538500  0.571897                --\n",
      "\n",
      "==Notes==\n",
      "Words prediction for abnormality - Optimized for BLEU\n",
      "\n"
     ]
    }
   ],
   "source": [
    "model_repr = repr(mp)\n",
    "model_repr\n",
    "sub_models = {category: folder for category, (model, folder) in mp.model_by_question_category.items()}\n",
    "sub_models_str = '\\n'.join([str(f'{category}: {folder} ({folder.prediction_data_name})') for category, folder in sub_models.items() if folder is not None])\n",
    "\n",
    "model_description_copy = df_evaluations.copy()\n",
    "\n",
    "def get_prediction_vector(category):\n",
    "    sub_model = sub_models.get(category)\n",
    "    if sub_model is not None:\n",
    "        return sub_model.prediction_data_name\n",
    "    else:\n",
    "        return '--'\n",
    "    \n",
    "model_description_copy['prediction_vector'] = model_description_copy.index.map(get_prediction_vector)\n",
    "\n",
    "\n",
    "model_description =f'''\n",
    "==Model==\n",
    "{model_repr}\n",
    "\n",
    "==Submodels==\n",
    "{sub_models_str}\n",
    "\n",
    "==validation evaluation==\n",
    "{model_description_copy.to_string()}\n",
    "\n",
    "==Notes==\n",
    "{notes}\n",
    "'''\n",
    "\n",
    "\n",
    "print(model_description)\n",
    "\n"
   ]
  },
  {
   "cell_type": "code",
   "execution_count": 18,
   "metadata": {},
   "outputs": [],
   "source": [
    "import time\n",
    "now = time.time()\n",
    "ts = datetime.datetime.fromtimestamp(now).strftime('%Y%m%d_%H%M_%S')\n",
    "submission_base_folder = Path('C:\\\\Users\\\\Public\\\\Documents\\\\Data\\\\2019\\\\submissions')\n",
    "submission_folder = submission_base_folder/ts\n",
    "submission_folder.mkdir()\n",
    "\n",
    "\n",
    "txt_path = submission_folder/f'submission_{ts}.txt'\n",
    "txt_path.write_text(res)\n",
    "\n",
    "txt_path_val = submission_folder/f'submission_{ts}_validation.txt'\n",
    "txt_path_val.write_text(res_val)\n",
    "\n",
    "\n",
    "model_description_path = submission_folder/f'model_description.txt'\n",
    "model_description_path.write_text(model_description)\n",
    "\n",
    "with pd.HDFStore(str(submission_folder/ 'predictions.hdf')) as store:\n",
    "    for name, df_predictions in predictions.items():\n",
    "        store[name] = df_predictions"
   ]
  },
  {
   "cell_type": "code",
   "execution_count": 19,
   "metadata": {},
   "outputs": [
    {
     "name": "stdout",
     "output_type": "stream",
     "text": [
      "validation\n"
     ]
    },
    {
     "data": {
      "text/html": [
       "<div>\n",
       "<style scoped>\n",
       "    .dataframe tbody tr th:only-of-type {\n",
       "        vertical-align: middle;\n",
       "    }\n",
       "\n",
       "    .dataframe tbody tr th {\n",
       "        vertical-align: top;\n",
       "    }\n",
       "\n",
       "    .dataframe thead th {\n",
       "        text-align: right;\n",
       "    }\n",
       "</style>\n",
       "<table border=\"1\" class=\"dataframe\">\n",
       "  <thead>\n",
       "    <tr style=\"text-align: right;\">\n",
       "      <th></th>\n",
       "      <th>image_name</th>\n",
       "      <th>question</th>\n",
       "      <th>answer</th>\n",
       "      <th>prediction</th>\n",
       "      <th>probabilities</th>\n",
       "      <th>path</th>\n",
       "    </tr>\n",
       "    <tr>\n",
       "      <th>index</th>\n",
       "      <th></th>\n",
       "      <th></th>\n",
       "      <th></th>\n",
       "      <th></th>\n",
       "      <th></th>\n",
       "      <th></th>\n",
       "    </tr>\n",
       "  </thead>\n",
       "  <tbody>\n",
       "    <tr>\n",
       "      <th>13872</th>\n",
       "      <td>synpic27319.jpg</td>\n",
       "      <td>which organ is captured by this x-ray?</td>\n",
       "      <td>musculoskeletal</td>\n",
       "      <td>musculoskeletal</td>\n",
       "      <td>[(0.800)]</td>\n",
       "      <td>C:\\Users\\Public\\Documents\\Data\\2019\\validation...</td>\n",
       "    </tr>\n",
       "    <tr>\n",
       "      <th>13329</th>\n",
       "      <td>synpic52430.jpg</td>\n",
       "      <td>which plane is this image in?</td>\n",
       "      <td>coronal</td>\n",
       "      <td>sagittal</td>\n",
       "      <td>[(0.407)]</td>\n",
       "      <td>C:\\Users\\Public\\Documents\\Data\\2019\\validation...</td>\n",
       "    </tr>\n",
       "    <tr>\n",
       "      <th>14646</th>\n",
       "      <td>synpic27571.jpg</td>\n",
       "      <td>what is most alarming about this ct scan?</td>\n",
       "      <td>osteochondritis dissecans</td>\n",
       "      <td>fracture tear disease stress cell</td>\n",
       "      <td>[(0.102), (0.030), (0.030), (0.026), (0.026)]</td>\n",
       "      <td>C:\\Users\\Public\\Documents\\Data\\2019\\validation...</td>\n",
       "    </tr>\n",
       "    <tr>\n",
       "      <th>13769</th>\n",
       "      <td>synpic52004.jpg</td>\n",
       "      <td>what is the plane of the image?</td>\n",
       "      <td>longitudinal</td>\n",
       "      <td>axial</td>\n",
       "      <td>[(1.000)]</td>\n",
       "      <td>C:\\Users\\Public\\Documents\\Data\\2019\\validation...</td>\n",
       "    </tr>\n",
       "    <tr>\n",
       "      <th>13408</th>\n",
       "      <td>synpic25090.jpg</td>\n",
       "      <td>in what plane is this image oriented?</td>\n",
       "      <td>axial</td>\n",
       "      <td>axial</td>\n",
       "      <td>[(0.996)]</td>\n",
       "      <td>C:\\Users\\Public\\Documents\\Data\\2019\\validation...</td>\n",
       "    </tr>\n",
       "  </tbody>\n",
       "</table>\n",
       "</div>"
      ],
      "text/plain": [
       "            image_name                                   question  \\\n",
       "index                                                               \n",
       "13872  synpic27319.jpg     which organ is captured by this x-ray?   \n",
       "13329  synpic52430.jpg              which plane is this image in?   \n",
       "14646  synpic27571.jpg  what is most alarming about this ct scan?   \n",
       "13769  synpic52004.jpg            what is the plane of the image?   \n",
       "13408  synpic25090.jpg      in what plane is this image oriented?   \n",
       "\n",
       "                          answer                         prediction  \\\n",
       "index                                                                 \n",
       "13872            musculoskeletal                    musculoskeletal   \n",
       "13329                    coronal                           sagittal   \n",
       "14646  osteochondritis dissecans  fracture tear disease stress cell   \n",
       "13769               longitudinal                              axial   \n",
       "13408                      axial                              axial   \n",
       "\n",
       "                                       probabilities  \\\n",
       "index                                                  \n",
       "13872                                      [(0.800)]   \n",
       "13329                                      [(0.407)]   \n",
       "14646  [(0.102), (0.030), (0.030), (0.026), (0.026)]   \n",
       "13769                                      [(1.000)]   \n",
       "13408                                      [(0.996)]   \n",
       "\n",
       "                                                    path  \n",
       "index                                                     \n",
       "13872  C:\\Users\\Public\\Documents\\Data\\2019\\validation...  \n",
       "13329  C:\\Users\\Public\\Documents\\Data\\2019\\validation...  \n",
       "14646  C:\\Users\\Public\\Documents\\Data\\2019\\validation...  \n",
       "13769  C:\\Users\\Public\\Documents\\Data\\2019\\validation...  \n",
       "13408  C:\\Users\\Public\\Documents\\Data\\2019\\validation...  "
      ]
     },
     "execution_count": 19,
     "metadata": {},
     "output_type": "execute_result"
    }
   ],
   "source": [
    "print(name)\n",
    "df_predictions.sample(5)"
   ]
  },
  {
   "cell_type": "code",
   "execution_count": 20,
   "metadata": {},
   "outputs": [
    {
     "data": {
      "text/plain": [
       "('pericardial cyst',\n",
       " 'multiforme glioblastoma acute sclerosis malformation',\n",
       " array(['(0.051), (0.050), (0.023), (0.021), (0.016)'], dtype=object))"
      ]
     },
     "execution_count": 20,
     "metadata": {},
     "output_type": "execute_result"
    }
   ],
   "source": [
    "idx = 14525\n",
    "series = df_predictions.loc[idx]\n",
    "series.answer, series.prediction ,series.probabilities "
   ]
  },
  {
   "cell_type": "code",
   "execution_count": 21,
   "metadata": {},
   "outputs": [
    {
     "data": {
      "text/plain": [
       "VqaModelPredictor(model=185, specialized_classifiers={'Abnormality': 185, 'Modality': 184, 'Organ': 183, 'Plane': 188, 'Abnormality_yes_no': 178})"
      ]
     },
     "execution_count": 21,
     "metadata": {},
     "output_type": "execute_result"
    }
   ],
   "source": [
    "mp"
   ]
  }
 ],
 "metadata": {
  "kernelspec": {
   "display_name": "Python 3",
   "language": "python",
   "name": "python3"
  },
  "language_info": {
   "codemirror_mode": {
    "name": "ipython",
    "version": 3
   },
   "file_extension": ".py",
   "mimetype": "text/x-python",
   "name": "python",
   "nbconvert_exporter": "python",
   "pygments_lexer": "ipython3",
   "version": "3.6.7"
  }
 },
 "nbformat": 4,
 "nbformat_minor": 2
}
