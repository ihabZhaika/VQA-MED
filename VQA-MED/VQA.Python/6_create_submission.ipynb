{
 "cells": [
  {
   "cell_type": "code",
   "execution_count": 40,
   "metadata": {},
   "outputs": [],
   "source": [
    "import os\n",
    "import pandas as pd\n",
    "from classes.vqa_model_predictor import DefaultVqaModelPredictor\n",
    "from evaluate.VqaMedEvaluatorBase import VqaMedEvaluatorBase\n",
    "from common.utils import VerboseTimer\n",
    "import vqa_logger \n",
    "import logging\n",
    "from pathlib import Path\n",
    "import datetime\n",
    "logger = logging.getLogger(__name__)"
   ]
  },
  {
   "cell_type": "code",
   "execution_count": 38,
   "metadata": {},
   "outputs": [
    {
     "name": "stdout",
     "output_type": "stream",
     "text": [
      "[2019-03-29 16:25:43][common.utils][DEBUG] Starting 'Loading  VQA contender'\n",
      "[2019-03-29 16:25:43][classes.vqa_model_predictor][DEBUG] Getting model #5 (post_concat_dense_units: 8;\n",
      "Optimizer: RMSprop\n",
      "loss: cosine_proximity\n",
      "activation: sigmoid\n",
      "prediction vector: answers\n",
      "lstm_units: 0\n",
      "batch_size: 64\n",
      "\n",
      "model_location = 'C:\\Users\\Public\\Documents\\Data\\2019\\models\\20190223_2239_45\\vqa_model.h5')\n",
      "[2019-03-29 16:25:43][common.utils][DEBUG] Starting 'Loading Model'\n",
      "[2019-03-29 16:25:47][common.utils][DEBUG] Loading Model: 0:00:04.107302\n",
      "[2019-03-29 16:25:47][classes.vqa_model_predictor][DEBUG] Getting model #72 (prediction_vector: words\n",
      " question_category: Abnormality\n",
      "augmentations: 20 \n",
      "epochs: 10\n",
      "batch size: 64\n",
      "based on model 5)\n",
      "[2019-03-29 16:25:47][common.utils][DEBUG] Starting 'Loading Model'\n",
      "[2019-03-29 16:25:51][common.utils][DEBUG] Loading Model: 0:00:04.076886\n",
      "[2019-03-29 16:25:51][root][DEBUG] For Abnormality, got specialized model (DB: 72, Folder: ModelFolder(folder=\"C:\\Users\\Public\\Documents\\Data\\2019\\models\\20190329_0854_26\"))\n",
      "[2019-03-29 16:25:51][classes.vqa_model_predictor][DEBUG] Getting model #69 (prediction_vector: answers\n",
      " question_category: Modality\n",
      "augmentations: 20 \n",
      "epochs: 10\n",
      "batch size: 64\n",
      "based on model 5)\n",
      "[2019-03-29 16:25:51][common.utils][DEBUG] Starting 'Loading Model'\n",
      "[2019-03-29 16:25:56][common.utils][DEBUG] Loading Model: 0:00:04.135612\n",
      "[2019-03-29 16:25:56][root][DEBUG] For Modality, got specialized model (DB: 69, Folder: ModelFolder(folder=\"C:\\Users\\Public\\Documents\\Data\\2019\\models\\20190329_0133_06\"))\n",
      "[2019-03-29 16:25:56][classes.vqa_model_predictor][DEBUG] Getting model #70 (prediction_vector: answers\n",
      " question_category: Organ\n",
      "augmentations: 20 \n",
      "epochs: 10\n",
      "batch size: 64\n",
      "based on model 5)\n",
      "[2019-03-29 16:25:56][common.utils][DEBUG] Starting 'Loading Model'\n",
      "[2019-03-29 16:26:00][common.utils][DEBUG] Loading Model: 0:00:04.446614\n",
      "[2019-03-29 16:26:00][root][DEBUG] For Organ, got specialized model (DB: 70, Folder: ModelFolder(folder=\"C:\\Users\\Public\\Documents\\Data\\2019\\models\\20190329_0440_18\"))\n",
      "[2019-03-29 16:26:00][classes.vqa_model_predictor][DEBUG] Getting model #71 (prediction_vector: answers\n",
      " question_category: Plane\n",
      "augmentations: 20 \n",
      "epochs: 10\n",
      "batch size: 64\n",
      "based on model 5)\n",
      "[2019-03-29 16:26:00][common.utils][DEBUG] Starting 'Loading Model'\n",
      "[2019-03-29 16:26:05][common.utils][DEBUG] Loading Model: 0:00:04.656404\n",
      "[2019-03-29 16:26:05][root][DEBUG] For Plane, got specialized model (DB: 71, Folder: ModelFolder(folder=\"C:\\Users\\Public\\Documents\\Data\\2019\\models\\20190329_0647_26\"))\n",
      "[2019-03-29 16:26:05][data_access.api][DEBUG] loading processed data from:\n",
      "C:\\Users\\avitu\\Documents\\GitHub\\VQA-MED\\VQA-MED\\VQA.Python\\data\\model_input.parquet\n",
      "[2019-03-29 16:26:05][data_access.api][DEBUG] loading processed data from:\n",
      "C:\\Users\\avitu\\Documents\\GitHub\\VQA-MED\\VQA-MED\\VQA.Python\\data\\model_input.parquet\n",
      "[2019-03-29 16:26:05][common.utils][DEBUG] Loading  VQA contender: 0:00:21.767221\n",
      "[2019-03-29 16:26:05][common.utils][DEBUG] Starting 'Predictions for VQA contender'\n",
      "[2019-03-29 16:26:05][classes.vqa_model_predictor][INFO] For Category \"Abnormality\" using specialized classifier from:\n",
      "ModelFolder(folder=\"C:\\Users\\Public\\Documents\\Data\\2019\\models\\20190329_0854_26\")\n",
      "[2019-03-29 16:26:05][classes.vqa_model_predictor][DEBUG] Classifying: \"Abnormality\"\n",
      "[2019-03-29 16:26:05][common.functions][DEBUG] Getting image features\n"
     ]
    },
    {
     "name": "stderr",
     "output_type": "stream",
     "text": [
      "100%|██████████████████████████████████████████████████████████████████████████████████████████████████████████████████████████████████████████████████████████████████████████████████████████████████████| 124/124 [00:00<00:00, 481.90it/s]\n"
     ]
    },
    {
     "name": "stdout",
     "output_type": "stream",
     "text": [
      "[2019-03-29 16:26:05][common.utils][DEBUG] Starting 'Raw model prediction'\n",
      "[2019-03-29 16:26:07][common.utils][DEBUG] Raw model prediction: 0:00:02.208924\n"
     ]
    },
    {
     "name": "stderr",
     "output_type": "stream",
     "text": [
      "Prediction: [135, 985, 1121, 113; probabilities: [4.335148e-05, 4.083: 100%|███████████████████████████████████████████████████████████████████████████████████████████████████████████████████████████████| 124/124 [00:00<00:00, 217.02it/s]\n"
     ]
    },
    {
     "name": "stdout",
     "output_type": "stream",
     "text": [
      "[2019-03-29 16:26:09][classes.vqa_model_predictor][INFO] For Category \"Modality\" using specialized classifier from:\n",
      "ModelFolder(folder=\"C:\\Users\\Public\\Documents\\Data\\2019\\models\\20190329_0133_06\")\n",
      "[2019-03-29 16:26:09][classes.vqa_model_predictor][DEBUG] Classifying: \"Modality\"\n",
      "[2019-03-29 16:26:09][common.functions][DEBUG] Getting image features\n"
     ]
    },
    {
     "name": "stderr",
     "output_type": "stream",
     "text": [
      "100%|██████████████████████████████████████████████████████████████████████████████████████████████████████████████████████████████████████████████████████████████████████████████████████████████████████| 125/125 [00:00<00:00, 438.23it/s]\n"
     ]
    },
    {
     "name": "stdout",
     "output_type": "stream",
     "text": [
      "[2019-03-29 16:26:09][common.utils][DEBUG] Starting 'Raw model prediction'\n",
      "[2019-03-29 16:26:11][common.utils][DEBUG] Raw model prediction: 0:00:02.165949\n"
     ]
    },
    {
     "name": "stderr",
     "output_type": "stream",
     "text": [
      "Prediction: [44]; probabilities: [0.08857452]: 100%|███████████████████████████████████████████████████████████████████████████████████████████████████████████████████████████████████████████████████████| 125/125 [00:00<00:00, 223.02it/s]\n"
     ]
    },
    {
     "name": "stdout",
     "output_type": "stream",
     "text": [
      "[2019-03-29 16:26:12][classes.vqa_model_predictor][INFO] For Category \"Organ\" using specialized classifier from:\n",
      "ModelFolder(folder=\"C:\\Users\\Public\\Documents\\Data\\2019\\models\\20190329_0440_18\")\n",
      "[2019-03-29 16:26:12][classes.vqa_model_predictor][DEBUG] Classifying: \"Organ\"\n",
      "[2019-03-29 16:26:12][common.functions][DEBUG] Getting image features\n"
     ]
    },
    {
     "name": "stderr",
     "output_type": "stream",
     "text": [
      "100%|██████████████████████████████████████████████████████████████████████████████████████████████████████████████████████████████████████████████████████████████████████████████████████████████████████| 126/126 [00:00<00:00, 385.17it/s]\n"
     ]
    },
    {
     "name": "stdout",
     "output_type": "stream",
     "text": [
      "[2019-03-29 16:26:12][common.utils][DEBUG] Starting 'Raw model prediction'\n",
      "[2019-03-29 16:26:15][common.utils][DEBUG] Raw model prediction: 0:00:02.152352\n"
     ]
    },
    {
     "name": "stderr",
     "output_type": "stream",
     "text": [
      "Prediction: [3]; probabilities: [0.23810466]: 100%|████████████████████████████████████████████████████████████████████████████████████████████████████████████████████████████████████████████████████████| 126/126 [00:00<00:00, 215.95it/s]\n"
     ]
    },
    {
     "name": "stdout",
     "output_type": "stream",
     "text": [
      "[2019-03-29 16:26:15][classes.vqa_model_predictor][INFO] For Category \"Plane\" using specialized classifier from:\n",
      "ModelFolder(folder=\"C:\\Users\\Public\\Documents\\Data\\2019\\models\\20190329_0647_26\")\n",
      "[2019-03-29 16:26:15][classes.vqa_model_predictor][DEBUG] Classifying: \"Plane\"\n",
      "[2019-03-29 16:26:15][common.functions][DEBUG] Getting image features\n"
     ]
    },
    {
     "name": "stderr",
     "output_type": "stream",
     "text": [
      "100%|██████████████████████████████████████████████████████████████████████████████████████████████████████████████████████████████████████████████████████████████████████████████████████████████████████| 125/125 [00:00<00:00, 446.03it/s]\n"
     ]
    },
    {
     "name": "stdout",
     "output_type": "stream",
     "text": [
      "[2019-03-29 16:26:16][common.utils][DEBUG] Starting 'Raw model prediction'\n",
      "[2019-03-29 16:26:18][common.utils][DEBUG] Raw model prediction: 0:00:02.137337\n"
     ]
    },
    {
     "name": "stderr",
     "output_type": "stream",
     "text": [
      "Prediction: [13]; probabilities: [0.6432047]: 100%|████████████████████████████████████████████████████████████████████████████████████████████████████████████████████████████████████████████████████████| 125/125 [00:00<00:00, 231.25it/s]\n"
     ]
    },
    {
     "name": "stdout",
     "output_type": "stream",
     "text": [
      "[2019-03-29 16:26:18][common.utils][DEBUG] Predictions for VQA contender: 0:00:13.480700\n"
     ]
    },
    {
     "data": {
      "text/plain": [
       "array(['cta ct angiography', 'no', 'iv', 'us doppler ultrasound',\n",
       "       'an angiogram'], dtype=object)"
      ]
     },
     "execution_count": 38,
     "metadata": {},
     "output_type": "execute_result"
    }
   ],
   "source": [
    "mp = DefaultVqaModelPredictor.get_contender()\n",
    "\n",
    "datasets = {'test':mp.df_test, 'validation':mp.df_validation}\n",
    "df_name_to_predict = 'test'\n",
    "df_to_predict = datasets['test']\n",
    "\n",
    "with VerboseTimer(f\"Predictions for VQA contender\"):\n",
    "    df_predictions = mp.predict(df_to_predict)\n",
    "\n",
    "\n",
    "predictions = df_predictions.prediction.values\n",
    "predictions[:5]"
   ]
  },
  {
   "cell_type": "code",
   "execution_count": 9,
   "metadata": {},
   "outputs": [
    {
     "data": {
      "text/html": [
       "<div>\n",
       "<style scoped>\n",
       "    .dataframe tbody tr th:only-of-type {\n",
       "        vertical-align: middle;\n",
       "    }\n",
       "\n",
       "    .dataframe tbody tr th {\n",
       "        vertical-align: top;\n",
       "    }\n",
       "\n",
       "    .dataframe thead th {\n",
       "        text-align: right;\n",
       "    }\n",
       "</style>\n",
       "<table border=\"1\" class=\"dataframe\">\n",
       "  <thead>\n",
       "    <tr style=\"text-align: right;\">\n",
       "      <th></th>\n",
       "      <th>question</th>\n",
       "      <th>answer</th>\n",
       "      <th>prediction</th>\n",
       "      <th>image_name</th>\n",
       "      <th>processed_question</th>\n",
       "      <th>question_category</th>\n",
       "      <th>image_id</th>\n",
       "    </tr>\n",
       "  </thead>\n",
       "  <tbody>\n",
       "    <tr>\n",
       "      <th>15199</th>\n",
       "      <td>what is the primary abnormality in this image?</td>\n",
       "      <td></td>\n",
       "      <td>fibrous aortic pulmonary dysplasia embolism</td>\n",
       "      <td>synpic54202.jpg</td>\n",
       "      <td>what is the primary abnormality in this image</td>\n",
       "      <td>Abnormality</td>\n",
       "      <td>synpic54202</td>\n",
       "    </tr>\n",
       "    <tr>\n",
       "      <th>14967</th>\n",
       "      <td>in what plane is this mri taken?</td>\n",
       "      <td></td>\n",
       "      <td>sagittal</td>\n",
       "      <td>synpic52142.jpg</td>\n",
       "      <td>in what plane is this mri taken</td>\n",
       "      <td>Plane</td>\n",
       "      <td>synpic52142</td>\n",
       "    </tr>\n",
       "    <tr>\n",
       "      <th>15010</th>\n",
       "      <td>what plane was used in this mri?</td>\n",
       "      <td></td>\n",
       "      <td>axial</td>\n",
       "      <td>synpic43048.jpg</td>\n",
       "      <td>what plane was used in this mri</td>\n",
       "      <td>Plane</td>\n",
       "      <td>synpic43048</td>\n",
       "    </tr>\n",
       "    <tr>\n",
       "      <th>14825</th>\n",
       "      <td>what imaging modality is used to acquire this ...</td>\n",
       "      <td></td>\n",
       "      <td>us ultrasound</td>\n",
       "      <td>synpic46949.jpg</td>\n",
       "      <td>what imaging modality is used to acquire this ...</td>\n",
       "      <td>Modality</td>\n",
       "      <td>synpic46949</td>\n",
       "    </tr>\n",
       "    <tr>\n",
       "      <th>15011</th>\n",
       "      <td>which plane is this image in?</td>\n",
       "      <td></td>\n",
       "      <td>sagittal</td>\n",
       "      <td>synpic27294.jpg</td>\n",
       "      <td>which plane is this image in</td>\n",
       "      <td>Plane</td>\n",
       "      <td>synpic27294</td>\n",
       "    </tr>\n",
       "    <tr>\n",
       "      <th>14899</th>\n",
       "      <td>is this a t2 weighted image?</td>\n",
       "      <td></td>\n",
       "      <td>no</td>\n",
       "      <td>synpic53600.jpg</td>\n",
       "      <td>is this t2 weighted image</td>\n",
       "      <td>Modality</td>\n",
       "      <td>synpic53600</td>\n",
       "    </tr>\n",
       "    <tr>\n",
       "      <th>15137</th>\n",
       "      <td>what organ system is pictured here?</td>\n",
       "      <td></td>\n",
       "      <td>spine and contents</td>\n",
       "      <td>synpic16108.jpg</td>\n",
       "      <td>what organ system is pictured here</td>\n",
       "      <td>Organ</td>\n",
       "      <td>synpic16108</td>\n",
       "    </tr>\n",
       "    <tr>\n",
       "      <th>14958</th>\n",
       "      <td>in what plane is this angiogram taken?</td>\n",
       "      <td></td>\n",
       "      <td>ap</td>\n",
       "      <td>synpic59360.jpg</td>\n",
       "      <td>in what plane is this angiogram taken</td>\n",
       "      <td>Plane</td>\n",
       "      <td>synpic59360</td>\n",
       "    </tr>\n",
       "    <tr>\n",
       "      <th>15096</th>\n",
       "      <td>which organ system is shown in the ct scan?</td>\n",
       "      <td></td>\n",
       "      <td>face sinuses and neck</td>\n",
       "      <td>synpic56103.jpg</td>\n",
       "      <td>which organ system is shown in the ct scan</td>\n",
       "      <td>Organ</td>\n",
       "      <td>synpic56103</td>\n",
       "    </tr>\n",
       "    <tr>\n",
       "      <th>15129</th>\n",
       "      <td>what organ system is pictured here?</td>\n",
       "      <td></td>\n",
       "      <td>gastrointestinal</td>\n",
       "      <td>synpic25139.jpg</td>\n",
       "      <td>what organ system is pictured here</td>\n",
       "      <td>Organ</td>\n",
       "      <td>synpic25139</td>\n",
       "    </tr>\n",
       "  </tbody>\n",
       "</table>\n",
       "</div>"
      ],
      "text/plain": [
       "                                                question answer  \\\n",
       "15199     what is the primary abnormality in this image?          \n",
       "14967                   in what plane is this mri taken?          \n",
       "15010                   what plane was used in this mri?          \n",
       "14825  what imaging modality is used to acquire this ...          \n",
       "15011                      which plane is this image in?          \n",
       "14899                       is this a t2 weighted image?          \n",
       "15137                what organ system is pictured here?          \n",
       "14958             in what plane is this angiogram taken?          \n",
       "15096        which organ system is shown in the ct scan?          \n",
       "15129                what organ system is pictured here?          \n",
       "\n",
       "                                        prediction       image_name  \\\n",
       "15199  fibrous aortic pulmonary dysplasia embolism  synpic54202.jpg   \n",
       "14967                                     sagittal  synpic52142.jpg   \n",
       "15010                                        axial  synpic43048.jpg   \n",
       "14825                                us ultrasound  synpic46949.jpg   \n",
       "15011                                     sagittal  synpic27294.jpg   \n",
       "14899                                           no  synpic53600.jpg   \n",
       "15137                           spine and contents  synpic16108.jpg   \n",
       "14958                                           ap  synpic59360.jpg   \n",
       "15096                        face sinuses and neck  synpic56103.jpg   \n",
       "15129                             gastrointestinal  synpic25139.jpg   \n",
       "\n",
       "                                      processed_question question_category  \\\n",
       "15199      what is the primary abnormality in this image       Abnormality   \n",
       "14967                    in what plane is this mri taken             Plane   \n",
       "15010                    what plane was used in this mri             Plane   \n",
       "14825  what imaging modality is used to acquire this ...          Modality   \n",
       "15011                       which plane is this image in             Plane   \n",
       "14899                          is this t2 weighted image          Modality   \n",
       "15137                 what organ system is pictured here             Organ   \n",
       "14958              in what plane is this angiogram taken             Plane   \n",
       "15096         which organ system is shown in the ct scan             Organ   \n",
       "15129                 what organ system is pictured here             Organ   \n",
       "\n",
       "          image_id  \n",
       "15199  synpic54202  \n",
       "14967  synpic52142  \n",
       "15010  synpic43048  \n",
       "14825  synpic46949  \n",
       "15011  synpic27294  \n",
       "14899  synpic53600  \n",
       "15137  synpic16108  \n",
       "14958  synpic59360  \n",
       "15096  synpic56103  \n",
       "15129  synpic25139  "
      ]
     },
     "execution_count": 9,
     "metadata": {},
     "output_type": "execute_result"
    }
   ],
   "source": [
    "df_output = df_to_predict.copy()\n",
    "df_output['image_id'] = df_output.path.apply(lambda p: p.rsplit(os.sep)[-1].rsplit('.', 1)[0])\n",
    "df_output['prediction'] = predictions\n",
    "\n",
    "columns_to_remove = ['path',  'answer_embedding', 'question_embedding', 'group', 'diagnosis', 'processed_answer']\n",
    "for col in columns_to_remove:\n",
    "    del df_output[col]\n",
    "\n",
    "sort_columns = sorted(df_output.columns, key=lambda c: c not in ['question', 'prediction', 'answer'])\n",
    "df_output = df_output[sort_columns]    \n",
    "df_output.sample(10)"
   ]
  },
  {
   "cell_type": "code",
   "execution_count": 18,
   "metadata": {},
   "outputs": [
    {
     "data": {
      "text/plain": [
       "VqaModelPredictor(model=5, specialized_classifiers={'Abnormality': 72, 'Modality': 69, 'Organ': 70, 'Plane': 71})"
      ]
     },
     "execution_count": 18,
     "metadata": {},
     "output_type": "execute_result"
    }
   ],
   "source": [
    "mp"
   ]
  },
  {
   "cell_type": "code",
   "execution_count": 19,
   "metadata": {},
   "outputs": [
    {
     "data": {
      "text/plain": [
       "(500, 500)"
      ]
     },
     "execution_count": 19,
     "metadata": {},
     "output_type": "execute_result"
    }
   ],
   "source": [
    "len(df_output), len(df_output.image_id.drop_duplicates())"
   ]
  },
  {
   "cell_type": "code",
   "execution_count": 26,
   "metadata": {},
   "outputs": [],
   "source": [
    "strs = []\n",
    "debug_output_rows = df_output.apply(lambda row: row.image_id + '|'+ row.question + '|'+ row.prediction, axis=1 )\n",
    "output_rows = df_output.apply(lambda row: row.image_id + '|'+ row.prediction, axis=1 )\n",
    "rows = output_rows.values\n",
    "res = '\\n'.join(rows)"
   ]
  },
  {
   "cell_type": "code",
   "execution_count": 34,
   "metadata": {},
   "outputs": [
    {
     "name": "stdout",
     "output_type": "stream",
     "text": [
      "synpic54082|cta ct angiography\n",
      "synpic48556|no\n",
      "synpic50696|iv\n",
      "synpic37194|us doppler ultrasound\n",
      "synpic31308|an angiogram\n",
      "synpic24739|t1\n",
      "synpic32365|yes\n",
      "synpic47936|iv\n",
      "synpic29792|yes\n",
      "synpic43561|no\n",
      "syn\n"
     ]
    }
   ],
   "source": [
    "print(res[:200])"
   ]
  },
  {
   "cell_type": "code",
   "execution_count": 50,
   "metadata": {},
   "outputs": [
    {
     "data": {
      "text/plain": [
       "113"
      ]
     },
     "execution_count": 50,
     "metadata": {},
     "output_type": "execute_result"
    }
   ],
   "source": [
    "import time\n",
    "now = time.time()\n",
    "ts = datetime.datetime.fromtimestamp(now).strftime('%Y%m%d_%H%M_%S')\n",
    "submission_base_folder = Path('C:\\\\Users\\\\Public\\\\Documents\\\\Data\\\\2019\\\\submissions')\n",
    "submission_folder = submission_base_folder/ts\n",
    "submission_folder.mkdir()\n",
    "\n",
    "\n",
    "txt_path = submission_folder/f'submission_{ts}.txt'\n",
    "txt_path.write_text(res)\n",
    "\n",
    "\n",
    "model_description_path = submission_folder/f'model_description.txt'\n",
    "model_description_path.write_text(repr(mp))\n",
    "\n",
    "\n"
   ]
  }
 ],
 "metadata": {
  "kernelspec": {
   "display_name": "Python 3",
   "language": "python",
   "name": "python3"
  },
  "language_info": {
   "codemirror_mode": {
    "name": "ipython",
    "version": 3
   },
   "file_extension": ".py",
   "mimetype": "text/x-python",
   "name": "python",
   "nbconvert_exporter": "python",
   "pygments_lexer": "ipython3",
   "version": "3.6.7"
  }
 },
 "nbformat": 4,
 "nbformat_minor": 2
}
