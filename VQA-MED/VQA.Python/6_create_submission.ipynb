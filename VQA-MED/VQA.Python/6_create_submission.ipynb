{
 "cells": [
  {
   "cell_type": "code",
   "execution_count": 1,
   "metadata": {},
   "outputs": [
    {
     "name": "stderr",
     "output_type": "stream",
     "text": [
      "Using TensorFlow backend.\n"
     ]
    }
   ],
   "source": [
    "import os\n",
    "import pandas as pd\n",
    "from tqdm import tqdm\n",
    "from classes.vqa_model_predictor import DefaultVqaModelPredictor\n",
    "from evaluate.VqaMedEvaluatorBase import VqaMedEvaluatorBase\n",
    "from common.utils import VerboseTimer\n",
    "import vqa_logger \n",
    "import logging\n",
    "from pathlib import Path\n",
    "import datetime\n",
    "logger = logging.getLogger(__name__)"
   ]
  },
  {
   "cell_type": "code",
   "execution_count": 2,
   "metadata": {},
   "outputs": [
    {
     "name": "stdout",
     "output_type": "stream",
     "text": [
      "[2019-05-04 22:24:19][classes.vqa_model_predictor][DEBUG] Getting model #185 (post_concat_dense_units: (8, 7, 6);\n",
      "Optimizer: RMSprop\n",
      "loss: cosine_proximity\n",
      "activation: sigmoid\n",
      "prediction vector: words\n",
      "lstm_units: 128\n",
      "batch_size: 32\n",
      "epochs: 4\n",
      "class weights: False\n",
      "Inputs Attention: False\n",
      "\n",
      "\n",
      "model_location = 'C:\\Users\\Public\\Documents\\Data\\2019\\models\\20190430_0104_56_Abnormality_dense_8_7_6_lstm_128_trained\\vqa_model.h5')\n",
      "[2019-05-04 22:24:19][common.utils][DEBUG] Starting 'Loading Model'\n",
      "[2019-05-04 22:24:23][common.utils][DEBUG] Loading Model: 0:00:04.813816\n",
      "[2019-05-04 22:24:23][classes.vqa_model_predictor][WARNING] Expected main model to be with no question category, but got: \"Abnormality\"\n",
      "[2019-05-04 22:24:23][classes.vqa_model_predictor][DEBUG] Getting model #120 (post_concat_dense_units: (8, 6);\n",
      "Optimizer: RMSprop\n",
      "loss: cosine_proximity\n",
      "activation: sigmoid\n",
      "prediction vector: answers\n",
      "lstm_units: 0\n",
      "batch_size: 32\n",
      "Based on #68, with class weights\n",
      "\n",
      "model_location = 'C:\\Users\\Public\\Documents\\Data\\2019\\models\\20190416_0322_14_dense_layers8_6_trained\\vqa_model.h5' \n",
      "\n",
      "Accidently used non specific data access)\n",
      "[2019-05-04 22:24:24][common.utils][DEBUG] Starting 'Loading Model'\n",
      "[2019-05-04 22:24:25][common.utils][DEBUG] Loading Model: 0:00:01.895515\n",
      "[2019-05-04 22:24:25][root][DEBUG] For Abnormality, got specialized model (DB: 120, Folder: ModelFolder(folder=\"C:\\\\Users\\\\Public\\\\Documents\\\\Data\\\\2019\\\\models\\\\20190416_0322_14_dense_layers8_6_trained\"))\n",
      "[2019-05-04 22:24:25][classes.vqa_model_predictor][DEBUG] Getting model #184 (post_concat_dense_units: [8, 6];\n",
      "Optimizer: RMSprop\n",
      "loss: categorical_crossentropy\n",
      "activation: softmax\n",
      "prediction vector: answers\n",
      "lstm_units: 0\n",
      "batch_size: 32\n",
      "epochs: 10\n",
      "class weights: False\n",
      "Inputs Attention: False\n",
      "For Category: Modality\n",
      "\n",
      "model_location = 'C:\\Users\\Public\\Documents\\Data\\2019\\models\\20190429_0405_41_Modality_dense_8_6_trained\\vqa_model.h5')\n",
      "[2019-05-04 22:24:25][common.utils][DEBUG] Starting 'Loading Model'\n",
      "[2019-05-04 22:24:28][common.utils][DEBUG] Loading Model: 0:00:02.231360\n",
      "[2019-05-04 22:24:28][root][DEBUG] For Modality, got specialized model (DB: 184, Folder: ModelFolder(folder=\"C:\\\\Users\\\\Public\\\\Documents\\\\Data\\\\2019\\\\models\\\\20190429_0405_41_Modality_dense_8_6_trained\"))\n",
      "[2019-05-04 22:24:28][classes.vqa_model_predictor][DEBUG] Getting model #70 (prediction_vector: answers\n",
      " question_category: Organ\n",
      "augmentations: 20 \n",
      "epochs: 10\n",
      "batch size: 64\n",
      "based on model 5)\n",
      "[2019-05-04 22:24:28][common.utils][DEBUG] Starting 'Loading Model'\n",
      "[2019-05-04 22:24:30][common.utils][DEBUG] Loading Model: 0:00:02.059976\n",
      "[2019-05-04 22:24:30][root][DEBUG] For Organ, got specialized model (DB: 70, Folder: ModelFolder(folder=\"C:\\\\Users\\\\Public\\\\Documents\\\\Data\\\\2019\\\\models\\\\20190329_0440_18\"))\n",
      "[2019-05-04 22:24:30][classes.vqa_model_predictor][DEBUG] Getting model #188 (post_concat_dense_units: [8];\n",
      "Optimizer: RMSprop\n",
      "loss: categorical_crossentropy\n",
      "activation: softmax\n",
      "prediction vector: answers\n",
      "lstm_units: 0\n",
      "batch_size: 32\n",
      "epochs: 5\n",
      "class weights: False\n",
      "Inputs Attention: False\n",
      "For Category: Plane\n",
      "\n",
      "model_location = 'C:\\Users\\Public\\Documents\\Data\\2019\\models\\20190430_2147_46_Plane_dense_8_trained\\vqa_model.h5')\n",
      "[2019-05-04 22:24:30][common.utils][DEBUG] Starting 'Loading Model'\n",
      "[2019-05-04 22:24:32][common.utils][DEBUG] Loading Model: 0:00:02.462530\n",
      "[2019-05-04 22:24:32][root][DEBUG] For Plane, got specialized model (DB: 188, Folder: ModelFolder(folder=\"C:\\\\Users\\\\Public\\\\Documents\\\\Data\\\\2019\\\\models\\\\20190430_2147_46_Plane_dense_8_trained\"))\n",
      "[2019-05-04 22:24:32][classes.vqa_model_predictor][DEBUG] Getting model #193 (post_concat_dense_units: [9, 6];\n",
      "Optimizer: RMSprop\n",
      "loss: categorical_crossentropy\n",
      "activation: softmax\n",
      "prediction vector: answers\n",
      "lstm_units: 0\n",
      "batch_size: 32\n",
      "epochs: 2\n",
      "class weights: False\n",
      "Inputs Attention: False\n",
      "For Category: Abnormality_yes_no\n",
      "\n",
      "model_location = 'C:\\Users\\Public\\Documents\\Data\\2019\\models\\20190501_0350_23_Abnormality_yes_no_dense_9_6_trained\\vqa_model.h5')\n",
      "[2019-05-04 22:24:32][common.utils][DEBUG] Starting 'Loading Model'\n",
      "[2019-05-04 22:24:35][common.utils][DEBUG] Loading Model: 0:00:02.789147\n",
      "[2019-05-04 22:24:35][root][DEBUG] For Abnormality_yes_no, got specialized model (DB: 193, Folder: ModelFolder(folder=\"C:\\\\Users\\\\Public\\\\Documents\\\\Data\\\\2019\\\\models\\\\20190501_0350_23_Abnormality_yes_no_dense_9_6_trained\"))\n",
      "[2019-05-04 22:24:35][data_access.api][DEBUG] loading processed data from:\n",
      "C:\\Users\\avitu\\Documents\\GitHub\\VQA-MED\\VQA-MED\\VQA.Python\\data\\model_input.parquet\n",
      "[2019-05-04 22:24:35][data_access.api][DEBUG] loading parquet from:\n",
      "C:\\Users\\avitu\\Documents\\GitHub\\VQA-MED\\VQA-MED\\VQA.Python\\data\\model_input.parquet\n",
      "[2019-05-04 22:24:35][common.utils][DEBUG] Starting 'Loading parquet'\n",
      "[2019-05-04 22:24:35][common.utils][DEBUG] Loading parquet: 0:00:00.117402\n",
      "[2019-05-04 22:24:35][common.utils][DEBUG] Starting 'Converting to pandas'\n",
      "[2019-05-04 22:24:35][common.utils][DEBUG] Converting to pandas: 0:00:00.003550\n",
      "[2019-05-04 22:24:35][data_access.api][DEBUG] loading processed data from:\n",
      "C:\\Users\\avitu\\Documents\\GitHub\\VQA-MED\\VQA-MED\\VQA.Python\\data\\model_input.parquet\n",
      "[2019-05-04 22:24:35][data_access.api][DEBUG] loading parquet from:\n",
      "C:\\Users\\avitu\\Documents\\GitHub\\VQA-MED\\VQA-MED\\VQA.Python\\data\\model_input.parquet\n",
      "[2019-05-04 22:24:35][common.utils][DEBUG] Starting 'Loading parquet'\n",
      "[2019-05-04 22:24:36][common.utils][DEBUG] Loading parquet: 0:00:00.528948\n",
      "[2019-05-04 22:24:36][common.utils][DEBUG] Starting 'Converting to pandas'\n",
      "[2019-05-04 22:24:36][common.utils][DEBUG] Converting to pandas: 0:00:00.004511\n"
     ]
    }
   ],
   "source": [
    "# %%capture\n",
    "# mp = DefaultVqaModelPredictor.get_contender()\n",
    "\n",
    "main_model = 172\n",
    "# specialized_classifiers = {'Abnormality': 172, 'Modality': 157, 'Organ': 160, 'Plane': 159, 'Abnormality_yes_no':178}\n",
    "\n",
    "#with class weights (looks worse):\n",
    "# specialized_classifiers = {'Abnormality': 172, 'Modality': 157, 'Organ': 180, 'Plane': 179, 'Abnormality_yes_no':178} \n",
    "# notes = 'Notes: with class weights (looks worse)'\n",
    "\n",
    "#with class weights (looks worse):\n",
    "specialized_classifiers = {'Abnormality': 172, 'Modality': 184, 'Organ': 183, 'Plane': 159, 'Abnormality_yes_no':178} \n",
    "specialized_classifiers = {'Abnormality': 186, 'Modality': 184, 'Organ': 183, 'Plane': 188, 'Abnormality_yes_no':178} \n",
    "\n",
    "main_model = 185\n",
    "specialized_classifiers = {'Abnormality': 185, 'Modality': 184, 'Organ': 183, 'Plane': 188, 'Abnormality_yes_no':178} \n",
    "notes= 'Words prediction for abnormality - Optimized for BLEU'\n",
    "specialized_classifiers = {'Abnormality': 202, 'Modality': 184, 'Organ': 183, 'Plane': 188, 'Abnormality_yes_no':193} \n",
    "notes=''\n",
    "specialized_classifiers = {'Abnormality': 202, 'Modality': 184, 'Organ': 70, 'Plane': 188, 'Abnormality_yes_no':193} \n",
    "notes=''\n",
    "\n",
    "specialized_classifiers = {'Abnormality': 120, 'Modality': 184, 'Organ': 70, 'Plane': 188, 'Abnormality_yes_no':193} \n",
    "notes=''\n",
    "\n",
    "mp = DefaultVqaModelPredictor(model=main_model, specialized_classifiers=specialized_classifiers)"
   ]
  },
  {
   "cell_type": "code",
   "execution_count": 3,
   "metadata": {},
   "outputs": [
    {
     "data": {
      "text/plain": [
       "VqaModelPredictor(model=185, specialized_classifiers={'Abnormality': 120, 'Modality': 184, 'Organ': 70, 'Plane': 188, 'Abnormality_yes_no': 193})"
      ]
     },
     "execution_count": 3,
     "metadata": {},
     "output_type": "execute_result"
    }
   ],
   "source": [
    "mp"
   ]
  },
  {
   "cell_type": "code",
   "execution_count": 4,
   "metadata": {},
   "outputs": [
    {
     "data": {
      "text/plain": [
       "411"
      ]
     },
     "execution_count": 4,
     "metadata": {},
     "output_type": "execute_result"
    }
   ],
   "source": [
    "dd = mp.df_validation\n",
    "category = 'Abnormality'\n",
    "add = dd[dd.question_category==category].answer.drop_duplicates()\n",
    "len(add)\n",
    "# dd.head()"
   ]
  },
  {
   "cell_type": "code",
   "execution_count": 5,
   "metadata": {},
   "outputs": [
    {
     "data": {
      "text/plain": [
       "'words'"
      ]
     },
     "execution_count": 5,
     "metadata": {},
     "output_type": "execute_result"
    }
   ],
   "source": [
    "mp.model_folder.prediction_data_name"
   ]
  },
  {
   "cell_type": "code",
   "execution_count": 6,
   "metadata": {},
   "outputs": [
    {
     "name": "stdout",
     "output_type": "stream",
     "text": [
      "[2019-05-04 22:24:36][common.utils][DEBUG] Starting 'Predictions for VQA contender test'\n",
      "[2019-05-04 22:24:36][classes.vqa_model_predictor][INFO] For Category \"Abnormality\" using specialized classifier from:\n",
      "ModelFolder(folder=\"C:\\\\Users\\\\Public\\\\Documents\\\\Data\\\\2019\\\\models\\\\20190416_0322_14_dense_layers8_6_trained\")\n",
      "[2019-05-04 22:24:36][classes.vqa_model_predictor][DEBUG] Classifying: \"Abnormality\"\n",
      "[2019-05-04 22:24:37][common.utils][DEBUG] Starting 'Raw model prediction'\n",
      "[2019-05-04 22:24:43][common.utils][DEBUG] Raw model prediction: 0:00:06.261760\n"
     ]
    },
    {
     "name": "stderr",
     "output_type": "stream",
     "text": [
      "Prediction: [509, 897, 904, 1332; probabilities: [0.012103817, 0.0004: 100%|███████████████████████████████████████████████████████████████████████████████████████████████████████████████████████████████| 114/114 [00:00<00:00, 229.53it/s]\n"
     ]
    },
    {
     "name": "stdout",
     "output_type": "stream",
     "text": [
      "[2019-05-04 22:24:44][classes.vqa_model_predictor][INFO] For Category \"Modality\" using specialized classifier from:\n",
      "ModelFolder(folder=\"C:\\\\Users\\\\Public\\\\Documents\\\\Data\\\\2019\\\\models\\\\20190429_0405_41_Modality_dense_8_6_trained\")\n",
      "[2019-05-04 22:24:44][classes.vqa_model_predictor][DEBUG] Classifying: \"Modality\"\n",
      "[2019-05-04 22:24:44][common.utils][DEBUG] Starting 'Raw model prediction'\n",
      "[2019-05-04 22:24:48][common.utils][DEBUG] Raw model prediction: 0:00:03.600078\n"
     ]
    },
    {
     "name": "stderr",
     "output_type": "stream",
     "text": [
      "Prediction: [44]; probabilities: [0.9917121]: 100%|████████████████████████████████████████████████████████████████████████████████████████████████████████████████████████████████████████████████████████| 125/125 [00:00<00:00, 221.44it/s]\n"
     ]
    },
    {
     "name": "stdout",
     "output_type": "stream",
     "text": [
      "[2019-05-04 22:24:48][classes.vqa_model_predictor][INFO] For Category \"Organ\" using specialized classifier from:\n",
      "ModelFolder(folder=\"C:\\\\Users\\\\Public\\\\Documents\\\\Data\\\\2019\\\\models\\\\20190329_0440_18\")\n",
      "[2019-05-04 22:24:48][classes.vqa_model_predictor][DEBUG] Classifying: \"Organ\"\n",
      "[2019-05-04 22:24:49][common.utils][DEBUG] Starting 'Raw model prediction'\n",
      "[2019-05-04 22:24:53][common.utils][DEBUG] Raw model prediction: 0:00:03.645403\n"
     ]
    },
    {
     "name": "stderr",
     "output_type": "stream",
     "text": [
      "Prediction: [3]; probabilities: [0.23810466]: 100%|████████████████████████████████████████████████████████████████████████████████████████████████████████████████████████████████████████████████████████| 126/126 [00:00<00:00, 295.87it/s]\n"
     ]
    },
    {
     "name": "stdout",
     "output_type": "stream",
     "text": [
      "[2019-05-04 22:24:53][classes.vqa_model_predictor][INFO] For Category \"Plane\" using specialized classifier from:\n",
      "ModelFolder(folder=\"C:\\\\Users\\\\Public\\\\Documents\\\\Data\\\\2019\\\\models\\\\20190430_2147_46_Plane_dense_8_trained\")\n",
      "[2019-05-04 22:24:53][classes.vqa_model_predictor][DEBUG] Classifying: \"Plane\"\n",
      "[2019-05-04 22:24:53][common.utils][DEBUG] Starting 'Raw model prediction'\n",
      "[2019-05-04 22:24:55][common.utils][DEBUG] Raw model prediction: 0:00:01.790236\n"
     ]
    },
    {
     "name": "stderr",
     "output_type": "stream",
     "text": [
      "Prediction: [0]; probabilities: [0.18867284]: 100%|████████████████████████████████████████████████████████████████████████████████████████████████████████████████████████████████████████████████████████| 125/125 [00:00<00:00, 188.75it/s]\n"
     ]
    },
    {
     "name": "stdout",
     "output_type": "stream",
     "text": [
      "[2019-05-04 22:24:56][classes.vqa_model_predictor][INFO] For Category \"Abnormality_yes_no\" using specialized classifier from:\n",
      "ModelFolder(folder=\"C:\\\\Users\\\\Public\\\\Documents\\\\Data\\\\2019\\\\models\\\\20190501_0350_23_Abnormality_yes_no_dense_9_6_trained\")\n",
      "[2019-05-04 22:24:56][classes.vqa_model_predictor][DEBUG] Classifying: \"Abnormality_yes_no\"\n",
      "[2019-05-04 22:24:56][common.utils][DEBUG] Starting 'Raw model prediction'\n",
      "[2019-05-04 22:24:57][common.utils][DEBUG] Raw model prediction: 0:00:01.490860\n"
     ]
    },
    {
     "name": "stderr",
     "output_type": "stream",
     "text": [
      "Prediction: [0]; probabilities: [0.74951106]: 100%|██████████████████████████████████████████████████████████████████████████████████████████████████████████████████████████████████████████████████████████| 10/10 [00:00<00:00, 185.68it/s]\n"
     ]
    },
    {
     "name": "stdout",
     "output_type": "stream",
     "text": [
      "[2019-05-04 22:24:58][common.utils][DEBUG] Predictions for VQA contender test: 0:00:21.581615\n",
      "[2019-05-04 22:24:58][common.utils][DEBUG] Starting 'Predictions for VQA contender validation'\n",
      "[2019-05-04 22:24:58][classes.vqa_model_predictor][INFO] For Category \"Abnormality\" using specialized classifier from:\n",
      "ModelFolder(folder=\"C:\\\\Users\\\\Public\\\\Documents\\\\Data\\\\2019\\\\models\\\\20190416_0322_14_dense_layers8_6_trained\")\n",
      "[2019-05-04 22:24:58][classes.vqa_model_predictor][DEBUG] Classifying: \"Abnormality\"\n",
      "[2019-05-04 22:24:59][common.utils][DEBUG] Starting 'Raw model prediction'\n",
      "[2019-05-04 22:25:04][common.utils][DEBUG] Raw model prediction: 0:00:05.658096\n"
     ]
    },
    {
     "name": "stderr",
     "output_type": "stream",
     "text": [
      "Prediction: [509, 897, 904, 1332; probabilities: [0.0117607, 0.000218: 100%|███████████████████████████████████████████████████████████████████████████████████████████████████████████████████████████████| 477/477 [00:02<00:00, 198.78it/s]\n"
     ]
    },
    {
     "name": "stdout",
     "output_type": "stream",
     "text": [
      "[2019-05-04 22:25:08][classes.vqa_model_predictor][INFO] For Category \"Modality\" using specialized classifier from:\n",
      "ModelFolder(folder=\"C:\\\\Users\\\\Public\\\\Documents\\\\Data\\\\2019\\\\models\\\\20190429_0405_41_Modality_dense_8_6_trained\")\n",
      "[2019-05-04 22:25:08][classes.vqa_model_predictor][DEBUG] Classifying: \"Modality\"\n",
      "[2019-05-04 22:25:10][common.utils][DEBUG] Starting 'Raw model prediction'\n",
      "[2019-05-04 22:25:17][common.utils][DEBUG] Raw model prediction: 0:00:07.426403\n"
     ]
    },
    {
     "name": "stderr",
     "output_type": "stream",
     "text": [
      "Prediction: [33]; probabilities: [0.82611775]: 100%|███████████████████████████████████████████████████████████████████████████████████████████████████████████████████████████████████████████████████████| 500/500 [00:02<00:00, 199.53it/s]\n"
     ]
    },
    {
     "name": "stdout",
     "output_type": "stream",
     "text": [
      "[2019-05-04 22:25:20][classes.vqa_model_predictor][INFO] For Category \"Organ\" using specialized classifier from:\n",
      "ModelFolder(folder=\"C:\\\\Users\\\\Public\\\\Documents\\\\Data\\\\2019\\\\models\\\\20190329_0440_18\")\n",
      "[2019-05-04 22:25:20][classes.vqa_model_predictor][DEBUG] Classifying: \"Organ\"\n",
      "[2019-05-04 22:25:21][common.utils][DEBUG] Starting 'Raw model prediction'\n",
      "[2019-05-04 22:25:27][common.utils][DEBUG] Raw model prediction: 0:00:05.946319\n"
     ]
    },
    {
     "name": "stderr",
     "output_type": "stream",
     "text": [
      "Prediction: [8]; probabilities: [0.29317495]: 100%|████████████████████████████████████████████████████████████████████████████████████████████████████████████████████████████████████████████████████████| 500/500 [00:02<00:00, 202.73it/s]\n"
     ]
    },
    {
     "name": "stdout",
     "output_type": "stream",
     "text": [
      "[2019-05-04 22:25:29][classes.vqa_model_predictor][INFO] For Category \"Plane\" using specialized classifier from:\n",
      "ModelFolder(folder=\"C:\\\\Users\\\\Public\\\\Documents\\\\Data\\\\2019\\\\models\\\\20190430_2147_46_Plane_dense_8_trained\")\n",
      "[2019-05-04 22:25:29][classes.vqa_model_predictor][DEBUG] Classifying: \"Plane\"\n",
      "[2019-05-04 22:25:30][common.utils][DEBUG] Starting 'Raw model prediction'\n",
      "[2019-05-04 22:25:36][common.utils][DEBUG] Raw model prediction: 0:00:05.955218\n"
     ]
    },
    {
     "name": "stderr",
     "output_type": "stream",
     "text": [
      "Prediction: [14]; probabilities: [0.9491535]: 100%|████████████████████████████████████████████████████████████████████████████████████████████████████████████████████████████████████████████████████████| 500/500 [00:02<00:00, 209.15it/s]\n"
     ]
    },
    {
     "name": "stdout",
     "output_type": "stream",
     "text": [
      "[2019-05-04 22:25:39][classes.vqa_model_predictor][INFO] For Category \"Abnormality_yes_no\" using specialized classifier from:\n",
      "ModelFolder(folder=\"C:\\\\Users\\\\Public\\\\Documents\\\\Data\\\\2019\\\\models\\\\20190501_0350_23_Abnormality_yes_no_dense_9_6_trained\")\n",
      "[2019-05-04 22:25:39][classes.vqa_model_predictor][DEBUG] Classifying: \"Abnormality_yes_no\"\n",
      "[2019-05-04 22:25:39][common.utils][DEBUG] Starting 'Raw model prediction'\n",
      "[2019-05-04 22:25:41][common.utils][DEBUG] Raw model prediction: 0:00:01.877713\n"
     ]
    },
    {
     "name": "stderr",
     "output_type": "stream",
     "text": [
      "Prediction: [0]; probabilities: [0.9930084]: 100%|███████████████████████████████████████████████████████████████████████████████████████████████████████████████████████████████████████████████████████████| 23/23 [00:00<00:00, 235.32it/s]\n"
     ]
    },
    {
     "name": "stdout",
     "output_type": "stream",
     "text": [
      "[2019-05-04 22:25:41][common.utils][DEBUG] Predictions for VQA contender validation: 0:00:43.503049\n"
     ]
    },
    {
     "data": {
      "text/html": [
       "<div>\n",
       "<style scoped>\n",
       "    .dataframe tbody tr th:only-of-type {\n",
       "        vertical-align: middle;\n",
       "    }\n",
       "\n",
       "    .dataframe tbody tr th {\n",
       "        vertical-align: top;\n",
       "    }\n",
       "\n",
       "    .dataframe thead th {\n",
       "        text-align: right;\n",
       "    }\n",
       "</style>\n",
       "<table border=\"1\" class=\"dataframe\">\n",
       "  <thead>\n",
       "    <tr style=\"text-align: right;\">\n",
       "      <th></th>\n",
       "      <th>image_name</th>\n",
       "      <th>question</th>\n",
       "      <th>answer</th>\n",
       "      <th>prediction</th>\n",
       "      <th>probabilities</th>\n",
       "      <th>path</th>\n",
       "    </tr>\n",
       "    <tr>\n",
       "      <th>index</th>\n",
       "      <th></th>\n",
       "      <th></th>\n",
       "      <th></th>\n",
       "      <th></th>\n",
       "      <th></th>\n",
       "      <th></th>\n",
       "    </tr>\n",
       "  </thead>\n",
       "  <tbody>\n",
       "    <tr>\n",
       "      <th>12792</th>\n",
       "      <td>synpic54733.jpg</td>\n",
       "      <td>what imaging modality was used to take this im...</td>\n",
       "      <td>ct with iv contrast</td>\n",
       "      <td>ct with iv contrast</td>\n",
       "      <td>[(0.857)]</td>\n",
       "      <td>C:\\Users\\Public\\Documents\\Data\\2019\\validation...</td>\n",
       "    </tr>\n",
       "    <tr>\n",
       "      <th>12793</th>\n",
       "      <td>synpic25647.jpg</td>\n",
       "      <td>what kind of scan is this?</td>\n",
       "      <td>xr - plain film</td>\n",
       "      <td>xr plain film</td>\n",
       "      <td>[(1.000)]</td>\n",
       "      <td>C:\\Users\\Public\\Documents\\Data\\2019\\validation...</td>\n",
       "    </tr>\n",
       "    <tr>\n",
       "      <th>12794</th>\n",
       "      <td>synpic35681.jpg</td>\n",
       "      <td>was the mri taken with contrast?</td>\n",
       "      <td>no</td>\n",
       "      <td>no</td>\n",
       "      <td>[(0.657)]</td>\n",
       "      <td>C:\\Users\\Public\\Documents\\Data\\2019\\validation...</td>\n",
       "    </tr>\n",
       "    <tr>\n",
       "      <th>12795</th>\n",
       "      <td>synpic39641.jpg</td>\n",
       "      <td>is this a t1 weighted, t2 weighted, or flair i...</td>\n",
       "      <td>t2</td>\n",
       "      <td>t2</td>\n",
       "      <td>[(0.875)]</td>\n",
       "      <td>C:\\Users\\Public\\Documents\\Data\\2019\\validation...</td>\n",
       "    </tr>\n",
       "    <tr>\n",
       "      <th>12796</th>\n",
       "      <td>synpic35693.jpg</td>\n",
       "      <td>is this a noncontrast mri?</td>\n",
       "      <td>yes</td>\n",
       "      <td>yes</td>\n",
       "      <td>[(0.562)]</td>\n",
       "      <td>C:\\Users\\Public\\Documents\\Data\\2019\\validation...</td>\n",
       "    </tr>\n",
       "  </tbody>\n",
       "</table>\n",
       "</div>"
      ],
      "text/plain": [
       "            image_name                                           question  \\\n",
       "index                                                                       \n",
       "12792  synpic54733.jpg  what imaging modality was used to take this im...   \n",
       "12793  synpic25647.jpg                         what kind of scan is this?   \n",
       "12794  synpic35681.jpg                   was the mri taken with contrast?   \n",
       "12795  synpic39641.jpg  is this a t1 weighted, t2 weighted, or flair i...   \n",
       "12796  synpic35693.jpg                         is this a noncontrast mri?   \n",
       "\n",
       "                    answer           prediction probabilities  \\\n",
       "index                                                           \n",
       "12792  ct with iv contrast  ct with iv contrast     [(0.857)]   \n",
       "12793      xr - plain film        xr plain film     [(1.000)]   \n",
       "12794                   no                   no     [(0.657)]   \n",
       "12795                   t2                   t2     [(0.875)]   \n",
       "12796                  yes                  yes     [(0.562)]   \n",
       "\n",
       "                                                    path  \n",
       "index                                                     \n",
       "12792  C:\\Users\\Public\\Documents\\Data\\2019\\validation...  \n",
       "12793  C:\\Users\\Public\\Documents\\Data\\2019\\validation...  \n",
       "12794  C:\\Users\\Public\\Documents\\Data\\2019\\validation...  \n",
       "12795  C:\\Users\\Public\\Documents\\Data\\2019\\validation...  \n",
       "12796  C:\\Users\\Public\\Documents\\Data\\2019\\validation...  "
      ]
     },
     "execution_count": 6,
     "metadata": {},
     "output_type": "execute_result"
    }
   ],
   "source": [
    "# %%capture\n",
    "datasets = {'test':mp.df_test, 'validation':mp.df_validation}\n",
    "df_name_to_predict = 'test'\n",
    "\n",
    "\n",
    "predictions = {}\n",
    "\n",
    "for name, df in datasets.items():\n",
    "    with VerboseTimer(f\"Predictions for VQA contender {name}\"):\n",
    "        df_predictions = mp.predict(df)\n",
    "        predictions[name] = df_predictions\n",
    "\n",
    "\n",
    "\n",
    "predictions['validation'][:5]"
   ]
  },
  {
   "cell_type": "code",
   "execution_count": 7,
   "metadata": {},
   "outputs": [],
   "source": [
    "outputs = {}\n",
    "for name, df_predictions in predictions.items():\n",
    "    curr_predictions = df_predictions.prediction.values\n",
    "    df_predicted = datasets[name]\n",
    "    df_output = df_predicted.copy()\n",
    "    df_output['image_id'] = df_output.path.apply(lambda p: p.rsplit(os.sep)[-1].rsplit('.', 1)[0])\n",
    "    df_output['prediction'] = curr_predictions\n",
    "\n",
    "    columns_to_remove = ['path',  'answer_embedding', 'question_embedding', 'group', 'diagnosis', 'processed_answer']\n",
    "    for col in columns_to_remove:\n",
    "        del df_output[col]\n",
    "\n",
    "    sort_columns = sorted(df_output.columns, key=lambda c: c not in ['question', 'prediction', 'answer'])\n",
    "    df_output = df_output[sort_columns]    \n",
    "    outputs[name] = df_output"
   ]
  },
  {
   "cell_type": "code",
   "execution_count": 8,
   "metadata": {},
   "outputs": [],
   "source": [
    "df_output_test = outputs['test']\n",
    "df_output_validation = outputs['validation']"
   ]
  },
  {
   "cell_type": "code",
   "execution_count": 9,
   "metadata": {},
   "outputs": [
    {
     "data": {
      "text/html": [
       "<div>\n",
       "<style scoped>\n",
       "    .dataframe tbody tr th:only-of-type {\n",
       "        vertical-align: middle;\n",
       "    }\n",
       "\n",
       "    .dataframe tbody tr th {\n",
       "        vertical-align: top;\n",
       "    }\n",
       "\n",
       "    .dataframe thead th {\n",
       "        text-align: right;\n",
       "    }\n",
       "</style>\n",
       "<table border=\"1\" class=\"dataframe\">\n",
       "  <thead>\n",
       "    <tr style=\"text-align: right;\">\n",
       "      <th></th>\n",
       "      <th>question</th>\n",
       "      <th>answer</th>\n",
       "      <th>prediction</th>\n",
       "      <th>image_name</th>\n",
       "      <th>processed_question</th>\n",
       "      <th>question_category</th>\n",
       "      <th>image_id</th>\n",
       "    </tr>\n",
       "  </thead>\n",
       "  <tbody>\n",
       "    <tr>\n",
       "      <th>13745</th>\n",
       "      <td>what plane is this mammograph in?</td>\n",
       "      <td>mammo - mlo</td>\n",
       "      <td>3d reconstruction</td>\n",
       "      <td>synpic16484.jpg</td>\n",
       "      <td>what plane is this mammograph in</td>\n",
       "      <td>Plane</td>\n",
       "      <td>synpic16484</td>\n",
       "    </tr>\n",
       "    <tr>\n",
       "      <th>14657</th>\n",
       "      <td>what is most alarming about this mri?</td>\n",
       "      <td>posterior reversible encephalopathy syndrome (...</td>\n",
       "      <td>schwannoma</td>\n",
       "      <td>synpic44995.jpg</td>\n",
       "      <td>what is most alarming about this mri</td>\n",
       "      <td>Abnormality</td>\n",
       "      <td>synpic44995</td>\n",
       "    </tr>\n",
       "    <tr>\n",
       "      <th>13308</th>\n",
       "      <td>in what plane is this image oriented?</td>\n",
       "      <td>axial</td>\n",
       "      <td>axial</td>\n",
       "      <td>synpic38894.jpg</td>\n",
       "      <td>in what plane is this image oriented</td>\n",
       "      <td>Plane</td>\n",
       "      <td>synpic38894</td>\n",
       "    </tr>\n",
       "    <tr>\n",
       "      <th>14475</th>\n",
       "      <td>what is the primary abnormality in this image?</td>\n",
       "      <td>tethered spinal cord with terminal spinal lipoma</td>\n",
       "      <td>ependymoma</td>\n",
       "      <td>synpic19651.jpg</td>\n",
       "      <td>what is the primary abnormality in this image</td>\n",
       "      <td>Abnormality</td>\n",
       "      <td>synpic19651</td>\n",
       "    </tr>\n",
       "    <tr>\n",
       "      <th>13224</th>\n",
       "      <td>was iv contrast given to the patient?</td>\n",
       "      <td>yes</td>\n",
       "      <td>yes</td>\n",
       "      <td>synpic39853.jpg</td>\n",
       "      <td>was iv contrast given to the patient</td>\n",
       "      <td>Modality</td>\n",
       "      <td>synpic39853</td>\n",
       "    </tr>\n",
       "    <tr>\n",
       "      <th>14231</th>\n",
       "      <td>what organ system is being imaged?</td>\n",
       "      <td>vascular and lymphatic</td>\n",
       "      <td>genitourinary</td>\n",
       "      <td>synpic32126.jpg</td>\n",
       "      <td>what organ system is being imaged</td>\n",
       "      <td>Organ</td>\n",
       "      <td>synpic32126</td>\n",
       "    </tr>\n",
       "    <tr>\n",
       "      <th>14130</th>\n",
       "      <td>what organ system is pictured here?</td>\n",
       "      <td>skull and contents</td>\n",
       "      <td>skull and contents</td>\n",
       "      <td>synpic58993.jpg</td>\n",
       "      <td>what organ system is pictured here</td>\n",
       "      <td>Organ</td>\n",
       "      <td>synpic58993</td>\n",
       "    </tr>\n",
       "    <tr>\n",
       "      <th>13986</th>\n",
       "      <td>what organ system is evaluated primarily?</td>\n",
       "      <td>gastrointestinal</td>\n",
       "      <td>gastrointestinal</td>\n",
       "      <td>synpic34070.jpg</td>\n",
       "      <td>what organ system is evaluated primarily</td>\n",
       "      <td>Organ</td>\n",
       "      <td>synpic34070</td>\n",
       "    </tr>\n",
       "    <tr>\n",
       "      <th>14317</th>\n",
       "      <td>does this image look normal?</td>\n",
       "      <td>yes</td>\n",
       "      <td>yes</td>\n",
       "      <td>synpic28899.jpg</td>\n",
       "      <td>does this image look normal</td>\n",
       "      <td>Abnormality_yes_no</td>\n",
       "      <td>synpic28899</td>\n",
       "    </tr>\n",
       "    <tr>\n",
       "      <th>14086</th>\n",
       "      <td>which organ is captured by this mri?</td>\n",
       "      <td>vascular and lymphatic</td>\n",
       "      <td>musculoskeletal</td>\n",
       "      <td>synpic37599.jpg</td>\n",
       "      <td>which organ is captured by this mri</td>\n",
       "      <td>Organ</td>\n",
       "      <td>synpic37599</td>\n",
       "    </tr>\n",
       "  </tbody>\n",
       "</table>\n",
       "</div>"
      ],
      "text/plain": [
       "                                             question  \\\n",
       "13745               what plane is this mammograph in?   \n",
       "14657           what is most alarming about this mri?   \n",
       "13308           in what plane is this image oriented?   \n",
       "14475  what is the primary abnormality in this image?   \n",
       "13224           was iv contrast given to the patient?   \n",
       "14231              what organ system is being imaged?   \n",
       "14130             what organ system is pictured here?   \n",
       "13986       what organ system is evaluated primarily?   \n",
       "14317                    does this image look normal?   \n",
       "14086            which organ is captured by this mri?   \n",
       "\n",
       "                                                  answer          prediction  \\\n",
       "13745                                        mammo - mlo   3d reconstruction   \n",
       "14657  posterior reversible encephalopathy syndrome (...          schwannoma   \n",
       "13308                                              axial               axial   \n",
       "14475   tethered spinal cord with terminal spinal lipoma          ependymoma   \n",
       "13224                                                yes                 yes   \n",
       "14231                             vascular and lymphatic       genitourinary   \n",
       "14130                                 skull and contents  skull and contents   \n",
       "13986                                   gastrointestinal    gastrointestinal   \n",
       "14317                                                yes                 yes   \n",
       "14086                             vascular and lymphatic     musculoskeletal   \n",
       "\n",
       "            image_name                             processed_question  \\\n",
       "13745  synpic16484.jpg               what plane is this mammograph in   \n",
       "14657  synpic44995.jpg           what is most alarming about this mri   \n",
       "13308  synpic38894.jpg           in what plane is this image oriented   \n",
       "14475  synpic19651.jpg  what is the primary abnormality in this image   \n",
       "13224  synpic39853.jpg           was iv contrast given to the patient   \n",
       "14231  synpic32126.jpg              what organ system is being imaged   \n",
       "14130  synpic58993.jpg             what organ system is pictured here   \n",
       "13986  synpic34070.jpg       what organ system is evaluated primarily   \n",
       "14317  synpic28899.jpg                    does this image look normal   \n",
       "14086  synpic37599.jpg            which organ is captured by this mri   \n",
       "\n",
       "        question_category     image_id  \n",
       "13745               Plane  synpic16484  \n",
       "14657         Abnormality  synpic44995  \n",
       "13308               Plane  synpic38894  \n",
       "14475         Abnormality  synpic19651  \n",
       "13224            Modality  synpic39853  \n",
       "14231               Organ  synpic32126  \n",
       "14130               Organ  synpic58993  \n",
       "13986               Organ  synpic34070  \n",
       "14317  Abnormality_yes_no  synpic28899  \n",
       "14086               Organ  synpic37599  "
      ]
     },
     "execution_count": 9,
     "metadata": {},
     "output_type": "execute_result"
    }
   ],
   "source": [
    "display = df_output_validation[df_output_validation.question_category == 'Abnormality']\n",
    "display = df_output_validation\n",
    "display.sample(10)"
   ]
  },
  {
   "cell_type": "code",
   "execution_count": 10,
   "metadata": {},
   "outputs": [
    {
     "data": {
      "text/plain": [
       "VqaModelPredictor(model=185, specialized_classifiers={'Abnormality': 120, 'Modality': 184, 'Organ': 70, 'Plane': 188, 'Abnormality_yes_no': 193})"
      ]
     },
     "execution_count": 10,
     "metadata": {},
     "output_type": "execute_result"
    }
   ],
   "source": [
    "mp"
   ]
  },
  {
   "cell_type": "code",
   "execution_count": 11,
   "metadata": {},
   "outputs": [
    {
     "data": {
      "text/plain": [
       "(500, 500)"
      ]
     },
     "execution_count": 11,
     "metadata": {},
     "output_type": "execute_result"
    }
   ],
   "source": [
    "len(df_output_test), len(df_output_test.image_id.drop_duplicates())"
   ]
  },
  {
   "cell_type": "code",
   "execution_count": 12,
   "metadata": {},
   "outputs": [],
   "source": [
    "def get_str(df):\n",
    "    strs = []\n",
    "    debug_output_rows = df.apply(lambda row: row.image_id + '|'+ row.question + '|'+ row.prediction, axis=1 )\n",
    "    output_rows = df.apply(lambda row: row.image_id + '|'+ row.prediction + '|'+row.answer, axis=1 )\n",
    "    output_rows = output_rows.str.strip('|')\n",
    "    rows = output_rows.values\n",
    "    res = '\\n'.join(rows)\n",
    "    return res\n",
    "\n",
    "res = get_str(df_output_test)\n",
    "res_val = get_str(df_output_validation)\n"
   ]
  },
  {
   "cell_type": "code",
   "execution_count": 13,
   "metadata": {},
   "outputs": [
    {
     "name": "stdout",
     "output_type": "stream",
     "text": [
      "synpic54082|cta ct angiography\n",
      "synpic48556|no\n",
      "synpic50696|iv\n",
      "synpic37194|us doppler ultrasound\n",
      "synpic31308|an angiogram\n",
      "synpic24739|t2\n",
      "synpic32365|yes\n",
      "synpic47936|iv\n",
      "synpic29792|yes\n",
      "synpic43561|no\n",
      "syn\n"
     ]
    }
   ],
   "source": [
    "print(res[:200])"
   ]
  },
  {
   "cell_type": "markdown",
   "metadata": {},
   "source": [
    "### Get evaluations per category:"
   ]
  },
  {
   "cell_type": "code",
   "execution_count": 14,
   "metadata": {},
   "outputs": [
    {
     "name": "stderr",
     "output_type": "stream",
     "text": [
      "evaluating 500 for Plane items: 100%|███████████████████████████████████████████████████████████████████████████████████████████████████████████████████████████████████████████████████████████████████████████| 5/5 [00:05<00:00,  1.69s/it]\n"
     ]
    }
   ],
   "source": [
    "evaluations = {}\n",
    "pbar = tqdm(df_output_validation.groupby('question_category'))\n",
    "for question_category, df in pbar:        \n",
    "    pbar.set_description(f'evaluating {len(df)} for {question_category} items')\n",
    "    curr_predictions = df.prediction.values\n",
    "    curr_ground_truth = df.answer.values\n",
    "    curr_evaluations = VqaMedEvaluatorBase.get_all_evaluation(predictions=curr_predictions, ground_truth=curr_ground_truth)\n",
    "    evaluations[question_category] = curr_evaluations    \n",
    "\n",
    "   \n"
   ]
  },
  {
   "cell_type": "markdown",
   "metadata": {},
   "source": [
    "### Get Total Evaluation:"
   ]
  },
  {
   "cell_type": "code",
   "execution_count": 15,
   "metadata": {},
   "outputs": [],
   "source": [
    "total_evaluations = VqaMedEvaluatorBase.get_all_evaluation(predictions=df_output_validation.prediction.values, ground_truth=df_output_validation.answer.values)    \n",
    "evaluations['Total'] = total_evaluations"
   ]
  },
  {
   "cell_type": "code",
   "execution_count": 16,
   "metadata": {},
   "outputs": [
    {
     "data": {
      "text/html": [
       "<div>\n",
       "<style scoped>\n",
       "    .dataframe tbody tr th:only-of-type {\n",
       "        vertical-align: middle;\n",
       "    }\n",
       "\n",
       "    .dataframe tbody tr th {\n",
       "        vertical-align: top;\n",
       "    }\n",
       "\n",
       "    .dataframe thead th {\n",
       "        text-align: right;\n",
       "    }\n",
       "</style>\n",
       "<table border=\"1\" class=\"dataframe\">\n",
       "  <thead>\n",
       "    <tr style=\"text-align: right;\">\n",
       "      <th></th>\n",
       "      <th>bleu</th>\n",
       "      <th>strict_accuracy</th>\n",
       "      <th>wbss</th>\n",
       "    </tr>\n",
       "  </thead>\n",
       "  <tbody>\n",
       "    <tr>\n",
       "      <th>Abnormality</th>\n",
       "      <td>0.021749</td>\n",
       "      <td>0.018868</td>\n",
       "      <td>0.043482</td>\n",
       "    </tr>\n",
       "    <tr>\n",
       "      <th>Organ</th>\n",
       "      <td>0.708409</td>\n",
       "      <td>0.700000</td>\n",
       "      <td>0.699596</td>\n",
       "    </tr>\n",
       "    <tr>\n",
       "      <th>Modality</th>\n",
       "      <td>0.750807</td>\n",
       "      <td>0.712000</td>\n",
       "      <td>0.702513</td>\n",
       "    </tr>\n",
       "    <tr>\n",
       "      <th>Plane</th>\n",
       "      <td>0.740000</td>\n",
       "      <td>0.740000</td>\n",
       "      <td>0.743488</td>\n",
       "    </tr>\n",
       "    <tr>\n",
       "      <th>Abnormality_yes_no</th>\n",
       "      <td>0.826087</td>\n",
       "      <td>0.826087</td>\n",
       "      <td>0.834267</td>\n",
       "    </tr>\n",
       "    <tr>\n",
       "      <th>Total</th>\n",
       "      <td>0.564491</td>\n",
       "      <td>0.552000</td>\n",
       "      <td>0.556364</td>\n",
       "    </tr>\n",
       "  </tbody>\n",
       "</table>\n",
       "</div>"
      ],
      "text/plain": [
       "                        bleu  strict_accuracy      wbss\n",
       "Abnormality         0.021749         0.018868  0.043482\n",
       "Organ               0.708409         0.700000  0.699596\n",
       "Modality            0.750807         0.712000  0.702513\n",
       "Plane               0.740000         0.740000  0.743488\n",
       "Abnormality_yes_no  0.826087         0.826087  0.834267\n",
       "Total               0.564491         0.552000  0.556364"
      ]
     },
     "execution_count": 16,
     "metadata": {},
     "output_type": "execute_result"
    }
   ],
   "source": [
    "evaluations\n",
    "df_evaluations = pd.DataFrame(evaluations).T#.sort_values(by=('bleu'))\n",
    "df_evaluations['sort'] = df_evaluations.index == 'Total'\n",
    "df_evaluations = df_evaluations.sort_values(by = ['sort', 'wbss'])\n",
    "del df_evaluations['sort']\n",
    "df_evaluations"
   ]
  },
  {
   "cell_type": "code",
   "execution_count": 17,
   "metadata": {},
   "outputs": [
    {
     "name": "stdout",
     "output_type": "stream",
     "text": [
      "\n",
      "==Model==\n",
      "VqaModelPredictor(model=185, specialized_classifiers={'Abnormality': 120, 'Modality': 184, 'Organ': 70, 'Plane': 188, 'Abnormality_yes_no': 193})\n",
      "\n",
      "==Submodels==\n",
      "Abnormality: ModelFolder(folder=\"C:\\\\Users\\\\Public\\\\Documents\\\\Data\\\\2019\\\\models\\\\20190416_0322_14_dense_layers8_6_trained\") (answers)\n",
      "Modality: ModelFolder(folder=\"C:\\\\Users\\\\Public\\\\Documents\\\\Data\\\\2019\\\\models\\\\20190429_0405_41_Modality_dense_8_6_trained\") (answers)\n",
      "Organ: ModelFolder(folder=\"C:\\\\Users\\\\Public\\\\Documents\\\\Data\\\\2019\\\\models\\\\20190329_0440_18\") (answers)\n",
      "Plane: ModelFolder(folder=\"C:\\\\Users\\\\Public\\\\Documents\\\\Data\\\\2019\\\\models\\\\20190430_2147_46_Plane_dense_8_trained\") (answers)\n",
      "Abnormality_yes_no: ModelFolder(folder=\"C:\\\\Users\\\\Public\\\\Documents\\\\Data\\\\2019\\\\models\\\\20190501_0350_23_Abnormality_yes_no_dense_9_6_trained\") (answers)\n",
      "\n",
      "==validation evaluation==\n",
      "                        bleu  strict_accuracy      wbss prediction_vector\n",
      "Abnormality         0.021749         0.018868  0.043482           answers\n",
      "Organ               0.708409         0.700000  0.699596           answers\n",
      "Modality            0.750807         0.712000  0.702513           answers\n",
      "Plane               0.740000         0.740000  0.743488           answers\n",
      "Abnormality_yes_no  0.826087         0.826087  0.834267           answers\n",
      "Total               0.564491         0.552000  0.556364                --\n",
      "\n",
      "==Notes==\n",
      "\n",
      "\n"
     ]
    }
   ],
   "source": [
    "model_repr = repr(mp)\n",
    "model_repr\n",
    "sub_models = {category: folder for category, (model, folder) in mp.model_by_question_category.items()}\n",
    "sub_models_str = '\\n'.join([str(f'{category}: {folder} ({folder.prediction_data_name})') for category, folder in sub_models.items() if folder is not None])\n",
    "\n",
    "model_description_copy = df_evaluations.copy()\n",
    "\n",
    "def get_prediction_vector(category):\n",
    "    sub_model = sub_models.get(category)\n",
    "    if sub_model is not None:\n",
    "        return sub_model.prediction_data_name\n",
    "    else:\n",
    "        return '--'\n",
    "    \n",
    "model_description_copy['prediction_vector'] = model_description_copy.index.map(get_prediction_vector)\n",
    "\n",
    "\n",
    "model_description =f'''\n",
    "==Model==\n",
    "{model_repr}\n",
    "\n",
    "==Submodels==\n",
    "{sub_models_str}\n",
    "\n",
    "==validation evaluation==\n",
    "{model_description_copy.to_string()}\n",
    "\n",
    "==Notes==\n",
    "{notes}\n",
    "'''\n",
    "\n",
    "\n",
    "print(model_description)\n",
    "\n"
   ]
  },
  {
   "cell_type": "code",
   "execution_count": 18,
   "metadata": {},
   "outputs": [],
   "source": [
    "import time\n",
    "now = time.time()\n",
    "ts = datetime.datetime.fromtimestamp(now).strftime('%Y%m%d_%H%M_%S')\n",
    "submission_base_folder = Path('C:\\\\Users\\\\Public\\\\Documents\\\\Data\\\\2019\\\\submissions')\n",
    "submission_folder = submission_base_folder/ts\n",
    "submission_folder.mkdir()\n",
    "\n",
    "\n",
    "txt_path = submission_folder/f'submission_{ts}.txt'\n",
    "txt_path.write_text(res)\n",
    "\n",
    "txt_path_val = submission_folder/f'submission_{ts}_validation.txt'\n",
    "txt_path_val.write_text(res_val)\n",
    "\n",
    "\n",
    "model_description_path = submission_folder/f'model_description.txt'\n",
    "model_description_path.write_text(model_description)\n",
    "\n",
    "with pd.HDFStore(str(submission_folder/ 'predictions.hdf')) as store:\n",
    "    for name, df_predictions in predictions.items():\n",
    "        store[name] = df_predictions"
   ]
  },
  {
   "cell_type": "code",
   "execution_count": 19,
   "metadata": {},
   "outputs": [
    {
     "name": "stdout",
     "output_type": "stream",
     "text": [
      "validation\n"
     ]
    },
    {
     "data": {
      "text/html": [
       "<div>\n",
       "<style scoped>\n",
       "    .dataframe tbody tr th:only-of-type {\n",
       "        vertical-align: middle;\n",
       "    }\n",
       "\n",
       "    .dataframe tbody tr th {\n",
       "        vertical-align: top;\n",
       "    }\n",
       "\n",
       "    .dataframe thead th {\n",
       "        text-align: right;\n",
       "    }\n",
       "</style>\n",
       "<table border=\"1\" class=\"dataframe\">\n",
       "  <thead>\n",
       "    <tr style=\"text-align: right;\">\n",
       "      <th></th>\n",
       "      <th>image_name</th>\n",
       "      <th>question</th>\n",
       "      <th>answer</th>\n",
       "      <th>prediction</th>\n",
       "      <th>probabilities</th>\n",
       "      <th>path</th>\n",
       "    </tr>\n",
       "    <tr>\n",
       "      <th>index</th>\n",
       "      <th></th>\n",
       "      <th></th>\n",
       "      <th></th>\n",
       "      <th></th>\n",
       "      <th></th>\n",
       "      <th></th>\n",
       "    </tr>\n",
       "  </thead>\n",
       "  <tbody>\n",
       "    <tr>\n",
       "      <th>14417</th>\n",
       "      <td>synpic43843.jpg</td>\n",
       "      <td>what is most alarming about this angiogram?</td>\n",
       "      <td>arteriovenous malformation (avm)</td>\n",
       "      <td>schwannoma</td>\n",
       "      <td>[(0.116)]</td>\n",
       "      <td>C:\\Users\\Public\\Documents\\Data\\2019\\validation...</td>\n",
       "    </tr>\n",
       "    <tr>\n",
       "      <th>13357</th>\n",
       "      <td>synpic49985.jpg</td>\n",
       "      <td>what plane is this ct scan in?</td>\n",
       "      <td>sagittal</td>\n",
       "      <td>axial</td>\n",
       "      <td>[(0.799)]</td>\n",
       "      <td>C:\\Users\\Public\\Documents\\Data\\2019\\validation...</td>\n",
       "    </tr>\n",
       "    <tr>\n",
       "      <th>14110</th>\n",
       "      <td>synpic57642.jpg</td>\n",
       "      <td>what organ system is visualized?</td>\n",
       "      <td>skull and contents</td>\n",
       "      <td>skull and contents</td>\n",
       "      <td>[(0.393)]</td>\n",
       "      <td>C:\\Users\\Public\\Documents\\Data\\2019\\validation...</td>\n",
       "    </tr>\n",
       "    <tr>\n",
       "      <th>14299</th>\n",
       "      <td>synpic48040.jpg</td>\n",
       "      <td>is there an abnormality in the ct scan?</td>\n",
       "      <td>no</td>\n",
       "      <td>no</td>\n",
       "      <td>[(0.655)]</td>\n",
       "      <td>C:\\Users\\Public\\Documents\\Data\\2019\\validation...</td>\n",
       "    </tr>\n",
       "    <tr>\n",
       "      <th>14482</th>\n",
       "      <td>synpic47049.jpg</td>\n",
       "      <td>what is most alarming about this ct scan?</td>\n",
       "      <td>hemangiomas of the liver</td>\n",
       "      <td>schwannoma</td>\n",
       "      <td>[(0.116)]</td>\n",
       "      <td>C:\\Users\\Public\\Documents\\Data\\2019\\validation...</td>\n",
       "    </tr>\n",
       "  </tbody>\n",
       "</table>\n",
       "</div>"
      ],
      "text/plain": [
       "            image_name                                     question  \\\n",
       "index                                                                 \n",
       "14417  synpic43843.jpg  what is most alarming about this angiogram?   \n",
       "13357  synpic49985.jpg               what plane is this ct scan in?   \n",
       "14110  synpic57642.jpg             what organ system is visualized?   \n",
       "14299  synpic48040.jpg      is there an abnormality in the ct scan?   \n",
       "14482  synpic47049.jpg    what is most alarming about this ct scan?   \n",
       "\n",
       "                                 answer          prediction probabilities  \\\n",
       "index                                                                       \n",
       "14417  arteriovenous malformation (avm)          schwannoma     [(0.116)]   \n",
       "13357                          sagittal               axial     [(0.799)]   \n",
       "14110                skull and contents  skull and contents     [(0.393)]   \n",
       "14299                                no                  no     [(0.655)]   \n",
       "14482          hemangiomas of the liver          schwannoma     [(0.116)]   \n",
       "\n",
       "                                                    path  \n",
       "index                                                     \n",
       "14417  C:\\Users\\Public\\Documents\\Data\\2019\\validation...  \n",
       "13357  C:\\Users\\Public\\Documents\\Data\\2019\\validation...  \n",
       "14110  C:\\Users\\Public\\Documents\\Data\\2019\\validation...  \n",
       "14299  C:\\Users\\Public\\Documents\\Data\\2019\\validation...  \n",
       "14482  C:\\Users\\Public\\Documents\\Data\\2019\\validation...  "
      ]
     },
     "execution_count": 19,
     "metadata": {},
     "output_type": "execute_result"
    }
   ],
   "source": [
    "print(name)\n",
    "df_predictions.sample(5)"
   ]
  },
  {
   "cell_type": "code",
   "execution_count": 20,
   "metadata": {},
   "outputs": [
    {
     "data": {
      "text/plain": [
       "('pericardial cyst', 'meningioma', array(['(0.116)'], dtype=object))"
      ]
     },
     "execution_count": 20,
     "metadata": {},
     "output_type": "execute_result"
    }
   ],
   "source": [
    "idx = 14525\n",
    "series = df_predictions.loc[idx]\n",
    "series.answer, series.prediction ,series.probabilities "
   ]
  },
  {
   "cell_type": "code",
   "execution_count": 21,
   "metadata": {},
   "outputs": [
    {
     "data": {
      "text/plain": [
       "VqaModelPredictor(model=185, specialized_classifiers={'Abnormality': 120, 'Modality': 184, 'Organ': 70, 'Plane': 188, 'Abnormality_yes_no': 193})"
      ]
     },
     "execution_count": 21,
     "metadata": {},
     "output_type": "execute_result"
    }
   ],
   "source": [
    "mp"
   ]
  }
 ],
 "metadata": {
  "kernelspec": {
   "display_name": "Python 3",
   "language": "python",
   "name": "python3"
  },
  "language_info": {
   "codemirror_mode": {
    "name": "ipython",
    "version": 3
   },
   "file_extension": ".py",
   "mimetype": "text/x-python",
   "name": "python",
   "nbconvert_exporter": "python",
   "pygments_lexer": "ipython3",
   "version": "3.6.7"
  }
 },
 "nbformat": 4,
 "nbformat_minor": 2
}
