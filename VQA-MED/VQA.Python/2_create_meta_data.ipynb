{
 "cells": [
  {
   "cell_type": "code",
   "execution_count": 1,
   "metadata": {},
   "outputs": [],
   "source": [
    "import os\n",
    "import pandas as pd\n",
    "from pandas import HDFStore\n",
    "from nltk.corpus import stopwords\n",
    "import IPython"
   ]
  },
  {
   "cell_type": "code",
   "execution_count": 41,
   "metadata": {
    "collapsed": true
   },
   "outputs": [],
   "source": [
    "from common.functions import get_highlighted_function_code\n",
    "from common.settings import embedding_dim, seq_length, data_access\n",
    "from common.classes import VqaSpecs\n",
    "from common.utils import VerboseTimer\n",
    "import vqa_logger \n",
    "from common.os_utils import File\n",
    "from pre_processing.meta_data import create_meta\n",
    "pd.set_option('display.max_colwidth', -1)"
   ]
  },
  {
   "cell_type": "markdown",
   "metadata": {},
   "source": [
    "### Preprocessing and creating meta data"
   ]
  },
  {
   "cell_type": "markdown",
   "metadata": {},
   "source": [
    "Get the data itself, Note the only things required in dataframe are:\n",
    "1. image_name\n",
    "2. processed question\n",
    "3. processed answer\n"
   ]
  },
  {
   "cell_type": "code",
   "execution_count": 42,
   "metadata": {},
   "outputs": [
    {
     "name": "stdout",
     "output_type": "stream",
     "text": [
      "[2019-02-10 21:43:25][DEBUG] loading processed data from:\n",
      "C:\\Users\\avitu\\Documents\\GitHub\\VQA-MED\\VQA-MED\\VQA.Python\\data\\model_input.parquet\n",
      "[2019-02-10 21:43:25][DEBUG] loading parquet from:\n",
      "C:\\Users\\avitu\\Documents\\GitHub\\VQA-MED\\VQA-MED\\VQA.Python\\data\\model_input.parquet\n",
      "[2019-02-10 21:43:25][DEBUG] Loading parquet: 0:00:00.010969\n",
      "[2019-02-10 21:43:25][DEBUG] Converting to pandas: 0:00:00.011784\n",
      "Data length: 14792\n"
     ]
    },
    {
     "data": {
      "text/html": [
       "<div>\n",
       "<style scoped>\n",
       "    .dataframe tbody tr th:only-of-type {\n",
       "        vertical-align: middle;\n",
       "    }\n",
       "\n",
       "    .dataframe tbody tr th {\n",
       "        vertical-align: top;\n",
       "    }\n",
       "\n",
       "    .dataframe thead th {\n",
       "        text-align: right;\n",
       "    }\n",
       "</style>\n",
       "<table border=\"1\" class=\"dataframe\">\n",
       "  <thead>\n",
       "    <tr style=\"text-align: right;\">\n",
       "      <th></th>\n",
       "      <th>path</th>\n",
       "      <th>question</th>\n",
       "      <th>answer</th>\n",
       "      <th>processed_question</th>\n",
       "      <th>processed_answer</th>\n",
       "      <th>question_category</th>\n",
       "      <th>group</th>\n",
       "    </tr>\n",
       "  </thead>\n",
       "  <tbody>\n",
       "    <tr>\n",
       "      <th>11977</th>\n",
       "      <td>C:\\Users\\Public\\Documents\\Data\\2019\\train\\Train_images\\synpic36936.jpg</td>\n",
       "      <td>what is abnormal in the mri?</td>\n",
       "      <td>meningioma</td>\n",
       "      <td>abnormal mr?</td>\n",
       "      <td>meningioma</td>\n",
       "      <td>Abnormality</td>\n",
       "      <td>train</td>\n",
       "    </tr>\n",
       "    <tr>\n",
       "      <th>8751</th>\n",
       "      <td>C:\\Users\\Public\\Documents\\Data\\2019\\train\\Train_images\\synpic54552.jpg</td>\n",
       "      <td>the ultrasound shows what organ system?</td>\n",
       "      <td>musculoskeletal</td>\n",
       "      <td>ultrasound shows organ system?</td>\n",
       "      <td>musculoskeletal</td>\n",
       "      <td>Organ</td>\n",
       "      <td>train</td>\n",
       "    </tr>\n",
       "  </tbody>\n",
       "</table>\n",
       "</div>"
      ],
      "text/plain": [
       "                                                                         path  \\\n",
       "11977  C:\\Users\\Public\\Documents\\Data\\2019\\train\\Train_images\\synpic36936.jpg   \n",
       "8751   C:\\Users\\Public\\Documents\\Data\\2019\\train\\Train_images\\synpic54552.jpg   \n",
       "\n",
       "                                      question           answer  \\\n",
       "11977  what is abnormal in the mri?             meningioma        \n",
       "8751   the ultrasound shows what organ system?  musculoskeletal   \n",
       "\n",
       "                   processed_question processed_answer question_category  \\\n",
       "11977  abnormal mr?                    meningioma       Abnormality        \n",
       "8751   ultrasound shows organ system?  musculoskeletal  Organ              \n",
       "\n",
       "       group  \n",
       "11977  train  \n",
       "8751   train  "
      ]
     },
     "execution_count": 42,
     "metadata": {},
     "output_type": "execute_result"
    }
   ],
   "source": [
    "# index\timage_name\tquestion\tanswer\tgroup\tpath\toriginal_question\toriginal_answer\ttumor\thematoma\tbrain\tabdomen\tneck\tliver\timaging_device\tanswer_embedding\tquestion_embedding\tis_imaging_device_question\n",
    "df_data = data_access.load_processed_data(columns=['path','question','answer', 'processed_question','processed_answer', 'group','question_category'])        \n",
    "df_data = df_data[df_data.group.isin(['train','validation'])]\n",
    "print(f'Data length: {len(df_data)}')        \n",
    "df_data.sample(2)\n"
   ]
  },
  {
   "cell_type": "markdown",
   "metadata": {},
   "source": [
    "#### We will use this function for creating meta data:"
   ]
  },
  {
   "cell_type": "code",
   "execution_count": 43,
   "metadata": {},
   "outputs": [
    {
     "data": {
      "text/html": [
       "<style type=\"text/css\">.highlight .hll { background-color: #ffffcc }\n",
       ".highlight  { background: #f8f8f8; }\n",
       ".highlight .c { color: #408080; font-style: italic } /* Comment */\n",
       ".highlight .err { border: 1px solid #FF0000 } /* Error */\n",
       ".highlight .k { color: #008000; font-weight: bold } /* Keyword */\n",
       ".highlight .o { color: #666666 } /* Operator */\n",
       ".highlight .ch { color: #408080; font-style: italic } /* Comment.Hashbang */\n",
       ".highlight .cm { color: #408080; font-style: italic } /* Comment.Multiline */\n",
       ".highlight .cp { color: #BC7A00 } /* Comment.Preproc */\n",
       ".highlight .cpf { color: #408080; font-style: italic } /* Comment.PreprocFile */\n",
       ".highlight .c1 { color: #408080; font-style: italic } /* Comment.Single */\n",
       ".highlight .cs { color: #408080; font-style: italic } /* Comment.Special */\n",
       ".highlight .gd { color: #A00000 } /* Generic.Deleted */\n",
       ".highlight .ge { font-style: italic } /* Generic.Emph */\n",
       ".highlight .gr { color: #FF0000 } /* Generic.Error */\n",
       ".highlight .gh { color: #000080; font-weight: bold } /* Generic.Heading */\n",
       ".highlight .gi { color: #00A000 } /* Generic.Inserted */\n",
       ".highlight .go { color: #888888 } /* Generic.Output */\n",
       ".highlight .gp { color: #000080; font-weight: bold } /* Generic.Prompt */\n",
       ".highlight .gs { font-weight: bold } /* Generic.Strong */\n",
       ".highlight .gu { color: #800080; font-weight: bold } /* Generic.Subheading */\n",
       ".highlight .gt { color: #0044DD } /* Generic.Traceback */\n",
       ".highlight .kc { color: #008000; font-weight: bold } /* Keyword.Constant */\n",
       ".highlight .kd { color: #008000; font-weight: bold } /* Keyword.Declaration */\n",
       ".highlight .kn { color: #008000; font-weight: bold } /* Keyword.Namespace */\n",
       ".highlight .kp { color: #008000 } /* Keyword.Pseudo */\n",
       ".highlight .kr { color: #008000; font-weight: bold } /* Keyword.Reserved */\n",
       ".highlight .kt { color: #B00040 } /* Keyword.Type */\n",
       ".highlight .m { color: #666666 } /* Literal.Number */\n",
       ".highlight .s { color: #BA2121 } /* Literal.String */\n",
       ".highlight .na { color: #7D9029 } /* Name.Attribute */\n",
       ".highlight .nb { color: #008000 } /* Name.Builtin */\n",
       ".highlight .nc { color: #0000FF; font-weight: bold } /* Name.Class */\n",
       ".highlight .no { color: #880000 } /* Name.Constant */\n",
       ".highlight .nd { color: #AA22FF } /* Name.Decorator */\n",
       ".highlight .ni { color: #999999; font-weight: bold } /* Name.Entity */\n",
       ".highlight .ne { color: #D2413A; font-weight: bold } /* Name.Exception */\n",
       ".highlight .nf { color: #0000FF } /* Name.Function */\n",
       ".highlight .nl { color: #A0A000 } /* Name.Label */\n",
       ".highlight .nn { color: #0000FF; font-weight: bold } /* Name.Namespace */\n",
       ".highlight .nt { color: #008000; font-weight: bold } /* Name.Tag */\n",
       ".highlight .nv { color: #19177C } /* Name.Variable */\n",
       ".highlight .ow { color: #AA22FF; font-weight: bold } /* Operator.Word */\n",
       ".highlight .w { color: #bbbbbb } /* Text.Whitespace */\n",
       ".highlight .mb { color: #666666 } /* Literal.Number.Bin */\n",
       ".highlight .mf { color: #666666 } /* Literal.Number.Float */\n",
       ".highlight .mh { color: #666666 } /* Literal.Number.Hex */\n",
       ".highlight .mi { color: #666666 } /* Literal.Number.Integer */\n",
       ".highlight .mo { color: #666666 } /* Literal.Number.Oct */\n",
       ".highlight .sa { color: #BA2121 } /* Literal.String.Affix */\n",
       ".highlight .sb { color: #BA2121 } /* Literal.String.Backtick */\n",
       ".highlight .sc { color: #BA2121 } /* Literal.String.Char */\n",
       ".highlight .dl { color: #BA2121 } /* Literal.String.Delimiter */\n",
       ".highlight .sd { color: #BA2121; font-style: italic } /* Literal.String.Doc */\n",
       ".highlight .s2 { color: #BA2121 } /* Literal.String.Double */\n",
       ".highlight .se { color: #BB6622; font-weight: bold } /* Literal.String.Escape */\n",
       ".highlight .sh { color: #BA2121 } /* Literal.String.Heredoc */\n",
       ".highlight .si { color: #BB6688; font-weight: bold } /* Literal.String.Interpol */\n",
       ".highlight .sx { color: #008000 } /* Literal.String.Other */\n",
       ".highlight .sr { color: #BB6688 } /* Literal.String.Regex */\n",
       ".highlight .s1 { color: #BA2121 } /* Literal.String.Single */\n",
       ".highlight .ss { color: #19177C } /* Literal.String.Symbol */\n",
       ".highlight .bp { color: #008000 } /* Name.Builtin.Pseudo */\n",
       ".highlight .fm { color: #0000FF } /* Name.Function.Magic */\n",
       ".highlight .vc { color: #19177C } /* Name.Variable.Class */\n",
       ".highlight .vg { color: #19177C } /* Name.Variable.Global */\n",
       ".highlight .vi { color: #19177C } /* Name.Variable.Instance */\n",
       ".highlight .vm { color: #19177C } /* Name.Variable.Magic */\n",
       ".highlight .il { color: #666666 } /* Literal.Number.Integer.Long */</style><div class=\"highlight\"><pre><span></span><span class=\"k\">def</span> <span class=\"nf\">create_meta</span><span class=\"p\">(</span><span class=\"n\">df</span><span class=\"p\">):</span>\n",
       "    <span class=\"n\">df</span> <span class=\"o\">=</span> <span class=\"n\">_get_data_frame_from_arg</span><span class=\"p\">(</span><span class=\"n\">df</span><span class=\"p\">)</span>\n",
       "\n",
       "    <span class=\"n\">logger</span><span class=\"o\">.</span><span class=\"n\">debug</span><span class=\"p\">(</span><span class=\"n\">f</span><span class=\"s2\">&quot;Dataframe had {len(df)} rows&quot;</span><span class=\"p\">)</span>\n",
       "    <span class=\"n\">english_stopwords</span> <span class=\"o\">=</span> <span class=\"nb\">set</span><span class=\"p\">(</span><span class=\"n\">stopwords</span><span class=\"o\">.</span><span class=\"n\">words</span><span class=\"p\">(</span><span class=\"s1\">&#39;english&#39;</span><span class=\"p\">))</span>\n",
       "\n",
       "    <span class=\"k\">def</span> <span class=\"nf\">get_unique_words</span><span class=\"p\">(</span><span class=\"n\">col</span><span class=\"p\">):</span>\n",
       "        <span class=\"n\">single_string</span> <span class=\"o\">=</span> <span class=\"s2\">&quot; &quot;</span><span class=\"o\">.</span><span class=\"n\">join</span><span class=\"p\">(</span><span class=\"n\">df</span><span class=\"p\">[</span><span class=\"n\">col</span><span class=\"p\">])</span>\n",
       "        <span class=\"n\">exclude</span> <span class=\"o\">=</span> <span class=\"nb\">set</span><span class=\"p\">(</span><span class=\"n\">string</span><span class=\"o\">.</span><span class=\"n\">punctuation</span><span class=\"p\">)</span>\n",
       "        <span class=\"n\">s_no_panctuation</span> <span class=\"o\">=</span> <span class=\"s1\">&#39;&#39;</span><span class=\"o\">.</span><span class=\"n\">join</span><span class=\"p\">(</span><span class=\"n\">ch</span><span class=\"o\">.</span><span class=\"n\">lower</span><span class=\"p\">()</span> <span class=\"k\">for</span> <span class=\"n\">ch</span> <span class=\"ow\">in</span> <span class=\"n\">single_string</span> <span class=\"k\">if</span> <span class=\"n\">ch</span> <span class=\"ow\">not</span> <span class=\"ow\">in</span> <span class=\"n\">exclude</span><span class=\"p\">)</span>\n",
       "        <span class=\"n\">unique_words</span> <span class=\"o\">=</span> <span class=\"nb\">set</span><span class=\"p\">(</span><span class=\"n\">s_no_panctuation</span><span class=\"o\">.</span><span class=\"n\">split</span><span class=\"p\">(</span><span class=\"s2\">&quot; &quot;</span><span class=\"p\">))</span><span class=\"o\">.</span><span class=\"n\">difference</span><span class=\"p\">({</span><span class=\"s1\">&#39;&#39;</span><span class=\"p\">,</span> <span class=\"s1\">&#39; &#39;</span><span class=\"p\">})</span>\n",
       "        <span class=\"n\">unique_words</span> <span class=\"o\">=</span> <span class=\"n\">unique_words</span><span class=\"o\">.</span><span class=\"n\">difference</span><span class=\"p\">(</span><span class=\"n\">english_stopwords</span><span class=\"p\">)</span>\n",
       "        <span class=\"n\">logger</span><span class=\"o\">.</span><span class=\"n\">debug</span><span class=\"p\">(</span><span class=\"s2\">&quot;column {0} had {1} unique words&quot;</span><span class=\"o\">.</span><span class=\"n\">format</span><span class=\"p\">(</span><span class=\"n\">col</span><span class=\"p\">,</span> <span class=\"nb\">len</span><span class=\"p\">(</span><span class=\"n\">unique_words</span><span class=\"p\">)))</span>\n",
       "        <span class=\"k\">return</span> <span class=\"n\">unique_words</span>\n",
       "\n",
       "    <span class=\"n\">cols</span> <span class=\"o\">=</span> <span class=\"p\">[</span><span class=\"s1\">&#39;processed_question&#39;</span><span class=\"p\">,</span> <span class=\"s1\">&#39;processed_answer&#39;</span><span class=\"p\">]</span>\n",
       "    <span class=\"n\">df_unique_words</span> <span class=\"o\">=</span> <span class=\"nb\">set</span><span class=\"p\">(</span><span class=\"n\">itertools</span><span class=\"o\">.</span><span class=\"n\">chain</span><span class=\"o\">.</span><span class=\"n\">from_iterable</span><span class=\"p\">([</span><span class=\"n\">get_unique_words</span><span class=\"p\">(</span><span class=\"n\">col</span><span class=\"p\">)</span> <span class=\"k\">for</span> <span class=\"n\">col</span> <span class=\"ow\">in</span> <span class=\"n\">cols</span><span class=\"p\">]))</span>\n",
       "    <span class=\"n\">unique_answers</span> <span class=\"o\">=</span> <span class=\"nb\">set</span><span class=\"p\">([</span><span class=\"n\">ans</span><span class=\"o\">.</span><span class=\"n\">lower</span><span class=\"p\">()</span> <span class=\"k\">for</span> <span class=\"n\">ans</span> <span class=\"ow\">in</span> <span class=\"n\">df</span><span class=\"p\">[</span><span class=\"s1\">&#39;processed_answer&#39;</span><span class=\"p\">]])</span>\n",
       "\n",
       "    <span class=\"n\">words</span> <span class=\"o\">=</span> <span class=\"nb\">sorted</span><span class=\"p\">(</span><span class=\"nb\">list</span><span class=\"p\">(</span><span class=\"n\">df_unique_words</span><span class=\"p\">),</span> <span class=\"n\">key</span><span class=\"o\">=</span><span class=\"k\">lambda</span> <span class=\"n\">w</span><span class=\"p\">:</span> <span class=\"p\">(</span><span class=\"nb\">len</span><span class=\"p\">(</span><span class=\"n\">w</span><span class=\"p\">),</span> <span class=\"n\">w</span><span class=\"p\">))</span>\n",
       "    <span class=\"n\">words</span> <span class=\"o\">=</span> <span class=\"p\">[</span><span class=\"n\">w</span> <span class=\"k\">for</span> <span class=\"n\">w</span> <span class=\"ow\">in</span> <span class=\"n\">words</span> <span class=\"k\">if</span>\n",
       "             <span class=\"n\">w</span> <span class=\"ow\">in</span> <span class=\"p\">[</span><span class=\"s1\">&#39;ct&#39;</span><span class=\"p\">,</span> <span class=\"s1\">&#39;mri&#39;</span><span class=\"p\">]</span>\n",
       "             <span class=\"ow\">or</span> <span class=\"nb\">len</span><span class=\"p\">(</span><span class=\"n\">w</span><span class=\"p\">)</span> <span class=\"o\">&gt;=</span> <span class=\"mi\">3</span>\n",
       "             <span class=\"ow\">and</span> <span class=\"ow\">not</span> <span class=\"n\">w</span><span class=\"p\">[</span><span class=\"mi\">0</span><span class=\"p\">]</span><span class=\"o\">.</span><span class=\"n\">isdigit</span><span class=\"p\">()]</span>\n",
       "\n",
       "    <span class=\"n\">metadata_dict</span> <span class=\"o\">=</span> <span class=\"p\">{}</span>\n",
       "    <span class=\"n\">metadata_dict</span><span class=\"p\">[</span><span class=\"s1\">&#39;words&#39;</span><span class=\"p\">]</span> <span class=\"o\">=</span> <span class=\"p\">{</span><span class=\"s1\">&#39;word&#39;</span><span class=\"p\">:</span> <span class=\"n\">words</span><span class=\"p\">}</span>\n",
       "    <span class=\"n\">metadata_dict</span><span class=\"p\">[</span><span class=\"s1\">&#39;answers&#39;</span><span class=\"p\">]</span> <span class=\"o\">=</span> <span class=\"p\">{</span><span class=\"s1\">&#39;answer&#39;</span><span class=\"p\">:</span> <span class=\"nb\">list</span><span class=\"p\">(</span><span class=\"n\">unique_answers</span><span class=\"p\">)}</span>\n",
       "\n",
       "    <span class=\"n\">df_dict</span> <span class=\"o\">=</span> <span class=\"p\">{</span><span class=\"n\">k</span><span class=\"p\">:</span> <span class=\"n\">pd</span><span class=\"o\">.</span><span class=\"n\">DataFrame</span><span class=\"p\">(</span><span class=\"n\">dictionary</span><span class=\"p\">,</span> <span class=\"n\">dtype</span><span class=\"o\">=</span><span class=\"nb\">str</span><span class=\"p\">)</span> <span class=\"k\">for</span> <span class=\"n\">k</span><span class=\"p\">,</span> <span class=\"n\">dictionary</span> <span class=\"ow\">in</span> <span class=\"n\">metadata_dict</span><span class=\"o\">.</span><span class=\"n\">items</span><span class=\"p\">()</span> <span class=\"p\">}</span>\n",
       "    <span class=\"k\">return</span> <span class=\"n\">df_dict</span>\n",
       "</pre></div>\n"
      ],
      "text/plain": [
       "<IPython.core.display.HTML object>"
      ]
     },
     "metadata": {},
     "output_type": "execute_result"
    }
   ],
   "source": [
    "code = get_highlighted_function_code(create_meta,remove_comments=False)\n",
    "IPython.display.display(code)  "
   ]
  },
  {
   "cell_type": "code",
   "execution_count": 44,
   "metadata": {
    "collapsed": false
   },
   "outputs": [
    {
     "name": "stdout",
     "output_type": "stream",
     "text": [
      "----- Creating meta -----\n",
      "[2019-02-10 21:43:25][DEBUG] Dataframe had 14792 rows\n",
      "[2019-02-10 21:43:25][DEBUG] column processed_question had 70 unique words\n",
      "[2019-02-10 21:43:25][DEBUG] column processed_answer had 2123 unique words\n"
     ]
    }
   ],
   "source": [
    "print(\"----- Creating meta -----\")\n",
    "meta_data_dict = create_meta(df_data)"
   ]
  },
  {
   "cell_type": "markdown",
   "metadata": {},
   "source": [
    "#### Saving the data, so later on we don't need to compute it again"
   ]
  },
  {
   "cell_type": "code",
   "execution_count": 45,
   "metadata": {},
   "outputs": [
    {
     "name": "stdout",
     "output_type": "stream",
     "text": [
      "----- Saving meta -----\n",
      "[2019-02-10 21:43:25][DEBUG] Meta number of unique answers: 1708\n",
      "[2019-02-10 21:43:25][DEBUG] Meta number of unique words: 2119\n"
     ]
    }
   ],
   "source": [
    "print(\"----- Saving meta -----\")\n",
    "data_access.save_meta(meta_data_dict)"
   ]
  },
  {
   "cell_type": "markdown",
   "metadata": {},
   "source": [
    "##### Test Loading:"
   ]
  },
  {
   "cell_type": "code",
   "execution_count": 51,
   "metadata": {},
   "outputs": [
    {
     "data": {
      "text/html": [
       "<div>\n",
       "<style scoped>\n",
       "    .dataframe tbody tr th:only-of-type {\n",
       "        vertical-align: middle;\n",
       "    }\n",
       "\n",
       "    .dataframe tbody tr th {\n",
       "        vertical-align: top;\n",
       "    }\n",
       "\n",
       "    .dataframe thead th {\n",
       "        text-align: right;\n",
       "    }\n",
       "</style>\n",
       "<table border=\"1\" class=\"dataframe\">\n",
       "  <thead>\n",
       "    <tr style=\"text-align: right;\">\n",
       "      <th></th>\n",
       "      <th>answer</th>\n",
       "    </tr>\n",
       "  </thead>\n",
       "  <tbody>\n",
       "    <tr>\n",
       "      <th>219</th>\n",
       "      <td>glioblastoma multiforme (who grade 4 astrocytoma)</td>\n",
       "    </tr>\n",
       "    <tr>\n",
       "      <th>1071</th>\n",
       "      <td>swimming-induced pulmonary edema (sipe)</td>\n",
       "    </tr>\n",
       "    <tr>\n",
       "      <th>1217</th>\n",
       "      <td>vestibular ('acoustic') schwannoma</td>\n",
       "    </tr>\n",
       "    <tr>\n",
       "      <th>1649</th>\n",
       "      <td>pleomorphic xanthoastrocytoma, pxa</td>\n",
       "    </tr>\n",
       "    <tr>\n",
       "      <th>1170</th>\n",
       "      <td>tornwaldt cyst</td>\n",
       "    </tr>\n",
       "  </tbody>\n",
       "</table>\n",
       "</div>"
      ],
      "text/plain": [
       "                                                 answer\n",
       "219   glioblastoma multiforme (who grade 4 astrocytoma)\n",
       "1071  swimming-induced pulmonary edema (sipe)          \n",
       "1217  vestibular ('acoustic') schwannoma               \n",
       "1649  pleomorphic xanthoastrocytoma, pxa               \n",
       "1170  tornwaldt cyst                                   "
      ]
     },
     "execution_count": 51,
     "metadata": {},
     "output_type": "execute_result"
    }
   ],
   "source": [
    "loaded_meta = data_access.load_meta()\n",
    "answers_meta = loaded_meta['answers']\n",
    "words_meta = loaded_meta['words']\n",
    "\n",
    "answers_meta.sample(5)\n",
    "# words_meta.sample(5)"
   ]
  }
 ],
 "metadata": {
  "kernelspec": {
   "display_name": "Python 3",
   "language": "python",
   "name": "python3"
  },
  "language_info": {
   "codemirror_mode": {
    "name": "ipython",
    "version": 3
   },
   "file_extension": ".py",
   "mimetype": "text/x-python",
   "name": "python",
   "nbconvert_exporter": "python",
   "pygments_lexer": "ipython3",
   "version": "3.6.7"
  }
 },
 "nbformat": 4,
 "nbformat_minor": 2
}
