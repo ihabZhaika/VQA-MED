{
 "cells": [
  {
   "cell_type": "code",
   "execution_count": 1,
   "metadata": {},
   "outputs": [],
   "source": [
    "import os\n",
    "import pandas as pd\n",
    "from pandas import HDFStore\n",
    "from nltk.corpus import stopwords\n",
    "import IPython"
   ]
  },
  {
   "cell_type": "code",
   "execution_count": 2,
   "metadata": {
    "collapsed": true
   },
   "outputs": [],
   "source": [
    "from common.functions import get_highlighted_function_code\n",
    "from common.settings import embedding_dim, seq_length, data_access\n",
    "# from common.classes import VqaSpecs\n",
    "from common.utils import VerboseTimer\n",
    "import vqa_logger \n",
    "from common.os_utils import File\n",
    "from pre_processing.meta_data import create_meta\n",
    "pd.set_option('display.max_colwidth', -1)"
   ]
  },
  {
   "cell_type": "markdown",
   "metadata": {},
   "source": [
    "### Preprocessing and creating meta data"
   ]
  },
  {
   "cell_type": "markdown",
   "metadata": {},
   "source": [
    "Get the data itself, Note the only things required in dataframe are:\n",
    "1. image_name\n",
    "2. processed question\n",
    "3. processed answer\n"
   ]
  },
  {
   "cell_type": "code",
   "execution_count": 9,
   "metadata": {},
   "outputs": [
    {
     "name": "stdout",
     "output_type": "stream",
     "text": [
      "[2019-03-26 00:31:30][data_access.api][DEBUG] loading processed data from:\n",
      "C:\\Users\\avitu\\Documents\\GitHub\\VQA-MED\\VQA-MED\\VQA.Python\\data\\model_input.parquet\n",
      "Data length: 15292\n"
     ]
    }
   ],
   "source": [
    "# index\timage_name\tquestion\tanswer\tgroup\tpath\toriginal_question\toriginal_answer\ttumor\thematoma\tbrain\tabdomen\tneck\tliver\timaging_device\tanswer_embedding\tquestion_embedding\tis_imaging_device_question\n",
    "df_data = data_access.load_processed_data(columns=['path','question','answer', 'processed_question','processed_answer', 'group','question_category'])        \n",
    "df_data = df_data[df_data.group.isin(['train','validation', 'test'])]\n",
    "print(f'Data length: {len(df_data)}')        "
   ]
  },
  {
   "cell_type": "code",
   "execution_count": 10,
   "metadata": {},
   "outputs": [
    {
     "data": {
      "text/html": [
       "<div>\n",
       "<style scoped>\n",
       "    .dataframe tbody tr th:only-of-type {\n",
       "        vertical-align: middle;\n",
       "    }\n",
       "\n",
       "    .dataframe tbody tr th {\n",
       "        vertical-align: top;\n",
       "    }\n",
       "\n",
       "    .dataframe thead th {\n",
       "        text-align: right;\n",
       "    }\n",
       "</style>\n",
       "<table border=\"1\" class=\"dataframe\">\n",
       "  <thead>\n",
       "    <tr style=\"text-align: right;\">\n",
       "      <th></th>\n",
       "      <th>path</th>\n",
       "      <th>question</th>\n",
       "      <th>answer</th>\n",
       "      <th>processed_question</th>\n",
       "      <th>processed_answer</th>\n",
       "      <th>question_category</th>\n",
       "      <th>group</th>\n",
       "    </tr>\n",
       "  </thead>\n",
       "  <tbody>\n",
       "    <tr>\n",
       "      <th>8678</th>\n",
       "      <td>C:\\Users\\Public\\Documents\\Data\\2019\\train\\Train_images\\synpic26594.jpg</td>\n",
       "      <td>which organ system is imaged?</td>\n",
       "      <td>genitourinary</td>\n",
       "      <td>organ system imaged?</td>\n",
       "      <td>genitourinary</td>\n",
       "      <td>Organ</td>\n",
       "      <td>train</td>\n",
       "    </tr>\n",
       "    <tr>\n",
       "      <th>12689</th>\n",
       "      <td>C:\\Users\\Public\\Documents\\Data\\2019\\train\\Train_images\\synpic53326.jpg</td>\n",
       "      <td>what is the primary abnormality in this image?</td>\n",
       "      <td>hodgkin's lymphoma</td>\n",
       "      <td>primary abnormality image?</td>\n",
       "      <td>hodgkin's lymphoma</td>\n",
       "      <td>Abnormality</td>\n",
       "      <td>train</td>\n",
       "    </tr>\n",
       "    <tr>\n",
       "      <th>9845</th>\n",
       "      <td>C:\\Users\\Public\\Documents\\Data\\2019\\train\\Train_images\\synpic52810.jpg</td>\n",
       "      <td>what part of the body is being imaged here?</td>\n",
       "      <td>skull and contents</td>\n",
       "      <td>part body imaged here?</td>\n",
       "      <td>skull contents</td>\n",
       "      <td>Organ</td>\n",
       "      <td>train</td>\n",
       "    </tr>\n",
       "    <tr>\n",
       "      <th>10933</th>\n",
       "      <td>C:\\Users\\Public\\Documents\\Data\\2019\\train\\Train_images\\synpic49090.jpg</td>\n",
       "      <td>what is abnormal in the ct scan?</td>\n",
       "      <td>diffuse idiopathic skeletal hyperostosis (dish), cervical and thoracic spine fractures</td>\n",
       "      <td>abnormal ct scan?</td>\n",
       "      <td>diffuse idiopathic skeletal hyperostosis (dish), cervical thoracic spine fractures</td>\n",
       "      <td>Abnormality</td>\n",
       "      <td>train</td>\n",
       "    </tr>\n",
       "    <tr>\n",
       "      <th>8156</th>\n",
       "      <td>C:\\Users\\Public\\Documents\\Data\\2019\\train\\Train_images\\synpic34953.jpg</td>\n",
       "      <td>what organ systems can be evaluated with this mri?</td>\n",
       "      <td>skull and contents</td>\n",
       "      <td>organ systems evaluated mri?</td>\n",
       "      <td>skull contents</td>\n",
       "      <td>Organ</td>\n",
       "      <td>train</td>\n",
       "    </tr>\n",
       "    <tr>\n",
       "      <th>12356</th>\n",
       "      <td>C:\\Users\\Public\\Documents\\Data\\2019\\train\\Train_images\\synpic55306.jpg</td>\n",
       "      <td>what is abnormal in the ct scan?</td>\n",
       "      <td>cirrhosis</td>\n",
       "      <td>abnormal ct scan?</td>\n",
       "      <td>cirrhosis</td>\n",
       "      <td>Abnormality</td>\n",
       "      <td>train</td>\n",
       "    </tr>\n",
       "    <tr>\n",
       "      <th>216</th>\n",
       "      <td>C:\\Users\\Public\\Documents\\Data\\2019\\test\\VQAMed2019_Test_Images\\synpic60336.jpg</td>\n",
       "      <td>what plane is this ct scan in?</td>\n",
       "      <td></td>\n",
       "      <td>plane ct scan in?</td>\n",
       "      <td></td>\n",
       "      <td>Plane</td>\n",
       "      <td>test</td>\n",
       "    </tr>\n",
       "  </tbody>\n",
       "</table>\n",
       "</div>"
      ],
      "text/plain": [
       "                                                                                  path  \\\n",
       "8678   C:\\Users\\Public\\Documents\\Data\\2019\\train\\Train_images\\synpic26594.jpg            \n",
       "12689  C:\\Users\\Public\\Documents\\Data\\2019\\train\\Train_images\\synpic53326.jpg            \n",
       "9845   C:\\Users\\Public\\Documents\\Data\\2019\\train\\Train_images\\synpic52810.jpg            \n",
       "10933  C:\\Users\\Public\\Documents\\Data\\2019\\train\\Train_images\\synpic49090.jpg            \n",
       "8156   C:\\Users\\Public\\Documents\\Data\\2019\\train\\Train_images\\synpic34953.jpg            \n",
       "12356  C:\\Users\\Public\\Documents\\Data\\2019\\train\\Train_images\\synpic55306.jpg            \n",
       "216    C:\\Users\\Public\\Documents\\Data\\2019\\test\\VQAMed2019_Test_Images\\synpic60336.jpg   \n",
       "\n",
       "                                                 question  \\\n",
       "8678   which organ system is imaged?                        \n",
       "12689  what is the primary abnormality in this image?       \n",
       "9845   what part of the body is being imaged here?          \n",
       "10933  what is abnormal in the ct scan?                     \n",
       "8156   what organ systems can be evaluated with this mri?   \n",
       "12356  what is abnormal in the ct scan?                     \n",
       "216    what plane is this ct scan in?                       \n",
       "\n",
       "                                                                                       answer  \\\n",
       "8678   genitourinary                                                                            \n",
       "12689  hodgkin's lymphoma                                                                       \n",
       "9845   skull and contents                                                                       \n",
       "10933  diffuse idiopathic skeletal hyperostosis (dish), cervical and thoracic spine fractures   \n",
       "8156   skull and contents                                                                       \n",
       "12356  cirrhosis                                                                                \n",
       "216                                                                                             \n",
       "\n",
       "                 processed_question  \\\n",
       "8678   organ system imaged?           \n",
       "12689  primary abnormality image?     \n",
       "9845   part body imaged here?         \n",
       "10933  abnormal ct scan?              \n",
       "8156   organ systems evaluated mri?   \n",
       "12356  abnormal ct scan?              \n",
       "216    plane ct scan in?              \n",
       "\n",
       "                                                                         processed_answer  \\\n",
       "8678   genitourinary                                                                        \n",
       "12689  hodgkin's lymphoma                                                                   \n",
       "9845   skull contents                                                                       \n",
       "10933  diffuse idiopathic skeletal hyperostosis (dish), cervical thoracic spine fractures   \n",
       "8156   skull contents                                                                       \n",
       "12356  cirrhosis                                                                            \n",
       "216                                                                                         \n",
       "\n",
       "      question_category  group  \n",
       "8678   Organ             train  \n",
       "12689  Abnormality       train  \n",
       "9845   Organ             train  \n",
       "10933  Abnormality       train  \n",
       "8156   Organ             train  \n",
       "12356  Abnormality       train  \n",
       "216    Plane             test   "
      ]
     },
     "execution_count": 10,
     "metadata": {},
     "output_type": "execute_result"
    }
   ],
   "source": [
    "df_data.sample(7)"
   ]
  },
  {
   "cell_type": "markdown",
   "metadata": {},
   "source": [
    "#### We will use this function for creating meta data:"
   ]
  },
  {
   "cell_type": "code",
   "execution_count": 4,
   "metadata": {},
   "outputs": [
    {
     "data": {
      "text/html": [
       "<style type=\"text/css\">.highlight .hll { background-color: #ffffcc }\n",
       ".highlight  { background: #f8f8f8; }\n",
       ".highlight .c { color: #408080; font-style: italic } /* Comment */\n",
       ".highlight .err { border: 1px solid #FF0000 } /* Error */\n",
       ".highlight .k { color: #008000; font-weight: bold } /* Keyword */\n",
       ".highlight .o { color: #666666 } /* Operator */\n",
       ".highlight .ch { color: #408080; font-style: italic } /* Comment.Hashbang */\n",
       ".highlight .cm { color: #408080; font-style: italic } /* Comment.Multiline */\n",
       ".highlight .cp { color: #BC7A00 } /* Comment.Preproc */\n",
       ".highlight .cpf { color: #408080; font-style: italic } /* Comment.PreprocFile */\n",
       ".highlight .c1 { color: #408080; font-style: italic } /* Comment.Single */\n",
       ".highlight .cs { color: #408080; font-style: italic } /* Comment.Special */\n",
       ".highlight .gd { color: #A00000 } /* Generic.Deleted */\n",
       ".highlight .ge { font-style: italic } /* Generic.Emph */\n",
       ".highlight .gr { color: #FF0000 } /* Generic.Error */\n",
       ".highlight .gh { color: #000080; font-weight: bold } /* Generic.Heading */\n",
       ".highlight .gi { color: #00A000 } /* Generic.Inserted */\n",
       ".highlight .go { color: #888888 } /* Generic.Output */\n",
       ".highlight .gp { color: #000080; font-weight: bold } /* Generic.Prompt */\n",
       ".highlight .gs { font-weight: bold } /* Generic.Strong */\n",
       ".highlight .gu { color: #800080; font-weight: bold } /* Generic.Subheading */\n",
       ".highlight .gt { color: #0044DD } /* Generic.Traceback */\n",
       ".highlight .kc { color: #008000; font-weight: bold } /* Keyword.Constant */\n",
       ".highlight .kd { color: #008000; font-weight: bold } /* Keyword.Declaration */\n",
       ".highlight .kn { color: #008000; font-weight: bold } /* Keyword.Namespace */\n",
       ".highlight .kp { color: #008000 } /* Keyword.Pseudo */\n",
       ".highlight .kr { color: #008000; font-weight: bold } /* Keyword.Reserved */\n",
       ".highlight .kt { color: #B00040 } /* Keyword.Type */\n",
       ".highlight .m { color: #666666 } /* Literal.Number */\n",
       ".highlight .s { color: #BA2121 } /* Literal.String */\n",
       ".highlight .na { color: #7D9029 } /* Name.Attribute */\n",
       ".highlight .nb { color: #008000 } /* Name.Builtin */\n",
       ".highlight .nc { color: #0000FF; font-weight: bold } /* Name.Class */\n",
       ".highlight .no { color: #880000 } /* Name.Constant */\n",
       ".highlight .nd { color: #AA22FF } /* Name.Decorator */\n",
       ".highlight .ni { color: #999999; font-weight: bold } /* Name.Entity */\n",
       ".highlight .ne { color: #D2413A; font-weight: bold } /* Name.Exception */\n",
       ".highlight .nf { color: #0000FF } /* Name.Function */\n",
       ".highlight .nl { color: #A0A000 } /* Name.Label */\n",
       ".highlight .nn { color: #0000FF; font-weight: bold } /* Name.Namespace */\n",
       ".highlight .nt { color: #008000; font-weight: bold } /* Name.Tag */\n",
       ".highlight .nv { color: #19177C } /* Name.Variable */\n",
       ".highlight .ow { color: #AA22FF; font-weight: bold } /* Operator.Word */\n",
       ".highlight .w { color: #bbbbbb } /* Text.Whitespace */\n",
       ".highlight .mb { color: #666666 } /* Literal.Number.Bin */\n",
       ".highlight .mf { color: #666666 } /* Literal.Number.Float */\n",
       ".highlight .mh { color: #666666 } /* Literal.Number.Hex */\n",
       ".highlight .mi { color: #666666 } /* Literal.Number.Integer */\n",
       ".highlight .mo { color: #666666 } /* Literal.Number.Oct */\n",
       ".highlight .sa { color: #BA2121 } /* Literal.String.Affix */\n",
       ".highlight .sb { color: #BA2121 } /* Literal.String.Backtick */\n",
       ".highlight .sc { color: #BA2121 } /* Literal.String.Char */\n",
       ".highlight .dl { color: #BA2121 } /* Literal.String.Delimiter */\n",
       ".highlight .sd { color: #BA2121; font-style: italic } /* Literal.String.Doc */\n",
       ".highlight .s2 { color: #BA2121 } /* Literal.String.Double */\n",
       ".highlight .se { color: #BB6622; font-weight: bold } /* Literal.String.Escape */\n",
       ".highlight .sh { color: #BA2121 } /* Literal.String.Heredoc */\n",
       ".highlight .si { color: #BB6688; font-weight: bold } /* Literal.String.Interpol */\n",
       ".highlight .sx { color: #008000 } /* Literal.String.Other */\n",
       ".highlight .sr { color: #BB6688 } /* Literal.String.Regex */\n",
       ".highlight .s1 { color: #BA2121 } /* Literal.String.Single */\n",
       ".highlight .ss { color: #19177C } /* Literal.String.Symbol */\n",
       ".highlight .bp { color: #008000 } /* Name.Builtin.Pseudo */\n",
       ".highlight .fm { color: #0000FF } /* Name.Function.Magic */\n",
       ".highlight .vc { color: #19177C } /* Name.Variable.Class */\n",
       ".highlight .vg { color: #19177C } /* Name.Variable.Global */\n",
       ".highlight .vi { color: #19177C } /* Name.Variable.Instance */\n",
       ".highlight .vm { color: #19177C } /* Name.Variable.Magic */\n",
       ".highlight .il { color: #666666 } /* Literal.Number.Integer.Long */</style><div class=\"highlight\"><pre><span></span><span class=\"k\">def</span> <span class=\"nf\">create_meta</span><span class=\"p\">(</span><span class=\"n\">df</span><span class=\"p\">):</span>\n",
       "    <span class=\"n\">df</span> <span class=\"o\">=</span> <span class=\"n\">_get_data_frame_from_arg</span><span class=\"p\">(</span><span class=\"n\">df</span><span class=\"p\">)</span>\n",
       "\n",
       "    <span class=\"n\">logger</span><span class=\"o\">.</span><span class=\"n\">debug</span><span class=\"p\">(</span><span class=\"n\">f</span><span class=\"s2\">&quot;Data frame had {len(df)} rows&quot;</span><span class=\"p\">)</span>\n",
       "    <span class=\"n\">english_stopwords</span> <span class=\"o\">=</span> <span class=\"nb\">set</span><span class=\"p\">(</span><span class=\"n\">stopwords</span><span class=\"o\">.</span><span class=\"n\">words</span><span class=\"p\">(</span><span class=\"s1\">&#39;english&#39;</span><span class=\"p\">))</span>\n",
       "\n",
       "    <span class=\"k\">def</span> <span class=\"nf\">get_unique_words</span><span class=\"p\">(</span><span class=\"n\">col</span><span class=\"p\">):</span>\n",
       "        <span class=\"n\">single_string</span> <span class=\"o\">=</span> <span class=\"s2\">&quot; &quot;</span><span class=\"o\">.</span><span class=\"n\">join</span><span class=\"p\">(</span><span class=\"n\">df</span><span class=\"p\">[</span><span class=\"n\">col</span><span class=\"p\">])</span>\n",
       "        <span class=\"n\">exclude</span> <span class=\"o\">=</span> <span class=\"nb\">set</span><span class=\"p\">(</span><span class=\"n\">string</span><span class=\"o\">.</span><span class=\"n\">punctuation</span><span class=\"p\">)</span>\n",
       "        <span class=\"n\">no_punctuation</span> <span class=\"o\">=</span> <span class=\"s1\">&#39;&#39;</span><span class=\"o\">.</span><span class=\"n\">join</span><span class=\"p\">(</span><span class=\"n\">ch</span><span class=\"o\">.</span><span class=\"n\">lower</span><span class=\"p\">()</span> <span class=\"k\">for</span> <span class=\"n\">ch</span> <span class=\"ow\">in</span> <span class=\"n\">single_string</span> <span class=\"k\">if</span> <span class=\"n\">ch</span> <span class=\"ow\">not</span> <span class=\"ow\">in</span> <span class=\"n\">exclude</span><span class=\"p\">)</span>\n",
       "        <span class=\"n\">unique_words</span> <span class=\"o\">=</span> <span class=\"nb\">set</span><span class=\"p\">(</span><span class=\"n\">no_punctuation</span><span class=\"o\">.</span><span class=\"n\">split</span><span class=\"p\">(</span><span class=\"s2\">&quot; &quot;</span><span class=\"p\">))</span><span class=\"o\">.</span><span class=\"n\">difference</span><span class=\"p\">({</span><span class=\"s1\">&#39;&#39;</span><span class=\"p\">,</span> <span class=\"s1\">&#39; &#39;</span><span class=\"p\">})</span>\n",
       "        <span class=\"n\">unique_words</span> <span class=\"o\">=</span> <span class=\"n\">unique_words</span><span class=\"o\">.</span><span class=\"n\">difference</span><span class=\"p\">(</span><span class=\"n\">english_stopwords</span><span class=\"p\">)</span>\n",
       "        <span class=\"n\">logger</span><span class=\"o\">.</span><span class=\"n\">debug</span><span class=\"p\">(</span><span class=\"s2\">&quot;column {0} had {1} unique words&quot;</span><span class=\"o\">.</span><span class=\"n\">format</span><span class=\"p\">(</span><span class=\"n\">col</span><span class=\"p\">,</span> <span class=\"nb\">len</span><span class=\"p\">(</span><span class=\"n\">unique_words</span><span class=\"p\">)))</span>\n",
       "        <span class=\"k\">return</span> <span class=\"n\">unique_words</span>\n",
       "\n",
       "    <span class=\"n\">cols</span> <span class=\"o\">=</span> <span class=\"p\">[</span><span class=\"s1\">&#39;processed_question&#39;</span><span class=\"p\">,</span> <span class=\"s1\">&#39;processed_answer&#39;</span><span class=\"p\">]</span>\n",
       "    <span class=\"n\">df_unique_words</span> <span class=\"o\">=</span> <span class=\"nb\">set</span><span class=\"p\">(</span><span class=\"n\">itertools</span><span class=\"o\">.</span><span class=\"n\">chain</span><span class=\"o\">.</span><span class=\"n\">from_iterable</span><span class=\"p\">([</span><span class=\"n\">get_unique_words</span><span class=\"p\">(</span><span class=\"n\">col</span><span class=\"p\">)</span> <span class=\"k\">for</span> <span class=\"n\">col</span> <span class=\"ow\">in</span> <span class=\"n\">cols</span><span class=\"p\">]))</span>\n",
       "\n",
       "    <span class=\"n\">ans_columns</span> <span class=\"o\">=</span> <span class=\"p\">[</span><span class=\"s1\">&#39;processed_answer&#39;</span><span class=\"p\">,</span> <span class=\"s1\">&#39;question_category&#39;</span><span class=\"p\">]</span>\n",
       "    <span class=\"n\">df_ans</span> <span class=\"o\">=</span> <span class=\"n\">df</span><span class=\"o\">.</span><span class=\"n\">drop_duplicates</span><span class=\"p\">(</span><span class=\"n\">subset</span><span class=\"o\">=</span><span class=\"s1\">&#39;processed_answer&#39;</span><span class=\"p\">)[</span><span class=\"n\">ans_columns</span><span class=\"p\">]</span>\n",
       "    <span class=\"n\">df_ans</span> <span class=\"o\">=</span> <span class=\"n\">df_ans</span><span class=\"p\">[</span><span class=\"n\">df_ans</span><span class=\"o\">.</span><span class=\"n\">processed_answer</span><span class=\"o\">.</span><span class=\"n\">str</span><span class=\"o\">.</span><span class=\"n\">strip</span><span class=\"p\">()</span><span class=\"o\">.</span><span class=\"n\">str</span><span class=\"o\">.</span><span class=\"n\">len</span><span class=\"p\">()</span> <span class=\"o\">&gt;</span> <span class=\"mi\">0</span><span class=\"p\">]</span>\n",
       "    <span class=\"n\">unique_answers</span> <span class=\"o\">=</span> <span class=\"n\">df_ans</span><span class=\"o\">.</span><span class=\"n\">processed_answer</span><span class=\"o\">.</span><span class=\"n\">str</span><span class=\"o\">.</span><span class=\"n\">strip</span><span class=\"p\">()</span>\n",
       "    <span class=\"n\">question_category</span> <span class=\"o\">=</span>  <span class=\"n\">df_ans</span><span class=\"o\">.</span><span class=\"n\">question_category</span>\n",
       "\n",
       "\n",
       "    <span class=\"n\">words</span> <span class=\"o\">=</span> <span class=\"nb\">sorted</span><span class=\"p\">(</span><span class=\"nb\">list</span><span class=\"p\">(</span><span class=\"n\">df_unique_words</span><span class=\"p\">),</span> <span class=\"n\">key</span><span class=\"o\">=</span><span class=\"k\">lambda</span> <span class=\"n\">w</span><span class=\"p\">:</span> <span class=\"p\">(</span><span class=\"nb\">len</span><span class=\"p\">(</span><span class=\"n\">w</span><span class=\"p\">),</span> <span class=\"n\">w</span><span class=\"p\">))</span>\n",
       "    <span class=\"n\">words</span> <span class=\"o\">=</span> <span class=\"p\">[</span><span class=\"n\">w</span> <span class=\"k\">for</span> <span class=\"n\">w</span> <span class=\"ow\">in</span> <span class=\"n\">words</span> <span class=\"k\">if</span>\n",
       "             <span class=\"n\">w</span> <span class=\"ow\">in</span> <span class=\"p\">[</span><span class=\"s1\">&#39;ct&#39;</span><span class=\"p\">,</span> <span class=\"s1\">&#39;mri&#39;</span><span class=\"p\">]</span>\n",
       "             <span class=\"ow\">or</span> <span class=\"nb\">len</span><span class=\"p\">(</span><span class=\"n\">w</span><span class=\"p\">)</span> <span class=\"o\">&gt;=</span> <span class=\"mi\">3</span>\n",
       "             <span class=\"ow\">and</span> <span class=\"ow\">not</span> <span class=\"n\">w</span><span class=\"p\">[</span><span class=\"mi\">0</span><span class=\"p\">]</span><span class=\"o\">.</span><span class=\"n\">isdigit</span><span class=\"p\">()]</span>\n",
       "\n",
       "    <span class=\"n\">metadata_dict</span> <span class=\"o\">=</span> <span class=\"p\">{</span><span class=\"s1\">&#39;words&#39;</span><span class=\"p\">:</span> <span class=\"p\">{</span><span class=\"s1\">&#39;word&#39;</span><span class=\"p\">:</span> <span class=\"n\">words</span><span class=\"p\">},</span> <span class=\"s1\">&#39;answers&#39;</span><span class=\"p\">:</span> <span class=\"p\">{</span><span class=\"s1\">&#39;answer&#39;</span><span class=\"p\">:</span> <span class=\"nb\">list</span><span class=\"p\">(</span><span class=\"n\">unique_answers</span><span class=\"p\">),</span> <span class=\"s1\">&#39;question_category&#39;</span><span class=\"p\">:</span><span class=\"n\">question_category</span> <span class=\"p\">}}</span>\n",
       "\n",
       "    <span class=\"n\">df_dict</span> <span class=\"o\">=</span> <span class=\"p\">{</span><span class=\"n\">k</span><span class=\"p\">:</span> <span class=\"n\">pd</span><span class=\"o\">.</span><span class=\"n\">DataFrame</span><span class=\"p\">(</span><span class=\"n\">dictionary</span><span class=\"p\">,</span> <span class=\"n\">dtype</span><span class=\"o\">=</span><span class=\"nb\">str</span><span class=\"p\">)</span> <span class=\"k\">for</span> <span class=\"n\">k</span><span class=\"p\">,</span> <span class=\"n\">dictionary</span> <span class=\"ow\">in</span> <span class=\"n\">metadata_dict</span><span class=\"o\">.</span><span class=\"n\">items</span><span class=\"p\">()}</span>\n",
       "    <span class=\"k\">return</span> <span class=\"n\">df_dict</span>\n",
       "</pre></div>\n"
      ],
      "text/plain": [
       "<IPython.core.display.HTML object>"
      ]
     },
     "metadata": {},
     "output_type": "display_data"
    }
   ],
   "source": [
    "code = get_highlighted_function_code(create_meta,remove_comments=False)\n",
    "IPython.display.display(code)  "
   ]
  },
  {
   "cell_type": "code",
   "execution_count": 5,
   "metadata": {
    "collapsed": false
   },
   "outputs": [
    {
     "name": "stdout",
     "output_type": "stream",
     "text": [
      "----- Creating meta -----\n",
      "[2019-03-26 00:30:48][pre_processing.meta_data][DEBUG] Data frame had 15292 rows\n",
      "[2019-03-26 00:30:48][pre_processing.meta_data][DEBUG] column processed_question had 71 unique words\n",
      "[2019-03-26 00:30:48][pre_processing.meta_data][DEBUG] column processed_answer had 2124 unique words\n"
     ]
    }
   ],
   "source": [
    "print(\"----- Creating meta -----\")\n",
    "meta_data_dict = create_meta(df_data)"
   ]
  },
  {
   "cell_type": "markdown",
   "metadata": {},
   "source": [
    "#### Saving the data, so later on we don't need to compute it again"
   ]
  },
  {
   "cell_type": "code",
   "execution_count": 6,
   "metadata": {},
   "outputs": [
    {
     "name": "stdout",
     "output_type": "stream",
     "text": [
      "----- Saving meta -----\n",
      "[2019-03-26 00:30:48][data_access.api][DEBUG] Meta number of unique answers: 1707\n",
      "[2019-03-26 00:30:48][data_access.api][DEBUG] Meta number of unique words: 2120\n"
     ]
    }
   ],
   "source": [
    "print(\"----- Saving meta -----\")\n",
    "data_access.save_meta(meta_data_dict)"
   ]
  },
  {
   "cell_type": "markdown",
   "metadata": {},
   "source": [
    "##### Test Loading:"
   ]
  },
  {
   "cell_type": "code",
   "execution_count": 7,
   "metadata": {},
   "outputs": [
    {
     "data": {
      "text/html": [
       "<div>\n",
       "<style scoped>\n",
       "    .dataframe tbody tr th:only-of-type {\n",
       "        vertical-align: middle;\n",
       "    }\n",
       "\n",
       "    .dataframe tbody tr th {\n",
       "        vertical-align: top;\n",
       "    }\n",
       "\n",
       "    .dataframe thead th {\n",
       "        text-align: right;\n",
       "    }\n",
       "</style>\n",
       "<table border=\"1\" class=\"dataframe\">\n",
       "  <thead>\n",
       "    <tr style=\"text-align: right;\">\n",
       "      <th></th>\n",
       "      <th>answer</th>\n",
       "      <th>question_category</th>\n",
       "    </tr>\n",
       "  </thead>\n",
       "  <tbody>\n",
       "    <tr>\n",
       "      <th>12312</th>\n",
       "      <td>epidermoid cyst testis</td>\n",
       "      <td>Abnormality</td>\n",
       "    </tr>\n",
       "    <tr>\n",
       "      <th>10118</th>\n",
       "      <td>hydranencephaly</td>\n",
       "      <td>Abnormality</td>\n",
       "    </tr>\n",
       "    <tr>\n",
       "      <th>12023</th>\n",
       "      <td>intramuscular hemangioma</td>\n",
       "      <td>Abnormality</td>\n",
       "    </tr>\n",
       "    <tr>\n",
       "      <th>3725</th>\n",
       "      <td>pa</td>\n",
       "      <td>Plane</td>\n",
       "    </tr>\n",
       "    <tr>\n",
       "      <th>10381</th>\n",
       "      <td>testicular microlithiasis</td>\n",
       "      <td>Abnormality</td>\n",
       "    </tr>\n",
       "  </tbody>\n",
       "</table>\n",
       "</div>"
      ],
      "text/plain": [
       "                          answer question_category\n",
       "12312  epidermoid cyst testis     Abnormality     \n",
       "10118  hydranencephaly            Abnormality     \n",
       "12023  intramuscular hemangioma   Abnormality     \n",
       "3725   pa                         Plane           \n",
       "10381  testicular microlithiasis  Abnormality     "
      ]
     },
     "execution_count": 7,
     "metadata": {},
     "output_type": "execute_result"
    }
   ],
   "source": [
    "loaded_meta = data_access.load_meta()\n",
    "answers_meta = loaded_meta['answers']\n",
    "words_meta = loaded_meta['words']\n",
    "\n",
    "\n",
    "answers_meta.question_category.describe()\n",
    "answers_meta.sample(5)\n",
    "# words_meta.sample(5)"
   ]
  }
 ],
 "metadata": {
  "kernelspec": {
   "display_name": "Python 3",
   "language": "python",
   "name": "python3"
  },
  "language_info": {
   "codemirror_mode": {
    "name": "ipython",
    "version": 3
   },
   "file_extension": ".py",
   "mimetype": "text/x-python",
   "name": "python",
   "nbconvert_exporter": "python",
   "pygments_lexer": "ipython3",
   "version": "3.6.7"
  }
 },
 "nbformat": 4,
 "nbformat_minor": 2
}
