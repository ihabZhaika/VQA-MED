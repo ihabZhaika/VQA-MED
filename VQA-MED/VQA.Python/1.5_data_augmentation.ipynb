{
 "cells": [
  {
   "cell_type": "code",
   "execution_count": 1,
   "metadata": {},
   "outputs": [],
   "source": [
    "import os\n",
    "import pandas as pd\n",
    "from pandas import HDFStore\n",
    "import IPython\n",
    "from IPython.display import Image, display\n",
    "import pyarrow\n",
    "from multiprocessing.pool import ThreadPool as Pool"
   ]
  },
  {
   "cell_type": "code",
   "execution_count": 2,
   "metadata": {},
   "outputs": [],
   "source": [
    "from common.constatns import data_location, vqa_specs_location, fn_meta, augmented_data_location\n",
    "from common.utils import VerboseTimer\n",
    "from common.functions import get_highlited_function_code, generate_image_augmentations,  get_image\n",
    "from common.os_utils import File\n"
   ]
  },
  {
   "cell_type": "code",
   "execution_count": 3,
   "metadata": {},
   "outputs": [
    {
     "name": "stdout",
     "output_type": "stream",
     "text": [
      "loading from:\n",
      "C:\\Users\\avitu\\Documents\\GitHub\\VQA-MED\\VQA-MED\\VQA.Python\\data\\model_input.h5\n",
      "Loading Data: 0:00:05.880345\n",
      "Data length: 5913\n"
     ]
    },
    {
     "data": {
      "text/html": [
       "<div>\n",
       "<style scoped>\n",
       "    .dataframe tbody tr th:only-of-type {\n",
       "        vertical-align: middle;\n",
       "    }\n",
       "\n",
       "    .dataframe tbody tr th {\n",
       "        vertical-align: top;\n",
       "    }\n",
       "\n",
       "    .dataframe thead th {\n",
       "        text-align: right;\n",
       "    }\n",
       "</style>\n",
       "<table border=\"1\" class=\"dataframe\">\n",
       "  <thead>\n",
       "    <tr style=\"text-align: right;\">\n",
       "      <th></th>\n",
       "      <th>index</th>\n",
       "      <th>image_name</th>\n",
       "      <th>question</th>\n",
       "      <th>answer</th>\n",
       "      <th>group</th>\n",
       "      <th>path</th>\n",
       "      <th>original_question</th>\n",
       "      <th>original_answer</th>\n",
       "      <th>tumor</th>\n",
       "      <th>hematoma</th>\n",
       "      <th>brain</th>\n",
       "      <th>abdomen</th>\n",
       "      <th>neck</th>\n",
       "      <th>liver</th>\n",
       "      <th>imaging_device</th>\n",
       "      <th>answer_embedding</th>\n",
       "      <th>question_embedding</th>\n",
       "    </tr>\n",
       "  </thead>\n",
       "  <tbody>\n",
       "    <tr>\n",
       "      <th>0</th>\n",
       "      <td>0</td>\n",
       "      <td>rjv03401.jpg</td>\n",
       "      <td>what does mri show?</td>\n",
       "      <td>tumor at tail pancreas</td>\n",
       "      <td>train</td>\n",
       "      <td>C:\\Users\\Public\\Documents\\Data\\2018\\VQAMed2018...</td>\n",
       "      <td>what does mri show?</td>\n",
       "      <td>lesion at tail of pancreas</td>\n",
       "      <td>True</td>\n",
       "      <td>False</td>\n",
       "      <td>False</td>\n",
       "      <td>False</td>\n",
       "      <td>False</td>\n",
       "      <td>False</td>\n",
       "      <td>mri</td>\n",
       "      <td>[[3.8335671424865723, 0.9851416349411011, 0.60...</td>\n",
       "      <td>[[3.8335671424865723, 0.9851416349411011, 0.60...</td>\n",
       "    </tr>\n",
       "    <tr>\n",
       "      <th>1</th>\n",
       "      <td>1</td>\n",
       "      <td>AIAN-14-313-g002.jpg</td>\n",
       "      <td>where does axial section mri abdomen show hypo...</td>\n",
       "      <td>distal pancreas</td>\n",
       "      <td>train</td>\n",
       "      <td>C:\\Users\\Public\\Documents\\Data\\2018\\VQAMed2018...</td>\n",
       "      <td>where does axial section mri abdomen show hypo...</td>\n",
       "      <td>in distal pancreas</td>\n",
       "      <td>False</td>\n",
       "      <td>False</td>\n",
       "      <td>False</td>\n",
       "      <td>True</td>\n",
       "      <td>False</td>\n",
       "      <td>False</td>\n",
       "      <td>mri</td>\n",
       "      <td>[[0.9880439043045044, 0.907943844795227, -1.30...</td>\n",
       "      <td>[[0.9880439043045044, 0.907943844795227, -1.30...</td>\n",
       "    </tr>\n",
       "  </tbody>\n",
       "</table>\n",
       "</div>"
      ],
      "text/plain": [
       "   index            image_name  \\\n",
       "0      0          rjv03401.jpg   \n",
       "1      1  AIAN-14-313-g002.jpg   \n",
       "\n",
       "                                            question                  answer  \\\n",
       "0                                what does mri show?  tumor at tail pancreas   \n",
       "1  where does axial section mri abdomen show hypo...         distal pancreas   \n",
       "\n",
       "   group                                               path  \\\n",
       "0  train  C:\\Users\\Public\\Documents\\Data\\2018\\VQAMed2018...   \n",
       "1  train  C:\\Users\\Public\\Documents\\Data\\2018\\VQAMed2018...   \n",
       "\n",
       "                                   original_question  \\\n",
       "0                                what does mri show?   \n",
       "1  where does axial section mri abdomen show hypo...   \n",
       "\n",
       "              original_answer  tumor  hematoma  brain  abdomen   neck  liver  \\\n",
       "0  lesion at tail of pancreas   True     False  False    False  False  False   \n",
       "1          in distal pancreas  False     False  False     True  False  False   \n",
       "\n",
       "  imaging_device                                   answer_embedding  \\\n",
       "0            mri  [[3.8335671424865723, 0.9851416349411011, 0.60...   \n",
       "1            mri  [[0.9880439043045044, 0.907943844795227, -1.30...   \n",
       "\n",
       "                                  question_embedding  \n",
       "0  [[3.8335671424865723, 0.9851416349411011, 0.60...  \n",
       "1  [[0.9880439043045044, 0.907943844795227, -1.30...  "
      ]
     },
     "execution_count": 3,
     "metadata": {},
     "output_type": "execute_result"
    }
   ],
   "source": [
    "print(f'loading from:\\n{data_location}')\n",
    "with VerboseTimer(\"Loading Data\"):\n",
    "    with HDFStore(data_location) as store:\n",
    "         df_data = store['data']\n",
    "\n",
    "df_data = df_data[df_data.group.isin(['train','validation'])]\n",
    "print(f'Data length: {len(df_data)}')        \n",
    "df_data.head(2)"
   ]
  },
  {
   "cell_type": "markdown",
   "metadata": {},
   "source": [
    "### For the augmaentation we will use the following code:"
   ]
  },
  {
   "cell_type": "code",
   "execution_count": 4,
   "metadata": {},
   "outputs": [
    {
     "data": {
      "text/html": [
       "<style type=\"text/css\">.highlight .hll { background-color: #ffffcc }\n",
       ".highlight  { background: #f8f8f8; }\n",
       ".highlight .c { color: #408080; font-style: italic } /* Comment */\n",
       ".highlight .err { border: 1px solid #FF0000 } /* Error */\n",
       ".highlight .k { color: #008000; font-weight: bold } /* Keyword */\n",
       ".highlight .o { color: #666666 } /* Operator */\n",
       ".highlight .ch { color: #408080; font-style: italic } /* Comment.Hashbang */\n",
       ".highlight .cm { color: #408080; font-style: italic } /* Comment.Multiline */\n",
       ".highlight .cp { color: #BC7A00 } /* Comment.Preproc */\n",
       ".highlight .cpf { color: #408080; font-style: italic } /* Comment.PreprocFile */\n",
       ".highlight .c1 { color: #408080; font-style: italic } /* Comment.Single */\n",
       ".highlight .cs { color: #408080; font-style: italic } /* Comment.Special */\n",
       ".highlight .gd { color: #A00000 } /* Generic.Deleted */\n",
       ".highlight .ge { font-style: italic } /* Generic.Emph */\n",
       ".highlight .gr { color: #FF0000 } /* Generic.Error */\n",
       ".highlight .gh { color: #000080; font-weight: bold } /* Generic.Heading */\n",
       ".highlight .gi { color: #00A000 } /* Generic.Inserted */\n",
       ".highlight .go { color: #888888 } /* Generic.Output */\n",
       ".highlight .gp { color: #000080; font-weight: bold } /* Generic.Prompt */\n",
       ".highlight .gs { font-weight: bold } /* Generic.Strong */\n",
       ".highlight .gu { color: #800080; font-weight: bold } /* Generic.Subheading */\n",
       ".highlight .gt { color: #0044DD } /* Generic.Traceback */\n",
       ".highlight .kc { color: #008000; font-weight: bold } /* Keyword.Constant */\n",
       ".highlight .kd { color: #008000; font-weight: bold } /* Keyword.Declaration */\n",
       ".highlight .kn { color: #008000; font-weight: bold } /* Keyword.Namespace */\n",
       ".highlight .kp { color: #008000 } /* Keyword.Pseudo */\n",
       ".highlight .kr { color: #008000; font-weight: bold } /* Keyword.Reserved */\n",
       ".highlight .kt { color: #B00040 } /* Keyword.Type */\n",
       ".highlight .m { color: #666666 } /* Literal.Number */\n",
       ".highlight .s { color: #BA2121 } /* Literal.String */\n",
       ".highlight .na { color: #7D9029 } /* Name.Attribute */\n",
       ".highlight .nb { color: #008000 } /* Name.Builtin */\n",
       ".highlight .nc { color: #0000FF; font-weight: bold } /* Name.Class */\n",
       ".highlight .no { color: #880000 } /* Name.Constant */\n",
       ".highlight .nd { color: #AA22FF } /* Name.Decorator */\n",
       ".highlight .ni { color: #999999; font-weight: bold } /* Name.Entity */\n",
       ".highlight .ne { color: #D2413A; font-weight: bold } /* Name.Exception */\n",
       ".highlight .nf { color: #0000FF } /* Name.Function */\n",
       ".highlight .nl { color: #A0A000 } /* Name.Label */\n",
       ".highlight .nn { color: #0000FF; font-weight: bold } /* Name.Namespace */\n",
       ".highlight .nt { color: #008000; font-weight: bold } /* Name.Tag */\n",
       ".highlight .nv { color: #19177C } /* Name.Variable */\n",
       ".highlight .ow { color: #AA22FF; font-weight: bold } /* Operator.Word */\n",
       ".highlight .w { color: #bbbbbb } /* Text.Whitespace */\n",
       ".highlight .mb { color: #666666 } /* Literal.Number.Bin */\n",
       ".highlight .mf { color: #666666 } /* Literal.Number.Float */\n",
       ".highlight .mh { color: #666666 } /* Literal.Number.Hex */\n",
       ".highlight .mi { color: #666666 } /* Literal.Number.Integer */\n",
       ".highlight .mo { color: #666666 } /* Literal.Number.Oct */\n",
       ".highlight .sa { color: #BA2121 } /* Literal.String.Affix */\n",
       ".highlight .sb { color: #BA2121 } /* Literal.String.Backtick */\n",
       ".highlight .sc { color: #BA2121 } /* Literal.String.Char */\n",
       ".highlight .dl { color: #BA2121 } /* Literal.String.Delimiter */\n",
       ".highlight .sd { color: #BA2121; font-style: italic } /* Literal.String.Doc */\n",
       ".highlight .s2 { color: #BA2121 } /* Literal.String.Double */\n",
       ".highlight .se { color: #BB6622; font-weight: bold } /* Literal.String.Escape */\n",
       ".highlight .sh { color: #BA2121 } /* Literal.String.Heredoc */\n",
       ".highlight .si { color: #BB6688; font-weight: bold } /* Literal.String.Interpol */\n",
       ".highlight .sx { color: #008000 } /* Literal.String.Other */\n",
       ".highlight .sr { color: #BB6688 } /* Literal.String.Regex */\n",
       ".highlight .s1 { color: #BA2121 } /* Literal.String.Single */\n",
       ".highlight .ss { color: #19177C } /* Literal.String.Symbol */\n",
       ".highlight .bp { color: #008000 } /* Name.Builtin.Pseudo */\n",
       ".highlight .fm { color: #0000FF } /* Name.Function.Magic */\n",
       ".highlight .vc { color: #19177C } /* Name.Variable.Class */\n",
       ".highlight .vg { color: #19177C } /* Name.Variable.Global */\n",
       ".highlight .vi { color: #19177C } /* Name.Variable.Instance */\n",
       ".highlight .vm { color: #19177C } /* Name.Variable.Magic */\n",
       ".highlight .il { color: #666666 } /* Literal.Number.Integer.Long */</style><div class=\"highlight\"><pre><span></span><span class=\"k\">def</span> <span class=\"nf\">generate_image_augmentations</span><span class=\"p\">(</span><span class=\"n\">image_path</span><span class=\"p\">,</span>\n",
       "                                 <span class=\"n\">output_dir</span><span class=\"p\">,</span>\n",
       "                                 <span class=\"n\">rotation_range</span><span class=\"o\">=</span><span class=\"mi\">15</span><span class=\"p\">,</span>  <span class=\"c1\"># Units: degrees</span>\n",
       "                                 <span class=\"n\">width_shift_range</span><span class=\"o\">=</span><span class=\"mf\">0.1</span><span class=\"p\">,</span>\n",
       "                                 <span class=\"n\">height_shift_range</span><span class=\"o\">=</span><span class=\"mf\">0.1</span><span class=\"p\">,</span>\n",
       "                                 <span class=\"n\">shear_range</span><span class=\"o\">=</span><span class=\"mf\">0.</span><span class=\"p\">,</span>  <span class=\"c1\"># Units: degrees</span>\n",
       "                                 <span class=\"n\">zoom_range</span><span class=\"o\">=</span><span class=\"mf\">0.1</span><span class=\"p\">,</span>\n",
       "                                 <span class=\"n\">fill_mode</span><span class=\"o\">=</span><span class=\"s1\">&#39;nearest&#39;</span><span class=\"p\">,</span>\n",
       "                                 <span class=\"n\">augmentation_count</span><span class=\"o\">=</span><span class=\"mi\">5</span><span class=\"p\">):</span>\n",
       "    <span class=\"kn\">from</span> <span class=\"nn\">keras.preprocessing.image</span> <span class=\"kn\">import</span> <span class=\"n\">ImageDataGenerator</span><span class=\"p\">,</span> <span class=\"n\">img_to_array</span><span class=\"p\">,</span> <span class=\"n\">load_img</span> <span class=\"c1\">#,array_to_img</span>\n",
       "\n",
       "    <span class=\"n\">datagen</span> <span class=\"o\">=</span> <span class=\"n\">ImageDataGenerator</span><span class=\"p\">(</span>\n",
       "        <span class=\"n\">rotation_range</span><span class=\"o\">=</span><span class=\"n\">rotation_range</span><span class=\"p\">,</span>\n",
       "        <span class=\"n\">width_shift_range</span><span class=\"o\">=</span><span class=\"n\">width_shift_range</span><span class=\"p\">,</span>\n",
       "        <span class=\"n\">height_shift_range</span><span class=\"o\">=</span><span class=\"n\">height_shift_range</span><span class=\"p\">,</span>\n",
       "        <span class=\"n\">shear_range</span><span class=\"o\">=</span><span class=\"n\">shear_range</span><span class=\"p\">,</span>\n",
       "        <span class=\"n\">zoom_range</span><span class=\"o\">=</span><span class=\"n\">zoom_range</span><span class=\"p\">,</span>\n",
       "        <span class=\"n\">horizontal_flip</span><span class=\"o\">=</span><span class=\"bp\">False</span><span class=\"p\">,</span>\n",
       "        <span class=\"n\">vertical_flip</span><span class=\"o\">=</span><span class=\"bp\">False</span><span class=\"p\">,</span>\n",
       "        <span class=\"n\">fill_mode</span><span class=\"o\">=</span><span class=\"n\">fill_mode</span><span class=\"p\">)</span>\n",
       "\n",
       "    <span class=\"n\">img</span> <span class=\"o\">=</span> <span class=\"n\">load_img</span><span class=\"p\">(</span><span class=\"n\">image_path</span><span class=\"p\">)</span>  <span class=\"c1\"># this is a PIL image</span>\n",
       "    <span class=\"n\">x</span> <span class=\"o\">=</span> <span class=\"n\">img_to_array</span><span class=\"p\">(</span><span class=\"n\">img</span><span class=\"p\">)</span>  <span class=\"c1\"># this is a Numpy array with shape (3, X, Y)</span>\n",
       "    <span class=\"n\">x</span> <span class=\"o\">=</span> <span class=\"n\">x</span><span class=\"o\">.</span><span class=\"n\">reshape</span><span class=\"p\">((</span><span class=\"mi\">1</span><span class=\"p\">,)</span> <span class=\"o\">+</span> <span class=\"n\">x</span><span class=\"o\">.</span><span class=\"n\">shape</span><span class=\"p\">)</span>  <span class=\"c1\"># this is a Numpy array with shape (1, 3, X, Y)</span>\n",
       "\n",
       "    <span class=\"c1\"># the .flow() command below generates batches of randomly transformed images</span>\n",
       "    <span class=\"c1\"># and saves the results to the `preview/` directory</span>\n",
       "    <span class=\"n\">ext</span> <span class=\"o\">=</span> <span class=\"n\">image_path</span><span class=\"o\">.</span><span class=\"n\">split</span><span class=\"p\">(</span><span class=\"s1\">&#39;.&#39;</span><span class=\"p\">)[</span><span class=\"o\">-</span><span class=\"mi\">1</span><span class=\"p\">]</span>\n",
       "    <span class=\"n\">i</span> <span class=\"o\">=</span> <span class=\"mi\">0</span>\n",
       "    <span class=\"k\">for</span> <span class=\"n\">batch</span> <span class=\"ow\">in</span> <span class=\"n\">datagen</span><span class=\"o\">.</span><span class=\"n\">flow</span><span class=\"p\">(</span><span class=\"n\">x</span><span class=\"p\">,</span> <span class=\"n\">batch_size</span><span class=\"o\">=</span><span class=\"mi\">1</span><span class=\"p\">,</span> <span class=\"n\">save_to_dir</span><span class=\"o\">=</span><span class=\"n\">output_dir</span><span class=\"p\">,</span> <span class=\"n\">save_format</span><span class=\"o\">=</span><span class=\"n\">ext</span><span class=\"p\">):</span>\n",
       "        <span class=\"n\">i</span> <span class=\"o\">+=</span> <span class=\"mi\">1</span>\n",
       "        <span class=\"k\">if</span> <span class=\"n\">i</span> <span class=\"o\">&gt;=</span> <span class=\"n\">augmentation_count</span><span class=\"p\">:</span>\n",
       "            <span class=\"k\">break</span>  <span class=\"c1\"># otherwise the generator would loop indefinitely</span>\n",
       "</pre></div>\n"
      ],
      "text/plain": [
       "<IPython.core.display.HTML object>"
      ]
     },
     "metadata": {},
     "output_type": "display_data"
    }
   ],
   "source": [
    "code = get_highlited_function_code(generate_image_augmentations,remove_comments=False)\n",
    "IPython.display.display(code)  "
   ]
  },
  {
   "cell_type": "code",
   "execution_count": 5,
   "metadata": {},
   "outputs": [
    {
     "name": "stdout",
     "output_type": "stream",
     "text": [
      "2278\n",
      "Generating augmentations for 2099 images\n",
      "Augmenting (1/2099)\t\"JRMS-18-86-g001\" -> C:\\Users\\Public\\Documents\\Data\\2018\\VQAMed2018Train\\VQAMed2018Train-images\\augmentations\\JRMS-18-86-g001.jpg\\\n"
     ]
    },
    {
     "name": "stderr",
     "output_type": "stream",
     "text": [
      "c:\\local\\Anaconda3-4.1.1-Windows-x86_64\\envs\\conda_env\\lib\\site-packages\\h5py\\__init__.py:34: FutureWarning: Conversion of the second argument of issubdtype from `float` to `np.floating` is deprecated. In future, it will be treated as `np.float64 == np.dtype(float).type`.\n",
      "  from ._conv import register_converters as _register_converters\n",
      "Using TensorFlow backend.\n"
     ]
    },
    {
     "name": "stdout",
     "output_type": "stream",
     "text": [
      "Augmenting (201/2099)\t\"MEAJO-19-340-g003\" -> C:\\Users\\Public\\Documents\\Data\\2018\\VQAMed2018Train\\VQAMed2018Train-images\\augmentations\\MEAJO-19-340-g003.jpg\\\n",
      "Augmenting (401/2099)\t\"JBCP-6-40-g004\" -> C:\\Users\\Public\\Documents\\Data\\2018\\VQAMed2018Train\\VQAMed2018Train-images\\augmentations\\JBCP-6-40-g004.jpg\\\n",
      "Augmenting (101/2099)\t\"NAJMS-3-39-g001\" -> C:\\Users\\Public\\Documents\\Data\\2018\\VQAMed2018Train\\VQAMed2018Train-images\\augmentations\\NAJMS-3-39-g001.jpg\\\n",
      "Augmenting (301/2099)\t\"1477-7800-3-15-3\" -> C:\\Users\\Public\\Documents\\Data\\2018\\VQAMed2018Train\\VQAMed2018Train-images\\augmentations\\1477-7800-3-15-3.jpg\\\n",
      "Augmenting (501/2099)\t\"jkns-56-272-g004\" -> C:\\Users\\Public\\Documents\\Data\\2018\\VQAMed2018Train\\VQAMed2018Train-images\\augmentations\\jkns-56-272-g004.jpg\\\n",
      "Augmenting (801/2099)\t\"ymj-51-270-g002\" -> C:\\Users\\Public\\Documents\\Data\\2018\\VQAMed2018Train\\VQAMed2018Train-images\\augmentations\\ymj-51-270-g002.jpg\\\n",
      "Augmenting (601/2099)\t\"1748-717X-2-2-1\" -> C:\\Users\\Public\\Documents\\Data\\2018\\VQAMed2018Train\\VQAMed2018Train-images\\augmentations\\1748-717X-2-2-1.jpg\\\n",
      "Augmenting (1001/2099)\t\"1757-1626-0002-0000006821-1\" -> C:\\Users\\Public\\Documents\\Data\\2018\\VQAMed2018Train\\VQAMed2018Train-images\\augmentations\\1757-1626-0002-0000006821-1.jpg\\\n",
      "Augmenting (701/2099)\t\"1752-1947-2-123-1\" -> C:\\Users\\Public\\Documents\\Data\\2018\\VQAMed2018Train\\VQAMed2018Train-images\\augmentations\\1752-1947-2-123-1.jpg\\\n",
      "Augmenting (901/2099)\t\"PAMJ-20-51-g001\" -> C:\\Users\\Public\\Documents\\Data\\2018\\VQAMed2018Train\\VQAMed2018Train-images\\augmentations\\PAMJ-20-51-g001.jpg\\\n",
      "Augmenting (1201/2099)\t\"OJO-2-141-g003\" -> C:\\Users\\Public\\Documents\\Data\\2018\\VQAMed2018Train\\VQAMed2018Train-images\\augmentations\\OJO-2-141-g003.jpg\\\n",
      "Augmenting (1401/2099)\t\"jcn-9-196-g001\" -> C:\\Users\\Public\\Documents\\Data\\2018\\VQAMed2018Train\\VQAMed2018Train-images\\augmentations\\jcn-9-196-g001.jpg\\\n",
      "Augmenting (1101/2099)\t\"1757-1626-0002-0000008875-1\" -> C:\\Users\\Public\\Documents\\Data\\2018\\VQAMed2018Train\\VQAMed2018Train-images\\augmentations\\1757-1626-0002-0000008875-1.jpg\\\n",
      "Augmenting (1301/2099)\t\"IJRI-24-149-g007\" -> C:\\Users\\Public\\Documents\\Data\\2018\\VQAMed2018Train\\VQAMed2018Train-images\\augmentations\\IJRI-24-149-g007.jpg\\\n",
      "Augmenting (1501/2099)\t\"PAMJ-21-251-g001\" -> C:\\Users\\Public\\Documents\\Data\\2018\\VQAMed2018Train\\VQAMed2018Train-images\\augmentations\\PAMJ-21-251-g001.jpg\\\n",
      "Augmenting (1601/2099)\t\"IJEM-16-501-g003\" -> C:\\Users\\Public\\Documents\\Data\\2018\\VQAMed2018Train\\VQAMed2018Train-images\\augmentations\\IJEM-16-501-g003.jpg\\\n",
      "Augmenting (1801/2099)\t\"13256_2015_624_Fig4_HTML\" -> C:\\Users\\Public\\Documents\\Data\\2018\\VQAMed2018Train\\VQAMed2018Train-images\\augmentations\\13256_2015_624_Fig4_HTML.jpg\\\n",
      "Augmenting (2001/2099)\t\"1743-0003-10-55-2\" -> C:\\Users\\Public\\Documents\\Data\\2018\\VQAMed2018Train\\VQAMed2018Train-images\\augmentations\\1743-0003-10-55-2.jpg\\\n",
      "Augmenting (1701/2099)\t\"g003\" -> C:\\Users\\Public\\Documents\\Data\\2018\\VQAMed2018Train\\VQAMed2018Train-images\\augmentations\\pone.0125006.g003.jpg\\\n",
      "Augmenting (1901/2099)\t\"PAMJ-18-284-g003\" -> C:\\Users\\Public\\Documents\\Data\\2018\\VQAMed2018Train\\VQAMed2018Train-images\\augmentations\\PAMJ-18-284-g003.jpg\\\n",
      "[(1, 'Augmenting (1/2099)\\t\"JRMS-18-86-g001\" -> C:\\\\Users\\\\Public\\\\Documents\\\\Data\\\\2018\\\\VQAMed2018Train\\\\VQAMed2018Train-images\\\\augmentations\\\\JRMS-18-86-g001.jpg\\\\'), (1, 'Augmenting (2/2099)\\t\"IJRI-18-230-g002\" -> C:\\\\Users\\\\Public\\\\Documents\\\\Data\\\\2018\\\\VQAMed2018Train\\\\VQAMed2018Train-images\\\\augmentations\\\\IJRI-18-230-g002.jpg\\\\'), (1, 'Augmenting (3/2099)\\t\"1757-1626-2-10-1\" -> C:\\\\Users\\\\Public\\\\Documents\\\\Data\\\\2018\\\\VQAMed2018Train\\\\VQAMed2018Train-images\\\\augmentations\\\\1757-1626-2-10-1.jpg\\\\'), (1, 'Augmenting (4/2099)\\t\"JNRP-3-84-g003\" -> C:\\\\Users\\\\Public\\\\Documents\\\\Data\\\\2018\\\\VQAMed2018Train\\\\VQAMed2018Train-images\\\\augmentations\\\\JNRP-3-84-g003.jpg\\\\'), (1, 'Augmenting (5/2099)\\t\"0392-100X-32-202-g001\" -> C:\\\\Users\\\\Public\\\\Documents\\\\Data\\\\2018\\\\VQAMed2018Train\\\\VQAMed2018Train-images\\\\augmentations\\\\0392-100X-32-202-g001.jpg\\\\')]\n"
     ]
    }
   ],
   "source": [
    "df_train = df_data[df_data.group == 'train']\n",
    "\n",
    "image_paths = df_train.path.drop_duplicates()\n",
    "print(len(image_paths))\n",
    "\n",
    "def get_file_info(fn):\n",
    "        image_folder, full_file_name = os.path.split(fn)\n",
    "        file_name, ext = full_file_name.split('.')[-2:]        \n",
    "        output_dir = os.path.join(image_folder,'augmentations',full_file_name+'\\\\')\n",
    "        return (fn, file_name, ext, output_dir)\n",
    "\n",
    "images_info = [get_file_info(p) for p in image_paths]        \n",
    "non_existing_paths = [(fn, file_name, ext, output_dir) for (fn, file_name, ext, output_dir) in images_info if not os.path.isdir(output_dir)]\n",
    "non_existing_paths = [(i, fn, file_name, ext, output_dir) for i, (fn, file_name, ext, output_dir) in enumerate(non_existing_paths)]\n",
    "\n",
    "\n",
    "print(f'Generating augmentations for {len(non_existing_paths)} images')\n",
    "\n",
    "\n",
    "def augments_single_image(tpl_data)  :\n",
    "    try:       \n",
    "        (i, curr_image_path, file_name, ext, output_dir) = tpl_data\n",
    "        msg = (f'Augmenting ({i+1}/{len(non_existing_paths)})\\t\"{file_name}\" -> {output_dir}')  \n",
    "        if i %100 == 0:\n",
    "            print(msg)\n",
    "        File.validate_dir_exists(output_dir)\n",
    "        generate_image_augmentations(curr_image_path, output_dir)\n",
    "        res = 1\n",
    "    except Exception as e: \n",
    "        msg = str(e)\n",
    "        res = 0\n",
    "    return (res,msg)\n",
    "\n",
    "\n",
    "try:\n",
    "    # for tpl_data in non_existing_paths:\n",
    "         #augments_single_image(tpl_data)\n",
    "    pool = Pool(processes=8)\n",
    "    inputs = non_existing_paths\n",
    "    pool_res = pool.map(augments_single_image, inputs)\n",
    "    pool.terminate()\n",
    "\n",
    "except Exception as ex:\n",
    "    print(f'Error:\\n{str(ex)}')"
   ]
  },
  {
   "cell_type": "code",
   "execution_count": 13,
   "metadata": {},
   "outputs": [
    {
     "name": "stdout",
     "output_type": "stream",
     "text": [
      "success: 2099\n",
      "Augmenting (1/2099)\t\"JRMS-18-86-g001\" -> C:\\Users\\Public\\Documents\\Data\\2018\\VQAMed2018Train\\VQAMed2018Train-images\\augmentations\\JRMS-18-86-g001.jpg\\\n",
      "Augmenting (2/2099)\t\"IJRI-18-230-g002\" -> C:\\Users\\Public\\Documents\\Data\\2018\\VQAMed2018Train\\VQAMed2018Train-images\\augmentations\\IJRI-18-230-g002.jpg\\\n",
      "Augmenting (3/2099)\t\"1757-1626-2-10-1\" -> C:\\Users\\Public\\Documents\\Data\\2018\\VQAMed2018Train\\VQAMed2018Train-images\\augmentations\\1757-1626-2-10-1.jpg\\\n",
      "Augmenting (4/2099)\t\"JNRP-3-84-g003\" -> C:\\Users\\Public\\Documents\\Data\\2018\\VQAMed2018Train\\VQAMed2018Train-images\\augmentations\\JNRP-3-84-g003.jpg\\\n",
      "Augmenting (5/2099)\t\"0392-100X-32-202-g001\" -> C:\\Users\\Public\\Documents\\Data\\2018\\VQAMed2018Train\\VQAMed2018Train-images\\augmentations\\0392-100X-32-202-g001.jpg\\\n",
      "\n",
      "failes: 0\n"
     ]
    }
   ],
   "source": [
    "failes = [tpl[1] for tpl in pool_res if tpl[0]==0]\n",
    "successes = [tpl[1] for tpl in pool_res if tpl[0]==1]\n",
    "\n",
    "\n",
    "f_summary = '\\n'.join(failes[:5])\n",
    "s_summary = '\\n'.join(successes[:5])\n",
    "summary = f'success: {len(successes)}\\n{s_summary}\\n\\nfailes: {len(failes)}\\n{f_summary}'.strip()\n",
    "\n",
    "print(summary)"
   ]
  },
  {
   "cell_type": "code",
   "execution_count": 14,
   "metadata": {},
   "outputs": [
    {
     "name": "stdout",
     "output_type": "stream",
     "text": [
      "5413\n",
      "Collecting augmented rows: 0:00:27.446532\n"
     ]
    }
   ],
   "source": [
    "\n",
    "a = images_info[:1]\n",
    "a = images_info\n",
    "aug_dict = {image_path:output_dir for (image_path, file_name, ext, output_dir) in a}\n",
    "\n",
    "curr_idx = df_train.tail(1).index[0] +1\n",
    "\n",
    "df_augments = df_train.copy()\n",
    "df_augments['augmentation'] = 0\n",
    "df_augments['idx'] = 0\n",
    "\n",
    "print(len(df_augments))\n",
    "new_rows = []\n",
    "with VerboseTimer(\"Collecting augmented rows\"):\n",
    "    for image_path, output_dir in aug_dict.items():\n",
    "        #print(image_path)\n",
    "        image_rows = df_augments[df_augments.path == image_path]\n",
    "        for i_row, row in image_rows.iterrows():\n",
    "            #print(i_row)\n",
    "            augment_files = [os.path.join(output_dir, fn) for fn in sorted(os.listdir(output_dir))]\n",
    "\n",
    "            for i_augment, augment_path in enumerate(augment_files):\n",
    "                r = row.copy()\n",
    "                r.path = augment_path            \n",
    "#                 r.image = get_image(augment_path)\n",
    "                r.augmentation = i_augment + 1 \n",
    "                r.idx = curr_idx\n",
    "                curr_idx+=1\n",
    "                r.reset_index()\n",
    "                new_rows.append(r)        \n"
   ]
  },
  {
   "cell_type": "code",
   "execution_count": 15,
   "metadata": {},
   "outputs": [
    {
     "name": "stdout",
     "output_type": "stream",
     "text": [
      "Creating rows dataframe: 0:00:01.877097\n",
      "32421\n"
     ]
    },
    {
     "data": {
      "text/html": [
       "<div>\n",
       "<style scoped>\n",
       "    .dataframe tbody tr th:only-of-type {\n",
       "        vertical-align: middle;\n",
       "    }\n",
       "\n",
       "    .dataframe tbody tr th {\n",
       "        vertical-align: top;\n",
       "    }\n",
       "\n",
       "    .dataframe thead th {\n",
       "        text-align: right;\n",
       "    }\n",
       "</style>\n",
       "<table border=\"1\" class=\"dataframe\">\n",
       "  <thead>\n",
       "    <tr style=\"text-align: right;\">\n",
       "      <th></th>\n",
       "      <th>abdomen</th>\n",
       "      <th>answer</th>\n",
       "      <th>answer_embedding</th>\n",
       "      <th>augmentation</th>\n",
       "      <th>brain</th>\n",
       "      <th>group</th>\n",
       "      <th>hematoma</th>\n",
       "      <th>idx</th>\n",
       "      <th>image_name</th>\n",
       "      <th>imaging_device</th>\n",
       "      <th>index</th>\n",
       "      <th>liver</th>\n",
       "      <th>neck</th>\n",
       "      <th>original_answer</th>\n",
       "      <th>original_question</th>\n",
       "      <th>path</th>\n",
       "      <th>question</th>\n",
       "      <th>question_embedding</th>\n",
       "      <th>tumor</th>\n",
       "    </tr>\n",
       "  </thead>\n",
       "  <tbody>\n",
       "    <tr>\n",
       "      <th>0</th>\n",
       "      <td>False</td>\n",
       "      <td>tumor at tail pancreas</td>\n",
       "      <td>[[3.8335671424865723, 0.9851416349411011, 0.60...</td>\n",
       "      <td>NaN</td>\n",
       "      <td>False</td>\n",
       "      <td>train</td>\n",
       "      <td>False</td>\n",
       "      <td>NaN</td>\n",
       "      <td>rjv03401.jpg</td>\n",
       "      <td>mri</td>\n",
       "      <td>0</td>\n",
       "      <td>False</td>\n",
       "      <td>False</td>\n",
       "      <td>lesion at tail of pancreas</td>\n",
       "      <td>what does mri show?</td>\n",
       "      <td>C:\\Users\\Public\\Documents\\Data\\2018\\VQAMed2018...</td>\n",
       "      <td>what does mri show?</td>\n",
       "      <td>[[3.8335671424865723, 0.9851416349411011, 0.60...</td>\n",
       "      <td>True</td>\n",
       "    </tr>\n",
       "  </tbody>\n",
       "</table>\n",
       "</div>"
      ],
      "text/plain": [
       "   abdomen                  answer  \\\n",
       "0    False  tumor at tail pancreas   \n",
       "\n",
       "                                    answer_embedding  augmentation  brain  \\\n",
       "0  [[3.8335671424865723, 0.9851416349411011, 0.60...           NaN  False   \n",
       "\n",
       "   group  hematoma  idx    image_name imaging_device  index  liver   neck  \\\n",
       "0  train     False  NaN  rjv03401.jpg            mri      0  False  False   \n",
       "\n",
       "              original_answer    original_question  \\\n",
       "0  lesion at tail of pancreas  what does mri show?   \n",
       "\n",
       "                                                path             question  \\\n",
       "0  C:\\Users\\Public\\Documents\\Data\\2018\\VQAMed2018...  what does mri show?   \n",
       "\n",
       "                                  question_embedding  tumor  \n",
       "0  [[3.8335671424865723, 0.9851416349411011, 0.60...   True  "
      ]
     },
     "execution_count": 15,
     "metadata": {},
     "output_type": "execute_result"
    }
   ],
   "source": [
    "with VerboseTimer(\"Creating rows dataframe\"):\n",
    "    df_augmented_rows = pd.DataFrame(new_rows)\n",
    "    \n",
    "df = pd.concat([df_train, df_augmented_rows])    \n",
    "print(len(df))\n",
    "\n",
    "df.head(1)"
   ]
  },
  {
   "cell_type": "markdown",
   "metadata": {},
   "source": [
    "## Giving a meaningful index across dataframes:"
   ]
  },
  {
   "cell_type": "code",
   "execution_count": 16,
   "metadata": {},
   "outputs": [],
   "source": [
    "df = df.sort_values(['augmentation', 'idx'], ascending=[True, True])\n"
   ]
  },
  {
   "cell_type": "code",
   "execution_count": 17,
   "metadata": {},
   "outputs": [],
   "source": [
    "\n",
    "len_df = len(df)\n",
    "idxs = range(0, len_df)\n",
    "len_idx = len(set(idxs))\n",
    "assert  len_idx== len_df , f'length of indexes ({len_idx}) did not match length of dataframe ({len_df})'\n",
    "df.idx = idxs"
   ]
  },
  {
   "cell_type": "code",
   "execution_count": 18,
   "metadata": {},
   "outputs": [
    {
     "data": {
      "text/html": [
       "<div>\n",
       "<style scoped>\n",
       "    .dataframe tbody tr th:only-of-type {\n",
       "        vertical-align: middle;\n",
       "    }\n",
       "\n",
       "    .dataframe tbody tr th {\n",
       "        vertical-align: top;\n",
       "    }\n",
       "\n",
       "    .dataframe thead th {\n",
       "        text-align: right;\n",
       "    }\n",
       "</style>\n",
       "<table border=\"1\" class=\"dataframe\">\n",
       "  <thead>\n",
       "    <tr style=\"text-align: right;\">\n",
       "      <th></th>\n",
       "      <th>abdomen</th>\n",
       "      <th>answer</th>\n",
       "      <th>answer_embedding</th>\n",
       "      <th>augmentation</th>\n",
       "      <th>brain</th>\n",
       "      <th>group</th>\n",
       "      <th>hematoma</th>\n",
       "      <th>idx</th>\n",
       "      <th>image_name</th>\n",
       "      <th>imaging_device</th>\n",
       "      <th>index</th>\n",
       "      <th>liver</th>\n",
       "      <th>neck</th>\n",
       "      <th>original_answer</th>\n",
       "      <th>original_question</th>\n",
       "      <th>path</th>\n",
       "      <th>question</th>\n",
       "      <th>question_embedding</th>\n",
       "      <th>tumor</th>\n",
       "    </tr>\n",
       "  </thead>\n",
       "  <tbody>\n",
       "    <tr>\n",
       "      <th>0</th>\n",
       "      <td>False</td>\n",
       "      <td>tumor at tail pancreas</td>\n",
       "      <td>[[3.8335671424865723, 0.9851416349411011, 0.60...</td>\n",
       "      <td>1.0</td>\n",
       "      <td>False</td>\n",
       "      <td>train</td>\n",
       "      <td>False</td>\n",
       "      <td>0</td>\n",
       "      <td>rjv03401.jpg</td>\n",
       "      <td>mri</td>\n",
       "      <td>0</td>\n",
       "      <td>False</td>\n",
       "      <td>False</td>\n",
       "      <td>lesion at tail of pancreas</td>\n",
       "      <td>what does mri show?</td>\n",
       "      <td>C:\\Users\\Public\\Documents\\Data\\2018\\VQAMed2018...</td>\n",
       "      <td>what does mri show?</td>\n",
       "      <td>[[3.8335671424865723, 0.9851416349411011, 0.60...</td>\n",
       "      <td>True</td>\n",
       "    </tr>\n",
       "    <tr>\n",
       "      <th>2799</th>\n",
       "      <td>False</td>\n",
       "      <td>mri</td>\n",
       "      <td>[[-1.8525879383087158, -1.3275012969970703, 0....</td>\n",
       "      <td>1.0</td>\n",
       "      <td>False</td>\n",
       "      <td>train</td>\n",
       "      <td>False</td>\n",
       "      <td>1</td>\n",
       "      <td>rjv03401.jpg</td>\n",
       "      <td>mri</td>\n",
       "      <td>2799</td>\n",
       "      <td>False</td>\n",
       "      <td>False</td>\n",
       "      <td>mri</td>\n",
       "      <td>what shows lesion at tail of pancreas?</td>\n",
       "      <td>C:\\Users\\Public\\Documents\\Data\\2018\\VQAMed2018...</td>\n",
       "      <td>what shows tumor at tail pancreas?</td>\n",
       "      <td>[[-1.8525879383087158, -1.3275012969970703, 0....</td>\n",
       "      <td>True</td>\n",
       "    </tr>\n",
       "    <tr>\n",
       "      <th>5411</th>\n",
       "      <td>False</td>\n",
       "      <td>cortical bone  right mibular ramus</td>\n",
       "      <td>[[-0.5690958499908447, 0.053942739963531494, -...</td>\n",
       "      <td>NaN</td>\n",
       "      <td>False</td>\n",
       "      <td>train</td>\n",
       "      <td>False</td>\n",
       "      <td>32419</td>\n",
       "      <td>cro-0007-0732-g03.jpg</td>\n",
       "      <td>ct</td>\n",
       "      <td>5411</td>\n",
       "      <td>False</td>\n",
       "      <td>False</td>\n",
       "      <td>of the cortical bone in the right mandibular r...</td>\n",
       "      <td>what does sagittal ct show erosion of?</td>\n",
       "      <td>C:\\Users\\Public\\Documents\\Data\\2018\\VQAMed2018...</td>\n",
       "      <td>what does sagittal ct show erosion ?</td>\n",
       "      <td>[[-0.5690958499908447, 0.053942739963531494, -...</td>\n",
       "      <td>False</td>\n",
       "    </tr>\n",
       "    <tr>\n",
       "      <th>5412</th>\n",
       "      <td>False</td>\n",
       "      <td>mri</td>\n",
       "      <td>[[-1.8525879383087158, -1.3275012969970703, 0....</td>\n",
       "      <td>NaN</td>\n",
       "      <td>False</td>\n",
       "      <td>train</td>\n",
       "      <td>False</td>\n",
       "      <td>32420</td>\n",
       "      <td>num-06-03-17022-g002.jpg</td>\n",
       "      <td>mri</td>\n",
       "      <td>5412</td>\n",
       "      <td>False</td>\n",
       "      <td>False</td>\n",
       "      <td>magnetic resonance imaging</td>\n",
       "      <td>what shows a larger mass arising from clitoris...</td>\n",
       "      <td>C:\\Users\\Public\\Documents\\Data\\2018\\VQAMed2018...</td>\n",
       "      <td>what shows a larger mass arisg from clitoris w...</td>\n",
       "      <td>[[-1.8525879383087158, -1.3275012969970703, 0....</td>\n",
       "      <td>False</td>\n",
       "    </tr>\n",
       "  </tbody>\n",
       "</table>\n",
       "</div>"
      ],
      "text/plain": [
       "      abdomen                              answer  \\\n",
       "0       False              tumor at tail pancreas   \n",
       "2799    False                                 mri   \n",
       "5411    False  cortical bone  right mibular ramus   \n",
       "5412    False                                 mri   \n",
       "\n",
       "                                       answer_embedding  augmentation  brain  \\\n",
       "0     [[3.8335671424865723, 0.9851416349411011, 0.60...           1.0  False   \n",
       "2799  [[-1.8525879383087158, -1.3275012969970703, 0....           1.0  False   \n",
       "5411  [[-0.5690958499908447, 0.053942739963531494, -...           NaN  False   \n",
       "5412  [[-1.8525879383087158, -1.3275012969970703, 0....           NaN  False   \n",
       "\n",
       "      group  hematoma    idx                image_name imaging_device  index  \\\n",
       "0     train     False      0              rjv03401.jpg            mri      0   \n",
       "2799  train     False      1              rjv03401.jpg            mri   2799   \n",
       "5411  train     False  32419     cro-0007-0732-g03.jpg             ct   5411   \n",
       "5412  train     False  32420  num-06-03-17022-g002.jpg            mri   5412   \n",
       "\n",
       "      liver   neck                                    original_answer  \\\n",
       "0     False  False                         lesion at tail of pancreas   \n",
       "2799  False  False                                                mri   \n",
       "5411  False  False  of the cortical bone in the right mandibular r...   \n",
       "5412  False  False                         magnetic resonance imaging   \n",
       "\n",
       "                                      original_question  \\\n",
       "0                                   what does mri show?   \n",
       "2799             what shows lesion at tail of pancreas?   \n",
       "5411             what does sagittal ct show erosion of?   \n",
       "5412  what shows a larger mass arising from clitoris...   \n",
       "\n",
       "                                                   path  \\\n",
       "0     C:\\Users\\Public\\Documents\\Data\\2018\\VQAMed2018...   \n",
       "2799  C:\\Users\\Public\\Documents\\Data\\2018\\VQAMed2018...   \n",
       "5411  C:\\Users\\Public\\Documents\\Data\\2018\\VQAMed2018...   \n",
       "5412  C:\\Users\\Public\\Documents\\Data\\2018\\VQAMed2018...   \n",
       "\n",
       "                                               question  \\\n",
       "0                                   what does mri show?   \n",
       "2799                 what shows tumor at tail pancreas?   \n",
       "5411               what does sagittal ct show erosion ?   \n",
       "5412  what shows a larger mass arisg from clitoris w...   \n",
       "\n",
       "                                     question_embedding  tumor  \n",
       "0     [[3.8335671424865723, 0.9851416349411011, 0.60...   True  \n",
       "2799  [[-1.8525879383087158, -1.3275012969970703, 0....   True  \n",
       "5411  [[-0.5690958499908447, 0.053942739963531494, -...  False  \n",
       "5412  [[-1.8525879383087158, -1.3275012969970703, 0....  False  "
      ]
     },
     "execution_count": 18,
     "metadata": {},
     "output_type": "execute_result"
    }
   ],
   "source": [
    "df.iloc[[0,1,-2,-1]]"
   ]
  },
  {
   "cell_type": "code",
   "execution_count": 19,
   "metadata": {},
   "outputs": [
    {
     "data": {
      "text/plain": [
       "'C:\\\\Users\\\\avitu\\\\Documents\\\\GitHub\\\\VQA-MED\\\\VQA-MED\\\\VQA.Python\\\\data\\\\model_input.h5'"
      ]
     },
     "execution_count": 19,
     "metadata": {},
     "output_type": "execute_result"
    }
   ],
   "source": [
    "data_location"
   ]
  },
  {
   "cell_type": "code",
   "execution_count": 20,
   "metadata": {},
   "outputs": [
    {
     "data": {
      "text/html": [
       "<div>\n",
       "<style scoped>\n",
       "    .dataframe tbody tr th:only-of-type {\n",
       "        vertical-align: middle;\n",
       "    }\n",
       "\n",
       "    .dataframe tbody tr th {\n",
       "        vertical-align: top;\n",
       "    }\n",
       "\n",
       "    .dataframe thead th {\n",
       "        text-align: right;\n",
       "    }\n",
       "</style>\n",
       "<table border=\"1\" class=\"dataframe\">\n",
       "  <thead>\n",
       "    <tr style=\"text-align: right;\">\n",
       "      <th></th>\n",
       "      <th>augmentation</th>\n",
       "      <th>idx</th>\n",
       "    </tr>\n",
       "  </thead>\n",
       "  <tbody>\n",
       "    <tr>\n",
       "      <th>0</th>\n",
       "      <td>1.0</td>\n",
       "      <td>0</td>\n",
       "    </tr>\n",
       "    <tr>\n",
       "      <th>2799</th>\n",
       "      <td>1.0</td>\n",
       "      <td>1</td>\n",
       "    </tr>\n",
       "    <tr>\n",
       "      <th>5411</th>\n",
       "      <td>NaN</td>\n",
       "      <td>32419</td>\n",
       "    </tr>\n",
       "    <tr>\n",
       "      <th>5412</th>\n",
       "      <td>NaN</td>\n",
       "      <td>32420</td>\n",
       "    </tr>\n",
       "  </tbody>\n",
       "</table>\n",
       "</div>"
      ],
      "text/plain": [
       "      augmentation    idx\n",
       "0              1.0      0\n",
       "2799           1.0      1\n",
       "5411           NaN  32419\n",
       "5412           NaN  32420"
      ]
     },
     "execution_count": 20,
     "metadata": {},
     "output_type": "execute_result"
    }
   ],
   "source": [
    "# # df.head(1)\n",
    "# # len(new_rows)\n",
    "# new_rows[1].augmentation\n",
    "# df.columns\n",
    "# aug_keys = df.augmentation.drop_duplicates().values\n",
    "\n",
    "# aug_keys\n",
    "df[['augmentation','idx']].iloc[[0,1,-2,-1]]"
   ]
  },
  {
   "cell_type": "code",
   "execution_count": 21,
   "metadata": {},
   "outputs": [
    {
     "data": {
      "text/plain": [
       "{0, 1, 2, 3, 4, 5}"
      ]
     },
     "execution_count": 21,
     "metadata": {},
     "output_type": "execute_result"
    }
   ],
   "source": [
    "import numpy as np\n",
    "aug_keys = [int(i) if not np.isnan(i) else 0 for i in df.augmentation.drop_duplicates().values]\n",
    "set(aug_keys)"
   ]
  },
  {
   "cell_type": "code",
   "execution_count": 22,
   "metadata": {},
   "outputs": [
    {
     "data": {
      "text/plain": [
       "['/augmentation_0',\n",
       " '/augmentation_1',\n",
       " '/augmentation_2',\n",
       " '/augmentation_3',\n",
       " '/augmentation_4',\n",
       " '/augmentation_5',\n",
       " '/data',\n",
       " '/index',\n",
       " '/light',\n",
       " '/test']"
      ]
     },
     "execution_count": 22,
     "metadata": {},
     "output_type": "execute_result"
    }
   ],
   "source": [
    " with HDFStore(data_location) as store:\n",
    "        k = store.keys()\n",
    "k        "
   ]
  },
  {
   "cell_type": "code",
   "execution_count": 23,
   "metadata": {},
   "outputs": [
    {
     "name": "stdout",
     "output_type": "stream",
     "text": [
      "Storing dataframe '1': 0:00:04.916307\n",
      "Storing dataframe '2': 0:00:05.158602\n",
      "Storing dataframe '3': 0:00:05.146551\n",
      "Storing dataframe '4': 0:00:05.577693\n",
      "Storing dataframe '5': 0:00:05.190126\n",
      "Storing dataframe '0': 0:00:00.024586\n",
      "Storing 6 dataframes: 0:00:26.112746\n"
     ]
    }
   ],
   "source": [
    "\n",
    "from collections import defaultdict\n",
    "index_dict = defaultdict(lambda:[])\n",
    "\n",
    "with VerboseTimer(f\"Storing {len(aug_keys)} dataframes\"):\n",
    "    with HDFStore(data_location) as store:\n",
    "        for aug_key in aug_keys:\n",
    "            with VerboseTimer(f\"Storing dataframe '{aug_key}'\"):\n",
    "                data = df[df.augmentation == aug_key]\n",
    "\n",
    "                store_key = f'augmentation_{aug_key}'\n",
    "                idxs = data.idx.values                                \n",
    "                index_dict['idx'].extend(idxs)        \n",
    "                \n",
    "                paths = data.path.values                \n",
    "                index_dict['paths'].extend(paths)                \n",
    "                \n",
    "                index_dict['image_path'].extend(paths)\n",
    "                index_dict['augmentation_key'].extend([aug_key]*len(paths))\n",
    "                index_dict['store_path'].extend([data_location]*len(paths))\n",
    "                index_dict['store_key'].extend([store_key]*len(paths))\n",
    "                store[store_key] = data\n",
    "                \n",
    "        index=pd.DataFrame(index_dict) \n",
    "        store['index'] = index"
   ]
  },
  {
   "cell_type": "markdown",
   "metadata": {},
   "source": [
    "### The results:"
   ]
  },
  {
   "cell_type": "code",
   "execution_count": 24,
   "metadata": {},
   "outputs": [
    {
     "name": "stdout",
     "output_type": "stream",
     "text": [
      "image_path: C:\\Users\\Public\\Documents\\Data\\2018\\VQAMed2018Train\\VQAMed2018Train-images\\augmentations\\rjv03401.jpg\\_0_1478.jpg\n",
      "store_path: C:\\Users\\avitu\\Documents\\GitHub\\VQA-MED\\VQA-MED\\VQA.Python\\data\\model_input.h5\n",
      "augmentation_key: 1\n"
     ]
    },
    {
     "data": {
      "text/html": [
       "<div>\n",
       "<style scoped>\n",
       "    .dataframe tbody tr th:only-of-type {\n",
       "        vertical-align: middle;\n",
       "    }\n",
       "\n",
       "    .dataframe tbody tr th {\n",
       "        vertical-align: top;\n",
       "    }\n",
       "\n",
       "    .dataframe thead th {\n",
       "        text-align: right;\n",
       "    }\n",
       "</style>\n",
       "<table border=\"1\" class=\"dataframe\">\n",
       "  <thead>\n",
       "    <tr style=\"text-align: right;\">\n",
       "      <th></th>\n",
       "      <th>augmentation_key</th>\n",
       "      <th>idx</th>\n",
       "      <th>image_path</th>\n",
       "      <th>paths</th>\n",
       "      <th>store_key</th>\n",
       "      <th>store_path</th>\n",
       "    </tr>\n",
       "  </thead>\n",
       "  <tbody>\n",
       "    <tr>\n",
       "      <th>0</th>\n",
       "      <td>1</td>\n",
       "      <td>0</td>\n",
       "      <td>C:\\Users\\Public\\Documents\\Data\\2018\\VQAMed2018...</td>\n",
       "      <td>C:\\Users\\Public\\Documents\\Data\\2018\\VQAMed2018...</td>\n",
       "      <td>augmentation_1</td>\n",
       "      <td>C:\\Users\\avitu\\Documents\\GitHub\\VQA-MED\\VQA-ME...</td>\n",
       "    </tr>\n",
       "  </tbody>\n",
       "</table>\n",
       "</div>"
      ],
      "text/plain": [
       "   augmentation_key  idx                                         image_path  \\\n",
       "0                 1    0  C:\\Users\\Public\\Documents\\Data\\2018\\VQAMed2018...   \n",
       "\n",
       "                                               paths       store_key  \\\n",
       "0  C:\\Users\\Public\\Documents\\Data\\2018\\VQAMed2018...  augmentation_1   \n",
       "\n",
       "                                          store_path  \n",
       "0  C:\\Users\\avitu\\Documents\\GitHub\\VQA-MED\\VQA-ME...  "
      ]
     },
     "execution_count": 24,
     "metadata": {},
     "output_type": "execute_result"
    }
   ],
   "source": [
    "with HDFStore(data_location) as store:\n",
    "    loaded_index = store['index']\n",
    "\n",
    "print(f'image_path: {loaded_index.image_path[0]}')    \n",
    "print(f'store_path: {loaded_index.store_path[0]}')    \n",
    "print(f'augmentation_key: {loaded_index.augmentation_key[0]}')    \n",
    "  \n",
    "loaded_index.head(1)"
   ]
  },
  {
   "cell_type": "code",
   "execution_count": 25,
   "metadata": {},
   "outputs": [
    {
     "name": "stdout",
     "output_type": "stream",
     "text": [
      "['/augmentation_0', '/augmentation_1', '/augmentation_2', '/augmentation_3', '/augmentation_4', '/augmentation_5', '/data', '/index', '/light', '/test']\n"
     ]
    }
   ],
   "source": [
    "with HDFStore(data_location) as store:\n",
    "    print(list(store.keys()))"
   ]
  },
  {
   "cell_type": "code",
   "execution_count": 26,
   "metadata": {},
   "outputs": [],
   "source": [
    "with pd.HDFStore(data_location) as store:\n",
    "    augmentation_1 = store['augmentation_1']\n",
    "    augmentation_5 = store['augmentation_5']"
   ]
  },
  {
   "cell_type": "code",
   "execution_count": 27,
   "metadata": {},
   "outputs": [
    {
     "name": "stdout",
     "output_type": "stream",
     "text": [
      "(21617, 27007)\n",
      "(0, 5412)\n"
     ]
    },
    {
     "data": {
      "text/plain": [
       "0       0\n",
       "2799    1\n",
       "2908    2\n",
       "1       3\n",
       "1691    4\n",
       "Name: idx, dtype: int32"
      ]
     },
     "execution_count": 27,
     "metadata": {},
     "output_type": "execute_result"
    }
   ],
   "source": [
    "v5 = min(augmentation_5.idx),max(augmentation_5.idx)\n",
    "v1 = min(augmentation_1.idx),max(augmentation_1.idx)\n",
    "\n",
    "print(v5)\n",
    "print(v1)\n",
    "len(augmentation_1)\n",
    "augmentation_1.head(5).idx\n"
   ]
  },
  {
   "cell_type": "code",
   "execution_count": 28,
   "metadata": {},
   "outputs": [
    {
     "data": {
      "text/plain": [
       "5275    27003\n",
       "5330    27004\n",
       "5360    27005\n",
       "5392    27006\n",
       "5412    27007\n",
       "Name: idx, dtype: int32"
      ]
     },
     "execution_count": 28,
     "metadata": {},
     "output_type": "execute_result"
    }
   ],
   "source": [
    "augmentation_5.tail(5).idx"
   ]
  }
 ],
 "metadata": {
  "kernelspec": {
   "display_name": "Python conda_env",
   "language": "python",
   "name": "conda_env"
  },
  "language_info": {
   "codemirror_mode": {
    "name": "ipython",
    "version": 3
   },
   "file_extension": ".py",
   "mimetype": "text/x-python",
   "name": "python",
   "nbconvert_exporter": "python",
   "pygments_lexer": "ipython3",
   "version": "3.6.2"
  }
 },
 "nbformat": 4,
 "nbformat_minor": 2
}
