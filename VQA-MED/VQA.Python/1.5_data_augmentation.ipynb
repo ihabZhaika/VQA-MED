{
 "cells": [
  {
   "cell_type": "code",
   "execution_count": 1,
   "metadata": {},
   "outputs": [],
   "source": [
    "import os\n",
    "import pandas as pd\n",
    "from pandas import HDFStore\n",
    "import IPython\n",
    "from IPython.display import Image, display\n",
    "import pyarrow"
   ]
  },
  {
   "cell_type": "code",
   "execution_count": 2,
   "metadata": {},
   "outputs": [],
   "source": [
    "from common.constatns import data_location, vqa_specs_location, fn_meta, augmented_data_location\n",
    "from common.utils import VerboseTimer\n",
    "from common.functions import get_highlited_function_code, generate_image_augmentations,  get_image\n",
    "from common.os_utils import File\n"
   ]
  },
  {
   "cell_type": "code",
   "execution_count": 3,
   "metadata": {},
   "outputs": [
    {
     "name": "stdout",
     "output_type": "stream",
     "text": [
      "loading from:\n",
      "C:\\Users\\avitu\\Documents\\GitHub\\VQA-MED\\VQA-MED\\VQA.Python\\data\\model_input.h5\n",
      "Loading Data: 0:00:06.273723\n",
      "Data length: 5913\n"
     ]
    },
    {
     "data": {
      "text/html": [
       "<div>\n",
       "<style scoped>\n",
       "    .dataframe tbody tr th:only-of-type {\n",
       "        vertical-align: middle;\n",
       "    }\n",
       "\n",
       "    .dataframe tbody tr th {\n",
       "        vertical-align: top;\n",
       "    }\n",
       "\n",
       "    .dataframe thead th {\n",
       "        text-align: right;\n",
       "    }\n",
       "</style>\n",
       "<table border=\"1\" class=\"dataframe\">\n",
       "  <thead>\n",
       "    <tr style=\"text-align: right;\">\n",
       "      <th></th>\n",
       "      <th>image_name</th>\n",
       "      <th>question</th>\n",
       "      <th>answer</th>\n",
       "      <th>group</th>\n",
       "      <th>path</th>\n",
       "      <th>tumor</th>\n",
       "      <th>hematoma</th>\n",
       "      <th>brain</th>\n",
       "      <th>abdomen</th>\n",
       "      <th>neck</th>\n",
       "      <th>liver</th>\n",
       "      <th>imaging_device</th>\n",
       "      <th>answer_embedding</th>\n",
       "      <th>question_embedding</th>\n",
       "    </tr>\n",
       "  </thead>\n",
       "  <tbody>\n",
       "    <tr>\n",
       "      <th>0</th>\n",
       "      <td>rjv03401.jpg</td>\n",
       "      <td>what does MRI show?</td>\n",
       "      <td>tumor at tail pancreas</td>\n",
       "      <td>train</td>\n",
       "      <td>C:\\Users\\Public\\Documents\\Data\\2018\\VQAMed2018...</td>\n",
       "      <td>True</td>\n",
       "      <td>False</td>\n",
       "      <td>False</td>\n",
       "      <td>False</td>\n",
       "      <td>False</td>\n",
       "      <td>False</td>\n",
       "      <td>mri</td>\n",
       "      <td>[[3.8335671424865723, 0.9851416349411011, 0.60...</td>\n",
       "      <td>[[-2.1287951469421387, 2.4069643020629883, 0.9...</td>\n",
       "    </tr>\n",
       "    <tr>\n",
       "      <th>1</th>\n",
       "      <td>AIAN-14-313-g002.jpg</td>\n",
       "      <td>where does axial seCTion MRI abdomen show hypo...</td>\n",
       "      <td>distal pancreas</td>\n",
       "      <td>train</td>\n",
       "      <td>C:\\Users\\Public\\Documents\\Data\\2018\\VQAMed2018...</td>\n",
       "      <td>False</td>\n",
       "      <td>False</td>\n",
       "      <td>False</td>\n",
       "      <td>True</td>\n",
       "      <td>False</td>\n",
       "      <td>False</td>\n",
       "      <td>mri</td>\n",
       "      <td>[[0.9880439043045044, 0.907943844795227, -1.30...</td>\n",
       "      <td>[[0.329662561416626, 1.4127026796340942, -3.38...</td>\n",
       "    </tr>\n",
       "  </tbody>\n",
       "</table>\n",
       "</div>"
      ],
      "text/plain": [
       "             image_name                                           question  \\\n",
       "0          rjv03401.jpg                                what does MRI show?   \n",
       "1  AIAN-14-313-g002.jpg  where does axial seCTion MRI abdomen show hypo...   \n",
       "\n",
       "                   answer  group  \\\n",
       "0  tumor at tail pancreas  train   \n",
       "1         distal pancreas  train   \n",
       "\n",
       "                                                path  tumor  hematoma  brain  \\\n",
       "0  C:\\Users\\Public\\Documents\\Data\\2018\\VQAMed2018...   True     False  False   \n",
       "1  C:\\Users\\Public\\Documents\\Data\\2018\\VQAMed2018...  False     False  False   \n",
       "\n",
       "   abdomen   neck  liver imaging_device  \\\n",
       "0    False  False  False            mri   \n",
       "1     True  False  False            mri   \n",
       "\n",
       "                                    answer_embedding  \\\n",
       "0  [[3.8335671424865723, 0.9851416349411011, 0.60...   \n",
       "1  [[0.9880439043045044, 0.907943844795227, -1.30...   \n",
       "\n",
       "                                  question_embedding  \n",
       "0  [[-2.1287951469421387, 2.4069643020629883, 0.9...  \n",
       "1  [[0.329662561416626, 1.4127026796340942, -3.38...  "
      ]
     },
     "execution_count": 3,
     "metadata": {},
     "output_type": "execute_result"
    }
   ],
   "source": [
    "print(f'loading from:\\n{data_location}')\n",
    "with VerboseTimer(\"Loading Data\"):\n",
    "    with HDFStore(data_location) as store:\n",
    "         df_data = store['data']\n",
    "        \n",
    "df_data = df_data[df_data.group.isin(['train','validation'])]\n",
    "print(f'Data length: {len(df_data)}')        \n",
    "df_data.head(2)"
   ]
  },
  {
   "cell_type": "markdown",
   "metadata": {},
   "source": [
    "### For the augmaentation we will use the following code:"
   ]
  },
  {
   "cell_type": "code",
   "execution_count": 4,
   "metadata": {},
   "outputs": [
    {
     "data": {
      "text/html": [
       "<style type=\"text/css\">.highlight .hll { background-color: #ffffcc }\n",
       ".highlight  { background: #f8f8f8; }\n",
       ".highlight .c { color: #408080; font-style: italic } /* Comment */\n",
       ".highlight .err { border: 1px solid #FF0000 } /* Error */\n",
       ".highlight .k { color: #008000; font-weight: bold } /* Keyword */\n",
       ".highlight .o { color: #666666 } /* Operator */\n",
       ".highlight .ch { color: #408080; font-style: italic } /* Comment.Hashbang */\n",
       ".highlight .cm { color: #408080; font-style: italic } /* Comment.Multiline */\n",
       ".highlight .cp { color: #BC7A00 } /* Comment.Preproc */\n",
       ".highlight .cpf { color: #408080; font-style: italic } /* Comment.PreprocFile */\n",
       ".highlight .c1 { color: #408080; font-style: italic } /* Comment.Single */\n",
       ".highlight .cs { color: #408080; font-style: italic } /* Comment.Special */\n",
       ".highlight .gd { color: #A00000 } /* Generic.Deleted */\n",
       ".highlight .ge { font-style: italic } /* Generic.Emph */\n",
       ".highlight .gr { color: #FF0000 } /* Generic.Error */\n",
       ".highlight .gh { color: #000080; font-weight: bold } /* Generic.Heading */\n",
       ".highlight .gi { color: #00A000 } /* Generic.Inserted */\n",
       ".highlight .go { color: #888888 } /* Generic.Output */\n",
       ".highlight .gp { color: #000080; font-weight: bold } /* Generic.Prompt */\n",
       ".highlight .gs { font-weight: bold } /* Generic.Strong */\n",
       ".highlight .gu { color: #800080; font-weight: bold } /* Generic.Subheading */\n",
       ".highlight .gt { color: #0044DD } /* Generic.Traceback */\n",
       ".highlight .kc { color: #008000; font-weight: bold } /* Keyword.Constant */\n",
       ".highlight .kd { color: #008000; font-weight: bold } /* Keyword.Declaration */\n",
       ".highlight .kn { color: #008000; font-weight: bold } /* Keyword.Namespace */\n",
       ".highlight .kp { color: #008000 } /* Keyword.Pseudo */\n",
       ".highlight .kr { color: #008000; font-weight: bold } /* Keyword.Reserved */\n",
       ".highlight .kt { color: #B00040 } /* Keyword.Type */\n",
       ".highlight .m { color: #666666 } /* Literal.Number */\n",
       ".highlight .s { color: #BA2121 } /* Literal.String */\n",
       ".highlight .na { color: #7D9029 } /* Name.Attribute */\n",
       ".highlight .nb { color: #008000 } /* Name.Builtin */\n",
       ".highlight .nc { color: #0000FF; font-weight: bold } /* Name.Class */\n",
       ".highlight .no { color: #880000 } /* Name.Constant */\n",
       ".highlight .nd { color: #AA22FF } /* Name.Decorator */\n",
       ".highlight .ni { color: #999999; font-weight: bold } /* Name.Entity */\n",
       ".highlight .ne { color: #D2413A; font-weight: bold } /* Name.Exception */\n",
       ".highlight .nf { color: #0000FF } /* Name.Function */\n",
       ".highlight .nl { color: #A0A000 } /* Name.Label */\n",
       ".highlight .nn { color: #0000FF; font-weight: bold } /* Name.Namespace */\n",
       ".highlight .nt { color: #008000; font-weight: bold } /* Name.Tag */\n",
       ".highlight .nv { color: #19177C } /* Name.Variable */\n",
       ".highlight .ow { color: #AA22FF; font-weight: bold } /* Operator.Word */\n",
       ".highlight .w { color: #bbbbbb } /* Text.Whitespace */\n",
       ".highlight .mb { color: #666666 } /* Literal.Number.Bin */\n",
       ".highlight .mf { color: #666666 } /* Literal.Number.Float */\n",
       ".highlight .mh { color: #666666 } /* Literal.Number.Hex */\n",
       ".highlight .mi { color: #666666 } /* Literal.Number.Integer */\n",
       ".highlight .mo { color: #666666 } /* Literal.Number.Oct */\n",
       ".highlight .sa { color: #BA2121 } /* Literal.String.Affix */\n",
       ".highlight .sb { color: #BA2121 } /* Literal.String.Backtick */\n",
       ".highlight .sc { color: #BA2121 } /* Literal.String.Char */\n",
       ".highlight .dl { color: #BA2121 } /* Literal.String.Delimiter */\n",
       ".highlight .sd { color: #BA2121; font-style: italic } /* Literal.String.Doc */\n",
       ".highlight .s2 { color: #BA2121 } /* Literal.String.Double */\n",
       ".highlight .se { color: #BB6622; font-weight: bold } /* Literal.String.Escape */\n",
       ".highlight .sh { color: #BA2121 } /* Literal.String.Heredoc */\n",
       ".highlight .si { color: #BB6688; font-weight: bold } /* Literal.String.Interpol */\n",
       ".highlight .sx { color: #008000 } /* Literal.String.Other */\n",
       ".highlight .sr { color: #BB6688 } /* Literal.String.Regex */\n",
       ".highlight .s1 { color: #BA2121 } /* Literal.String.Single */\n",
       ".highlight .ss { color: #19177C } /* Literal.String.Symbol */\n",
       ".highlight .bp { color: #008000 } /* Name.Builtin.Pseudo */\n",
       ".highlight .fm { color: #0000FF } /* Name.Function.Magic */\n",
       ".highlight .vc { color: #19177C } /* Name.Variable.Class */\n",
       ".highlight .vg { color: #19177C } /* Name.Variable.Global */\n",
       ".highlight .vi { color: #19177C } /* Name.Variable.Instance */\n",
       ".highlight .vm { color: #19177C } /* Name.Variable.Magic */\n",
       ".highlight .il { color: #666666 } /* Literal.Number.Integer.Long */</style><div class=\"highlight\"><pre><span></span><span class=\"k\">def</span> <span class=\"nf\">generate_image_augmentations</span><span class=\"p\">(</span><span class=\"n\">image_path</span><span class=\"p\">,</span>\n",
       "                                 <span class=\"n\">output_dir</span><span class=\"p\">,</span>\n",
       "                               <span class=\"n\">rotation_range</span><span class=\"o\">=</span><span class=\"mi\">40</span><span class=\"p\">,</span>  <span class=\"c1\"># Units: degrees</span>\n",
       "                               <span class=\"n\">width_shift_range</span><span class=\"o\">=</span><span class=\"mf\">0.2</span><span class=\"p\">,</span>\n",
       "                               <span class=\"n\">height_shift_range</span><span class=\"o\">=</span><span class=\"mf\">0.2</span><span class=\"p\">,</span>\n",
       "                               <span class=\"n\">shear_range</span><span class=\"o\">=</span><span class=\"mf\">0.2</span><span class=\"p\">,</span>  <span class=\"c1\"># Units: degrees</span>\n",
       "                               <span class=\"n\">zoom_range</span><span class=\"o\">=</span><span class=\"mf\">0.2</span><span class=\"p\">,</span>\n",
       "                               <span class=\"n\">fill_mode</span><span class=\"o\">=</span><span class=\"s1\">&#39;nearest&#39;</span><span class=\"p\">,</span>\n",
       "                               <span class=\"n\">augmentation_count</span><span class=\"o\">=</span><span class=\"mi\">20</span><span class=\"p\">):</span>\n",
       "    <span class=\"kn\">from</span> <span class=\"nn\">keras.preprocessing.image</span> <span class=\"kn\">import</span> <span class=\"n\">ImageDataGenerator</span><span class=\"p\">,</span> <span class=\"n\">array_to_img</span><span class=\"p\">,</span> <span class=\"n\">img_to_array</span><span class=\"p\">,</span> <span class=\"n\">load_img</span>\n",
       "\n",
       "\n",
       "    <span class=\"n\">datagen</span> <span class=\"o\">=</span> <span class=\"n\">ImageDataGenerator</span><span class=\"p\">(</span>\n",
       "        <span class=\"n\">rotation_range</span> <span class=\"o\">=</span> <span class=\"n\">rotation_range</span><span class=\"p\">,</span>\n",
       "        <span class=\"n\">width_shift_range</span> <span class=\"o\">=</span> <span class=\"n\">width_shift_range</span><span class=\"p\">,</span>\n",
       "        <span class=\"n\">height_shift_range</span> <span class=\"o\">=</span> <span class=\"n\">height_shift_range</span><span class=\"p\">,</span>\n",
       "        <span class=\"n\">shear_range</span> <span class=\"o\">=</span> <span class=\"n\">shear_range</span><span class=\"p\">,</span>\n",
       "        <span class=\"n\">zoom_range</span> <span class=\"o\">=</span> <span class=\"n\">zoom_range</span><span class=\"p\">,</span>\n",
       "        <span class=\"n\">horizontal_flip</span> <span class=\"o\">=</span> <span class=\"bp\">False</span><span class=\"p\">,</span>\n",
       "        <span class=\"n\">vertical_flip</span><span class=\"o\">=</span><span class=\"bp\">False</span><span class=\"p\">,</span>\n",
       "        <span class=\"n\">fill_mode</span> <span class=\"o\">=</span> <span class=\"n\">fill_mode</span><span class=\"p\">)</span>\n",
       "\n",
       "\n",
       "\n",
       "\n",
       "    <span class=\"n\">img</span> <span class=\"o\">=</span> <span class=\"n\">load_img</span><span class=\"p\">(</span><span class=\"n\">image_path</span><span class=\"p\">)</span>  <span class=\"c1\"># this is a PIL image</span>\n",
       "    <span class=\"n\">x</span> <span class=\"o\">=</span> <span class=\"n\">img_to_array</span><span class=\"p\">(</span><span class=\"n\">img</span><span class=\"p\">)</span>  <span class=\"c1\"># this is a Numpy array with shape (3, X, Y)</span>\n",
       "    <span class=\"n\">x</span> <span class=\"o\">=</span> <span class=\"n\">x</span><span class=\"o\">.</span><span class=\"n\">reshape</span><span class=\"p\">((</span><span class=\"mi\">1</span><span class=\"p\">,)</span> <span class=\"o\">+</span> <span class=\"n\">x</span><span class=\"o\">.</span><span class=\"n\">shape</span><span class=\"p\">)</span>  <span class=\"c1\"># this is a Numpy array with shape (1, 3, X, Y)</span>\n",
       "\n",
       "    <span class=\"c1\"># the .flow() command below generates batches of randomly transformed images</span>\n",
       "    <span class=\"c1\"># and saves the results to the `preview/` directory</span>\n",
       "    <span class=\"n\">ext</span> <span class=\"o\">=</span> <span class=\"n\">image_path</span><span class=\"o\">.</span><span class=\"n\">split</span><span class=\"p\">(</span><span class=\"s1\">&#39;.&#39;</span><span class=\"p\">)[</span><span class=\"o\">-</span><span class=\"mi\">1</span><span class=\"p\">]</span>\n",
       "    <span class=\"n\">i</span> <span class=\"o\">=</span> <span class=\"mi\">0</span>\n",
       "    <span class=\"k\">for</span> <span class=\"n\">batch</span> <span class=\"ow\">in</span> <span class=\"n\">datagen</span><span class=\"o\">.</span><span class=\"n\">flow</span><span class=\"p\">(</span><span class=\"n\">x</span><span class=\"p\">,</span> <span class=\"n\">batch_size</span><span class=\"o\">=</span><span class=\"mi\">1</span><span class=\"p\">,</span> <span class=\"n\">save_to_dir</span><span class=\"o\">=</span><span class=\"n\">output_dir</span><span class=\"p\">,</span>  <span class=\"n\">save_format</span><span class=\"o\">=</span><span class=\"n\">ext</span><span class=\"p\">):</span>\n",
       "        <span class=\"n\">i</span> <span class=\"o\">+=</span> <span class=\"mi\">1</span>\n",
       "        <span class=\"k\">if</span> <span class=\"n\">i</span> <span class=\"o\">&gt;=</span> <span class=\"n\">augmentation_count</span><span class=\"p\">:</span>\n",
       "            <span class=\"k\">break</span>  <span class=\"c1\"># otherwise the generator would loop indefinitely</span>\n",
       "</pre></div>\n"
      ],
      "text/plain": [
       "<IPython.core.display.HTML object>"
      ]
     },
     "metadata": {},
     "output_type": "display_data"
    }
   ],
   "source": [
    "code = get_highlited_function_code(generate_image_augmentations,remove_comments=False)\n",
    "IPython.display.display(code)  "
   ]
  },
  {
   "cell_type": "code",
   "execution_count": 5,
   "metadata": {},
   "outputs": [
    {
     "name": "stdout",
     "output_type": "stream",
     "text": [
      "2278\n",
      "Generating augmentations for 0 images\n"
     ]
    }
   ],
   "source": [
    "df_train = df_data[df_data.group == 'train']\n",
    "\n",
    "image_paths = df_train.path.drop_duplicates()\n",
    "print(len(image_paths))\n",
    "\n",
    "\n",
    "\n",
    "\n",
    "def get_file_info(fn):\n",
    "        image_folder, full_file_name = os.path.split(fn)\n",
    "        file_name, ext = full_file_name.split('.')[-2:]        \n",
    "        output_dir = os.path.join(image_folder,'augmentations',full_file_name+'\\\\')\n",
    "        return (fn, file_name, ext, output_dir)\n",
    "        \n",
    "images_info = [get_file_info(p) for p in image_paths]        \n",
    "non_existing_paths = [(fn, file_name, ext, output_dir) for (fn, file_name, ext, output_dir) in images_info if not os.path.isdir(output_dir)]\n",
    "\n",
    "\n",
    "\n",
    "print(f'Generating augmentations for {len(non_existing_paths)} images')\n",
    "\n",
    "non_existing_paths = non_existing_paths\n",
    "for i,  (curr_image_path, file_name, ext, output_dir) in enumerate(non_existing_paths):\n",
    "    print(f'Augmenting ({i+1}/{len(non_existing_paths)})\\t\"{file_name}\" -> {output_dir}')    \n",
    "    File.validate_dir_exists(output_dir)\n",
    "    generate_image_augmentations(curr_image_path, output_dir)"
   ]
  },
  {
   "cell_type": "code",
   "execution_count": 6,
   "metadata": {},
   "outputs": [
    {
     "name": "stdout",
     "output_type": "stream",
     "text": [
      "5413\n",
      "Collecting augmented rows: 0:01:42.233703\n"
     ]
    }
   ],
   "source": [
    "a = images_info[:1]\n",
    "a = images_info\n",
    "aug_dict = {image_path:output_dir for (image_path, file_name, ext, output_dir) in a}\n",
    "\n",
    "curr_idx = df_train.tail(1).index[0] +1\n",
    "\n",
    "df_augments = df_train.copy()\n",
    "df_augments['augmentation'] = 0\n",
    "df_augments['idx'] = 0\n",
    "\n",
    "print(len(df_augments))\n",
    "new_rows = []\n",
    "with VerboseTimer(\"Collecting augmented rows\"):\n",
    "    for image_path, output_dir in aug_dict.items():\n",
    "        #print(image_path)\n",
    "        image_rows = df_augments[df_augments.path == image_path]\n",
    "        for i_row, row in image_rows.iterrows():\n",
    "            #print(i_row)\n",
    "            augment_files = [os.path.join(output_dir, fn) for fn in sorted(os.listdir(output_dir))]\n",
    "\n",
    "            for i_augment, augment_path in enumerate(augment_files):\n",
    "                r = row.copy()\n",
    "                r.path = augment_path            \n",
    "#                 r.image = get_image(augment_path)\n",
    "                r.augmentation = i_augment + 1 \n",
    "                r.idx = curr_idx\n",
    "                curr_idx+=1\n",
    "                r.reset_index()\n",
    "                new_rows.append(r)        \n"
   ]
  },
  {
   "cell_type": "code",
   "execution_count": 7,
   "metadata": {},
   "outputs": [
    {
     "name": "stdout",
     "output_type": "stream",
     "text": [
      "Creating rows dataframe: 0:00:07.796528\n",
      "113566\n"
     ]
    },
    {
     "data": {
      "text/html": [
       "<div>\n",
       "<style scoped>\n",
       "    .dataframe tbody tr th:only-of-type {\n",
       "        vertical-align: middle;\n",
       "    }\n",
       "\n",
       "    .dataframe tbody tr th {\n",
       "        vertical-align: top;\n",
       "    }\n",
       "\n",
       "    .dataframe thead th {\n",
       "        text-align: right;\n",
       "    }\n",
       "</style>\n",
       "<table border=\"1\" class=\"dataframe\">\n",
       "  <thead>\n",
       "    <tr style=\"text-align: right;\">\n",
       "      <th></th>\n",
       "      <th>abdomen</th>\n",
       "      <th>answer</th>\n",
       "      <th>answer_embedding</th>\n",
       "      <th>augmentation</th>\n",
       "      <th>brain</th>\n",
       "      <th>group</th>\n",
       "      <th>hematoma</th>\n",
       "      <th>idx</th>\n",
       "      <th>image_name</th>\n",
       "      <th>imaging_device</th>\n",
       "      <th>liver</th>\n",
       "      <th>neck</th>\n",
       "      <th>path</th>\n",
       "      <th>question</th>\n",
       "      <th>question_embedding</th>\n",
       "      <th>tumor</th>\n",
       "    </tr>\n",
       "  </thead>\n",
       "  <tbody>\n",
       "  </tbody>\n",
       "</table>\n",
       "</div>"
      ],
      "text/plain": [
       "Empty DataFrame\n",
       "Columns: [abdomen, answer, answer_embedding, augmentation, brain, group, hematoma, idx, image_name, imaging_device, liver, neck, path, question, question_embedding, tumor]\n",
       "Index: []"
      ]
     },
     "execution_count": 7,
     "metadata": {},
     "output_type": "execute_result"
    }
   ],
   "source": [
    "with VerboseTimer(\"Creating rows dataframe\"):\n",
    "    df_augmented_rows = pd.DataFrame(new_rows)\n",
    "    \n",
    "df = pd.concat([df_train, df_augmented_rows])    \n",
    "print(len(df))\n",
    "\n",
    "df.head(0)"
   ]
  },
  {
   "cell_type": "markdown",
   "metadata": {},
   "source": [
    "## Giving a meaningful index across dataframes:"
   ]
  },
  {
   "cell_type": "code",
   "execution_count": 8,
   "metadata": {},
   "outputs": [],
   "source": [
    "df = df.sort_values(['augmentation', 'idx'], ascending=[True, True])\n"
   ]
  },
  {
   "cell_type": "code",
   "execution_count": 9,
   "metadata": {},
   "outputs": [],
   "source": [
    "\n",
    "len_df = len(df)\n",
    "idxs = range(0, len_df)\n",
    "len_idx = len(set(idxs))\n",
    "assert  len_idx== len_df , f'length of indexes ({len_idx}) did not match length of dataframe ({len_df})'\n",
    "df.idx = idxs"
   ]
  },
  {
   "cell_type": "code",
   "execution_count": 10,
   "metadata": {},
   "outputs": [
    {
     "data": {
      "text/html": [
       "<div>\n",
       "<style scoped>\n",
       "    .dataframe tbody tr th:only-of-type {\n",
       "        vertical-align: middle;\n",
       "    }\n",
       "\n",
       "    .dataframe tbody tr th {\n",
       "        vertical-align: top;\n",
       "    }\n",
       "\n",
       "    .dataframe thead th {\n",
       "        text-align: right;\n",
       "    }\n",
       "</style>\n",
       "<table border=\"1\" class=\"dataframe\">\n",
       "  <thead>\n",
       "    <tr style=\"text-align: right;\">\n",
       "      <th></th>\n",
       "      <th>abdomen</th>\n",
       "      <th>answer</th>\n",
       "      <th>answer_embedding</th>\n",
       "      <th>augmentation</th>\n",
       "      <th>brain</th>\n",
       "      <th>group</th>\n",
       "      <th>hematoma</th>\n",
       "      <th>idx</th>\n",
       "      <th>image_name</th>\n",
       "      <th>imaging_device</th>\n",
       "      <th>liver</th>\n",
       "      <th>neck</th>\n",
       "      <th>path</th>\n",
       "      <th>question</th>\n",
       "      <th>question_embedding</th>\n",
       "      <th>tumor</th>\n",
       "    </tr>\n",
       "  </thead>\n",
       "  <tbody>\n",
       "    <tr>\n",
       "      <th>0</th>\n",
       "      <td>False</td>\n",
       "      <td>tumor at tail pancreas</td>\n",
       "      <td>[[3.8335671424865723, 0.9851416349411011, 0.60...</td>\n",
       "      <td>1.0</td>\n",
       "      <td>False</td>\n",
       "      <td>train</td>\n",
       "      <td>False</td>\n",
       "      <td>0</td>\n",
       "      <td>rjv03401.jpg</td>\n",
       "      <td>mri</td>\n",
       "      <td>False</td>\n",
       "      <td>False</td>\n",
       "      <td>C:\\Users\\Public\\Documents\\Data\\2018\\VQAMed2018...</td>\n",
       "      <td>what does MRI show?</td>\n",
       "      <td>[[-2.1287951469421387, 2.4069643020629883, 0.9...</td>\n",
       "      <td>True</td>\n",
       "    </tr>\n",
       "    <tr>\n",
       "      <th>2799</th>\n",
       "      <td>False</td>\n",
       "      <td>MRI</td>\n",
       "      <td>[[-0.14483636617660522, 1.9622962474822998, 2....</td>\n",
       "      <td>1.0</td>\n",
       "      <td>False</td>\n",
       "      <td>train</td>\n",
       "      <td>False</td>\n",
       "      <td>1</td>\n",
       "      <td>rjv03401.jpg</td>\n",
       "      <td>mri</td>\n",
       "      <td>False</td>\n",
       "      <td>False</td>\n",
       "      <td>C:\\Users\\Public\\Documents\\Data\\2018\\VQAMed2018...</td>\n",
       "      <td>what shows tumor at tail pancreas?</td>\n",
       "      <td>[[-2.2932257652282715, 1.839470386505127, 0.53...</td>\n",
       "      <td>True</td>\n",
       "    </tr>\n",
       "    <tr>\n",
       "      <th>5411</th>\n",
       "      <td>False</td>\n",
       "      <td>cortical bone  right mibular ramus</td>\n",
       "      <td>[[-0.5690958499908447, 0.053942739963531494, -...</td>\n",
       "      <td>NaN</td>\n",
       "      <td>False</td>\n",
       "      <td>train</td>\n",
       "      <td>False</td>\n",
       "      <td>113564</td>\n",
       "      <td>cro-0007-0732-g03.jpg</td>\n",
       "      <td>ct</td>\n",
       "      <td>False</td>\n",
       "      <td>False</td>\n",
       "      <td>C:\\Users\\Public\\Documents\\Data\\2018\\VQAMed2018...</td>\n",
       "      <td>what does sagittal CT show erosion ?</td>\n",
       "      <td>[[-1.536467432975769, 2.7954959869384766, 0.49...</td>\n",
       "      <td>False</td>\n",
       "    </tr>\n",
       "    <tr>\n",
       "      <th>5412</th>\n",
       "      <td>False</td>\n",
       "      <td>MRI</td>\n",
       "      <td>[[-0.14483636617660522, 1.9622962474822998, 2....</td>\n",
       "      <td>NaN</td>\n",
       "      <td>False</td>\n",
       "      <td>train</td>\n",
       "      <td>False</td>\n",
       "      <td>113565</td>\n",
       "      <td>num-06-03-17022-g002.jpg</td>\n",
       "      <td>mri</td>\n",
       "      <td>False</td>\n",
       "      <td>False</td>\n",
       "      <td>C:\\Users\\Public\\Documents\\Data\\2018\\VQAMed2018...</td>\n",
       "      <td>what shows a larger mass arisg from clitoris w...</td>\n",
       "      <td>[[-2.839320182800293, 2.1729674339294434, 0.58...</td>\n",
       "      <td>False</td>\n",
       "    </tr>\n",
       "  </tbody>\n",
       "</table>\n",
       "</div>"
      ],
      "text/plain": [
       "      abdomen                              answer  \\\n",
       "0       False              tumor at tail pancreas   \n",
       "2799    False                                 MRI   \n",
       "5411    False  cortical bone  right mibular ramus   \n",
       "5412    False                                 MRI   \n",
       "\n",
       "                                       answer_embedding  augmentation  brain  \\\n",
       "0     [[3.8335671424865723, 0.9851416349411011, 0.60...           1.0  False   \n",
       "2799  [[-0.14483636617660522, 1.9622962474822998, 2....           1.0  False   \n",
       "5411  [[-0.5690958499908447, 0.053942739963531494, -...           NaN  False   \n",
       "5412  [[-0.14483636617660522, 1.9622962474822998, 2....           NaN  False   \n",
       "\n",
       "      group  hematoma     idx                image_name imaging_device  liver  \\\n",
       "0     train     False       0              rjv03401.jpg            mri  False   \n",
       "2799  train     False       1              rjv03401.jpg            mri  False   \n",
       "5411  train     False  113564     cro-0007-0732-g03.jpg             ct  False   \n",
       "5412  train     False  113565  num-06-03-17022-g002.jpg            mri  False   \n",
       "\n",
       "       neck                                               path  \\\n",
       "0     False  C:\\Users\\Public\\Documents\\Data\\2018\\VQAMed2018...   \n",
       "2799  False  C:\\Users\\Public\\Documents\\Data\\2018\\VQAMed2018...   \n",
       "5411  False  C:\\Users\\Public\\Documents\\Data\\2018\\VQAMed2018...   \n",
       "5412  False  C:\\Users\\Public\\Documents\\Data\\2018\\VQAMed2018...   \n",
       "\n",
       "                                               question  \\\n",
       "0                                   what does MRI show?   \n",
       "2799                 what shows tumor at tail pancreas?   \n",
       "5411               what does sagittal CT show erosion ?   \n",
       "5412  what shows a larger mass arisg from clitoris w...   \n",
       "\n",
       "                                     question_embedding  tumor  \n",
       "0     [[-2.1287951469421387, 2.4069643020629883, 0.9...   True  \n",
       "2799  [[-2.2932257652282715, 1.839470386505127, 0.53...   True  \n",
       "5411  [[-1.536467432975769, 2.7954959869384766, 0.49...  False  \n",
       "5412  [[-2.839320182800293, 2.1729674339294434, 0.58...  False  "
      ]
     },
     "execution_count": 10,
     "metadata": {},
     "output_type": "execute_result"
    }
   ],
   "source": [
    "df.iloc[[0,1,-2,-1]]"
   ]
  },
  {
   "cell_type": "code",
   "execution_count": 11,
   "metadata": {},
   "outputs": [
    {
     "data": {
      "text/plain": [
       "'C:\\\\Users\\\\avitu\\\\Documents\\\\GitHub\\\\VQA-MED\\\\VQA-MED\\\\VQA.Python\\\\data\\\\model_input.h5'"
      ]
     },
     "execution_count": 11,
     "metadata": {},
     "output_type": "execute_result"
    }
   ],
   "source": [
    "data_location"
   ]
  },
  {
   "cell_type": "code",
   "execution_count": 12,
   "metadata": {},
   "outputs": [
    {
     "data": {
      "text/html": [
       "<div>\n",
       "<style scoped>\n",
       "    .dataframe tbody tr th:only-of-type {\n",
       "        vertical-align: middle;\n",
       "    }\n",
       "\n",
       "    .dataframe tbody tr th {\n",
       "        vertical-align: top;\n",
       "    }\n",
       "\n",
       "    .dataframe thead th {\n",
       "        text-align: right;\n",
       "    }\n",
       "</style>\n",
       "<table border=\"1\" class=\"dataframe\">\n",
       "  <thead>\n",
       "    <tr style=\"text-align: right;\">\n",
       "      <th></th>\n",
       "      <th>augmentation</th>\n",
       "      <th>idx</th>\n",
       "    </tr>\n",
       "  </thead>\n",
       "  <tbody>\n",
       "    <tr>\n",
       "      <th>0</th>\n",
       "      <td>1.0</td>\n",
       "      <td>0</td>\n",
       "    </tr>\n",
       "    <tr>\n",
       "      <th>2799</th>\n",
       "      <td>1.0</td>\n",
       "      <td>1</td>\n",
       "    </tr>\n",
       "    <tr>\n",
       "      <th>5411</th>\n",
       "      <td>NaN</td>\n",
       "      <td>113564</td>\n",
       "    </tr>\n",
       "    <tr>\n",
       "      <th>5412</th>\n",
       "      <td>NaN</td>\n",
       "      <td>113565</td>\n",
       "    </tr>\n",
       "  </tbody>\n",
       "</table>\n",
       "</div>"
      ],
      "text/plain": [
       "      augmentation     idx\n",
       "0              1.0       0\n",
       "2799           1.0       1\n",
       "5411           NaN  113564\n",
       "5412           NaN  113565"
      ]
     },
     "execution_count": 12,
     "metadata": {},
     "output_type": "execute_result"
    }
   ],
   "source": [
    "# # df.head(1)\n",
    "# # len(new_rows)\n",
    "# new_rows[1].augmentation\n",
    "# df.columns\n",
    "# aug_keys = df.augmentation.drop_duplicates().values\n",
    "\n",
    "# aug_keys\n",
    "df[['augmentation','idx']].iloc[[0,1,-2,-1]]"
   ]
  },
  {
   "cell_type": "code",
   "execution_count": 13,
   "metadata": {},
   "outputs": [
    {
     "data": {
      "text/plain": [
       "{0, 1, 2, 3, 4, 5, 6, 7, 8, 9, 10, 11, 12, 13, 14, 15, 16, 17, 18, 19, 20}"
      ]
     },
     "execution_count": 13,
     "metadata": {},
     "output_type": "execute_result"
    }
   ],
   "source": [
    "import numpy as np\n",
    "aug_keys = [int(i) if not np.isnan(i) else 0 for i in df.augmentation.drop_duplicates().values]\n",
    "set(aug_keys)"
   ]
  },
  {
   "cell_type": "code",
   "execution_count": 14,
   "metadata": {},
   "outputs": [
    {
     "data": {
      "text/plain": [
       "['/data', '/light', '/test']"
      ]
     },
     "execution_count": 14,
     "metadata": {},
     "output_type": "execute_result"
    }
   ],
   "source": [
    " with HDFStore(data_location) as store:\n",
    "        k = store.keys()\n",
    "k        "
   ]
  },
  {
   "cell_type": "code",
   "execution_count": 15,
   "metadata": {},
   "outputs": [
    {
     "name": "stdout",
     "output_type": "stream",
     "text": [
      "Storing dataframe '1': 0:00:05.652354\n",
      "Storing dataframe '2': 0:00:05.465061\n",
      "Storing dataframe '3': 0:00:05.491244\n",
      "Storing dataframe '4': 0:00:06.339285\n",
      "Storing dataframe '5': 0:00:05.533040\n",
      "Storing dataframe '6': 0:00:05.776421\n",
      "Storing dataframe '7': 0:00:05.397454\n",
      "Storing dataframe '8': 0:00:05.560201\n",
      "Storing dataframe '9': 0:00:05.368780\n",
      "Storing dataframe '10': 0:00:06.342468\n",
      "Storing dataframe '11': 0:00:05.675203\n",
      "Storing dataframe '12': 0:00:05.871817\n",
      "Storing dataframe '13': 0:00:06.866912\n",
      "Storing dataframe '14': 0:00:06.860370\n",
      "Storing dataframe '15': 0:00:06.171339\n",
      "Storing dataframe '16': 0:00:06.058223\n",
      "Storing dataframe '17': 0:00:06.472753\n",
      "Storing dataframe '18': 0:00:05.727371\n",
      "Storing dataframe '19': 0:00:05.853733\n",
      "Storing dataframe '20': 0:00:05.626999\n",
      "Storing dataframe '0': 0:00:00.014829\n",
      "Storing 21 dataframes: 0:01:58.410680\n"
     ]
    }
   ],
   "source": [
    "\n",
    "from collections import defaultdict\n",
    "index_dict = defaultdict(lambda:[])\n",
    "\n",
    "with VerboseTimer(f\"Storing {len(aug_keys)} dataframes\"):\n",
    "    with HDFStore(data_location) as store:\n",
    "        for aug_key in aug_keys:\n",
    "            with VerboseTimer(f\"Storing dataframe '{aug_key}'\"):\n",
    "                data = df[df.augmentation == aug_key]\n",
    "\n",
    "                store_key = f'augmentation_{aug_key}'\n",
    "                idxs = data.idx.values                                \n",
    "                index_dict['idx'].extend(idxs)        \n",
    "                \n",
    "                paths = data.path.values                \n",
    "                index_dict['paths'].extend(paths)                \n",
    "                \n",
    "                index_dict['image_path'].extend(paths)\n",
    "                index_dict['augmentation_key'].extend([aug_key]*len(paths))\n",
    "                index_dict['store_path'].extend([data_location]*len(paths))\n",
    "                index_dict['store_key'].extend([store_key]*len(paths))\n",
    "                store[store_key] = data\n",
    "                \n",
    "        index=pd.DataFrame(index_dict) \n",
    "        store['index'] = index"
   ]
  },
  {
   "cell_type": "markdown",
   "metadata": {},
   "source": [
    "### The results:"
   ]
  },
  {
   "cell_type": "code",
   "execution_count": 16,
   "metadata": {},
   "outputs": [
    {
     "name": "stdout",
     "output_type": "stream",
     "text": [
      "image_path: C:\\Users\\Public\\Documents\\Data\\2018\\VQAMed2018Train\\VQAMed2018Train-images\\augmentations\\rjv03401.jpg\\_0_1121.jpg\n",
      "store_path: C:\\Users\\avitu\\Documents\\GitHub\\VQA-MED\\VQA-MED\\VQA.Python\\data\\model_input.h5\n",
      "augmentation_key: 1\n"
     ]
    },
    {
     "data": {
      "text/html": [
       "<div>\n",
       "<style scoped>\n",
       "    .dataframe tbody tr th:only-of-type {\n",
       "        vertical-align: middle;\n",
       "    }\n",
       "\n",
       "    .dataframe tbody tr th {\n",
       "        vertical-align: top;\n",
       "    }\n",
       "\n",
       "    .dataframe thead th {\n",
       "        text-align: right;\n",
       "    }\n",
       "</style>\n",
       "<table border=\"1\" class=\"dataframe\">\n",
       "  <thead>\n",
       "    <tr style=\"text-align: right;\">\n",
       "      <th></th>\n",
       "      <th>augmentation_key</th>\n",
       "      <th>idx</th>\n",
       "      <th>image_path</th>\n",
       "      <th>paths</th>\n",
       "      <th>store_key</th>\n",
       "      <th>store_path</th>\n",
       "    </tr>\n",
       "  </thead>\n",
       "  <tbody>\n",
       "    <tr>\n",
       "      <th>0</th>\n",
       "      <td>1</td>\n",
       "      <td>0</td>\n",
       "      <td>C:\\Users\\Public\\Documents\\Data\\2018\\VQAMed2018...</td>\n",
       "      <td>C:\\Users\\Public\\Documents\\Data\\2018\\VQAMed2018...</td>\n",
       "      <td>augmentation_1</td>\n",
       "      <td>C:\\Users\\avitu\\Documents\\GitHub\\VQA-MED\\VQA-ME...</td>\n",
       "    </tr>\n",
       "  </tbody>\n",
       "</table>\n",
       "</div>"
      ],
      "text/plain": [
       "   augmentation_key  idx                                         image_path  \\\n",
       "0                 1    0  C:\\Users\\Public\\Documents\\Data\\2018\\VQAMed2018...   \n",
       "\n",
       "                                               paths       store_key  \\\n",
       "0  C:\\Users\\Public\\Documents\\Data\\2018\\VQAMed2018...  augmentation_1   \n",
       "\n",
       "                                          store_path  \n",
       "0  C:\\Users\\avitu\\Documents\\GitHub\\VQA-MED\\VQA-ME...  "
      ]
     },
     "execution_count": 16,
     "metadata": {},
     "output_type": "execute_result"
    }
   ],
   "source": [
    "with HDFStore(data_location) as store:\n",
    "    loaded_index = store['index']\n",
    "\n",
    "print(f'image_path: {loaded_index.image_path[0]}')    \n",
    "print(f'store_path: {loaded_index.store_path[0]}')    \n",
    "print(f'augmentation_key: {loaded_index.augmentation_key[0]}')    \n",
    "  \n",
    "loaded_index.head(1)"
   ]
  },
  {
   "cell_type": "code",
   "execution_count": 17,
   "metadata": {},
   "outputs": [
    {
     "name": "stdout",
     "output_type": "stream",
     "text": [
      "['/augmentation_0', '/augmentation_1', '/augmentation_10', '/augmentation_11', '/augmentation_12', '/augmentation_13', '/augmentation_14', '/augmentation_15', '/augmentation_16', '/augmentation_17', '/augmentation_18', '/augmentation_19', '/augmentation_2', '/augmentation_20', '/augmentation_3', '/augmentation_4', '/augmentation_5', '/augmentation_6', '/augmentation_7', '/augmentation_8', '/augmentation_9', '/data', '/index', '/light', '/test']\n"
     ]
    }
   ],
   "source": [
    "with HDFStore(data_location) as store:\n",
    "    print(list(store.keys()))"
   ]
  },
  {
   "cell_type": "code",
   "execution_count": 18,
   "metadata": {},
   "outputs": [
    {
     "data": {
      "text/html": [
       "<div>\n",
       "<style scoped>\n",
       "    .dataframe tbody tr th:only-of-type {\n",
       "        vertical-align: middle;\n",
       "    }\n",
       "\n",
       "    .dataframe tbody tr th {\n",
       "        vertical-align: top;\n",
       "    }\n",
       "\n",
       "    .dataframe thead th {\n",
       "        text-align: right;\n",
       "    }\n",
       "</style>\n",
       "<table border=\"1\" class=\"dataframe\">\n",
       "  <thead>\n",
       "    <tr style=\"text-align: right;\">\n",
       "      <th></th>\n",
       "      <th>abdomen</th>\n",
       "      <th>answer</th>\n",
       "      <th>answer_embedding</th>\n",
       "      <th>augmentation</th>\n",
       "      <th>brain</th>\n",
       "      <th>group</th>\n",
       "      <th>hematoma</th>\n",
       "      <th>idx</th>\n",
       "      <th>image_name</th>\n",
       "      <th>imaging_device</th>\n",
       "      <th>liver</th>\n",
       "      <th>neck</th>\n",
       "      <th>path</th>\n",
       "      <th>question</th>\n",
       "      <th>question_embedding</th>\n",
       "      <th>tumor</th>\n",
       "    </tr>\n",
       "  </thead>\n",
       "  <tbody>\n",
       "    <tr>\n",
       "      <th>5412</th>\n",
       "      <td>False</td>\n",
       "      <td>MRI</td>\n",
       "      <td>[[-0.14483636617660522, 1.9622962474822998, 2....</td>\n",
       "      <td>1.0</td>\n",
       "      <td>False</td>\n",
       "      <td>train</td>\n",
       "      <td>False</td>\n",
       "      <td>5412</td>\n",
       "      <td>num-06-03-17022-g002.jpg</td>\n",
       "      <td>mri</td>\n",
       "      <td>False</td>\n",
       "      <td>False</td>\n",
       "      <td>C:\\Users\\Public\\Documents\\Data\\2018\\VQAMed2018...</td>\n",
       "      <td>what shows a larger mass arisg from clitoris w...</td>\n",
       "      <td>[[-2.839320182800293, 2.1729674339294434, 0.58...</td>\n",
       "      <td>False</td>\n",
       "    </tr>\n",
       "  </tbody>\n",
       "</table>\n",
       "</div>"
      ],
      "text/plain": [
       "      abdomen answer                                   answer_embedding  \\\n",
       "5412    False    MRI  [[-0.14483636617660522, 1.9622962474822998, 2....   \n",
       "\n",
       "      augmentation  brain  group  hematoma   idx                image_name  \\\n",
       "5412           1.0  False  train     False  5412  num-06-03-17022-g002.jpg   \n",
       "\n",
       "     imaging_device  liver   neck  \\\n",
       "5412            mri  False  False   \n",
       "\n",
       "                                                   path  \\\n",
       "5412  C:\\Users\\Public\\Documents\\Data\\2018\\VQAMed2018...   \n",
       "\n",
       "                                               question  \\\n",
       "5412  what shows a larger mass arisg from clitoris w...   \n",
       "\n",
       "                                     question_embedding  tumor  \n",
       "5412  [[-2.839320182800293, 2.1729674339294434, 0.58...  False  "
      ]
     },
     "execution_count": 18,
     "metadata": {},
     "output_type": "execute_result"
    }
   ],
   "source": [
    "with pd.HDFStore(data_location) as store:\n",
    "    augmentation_1 = store['augmentation_1']\n",
    "    augmentation_20 = store['augmentation_20']"
   ]
  },
  {
   "cell_type": "code",
   "execution_count": 19,
   "metadata": {},
   "outputs": [
    {
     "name": "stdout",
     "output_type": "stream",
     "text": [
      "(102845, 108152)\n",
      "(0, 5412)\n"
     ]
    },
    {
     "data": {
      "text/plain": [
       "0       0\n",
       "2799    1\n",
       "2908    2\n",
       "1       3\n",
       "1691    4\n",
       "Name: idx, dtype: int32"
      ]
     },
     "execution_count": 19,
     "metadata": {},
     "output_type": "execute_result"
    }
   ],
   "source": [
    "v20 = min(augmentation_20.idx),max(augmentation_20.idx)\n",
    "v1 = min(augmentation_1.idx),max(augmentation_1.idx)\n",
    "\n",
    "print(v20)\n",
    "print(v1)\n",
    "len(augmentation_1)\n",
    "augmentation_1.head(5).idx\n"
   ]
  },
  {
   "cell_type": "code",
   "execution_count": 21,
   "metadata": {},
   "outputs": [
    {
     "data": {
      "text/plain": [
       "5275    108148\n",
       "5330    108149\n",
       "5360    108150\n",
       "5392    108151\n",
       "5412    108152\n",
       "Name: idx, dtype: int32"
      ]
     },
     "execution_count": 21,
     "metadata": {},
     "output_type": "execute_result"
    }
   ],
   "source": [
    "augmentation_20.tail(5).idx"
   ]
  }
 ],
 "metadata": {
  "kernelspec": {
   "display_name": "Python conda_env",
   "language": "python",
   "name": "conda_env"
  },
  "language_info": {
   "codemirror_mode": {
    "name": "ipython",
    "version": 3
   },
   "file_extension": ".py",
   "mimetype": "text/x-python",
   "name": "python",
   "nbconvert_exporter": "python",
   "pygments_lexer": "ipython3",
   "version": "3.6.2"
  }
 },
 "nbformat": 4,
 "nbformat_minor": 2
}
