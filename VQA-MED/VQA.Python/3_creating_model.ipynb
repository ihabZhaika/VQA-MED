{
 "cells": [
  {
   "cell_type": "code",
   "execution_count": 1,
   "metadata": {},
   "outputs": [
    {
     "name": "stderr",
     "output_type": "stream",
     "text": [
      "c:\\local\\Anaconda3-4.1.1-Windows-x86_64\\envs\\conda_env\\lib\\site-packages\\h5py\\__init__.py:34: FutureWarning: Conversion of the second argument of issubdtype from `float` to `np.floating` is deprecated. In future, it will be treated as `np.float64 == np.dtype(float).type`.\n",
      "  from ._conv import register_converters as _register_converters\n",
      "Using TensorFlow backend.\n"
     ]
    }
   ],
   "source": [
    "# %%capture\n",
    "import os\n",
    "import numpy as np\n",
    "import pandas as pd\n",
    "from enum import Enum\n",
    "import time\n",
    "import datetime\n",
    "import keras.layers as keras_layers\n",
    "from pandas import HDFStore\n",
    "\n",
    "from vqa_logger import logger"
   ]
  },
  {
   "cell_type": "code",
   "execution_count": 2,
   "metadata": {},
   "outputs": [],
   "source": [
    "from common.os_utils import File\n",
    "from common.settings import classify_strategy, embedded_sentence_length, get_stratagy_str\n",
    "from common.classes import ClassifyStrategies, VqaSpecs\n",
    "from common.model_utils import save_model\n",
    "from common.constatns import vqa_models_folder, vqa_specs_location"
   ]
  },
  {
   "cell_type": "code",
   "execution_count": 3,
   "metadata": {},
   "outputs": [],
   "source": [
    "DEFAULT_IMAGE_WIEGHTS = 'imagenet'\n",
    "\n",
    "#  Since VGG was trained as a image of 224x224, every new image\n",
    "# is required to go through the same transformation\n",
    "image_size_by_base_models = {'imagenet': (224, 224)}"
   ]
  },
  {
   "cell_type": "code",
   "execution_count": 4,
   "metadata": {},
   "outputs": [],
   "source": [
    "# categorial_data_frame = 'answers'\n",
    "categorial_data_frame = 'imaging_devices'\n",
    "categorial_data_frame = 'words'"
   ]
  },
  {
   "cell_type": "code",
   "execution_count": 5,
   "metadata": {},
   "outputs": [],
   "source": [
    "#Available merge strategies:\n",
    "# keras_layers.multiply, keras_layers.add, keras_layers.concatenate, \n",
    "# keras_layers.average, keras_layers.co, keras_layers.dot, keras_layers.maximum\n",
    "            \n",
    "merge_strategy = keras_layers.concatenate"
   ]
  },
  {
   "cell_type": "code",
   "execution_count": 6,
   "metadata": {},
   "outputs": [],
   "source": [
    "vqa_specs = File.load_pickle(vqa_specs_location)\n",
    "meta_data_location = vqa_specs.meta_data_location\n"
   ]
  },
  {
   "cell_type": "code",
   "execution_count": 7,
   "metadata": {},
   "outputs": [
    {
     "name": "stdout",
     "output_type": "stream",
     "text": [
      "C:\\Users\\avitu\\Documents\\GitHub\\VQA-MED\\VQA-MED\\VQA.Python\\data\\meta_data.h5\n",
      "meta Keys: ['/answers', '/imaging_devices', '/words']\n"
     ]
    },
    {
     "data": {
      "text/html": [
       "<div>\n",
       "<style scoped>\n",
       "    .dataframe tbody tr th:only-of-type {\n",
       "        vertical-align: middle;\n",
       "    }\n",
       "\n",
       "    .dataframe tbody tr th {\n",
       "        vertical-align: top;\n",
       "    }\n",
       "\n",
       "    .dataframe thead th {\n",
       "        text-align: right;\n",
       "    }\n",
       "</style>\n",
       "<table border=\"1\" class=\"dataframe\">\n",
       "  <thead>\n",
       "    <tr style=\"text-align: right;\">\n",
       "      <th></th>\n",
       "      <th>answer</th>\n",
       "    </tr>\n",
       "  </thead>\n",
       "  <tbody>\n",
       "    <tr>\n",
       "      <th>4738</th>\n",
       "      <td>acute angle narrow space between superior mese...</td>\n",
       "    </tr>\n",
       "    <tr>\n",
       "      <th>4739</th>\n",
       "      <td>gastrojejunostomy visible foreign body  stomac...</td>\n",
       "    </tr>\n",
       "  </tbody>\n",
       "</table>\n",
       "</div>"
      ],
      "text/plain": [
       "                                                 answer\n",
       "4738  acute angle narrow space between superior mese...\n",
       "4739  gastrojejunostomy visible foreign body  stomac..."
      ]
     },
     "execution_count": 7,
     "metadata": {},
     "output_type": "execute_result"
    }
   ],
   "source": [
    "print(meta_data_location)\n",
    "with pd.HDFStore(meta_data_location, 'r') as hdf:\n",
    "    keys = list(hdf.keys())\n",
    "    print(f\"meta Keys: {keys}\")\n",
    "\n",
    "\n",
    "\n",
    "\n",
    "df_meta_answers = pd.read_hdf(meta_data_location,'answers')\n",
    "df_meta_words = pd.read_hdf(meta_data_location,'words')\n",
    "df_meta_imaging_devices = pd.read_hdf(meta_data_location,'imaging_devices')\n",
    "df_meta_answers.tail(2)\n",
    "\n"
   ]
  },
  {
   "cell_type": "markdown",
   "metadata": {},
   "source": [
    "Before we start, just for making sure, lets clear the session:"
   ]
  },
  {
   "cell_type": "code",
   "execution_count": 8,
   "metadata": {
    "collapsed": false
   },
   "outputs": [],
   "source": [
    "from keras import backend as keras_backend\n",
    "keras_backend.clear_session()"
   ]
  },
  {
   "cell_type": "markdown",
   "metadata": {},
   "source": [
    "### Creating the model"
   ]
  },
  {
   "cell_type": "markdown",
   "metadata": {},
   "source": [
    "#### The functions the gets the model:"
   ]
  },
  {
   "cell_type": "markdown",
   "metadata": {},
   "source": [
    "Define how to build the word-to vector branch:"
   ]
  },
  {
   "cell_type": "code",
   "execution_count": 9,
   "metadata": {
    "collapsed": false
   },
   "outputs": [],
   "source": [
    "#  Input 0 is incompatible with layer lstm_1: expected ndim=3, found ndim=2\n",
    "# Input 0 is incompatible with layer embbeding_LSTM_1: expected ndim=3, found ndim=2\n",
    "from keras.layers import Flatten, LSTM, BatchNormalization\n",
    "def word_2_vec_model(input_tensor):\n",
    "        #print(dir(input_tensor))\n",
    "#         print('---------------------------------------------')\n",
    "#         print('Tensor shape: {0}'.format(input_tensor.get_shape()))\n",
    "#         print('---------------------------------------------')\n",
    "#         print(input_tensor.shape)\n",
    "#         print('---------------------------------------------')\n",
    "#         print('embedded_sentence_length: {0}'.format(embedded_sentence_length))\n",
    "#         print('---------------------------------------------')\n",
    "#         return\n",
    "        \n",
    "        \n",
    "\n",
    "        LSTM_UNITS = 64 # 512\n",
    "        DENSE_UNITS = 256\n",
    "        DENSE_ACTIVATION = 'relu'\n",
    "        \n",
    "        logger.debug(\"Creating Embedding model\")\n",
    "        x= input_tensor # Since using spacy\n",
    " \n",
    "        x = LSTM(units=LSTM_UNITS, return_sequences=False, name='embbeding_LSTM',  input_shape=(1,embedded_sentence_length))(x)\n",
    "        x = BatchNormalization(name='embbeding_batch_normalization')(x)\n",
    "        \n",
    "#         x = LSTM(units=LSTM_UNITS, return_sequences=True, name='embbeding_LSTM_1',  input_shape=(1,embedded_sentence_length))(x)\n",
    "#         x = BatchNormalization(name='embbeding_batch_normalization_1')(x)\n",
    "#         x = LSTM(units=LSTM_UNITS, return_sequences=False, name='embbeding_LSTM_2')(x)\n",
    "#         x = BatchNormalization(name='embbeding_batch_normalization_2')(x)\n",
    "        \n",
    "#         x = Dense(units=DENSE_UNITS, activation=DENSE_ACTIVATION)(x)\n",
    "        model = x\n",
    "        logger.debug(\"Done Creating Embedding model\")\n",
    "        return model"
   ]
  },
  {
   "cell_type": "markdown",
   "metadata": {},
   "source": [
    "In the same manner, define how to build the image representation branch:"
   ]
  },
  {
   "cell_type": "code",
   "execution_count": 10,
   "metadata": {
    "collapsed": false
   },
   "outputs": [],
   "source": [
    "from keras.applications.vgg19 import VGG19\n",
    "from keras.applications.resnet50 import ResNet50\n",
    "\n",
    "from keras.layers import Dense, GlobalAveragePooling2D#, Input, Dropout\n",
    "def get_image_model(base_model_weights=DEFAULT_IMAGE_WIEGHTS, out_put_dim=1024):\n",
    "    base_model_weights = base_model_weights\n",
    "\n",
    "    base_model = VGG19(weights=base_model_weights,include_top=False)\n",
    "#     base_model = ResNet50(weights=base_model_weights, include_top=False)\n",
    "    base_model.trainable = False\n",
    "    for layer in base_model.layers:\n",
    "        layer.trainable = False\n",
    "\n",
    "    x = base_model.output\n",
    "    # add a global spatial average pooling layer\n",
    "    x = GlobalAveragePooling2D(name=\"image_model_average_pool\")(x)\n",
    "    \n",
    "    # x = Dense(out_put_dim, activation='relu',name=\"image_model_dense\")(x)\n",
    "    \n",
    "    model = x\n",
    "    \n",
    "    return base_model.input , model"
   ]
  },
  {
   "cell_type": "markdown",
   "metadata": {},
   "source": [
    "And finally, building the model itself:"
   ]
  },
  {
   "cell_type": "code",
   "execution_count": 11,
   "metadata": {},
   "outputs": [
    {
     "name": "stdout",
     "output_type": "stream",
     "text": [
      "[22:10:14][DEBUG] Model will have 3389 output units (Strategy: ClassifyStrategies.CATEGORIAL). Categorial coolumn: \"words\"\n"
     ]
    }
   ],
   "source": [
    "model_output_num_units = None\n",
    "if classify_strategy == ClassifyStrategies.CATEGORIAL:    \n",
    "    model_output_num_units = len(pd.read_hdf(meta_data_location,categorial_data_frame))\n",
    "elif classify_strategy == ClassifyStrategies.NLP:\n",
    "    model_output_num_units = embedded_sentence_length    \n",
    "else:\n",
    "    raise Exception(f'Unfamilier strategy: {strat}')\n",
    "\n",
    "logger.debug(f'Model will have {model_output_num_units} output units (Strategy: {classify_strategy}). Categorial coolumn: \"{categorial_data_frame}\"')"
   ]
  },
  {
   "cell_type": "code",
   "execution_count": 12,
   "metadata": {},
   "outputs": [
    {
     "name": "stdout",
     "output_type": "stream",
     "text": [
      "[22:10:14][DEBUG] Getting embedding (lstm model)\n",
      "[22:10:14][DEBUG] Creating Embedding model\n",
      "[22:10:14][DEBUG] Done Creating Embedding model\n",
      "[22:10:14][DEBUG] Getting image model\n",
      "[22:10:22][DEBUG] merging final model\n"
     ]
    },
    {
     "name": "stderr",
     "output_type": "stream",
     "text": [
      "c:\\local\\Anaconda3-4.1.1-Windows-x86_64\\envs\\conda_env\\lib\\site-packages\\ipykernel_launcher.py:41: UserWarning: Update your `Model` call to the Keras 2 API: `Model(inputs=[<tf.Tenso..., outputs=Tensor(\"mo...)`\n"
     ]
    },
    {
     "name": "stdout",
     "output_type": "stream",
     "text": [
      "[22:10:22][ERROR] Got an error while building vqa model:\n",
      "Unknown metric function:precision\n",
      "[22:10:22][ERROR] ######################### image_model model details: ######################### \n",
      "[22:10:22][WARNING] Failed to print summary for image_model:\n",
      "'Tensor' object has no attribute 'summary'\n",
      "[22:10:22][ERROR] ######################### lstm_model model details: ######################### \n",
      "[22:10:22][WARNING] Failed to print summary for lstm_model:\n",
      "'Tensor' object has no attribute 'summary'\n",
      "[22:10:22][ERROR] ######################### lstm_model model details: ######################### \n",
      "[22:10:22][ERROR] __________________________________________________________________________________________________\n",
      "[22:10:22][ERROR] Layer (type)                    Output Shape         Param #     Connected to                     \n",
      "[22:10:22][ERROR] ==================================================================================================\n",
      "[22:10:22][ERROR] input_1 (InputLayer)            (None, None, None, 3 0                                            \n",
      "[22:10:22][ERROR] __________________________________________________________________________________________________\n",
      "[22:10:22][ERROR] block1_conv1 (Conv2D)           (None, None, None, 6 1792        input_1[0][0]                    \n",
      "[22:10:22][ERROR] __________________________________________________________________________________________________\n",
      "[22:10:22][ERROR] block1_conv2 (Conv2D)           (None, None, None, 6 36928       block1_conv1[0][0]               \n",
      "[22:10:22][ERROR] __________________________________________________________________________________________________\n",
      "[22:10:22][ERROR] block1_pool (MaxPooling2D)      (None, None, None, 6 0           block1_conv2[0][0]               \n",
      "[22:10:22][ERROR] __________________________________________________________________________________________________\n",
      "[22:10:22][ERROR] block2_conv1 (Conv2D)           (None, None, None, 1 73856       block1_pool[0][0]                \n",
      "[22:10:22][ERROR] __________________________________________________________________________________________________\n",
      "[22:10:22][ERROR] block2_conv2 (Conv2D)           (None, None, None, 1 147584      block2_conv1[0][0]               \n",
      "[22:10:22][ERROR] __________________________________________________________________________________________________\n",
      "[22:10:22][ERROR] block2_pool (MaxPooling2D)      (None, None, None, 1 0           block2_conv2[0][0]               \n",
      "[22:10:22][ERROR] __________________________________________________________________________________________________\n",
      "[22:10:22][ERROR] block3_conv1 (Conv2D)           (None, None, None, 2 295168      block2_pool[0][0]                \n",
      "[22:10:22][ERROR] __________________________________________________________________________________________________\n",
      "[22:10:22][ERROR] block3_conv2 (Conv2D)           (None, None, None, 2 590080      block3_conv1[0][0]               \n",
      "[22:10:22][ERROR] __________________________________________________________________________________________________\n",
      "[22:10:22][ERROR] block3_conv3 (Conv2D)           (None, None, None, 2 590080      block3_conv2[0][0]               \n",
      "[22:10:22][ERROR] __________________________________________________________________________________________________\n",
      "[22:10:22][ERROR] block3_conv4 (Conv2D)           (None, None, None, 2 590080      block3_conv3[0][0]               \n",
      "[22:10:22][ERROR] __________________________________________________________________________________________________\n",
      "[22:10:22][ERROR] block3_pool (MaxPooling2D)      (None, None, None, 2 0           block3_conv4[0][0]               \n",
      "[22:10:22][ERROR] __________________________________________________________________________________________________\n",
      "[22:10:22][ERROR] block4_conv1 (Conv2D)           (None, None, None, 5 1180160     block3_pool[0][0]                \n",
      "[22:10:22][ERROR] __________________________________________________________________________________________________\n",
      "[22:10:22][ERROR] block4_conv2 (Conv2D)           (None, None, None, 5 2359808     block4_conv1[0][0]               \n",
      "[22:10:22][ERROR] __________________________________________________________________________________________________\n",
      "[22:10:22][ERROR] block4_conv3 (Conv2D)           (None, None, None, 5 2359808     block4_conv2[0][0]               \n",
      "[22:10:22][ERROR] __________________________________________________________________________________________________\n",
      "[22:10:22][ERROR] block4_conv4 (Conv2D)           (None, None, None, 5 2359808     block4_conv3[0][0]               \n",
      "[22:10:22][ERROR] __________________________________________________________________________________________________\n",
      "[22:10:22][ERROR] block4_pool (MaxPooling2D)      (None, None, None, 5 0           block4_conv4[0][0]               \n",
      "[22:10:22][ERROR] __________________________________________________________________________________________________\n",
      "[22:10:22][ERROR] block5_conv1 (Conv2D)           (None, None, None, 5 2359808     block4_pool[0][0]                \n",
      "[22:10:22][ERROR] __________________________________________________________________________________________________\n",
      "[22:10:22][ERROR] block5_conv2 (Conv2D)           (None, None, None, 5 2359808     block5_conv1[0][0]               \n",
      "[22:10:22][ERROR] __________________________________________________________________________________________________\n",
      "[22:10:22][ERROR] block5_conv3 (Conv2D)           (None, None, None, 5 2359808     block5_conv2[0][0]               \n",
      "[22:10:22][ERROR] __________________________________________________________________________________________________\n",
      "[22:10:22][ERROR] block5_conv4 (Conv2D)           (None, None, None, 5 2359808     block5_conv3[0][0]               \n",
      "[22:10:22][ERROR] __________________________________________________________________________________________________\n",
      "[22:10:22][ERROR] embedding_input (InputLayer)    (None, 12288, 1)     0                                            \n",
      "[22:10:22][ERROR] __________________________________________________________________________________________________\n",
      "[22:10:22][ERROR] block5_pool (MaxPooling2D)      (None, None, None, 5 0           block5_conv4[0][0]               \n",
      "[22:10:22][ERROR] __________________________________________________________________________________________________\n",
      "[22:10:22][ERROR] embbeding_LSTM (LSTM)           (None, 64)           16896       embedding_input[0][0]            \n",
      "[22:10:22][ERROR] __________________________________________________________________________________________________\n",
      "[22:10:22][ERROR] image_model_average_pool (Globa (None, 512)          0           block5_pool[0][0]                \n",
      "[22:10:22][ERROR] __________________________________________________________________________________________________\n",
      "[22:10:22][ERROR] embbeding_batch_normalization ( (None, 64)           256         embbeding_LSTM[0][0]             \n",
      "[22:10:22][ERROR] __________________________________________________________________________________________________\n",
      "[22:10:22][ERROR] concatenate_1 (Concatenate)     (None, 576)          0           image_model_average_pool[0][0]   \n",
      "[22:10:22][ERROR]                                                                  embbeding_batch_normalization[0][\n",
      "[22:10:22][ERROR] __________________________________________________________________________________________________\n",
      "[22:10:22][ERROR] dense_1 (Dense)                 (None, 256)          147712      concatenate_1[0][0]              \n",
      "[22:10:22][ERROR] __________________________________________________________________________________________________\n",
      "[22:10:22][ERROR] batch_normalization_1 (BatchNor (None, 256)          1024        dense_1[0][0]                    \n",
      "[22:10:22][ERROR] __________________________________________________________________________________________________\n",
      "[22:10:22][ERROR] activation_1 (Activation)       (None, 256)          0           batch_normalization_1[0][0]      \n",
      "[22:10:22][ERROR] __________________________________________________________________________________________________\n",
      "[22:10:22][ERROR] model_output_sofmax_dense (Dens (None, 3389)         870973      activation_1[0][0]               \n",
      "[22:10:22][ERROR] ==================================================================================================\n",
      "[22:10:22][ERROR] Total params: 21,061,245\n",
      "[22:10:22][ERROR] Trainable params: 1,036,221\n",
      "[22:10:22][ERROR] Non-trainable params: 20,025,024\n",
      "[22:10:22][ERROR] __________________________________________________________________________________________________\n"
     ]
    },
    {
     "ename": "ValueError",
     "evalue": "Unknown metric function:precision",
     "output_type": "error",
     "traceback": [
      "\u001b[1;31m---------------------------------------------------------------------------\u001b[0m",
      "\u001b[1;31mValueError\u001b[0m                                Traceback (most recent call last)",
      "\u001b[1;32m<ipython-input-12-9c21fe1a770e>\u001b[0m in \u001b[0;36m<module>\u001b[1;34m()\u001b[0m\n\u001b[0;32m     55\u001b[0m     \u001b[1;32mreturn\u001b[0m \u001b[0mfc_model\u001b[0m\u001b[1;33m\u001b[0m\u001b[0m\n\u001b[0;32m     56\u001b[0m \u001b[1;33m\u001b[0m\u001b[0m\n\u001b[1;32m---> 57\u001b[1;33m \u001b[0mmodel\u001b[0m \u001b[1;33m=\u001b[0m \u001b[0mget_vqa_model\u001b[0m\u001b[1;33m(\u001b[0m\u001b[1;33m)\u001b[0m\u001b[1;33m\u001b[0m\u001b[0m\n\u001b[0m\u001b[0;32m     58\u001b[0m \u001b[0mmodel\u001b[0m\u001b[1;33m\u001b[0m\u001b[0m\n",
      "\u001b[1;32m<ipython-input-12-9c21fe1a770e>\u001b[0m in \u001b[0;36mget_vqa_model\u001b[1;34m()\u001b[0m\n\u001b[0;32m     40\u001b[0m \u001b[1;33m\u001b[0m\u001b[0m\n\u001b[0;32m     41\u001b[0m         \u001b[0mfc_model\u001b[0m \u001b[1;33m=\u001b[0m \u001b[0mModel\u001b[0m\u001b[1;33m(\u001b[0m\u001b[0minputs\u001b[0m\u001b[1;33m=\u001b[0m\u001b[1;33m[\u001b[0m\u001b[0mlstm_input_tensor\u001b[0m\u001b[1;33m,\u001b[0m \u001b[0mimage_input_tensor\u001b[0m\u001b[1;33m]\u001b[0m\u001b[1;33m,\u001b[0m \u001b[0moutput\u001b[0m\u001b[1;33m=\u001b[0m\u001b[0mfc_tensors\u001b[0m\u001b[1;33m)\u001b[0m\u001b[1;33m\u001b[0m\u001b[0m\n\u001b[1;32m---> 42\u001b[1;33m         \u001b[0mfc_model\u001b[0m\u001b[1;33m.\u001b[0m\u001b[0mcompile\u001b[0m\u001b[1;33m(\u001b[0m\u001b[0moptimizer\u001b[0m\u001b[1;33m=\u001b[0m\u001b[0mOPTIMIZER\u001b[0m\u001b[1;33m,\u001b[0m \u001b[0mloss\u001b[0m\u001b[1;33m=\u001b[0m\u001b[0mLOSS\u001b[0m\u001b[1;33m,\u001b[0m \u001b[0mmetrics\u001b[0m\u001b[1;33m=\u001b[0m\u001b[0mMETRICS\u001b[0m\u001b[1;33m)\u001b[0m\u001b[1;33m\u001b[0m\u001b[0m\n\u001b[0m\u001b[0;32m     43\u001b[0m     \u001b[1;32mexcept\u001b[0m \u001b[0mException\u001b[0m \u001b[1;32mas\u001b[0m \u001b[0mex\u001b[0m\u001b[1;33m:\u001b[0m\u001b[1;33m\u001b[0m\u001b[0m\n\u001b[0;32m     44\u001b[0m         \u001b[0mlogger\u001b[0m\u001b[1;33m.\u001b[0m\u001b[0merror\u001b[0m\u001b[1;33m(\u001b[0m\u001b[1;34m\"Got an error while building vqa model:\\n{0}\"\u001b[0m\u001b[1;33m.\u001b[0m\u001b[0mformat\u001b[0m\u001b[1;33m(\u001b[0m\u001b[0mex\u001b[0m\u001b[1;33m)\u001b[0m\u001b[1;33m)\u001b[0m\u001b[1;33m\u001b[0m\u001b[0m\n",
      "\u001b[1;32mc:\\local\\Anaconda3-4.1.1-Windows-x86_64\\envs\\conda_env\\lib\\site-packages\\keras\\engine\\training.py\u001b[0m in \u001b[0;36mcompile\u001b[1;34m(self, optimizer, loss, metrics, loss_weights, sample_weight_mode, weighted_metrics, target_tensors, **kwargs)\u001b[0m\n\u001b[0;32m    932\u001b[0m                             \u001b[0mself\u001b[0m\u001b[1;33m.\u001b[0m\u001b[0mmetrics_updates\u001b[0m \u001b[1;33m+=\u001b[0m \u001b[0mmetric_fn\u001b[0m\u001b[1;33m.\u001b[0m\u001b[0mupdates\u001b[0m\u001b[1;33m\u001b[0m\u001b[0m\n\u001b[0;32m    933\u001b[0m \u001b[1;33m\u001b[0m\u001b[0m\n\u001b[1;32m--> 934\u001b[1;33m                 \u001b[0mhandle_metrics\u001b[0m\u001b[1;33m(\u001b[0m\u001b[0moutput_metrics\u001b[0m\u001b[1;33m)\u001b[0m\u001b[1;33m\u001b[0m\u001b[0m\n\u001b[0m\u001b[0;32m    935\u001b[0m                 \u001b[0mhandle_metrics\u001b[0m\u001b[1;33m(\u001b[0m\u001b[0moutput_weighted_metrics\u001b[0m\u001b[1;33m,\u001b[0m \u001b[0mweights\u001b[0m\u001b[1;33m=\u001b[0m\u001b[0mweights\u001b[0m\u001b[1;33m)\u001b[0m\u001b[1;33m\u001b[0m\u001b[0m\n\u001b[0;32m    936\u001b[0m \u001b[1;33m\u001b[0m\u001b[0m\n",
      "\u001b[1;32mc:\\local\\Anaconda3-4.1.1-Windows-x86_64\\envs\\conda_env\\lib\\site-packages\\keras\\engine\\training.py\u001b[0m in \u001b[0;36mhandle_metrics\u001b[1;34m(metrics, weights)\u001b[0m\n\u001b[0;32m    899\u001b[0m                             \u001b[0mmetric_name\u001b[0m \u001b[1;33m=\u001b[0m \u001b[0mmetric_name_prefix\u001b[0m \u001b[1;33m+\u001b[0m \u001b[0msuffix\u001b[0m\u001b[1;33m\u001b[0m\u001b[0m\n\u001b[0;32m    900\u001b[0m                         \u001b[1;32melse\u001b[0m\u001b[1;33m:\u001b[0m\u001b[1;33m\u001b[0m\u001b[0m\n\u001b[1;32m--> 901\u001b[1;33m                             \u001b[0mmetric_fn\u001b[0m \u001b[1;33m=\u001b[0m \u001b[0mmetrics_module\u001b[0m\u001b[1;33m.\u001b[0m\u001b[0mget\u001b[0m\u001b[1;33m(\u001b[0m\u001b[0mmetric\u001b[0m\u001b[1;33m)\u001b[0m\u001b[1;33m\u001b[0m\u001b[0m\n\u001b[0m\u001b[0;32m    902\u001b[0m                             \u001b[0mweighted_metric_fn\u001b[0m \u001b[1;33m=\u001b[0m \u001b[0m_weighted_masked_objective\u001b[0m\u001b[1;33m(\u001b[0m\u001b[0mmetric_fn\u001b[0m\u001b[1;33m)\u001b[0m\u001b[1;33m\u001b[0m\u001b[0m\n\u001b[0;32m    903\u001b[0m                             \u001b[1;31m# Get metric name as string\u001b[0m\u001b[1;33m\u001b[0m\u001b[1;33m\u001b[0m\u001b[0m\n",
      "\u001b[1;32mc:\\local\\Anaconda3-4.1.1-Windows-x86_64\\envs\\conda_env\\lib\\site-packages\\keras\\metrics.py\u001b[0m in \u001b[0;36mget\u001b[1;34m(identifier)\u001b[0m\n\u001b[0;32m     73\u001b[0m         \u001b[1;32mreturn\u001b[0m \u001b[0mdeserialize\u001b[0m\u001b[1;33m(\u001b[0m\u001b[0mconfig\u001b[0m\u001b[1;33m)\u001b[0m\u001b[1;33m\u001b[0m\u001b[0m\n\u001b[0;32m     74\u001b[0m     \u001b[1;32melif\u001b[0m \u001b[0misinstance\u001b[0m\u001b[1;33m(\u001b[0m\u001b[0midentifier\u001b[0m\u001b[1;33m,\u001b[0m \u001b[0msix\u001b[0m\u001b[1;33m.\u001b[0m\u001b[0mstring_types\u001b[0m\u001b[1;33m)\u001b[0m\u001b[1;33m:\u001b[0m\u001b[1;33m\u001b[0m\u001b[0m\n\u001b[1;32m---> 75\u001b[1;33m         \u001b[1;32mreturn\u001b[0m \u001b[0mdeserialize\u001b[0m\u001b[1;33m(\u001b[0m\u001b[0mstr\u001b[0m\u001b[1;33m(\u001b[0m\u001b[0midentifier\u001b[0m\u001b[1;33m)\u001b[0m\u001b[1;33m)\u001b[0m\u001b[1;33m\u001b[0m\u001b[0m\n\u001b[0m\u001b[0;32m     76\u001b[0m     \u001b[1;32melif\u001b[0m \u001b[0mcallable\u001b[0m\u001b[1;33m(\u001b[0m\u001b[0midentifier\u001b[0m\u001b[1;33m)\u001b[0m\u001b[1;33m:\u001b[0m\u001b[1;33m\u001b[0m\u001b[0m\n\u001b[0;32m     77\u001b[0m         \u001b[1;32mreturn\u001b[0m \u001b[0midentifier\u001b[0m\u001b[1;33m\u001b[0m\u001b[0m\n",
      "\u001b[1;32mc:\\local\\Anaconda3-4.1.1-Windows-x86_64\\envs\\conda_env\\lib\\site-packages\\keras\\metrics.py\u001b[0m in \u001b[0;36mdeserialize\u001b[1;34m(config, custom_objects)\u001b[0m\n\u001b[0;32m     65\u001b[0m                                     \u001b[0mmodule_objects\u001b[0m\u001b[1;33m=\u001b[0m\u001b[0mglobals\u001b[0m\u001b[1;33m(\u001b[0m\u001b[1;33m)\u001b[0m\u001b[1;33m,\u001b[0m\u001b[1;33m\u001b[0m\u001b[0m\n\u001b[0;32m     66\u001b[0m                                     \u001b[0mcustom_objects\u001b[0m\u001b[1;33m=\u001b[0m\u001b[0mcustom_objects\u001b[0m\u001b[1;33m,\u001b[0m\u001b[1;33m\u001b[0m\u001b[0m\n\u001b[1;32m---> 67\u001b[1;33m                                     printable_module_name='metric function')\n\u001b[0m\u001b[0;32m     68\u001b[0m \u001b[1;33m\u001b[0m\u001b[0m\n\u001b[0;32m     69\u001b[0m \u001b[1;33m\u001b[0m\u001b[0m\n",
      "\u001b[1;32mc:\\local\\Anaconda3-4.1.1-Windows-x86_64\\envs\\conda_env\\lib\\site-packages\\keras\\utils\\generic_utils.py\u001b[0m in \u001b[0;36mdeserialize_keras_object\u001b[1;34m(identifier, module_objects, custom_objects, printable_module_name)\u001b[0m\n\u001b[0;32m    162\u001b[0m             \u001b[1;32mif\u001b[0m \u001b[0mfn\u001b[0m \u001b[1;32mis\u001b[0m \u001b[1;32mNone\u001b[0m\u001b[1;33m:\u001b[0m\u001b[1;33m\u001b[0m\u001b[0m\n\u001b[0;32m    163\u001b[0m                 raise ValueError('Unknown ' + printable_module_name +\n\u001b[1;32m--> 164\u001b[1;33m                                  ':' + function_name)\n\u001b[0m\u001b[0;32m    165\u001b[0m         \u001b[1;32mreturn\u001b[0m \u001b[0mfn\u001b[0m\u001b[1;33m\u001b[0m\u001b[0m\n\u001b[0;32m    166\u001b[0m     \u001b[1;32melse\u001b[0m\u001b[1;33m:\u001b[0m\u001b[1;33m\u001b[0m\u001b[0m\n",
      "\u001b[1;31mValueError\u001b[0m: Unknown metric function:precision"
     ]
    }
   ],
   "source": [
    "from keras import Model, models, Input, callbacks\n",
    "from keras.utils import plot_model, to_categorical\n",
    "from keras.layers import Dense, Embedding, LSTM, BatchNormalization, Activation, Flatten#, GlobalAveragePooling2D, Merge, Flatten\n",
    "\n",
    "def get_vqa_model():\n",
    "#     import tensorflow as tf\n",
    "#     g = tf.Graph()\n",
    "#     with g.as_default():\n",
    "    DENSE_UNITS = 256\n",
    "    DENSE_ACTIVATION = 'relu'\n",
    "\n",
    "    OPTIMIZER = 'rmsprop'\n",
    "#     LOSS, ACTIVATION = 'categorical_crossentropy', 'softmax' #good for a model to predict multiple mutually-exclusive classes.\n",
    "    LOSS, ACTIVATION = 'binary_crossentropy', 'sigmoid'\n",
    "    \n",
    "    METRICS = [ 'accuracy']#['accuracy'] #'f1score', 'recall','precision'\n",
    "    image_model, lstm_model, fc_model = None, None, None\n",
    "    try:     \n",
    "        # ATTN:\n",
    "        lstm_input_tensor = Input(shape=(embedded_sentence_length,1), name='embedding_input')\n",
    "        #lstm_input_tensor = Input(shape=(embedding_dim,), name='embedding_input')\n",
    "\n",
    "        logger.debug(\"Getting embedding (lstm model)\")\n",
    "        lstm_model = word_2_vec_model(input_tensor=lstm_input_tensor)\n",
    "\n",
    "        logger.debug(\"Getting image model\")\n",
    "        out_put_dim = lstm_model.shape[-1].value\n",
    "        image_input_tensor, image_model = get_image_model(out_put_dim=out_put_dim)\n",
    "\n",
    "\n",
    "        logger.debug(\"merging final model\")\n",
    "        fc_tensors = merge_strategy(inputs=[image_model, lstm_model])\n",
    "#         fc_tensors = BatchNormalization()(fc_tensors)\n",
    "        fc_tensors = Dense(units=DENSE_UNITS)(fc_tensors)\n",
    "        fc_tensors = BatchNormalization()(fc_tensors)\n",
    "        fc_tensors = Activation(DENSE_ACTIVATION)(fc_tensors)\n",
    "\n",
    "        #ATTN:\n",
    "        fc_tensors = Dense(units=model_output_num_units, activation=ACTIVATION, name='model_output_sofmax_dense')(fc_tensors)        \n",
    "\n",
    "        fc_model = Model(inputs=[lstm_input_tensor, image_input_tensor], output=fc_tensors)\n",
    "        fc_model.compile(optimizer=OPTIMIZER, loss=LOSS, metrics=METRICS)\n",
    "    except Exception as ex:\n",
    "        logger.error(\"Got an error while building vqa model:\\n{0}\".format(ex))\n",
    "        models = [(image_model, 'image_model'), (lstm_model, 'lstm_model'), (fc_model, 'lstm_model')]\n",
    "        for m, name in models:\n",
    "            if m is not None:\n",
    "                logger.error(\"######################### {0} model details: ######################### \".format(name))\n",
    "                try:\n",
    "                    m.summary(print_fn=logger.error)\n",
    "                except Exception as ex2:\n",
    "                    logger.warning(\"Failed to print summary for {0}:\\n{1}\".format(name, ex2))\n",
    "        raise\n",
    "\n",
    "    return fc_model\n",
    "\n",
    "model = get_vqa_model()\n",
    "model\n"
   ]
  },
  {
   "cell_type": "markdown",
   "metadata": {},
   "source": [
    "##### We better save it:"
   ]
  },
  {
   "cell_type": "code",
   "execution_count": null,
   "metadata": {
    "collapsed": false
   },
   "outputs": [],
   "source": [
    "strategy_str = get_stratagy_str()\n",
    "\n",
    "\n",
    "model_fn, summary_fn, fn_image, _ = save_model(model, vqa_models_folder, name_suffix=strategy_str)\n",
    "\n",
    "msg = f\"Summary: {summary_fn}\\n\"\n",
    "msg += f\"Image: {fn_image}\\n\"\n",
    "location_message = f\"model_location = '{model_fn}'\"\n",
    "\n",
    "\n",
    "print(msg)\n",
    "print (location_message)"
   ]
  },
  {
   "cell_type": "markdown",
   "metadata": {},
   "source": [
    "### Display a plot + summary:"
   ]
  },
  {
   "cell_type": "markdown",
   "metadata": {},
   "source": [
    "#### Where are the trainable parameters?"
   ]
  },
  {
   "cell_type": "code",
   "execution_count": null,
   "metadata": {},
   "outputs": [],
   "source": [
    "import pandas as pd\n",
    "K = keras_backend\n",
    "names_and_trainable_params = {w.name: np.prod(K.get_value(w).shape) for w in model.trainable_weights}\n",
    "names_and_trainable_params = {(w.name, np.prod(K.get_value(w).shape)) for w in model.trainable_weights}\n",
    "a = {'layer': [tpl[0] for tpl in names_and_trainable_params],\n",
    "     'trainable_params': [tpl[1] for tpl in names_and_trainable_params]\n",
    "    }\n",
    "df = pd.DataFrame.from_dict(a)\n",
    "df_sorted = df.sort_values(['trainable_params'], ascending=[False]).reset_index()\n",
    "df_sorted['pretty_value'] = df_sorted.apply(lambda x: \"{:,}\".format(x['trainable_params']), axis=1)\n",
    "top = df_sorted[df_sorted.trainable_params > 1000]\n",
    "print(f'Got a total of {\"{:,}\".format(sum(df_sorted.trainable_params))} trainable parameters')\n",
    "top"
   ]
  },
  {
   "cell_type": "code",
   "execution_count": null,
   "metadata": {},
   "outputs": [],
   "source": [
    "from IPython.display import Image, display\n",
    "listOfImageNames = [fn_image]\n",
    "\n",
    "for imageName in listOfImageNames:\n",
    "    display(Image(filename=imageName))\n",
    "model.summary()"
   ]
  },
  {
   "cell_type": "markdown",
   "metadata": {},
   "source": [
    "Copy these items to the next notebook of training the model"
   ]
  },
  {
   "cell_type": "code",
   "execution_count": null,
   "metadata": {},
   "outputs": [],
   "source": [
    "# logger.debug('Done')\n",
    "print(location_message.replace('\\\\', '\\\\\\\\'))\n",
    "print(f'strategy_str = \\'{strategy_str}\\'')\n"
   ]
  }
 ],
 "metadata": {
  "kernelspec": {
   "display_name": "Python conda_env",
   "language": "python",
   "name": "conda_env"
  },
  "language_info": {
   "codemirror_mode": {
    "name": "ipython",
    "version": 3
   },
   "file_extension": ".py",
   "mimetype": "text/x-python",
   "name": "python",
   "nbconvert_exporter": "python",
   "pygments_lexer": "ipython3",
   "version": "3.6.2"
  }
 },
 "nbformat": 4,
 "nbformat_minor": 2
}
