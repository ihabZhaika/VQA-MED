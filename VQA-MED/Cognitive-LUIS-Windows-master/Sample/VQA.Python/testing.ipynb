{
 "cells": [
  {
   "cell_type": "markdown",
   "metadata": {},
   "source": [
    "Image:"
   ]
  },
  {
   "cell_type": "code",
   "execution_count": null,
   "metadata": {},
   "outputs": [],
   "source": [
    " base_model_weights = base_model_weights\n",
    "\n",
    "# base_model = VGG19(weights=base_model_weights,include_top=False)\n",
    "base_model = VGG19(weights=base_model_weights, include_top=False)\n",
    "base_model.trainable = False\n",
    "for layer in base_model.layers:\n",
    "    layer.trainable = False\n",
    "\n",
    "x = base_model.output\n",
    "# add a global spatial average pooling layer\n",
    "x = GlobalAveragePooling2D(name=\"image_model_average_pool\")(x)\n",
    "# let's add a fully-connected layer\n",
    "x = Dense(out_put_dim, activation='relu',name=\"image_model_dense\")(x)\n",
    "# and a logistic layer -- let's say we have 200 classes\n",
    "# predictions = Dense(200, activation='softmax')(x)\n",
    "model = x\n",
    "    \n",
    "return base_model.input , model"
   ]
  }
 ],
 "metadata": {
  "kernelspec": {
   "display_name": "Python conda_env",
   "language": "python",
   "name": "conda_env"
  },
  "language_info": {
   "codemirror_mode": {
    "name": "ipython",
    "version": 3
   },
   "file_extension": ".py",
   "mimetype": "text/x-python",
   "name": "python",
   "nbconvert_exporter": "python",
   "pygments_lexer": "ipython3",
   "version": "3.6.2"
  }
 },
 "nbformat": 4,
 "nbformat_minor": 2
}
