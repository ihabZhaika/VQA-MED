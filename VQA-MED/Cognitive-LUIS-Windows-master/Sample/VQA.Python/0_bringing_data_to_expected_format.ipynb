{
 "cells": [
  {
   "cell_type": "markdown",
   "metadata": {},
   "source": [
    "# Bringing data to expected format"
   ]
  },
  {
   "cell_type": "markdown",
   "metadata": {},
   "source": [
    "### This may change according to the format of data you have..."
   ]
  },
  {
   "cell_type": "code",
   "execution_count": 1,
   "metadata": {},
   "outputs": [],
   "source": [
    "import os\n",
    "from pandas import HDFStore\n",
    "import pandas as pd\n",
    "\n",
    "from common.constatns import train_data, validation_data,  raw_data_location, images_folder_train, images_folder_validation \n",
    "from common.utils import VerboseTimer\n",
    "from parsers.VQA18 import Vqa18Base\n",
    "from common.functions import get_size\n",
    "from vqa_logger import logger"
   ]
  },
  {
   "cell_type": "code",
   "execution_count": 2,
   "metadata": {},
   "outputs": [
    {
     "data": {
      "text/html": [
       "<div>\n",
       "<style scoped>\n",
       "    .dataframe tbody tr th:only-of-type {\n",
       "        vertical-align: middle;\n",
       "    }\n",
       "\n",
       "    .dataframe tbody tr th {\n",
       "        vertical-align: top;\n",
       "    }\n",
       "\n",
       "    .dataframe thead th {\n",
       "        text-align: right;\n",
       "    }\n",
       "</style>\n",
       "<table border=\"1\" class=\"dataframe\">\n",
       "  <thead>\n",
       "    <tr style=\"text-align: right;\">\n",
       "      <th></th>\n",
       "      <th>image_name</th>\n",
       "      <th>question</th>\n",
       "      <th>answer</th>\n",
       "      <th>group</th>\n",
       "      <th>path</th>\n",
       "    </tr>\n",
       "  </thead>\n",
       "  <tbody>\n",
       "    <tr>\n",
       "      <th>count</th>\n",
       "      <td>5913</td>\n",
       "      <td>5913</td>\n",
       "      <td>5913</td>\n",
       "      <td>5913</td>\n",
       "      <td>5913</td>\n",
       "    </tr>\n",
       "    <tr>\n",
       "      <th>unique</th>\n",
       "      <td>2602</td>\n",
       "      <td>5064</td>\n",
       "      <td>4906</td>\n",
       "      <td>2</td>\n",
       "      <td>2602</td>\n",
       "    </tr>\n",
       "    <tr>\n",
       "      <th>top</th>\n",
       "      <td>1477-7819-6-60-1.jpg</td>\n",
       "      <td>what does ct scan show?</td>\n",
       "      <td>mri</td>\n",
       "      <td>train</td>\n",
       "      <td>C:\\Users\\Public\\Documents\\Data\\2018\\VQAMed2018...</td>\n",
       "    </tr>\n",
       "    <tr>\n",
       "      <th>freq</th>\n",
       "      <td>7</td>\n",
       "      <td>55</td>\n",
       "      <td>74</td>\n",
       "      <td>5413</td>\n",
       "      <td>7</td>\n",
       "    </tr>\n",
       "  </tbody>\n",
       "</table>\n",
       "</div>"
      ],
      "text/plain": [
       "                  image_name                 question answer  group  \\\n",
       "count                   5913                     5913   5913   5913   \n",
       "unique                  2602                     5064   4906      2   \n",
       "top     1477-7819-6-60-1.jpg  what does ct scan show?    mri  train   \n",
       "freq                       7                       55     74   5413   \n",
       "\n",
       "                                                     path  \n",
       "count                                                5913  \n",
       "unique                                               2602  \n",
       "top     C:\\Users\\Public\\Documents\\Data\\2018\\VQAMed2018...  \n",
       "freq                                                    7  "
      ]
     },
     "execution_count": 2,
     "metadata": {},
     "output_type": "execute_result"
    }
   ],
   "source": [
    "# TODO: Change this to use the original format from image_clef\n",
    "df_train = Vqa18Base.get_instance(train_data.processed_xls).data    \n",
    "df_valid = Vqa18Base.get_instance(validation_data.processed_xls).data \n",
    "\n",
    "cols = ['image_name', 'question', 'answer']\n",
    "df_t = df_train[cols].copy()\n",
    "df_v = df_valid[cols].copy()\n",
    "\n",
    "df_t['group'] = 'train'\n",
    "df_v['group'] = 'validation'\n",
    "\n",
    "\n",
    "df = pd.concat([df_t, df_v])#.reset_index()\n",
    "\n",
    "def get_image_path(group, image_name):\n",
    "    assert group in ['train', 'validation']\n",
    "    folder = images_folder_train if group == 'train' else images_folder_validation    \n",
    "    return os.path.join(folder, image_name)\n",
    "\n",
    "\n",
    "df['image_name'] = df['image_name'].apply(lambda q: q if q.lower().endswith('.jpg') else q + '.jpg')\n",
    "df['path'] = df.apply(lambda x:  get_image_path(x['group'],x['image_name']),axis=1) #x: get_image_path(x['group'],x['image_name'])\n",
    "\n",
    "df.describe()"
   ]
  },
  {
   "cell_type": "markdown",
   "metadata": {},
   "source": [
    "### Save the data"
   ]
  },
  {
   "cell_type": "code",
   "execution_count": 3,
   "metadata": {},
   "outputs": [
    {
     "name": "stdout",
     "output_type": "stream",
     "text": [
      "Saving raw data: 0:00:00.101042\n",
      "[17:17:14][DEBUG] raw data's file size was: 2.29 MB\n"
     ]
    }
   ],
   "source": [
    "# remove if exists\n",
    "try:\n",
    "    os.remove(raw_data_location)\n",
    "except OSError:\n",
    "    pass\n",
    "\n",
    "with VerboseTimer(\"Saving raw data\"):\n",
    "    with HDFStore(raw_data_location) as store:\n",
    "         store['data']  = df\n",
    "        \n",
    "\n",
    "size = get_size(raw_data_location)\n",
    "logger.debug(f\"raw data's file size was: {size}\")"
   ]
  },
  {
   "cell_type": "code",
   "execution_count": 9,
   "metadata": {},
   "outputs": [
    {
     "data": {
      "text/plain": [
       "True"
      ]
     },
     "execution_count": 9,
     "metadata": {},
     "output_type": "execute_result"
    }
   ],
   "source": [
    "# df.reset_index()\n",
    "# df.head()\n",
    "a = df[df.group == 'validation'].path[0]\n",
    "os.path.exists(a)"
   ]
  }
 ],
 "metadata": {
  "kernelspec": {
   "display_name": "Python conda_env",
   "language": "python",
   "name": "conda_env"
  },
  "language_info": {
   "codemirror_mode": {
    "name": "ipython",
    "version": 3
   },
   "file_extension": ".py",
   "mimetype": "text/x-python",
   "name": "python",
   "nbconvert_exporter": "python",
   "pygments_lexer": "ipython3",
   "version": "3.6.2"
  }
 },
 "nbformat": 4,
 "nbformat_minor": 2
}
