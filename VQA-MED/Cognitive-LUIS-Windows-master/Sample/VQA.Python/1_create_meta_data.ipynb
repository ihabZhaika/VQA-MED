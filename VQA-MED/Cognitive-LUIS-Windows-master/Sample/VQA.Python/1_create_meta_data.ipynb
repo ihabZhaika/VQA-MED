{
 "cells": [
  {
   "cell_type": "code",
   "execution_count": 1,
   "metadata": {},
   "outputs": [],
   "source": [
    "import os\n",
    "import pandas as pd\n",
    "from pandas import HDFStore"
   ]
  },
  {
   "cell_type": "code",
   "execution_count": 2,
   "metadata": {},
   "outputs": [],
   "source": [
    "# Pre process results files\n",
    "fn_meta            = os.path.abspath('data/meta_data.json')"
   ]
  },
  {
   "cell_type": "code",
   "execution_count": 3,
   "metadata": {
    "collapsed": true
   },
   "outputs": [],
   "source": [
    "from common.constatns import train_data, validation_data, raw_data_location"
   ]
  },
  {
   "cell_type": "markdown",
   "metadata": {},
   "source": [
    "### Preprocessing and creating meta data"
   ]
  },
  {
   "cell_type": "markdown",
   "metadata": {},
   "source": [
    "Get the data itself, Note the only things required in dataframe are:\n",
    "1. image_name\n",
    "2. question\n",
    "3. answer\n"
   ]
  },
  {
   "cell_type": "code",
   "execution_count": 4,
   "metadata": {},
   "outputs": [
    {
     "name": "stdout",
     "output_type": "stream",
     "text": [
      "Data length: 5913\n"
     ]
    },
    {
     "data": {
      "text/html": [
       "<div>\n",
       "<style scoped>\n",
       "    .dataframe tbody tr th:only-of-type {\n",
       "        vertical-align: middle;\n",
       "    }\n",
       "\n",
       "    .dataframe tbody tr th {\n",
       "        vertical-align: top;\n",
       "    }\n",
       "\n",
       "    .dataframe thead th {\n",
       "        text-align: right;\n",
       "    }\n",
       "</style>\n",
       "<table border=\"1\" class=\"dataframe\">\n",
       "  <thead>\n",
       "    <tr style=\"text-align: right;\">\n",
       "      <th></th>\n",
       "      <th>image_name</th>\n",
       "      <th>question</th>\n",
       "      <th>answer</th>\n",
       "      <th>group</th>\n",
       "      <th>path</th>\n",
       "    </tr>\n",
       "  </thead>\n",
       "  <tbody>\n",
       "    <tr>\n",
       "      <th>0</th>\n",
       "      <td>rjv03401</td>\n",
       "      <td>what does mri show?</td>\n",
       "      <td>lesion at tail of pancreas</td>\n",
       "      <td>train</td>\n",
       "      <td>C:\\Users\\Public\\Documents\\Data\\2018\\VQAMed2018...</td>\n",
       "    </tr>\n",
       "    <tr>\n",
       "      <th>1</th>\n",
       "      <td>AIAN-14-313-g002</td>\n",
       "      <td>where does axial section mri abdomen show hypo...</td>\n",
       "      <td>in distal pancreas</td>\n",
       "      <td>train</td>\n",
       "      <td>C:\\Users\\Public\\Documents\\Data\\2018\\VQAMed2018...</td>\n",
       "    </tr>\n",
       "    <tr>\n",
       "      <th>2</th>\n",
       "      <td>wjem-11-76f3</td>\n",
       "      <td>what do the arrows denote in the noncontrast c...</td>\n",
       "      <td>complex fluid collection with layering consist...</td>\n",
       "      <td>train</td>\n",
       "      <td>C:\\Users\\Public\\Documents\\Data\\2018\\VQAMed2018...</td>\n",
       "    </tr>\n",
       "    <tr>\n",
       "      <th>3</th>\n",
       "      <td>ccr30002-0045-f3</td>\n",
       "      <td>what was normal?</td>\n",
       "      <td>blood supply to the brain</td>\n",
       "      <td>train</td>\n",
       "      <td>C:\\Users\\Public\\Documents\\Data\\2018\\VQAMed2018...</td>\n",
       "    </tr>\n",
       "    <tr>\n",
       "      <th>4</th>\n",
       "      <td>rjt01904</td>\n",
       "      <td>what shows evidence of a contained rupture?</td>\n",
       "      <td>repeat ct scan of the abdomen</td>\n",
       "      <td>train</td>\n",
       "      <td>C:\\Users\\Public\\Documents\\Data\\2018\\VQAMed2018...</td>\n",
       "    </tr>\n",
       "  </tbody>\n",
       "</table>\n",
       "</div>"
      ],
      "text/plain": [
       "         image_name                                           question  \\\n",
       "0          rjv03401                                what does mri show?   \n",
       "1  AIAN-14-313-g002  where does axial section mri abdomen show hypo...   \n",
       "2      wjem-11-76f3  what do the arrows denote in the noncontrast c...   \n",
       "3  ccr30002-0045-f3                                   what was normal?   \n",
       "4          rjt01904        what shows evidence of a contained rupture?   \n",
       "\n",
       "                                              answer  group  \\\n",
       "0                         lesion at tail of pancreas  train   \n",
       "1                                 in distal pancreas  train   \n",
       "2  complex fluid collection with layering consist...  train   \n",
       "3                          blood supply to the brain  train   \n",
       "4                      repeat ct scan of the abdomen  train   \n",
       "\n",
       "                                                path  \n",
       "0  C:\\Users\\Public\\Documents\\Data\\2018\\VQAMed2018...  \n",
       "1  C:\\Users\\Public\\Documents\\Data\\2018\\VQAMed2018...  \n",
       "2  C:\\Users\\Public\\Documents\\Data\\2018\\VQAMed2018...  \n",
       "3  C:\\Users\\Public\\Documents\\Data\\2018\\VQAMed2018...  \n",
       "4  C:\\Users\\Public\\Documents\\Data\\2018\\VQAMed2018...  "
      ]
     },
     "execution_count": 4,
     "metadata": {},
     "output_type": "execute_result"
    }
   ],
   "source": [
    "with HDFStore(raw_data_location) as store:\n",
    "     df_data = store['data']\n",
    "        \n",
    "df_data = df_data[df_data.group.isin(['train','validation'])]\n",
    "print(f'Data length: {len(df_data)}')        \n",
    "df_data.head()\n"
   ]
  },
  {
   "cell_type": "markdown",
   "metadata": {},
   "source": [
    "We will use this function for creating meta data:"
   ]
  },
  {
   "cell_type": "code",
   "execution_count": 5,
   "metadata": {},
   "outputs": [],
   "source": [
    "from vqa_logger import logger \n",
    "import itertools\n",
    "import string\n",
    "from common.os_utils import File #This is a simplehelper file of mine...\n",
    "\n",
    "def create_meta(df):\n",
    "        \n",
    "        print(f\"Dataframe had {len(df)} rows\")\n",
    "        def get_unique_words(col):\n",
    "            single_string = \" \".join(df[col])\n",
    "            exclude = set(string.punctuation)\n",
    "            s_no_panctuation = ''.join(ch for ch in single_string if ch not in exclude)\n",
    "            unique_words = set(s_no_panctuation.split(\" \")).difference({'',' '})\n",
    "            print(\"column {0} had {1} unique words\".format(col,len(unique_words)))\n",
    "            return unique_words\n",
    "\n",
    "        cols = ['question', 'answer']\n",
    "        df_unique_words = set(itertools.chain.from_iterable([get_unique_words(col) for col in cols]))\n",
    "        df_unique_answers = set(df['answer'])        \n",
    "\n",
    "        metadata = {}\n",
    "        metadata['ix_to_word'] = {str(word): int(i) for i, word in enumerate(df_unique_words)}\n",
    "        metadata['ix_to_ans'] = {i:ans for i, ans in enumerate(df_unique_answers)}\n",
    "        metadata['ans_to_ix'] = {ans:i for i, ans in enumerate(df_unique_answers)}\n",
    "                \n",
    "        \n",
    "        #------------------- Asserts\n",
    "        answers = metadata['ix_to_ans'].values()\n",
    "        words = metadata['ix_to_word'].values()\n",
    "        \n",
    "        assert len(set(answers)) == len(answers), 'Got duplicate answers'\n",
    "        assert len(set(words)) == len(words), 'Got duplicate words'        \n",
    "        \n",
    "        print(\"Meta number of unique answers: {0}\".format(len(set(metadata['ix_to_ans'].values()))))\n",
    "        print(\"Meta number of unique words: {0}\".format(len(set(metadata['ix_to_word'].values()))))\n",
    "\n",
    "       \n",
    "        return metadata"
   ]
  },
  {
   "cell_type": "code",
   "execution_count": 6,
   "metadata": {
    "collapsed": false
   },
   "outputs": [
    {
     "name": "stdout",
     "output_type": "stream",
     "text": [
      "----- Creating meta -----\n",
      "Dataframe had 5913 rows\n",
      "column question had 3374 unique words\n",
      "column answer had 3360 unique words\n",
      "Meta number of unique answers: 4906\n",
      "Meta number of unique words: 3727\n"
     ]
    },
    {
     "data": {
      "text/plain": [
       "dict_keys(['ix_to_word', 'ix_to_ans', 'ans_to_ix'])"
      ]
     },
     "execution_count": 6,
     "metadata": {},
     "output_type": "execute_result"
    }
   ],
   "source": [
    "print(\"----- Creating meta -----\")\n",
    "meta_data = create_meta(df_data)\n",
    "\n",
    "# pd.DataFrame(meta_data).head()\n",
    "meta_data.keys()"
   ]
  },
  {
   "cell_type": "code",
   "execution_count": 7,
   "metadata": {},
   "outputs": [
    {
     "name": "stdout",
     "output_type": "stream",
     "text": [
      "Meta file available at: C:\\Users\\avitu\\Documents\\GitHub\\VQA-MED\\VQA-MED\\Cognitive-LUIS-Windows-master\\Sample\\VQA.Python\\data\\meta_data.json\n"
     ]
    }
   ],
   "source": [
    "File.dump_json(meta_data,fn_meta)\n",
    "print(f\"Meta file available at: {fn_meta}\")"
   ]
  }
 ],
 "metadata": {
  "kernelspec": {
   "display_name": "Python conda_env",
   "language": "python",
   "name": "conda_env"
  },
  "language_info": {
   "codemirror_mode": {
    "name": "ipython",
    "version": 3
   },
   "file_extension": ".py",
   "mimetype": "text/x-python",
   "name": "python",
   "nbconvert_exporter": "python",
   "pygments_lexer": "ipython3",
   "version": "3.6.2"
  }
 },
 "nbformat": 4,
 "nbformat_minor": 2
}
