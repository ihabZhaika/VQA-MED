{
 "cells": [
  {
   "cell_type": "code",
   "execution_count": 1,
   "metadata": {},
   "outputs": [],
   "source": [
    "#From Step #2:\n",
    "vqa_specs_location = 'C:\\\\Users\\\\avitu\\\\Documents\\\\GitHub\\\\VQA-MED\\\\VQA-MED\\\\Cognitive-LUIS-Windows-master\\\\Sample\\\\VQA.Python\\\\data\\\\vqa_specs.pkl'"
   ]
  },
  {
   "cell_type": "code",
   "execution_count": 2,
   "metadata": {},
   "outputs": [],
   "source": [
    "model_location = 'C:\\\\Users\\\\Public\\\\Documents\\\\Data\\\\2018\\\\vqa_models\\\\20180629_1220_23\\\\vqa_model_ClassifyStrategies.NLP_trained.h5'"
   ]
  },
  {
   "cell_type": "code",
   "execution_count": 3,
   "metadata": {},
   "outputs": [
    {
     "name": "stderr",
     "output_type": "stream",
     "text": [
      "c:\\local\\Anaconda3-4.1.1-Windows-x86_64\\envs\\conda_env\\lib\\site-packages\\h5py\\__init__.py:34: FutureWarning: Conversion of the second argument of issubdtype from `float` to `np.floating` is deprecated. In future, it will be treated as `np.float64 == np.dtype(float).type`.\n",
      "  from ._conv import register_converters as _register_converters\n",
      "Using TensorFlow backend.\n"
     ]
    }
   ],
   "source": [
    "# %%capture\n",
    "import os\n",
    "import numpy as np\n",
    "from pandas import HDFStore\n",
    "from vqa_logger import logger \n",
    "from enum import Enum\n",
    "import IPython\n",
    "from keras.models import load_model"
   ]
  },
  {
   "cell_type": "code",
   "execution_count": 4,
   "metadata": {},
   "outputs": [],
   "source": [
    "from common.constatns import images_path_test\n",
    "from common.utils import VerboseTimer\n",
    "from parsers.VQA18 import Vqa18Base\n",
    "from common.functions import get_size, get_highlited_function_code, normalize_data_strucrture\n",
    "from vqa_logger import logger\n",
    "from common.os_utils import File "
   ]
  },
  {
   "cell_type": "code",
   "execution_count": 5,
   "metadata": {},
   "outputs": [
    {
     "name": "stdout",
     "output_type": "stream",
     "text": [
      "Loading Model: 0:00:02.946927\n"
     ]
    }
   ],
   "source": [
    "with VerboseTimer(\"Loading Model\"):\n",
    "    model = load_model(model_location)"
   ]
  },
  {
   "cell_type": "code",
   "execution_count": 6,
   "metadata": {},
   "outputs": [
    {
     "data": {
      "text/plain": [
       "'C:\\\\Users\\\\avitu\\\\Documents\\\\GitHub\\\\VQA-MED\\\\VQA-MED\\\\Cognitive-LUIS-Windows-master\\\\Sample\\\\VQA.Python\\\\data\\\\model_input.h5'"
      ]
     },
     "execution_count": 6,
     "metadata": {},
     "output_type": "execute_result"
    }
   ],
   "source": [
    "vqa_specs = File.load_pickle(vqa_specs_location)\n",
    "data_location = vqa_specs.data_location\n",
    "data_location"
   ]
  },
  {
   "cell_type": "code",
   "execution_count": 7,
   "metadata": {},
   "outputs": [
    {
     "data": {
      "text/html": [
       "<style type=\"text/css\">.highlight .hll { background-color: #ffffcc }\n",
       ".highlight  { background: #f8f8f8; }\n",
       ".highlight .c { color: #408080; font-style: italic } /* Comment */\n",
       ".highlight .err { border: 1px solid #FF0000 } /* Error */\n",
       ".highlight .k { color: #008000; font-weight: bold } /* Keyword */\n",
       ".highlight .o { color: #666666 } /* Operator */\n",
       ".highlight .ch { color: #408080; font-style: italic } /* Comment.Hashbang */\n",
       ".highlight .cm { color: #408080; font-style: italic } /* Comment.Multiline */\n",
       ".highlight .cp { color: #BC7A00 } /* Comment.Preproc */\n",
       ".highlight .cpf { color: #408080; font-style: italic } /* Comment.PreprocFile */\n",
       ".highlight .c1 { color: #408080; font-style: italic } /* Comment.Single */\n",
       ".highlight .cs { color: #408080; font-style: italic } /* Comment.Special */\n",
       ".highlight .gd { color: #A00000 } /* Generic.Deleted */\n",
       ".highlight .ge { font-style: italic } /* Generic.Emph */\n",
       ".highlight .gr { color: #FF0000 } /* Generic.Error */\n",
       ".highlight .gh { color: #000080; font-weight: bold } /* Generic.Heading */\n",
       ".highlight .gi { color: #00A000 } /* Generic.Inserted */\n",
       ".highlight .go { color: #888888 } /* Generic.Output */\n",
       ".highlight .gp { color: #000080; font-weight: bold } /* Generic.Prompt */\n",
       ".highlight .gs { font-weight: bold } /* Generic.Strong */\n",
       ".highlight .gu { color: #800080; font-weight: bold } /* Generic.Subheading */\n",
       ".highlight .gt { color: #0044DD } /* Generic.Traceback */\n",
       ".highlight .kc { color: #008000; font-weight: bold } /* Keyword.Constant */\n",
       ".highlight .kd { color: #008000; font-weight: bold } /* Keyword.Declaration */\n",
       ".highlight .kn { color: #008000; font-weight: bold } /* Keyword.Namespace */\n",
       ".highlight .kp { color: #008000 } /* Keyword.Pseudo */\n",
       ".highlight .kr { color: #008000; font-weight: bold } /* Keyword.Reserved */\n",
       ".highlight .kt { color: #B00040 } /* Keyword.Type */\n",
       ".highlight .m { color: #666666 } /* Literal.Number */\n",
       ".highlight .s { color: #BA2121 } /* Literal.String */\n",
       ".highlight .na { color: #7D9029 } /* Name.Attribute */\n",
       ".highlight .nb { color: #008000 } /* Name.Builtin */\n",
       ".highlight .nc { color: #0000FF; font-weight: bold } /* Name.Class */\n",
       ".highlight .no { color: #880000 } /* Name.Constant */\n",
       ".highlight .nd { color: #AA22FF } /* Name.Decorator */\n",
       ".highlight .ni { color: #999999; font-weight: bold } /* Name.Entity */\n",
       ".highlight .ne { color: #D2413A; font-weight: bold } /* Name.Exception */\n",
       ".highlight .nf { color: #0000FF } /* Name.Function */\n",
       ".highlight .nl { color: #A0A000 } /* Name.Label */\n",
       ".highlight .nn { color: #0000FF; font-weight: bold } /* Name.Namespace */\n",
       ".highlight .nt { color: #008000; font-weight: bold } /* Name.Tag */\n",
       ".highlight .nv { color: #19177C } /* Name.Variable */\n",
       ".highlight .ow { color: #AA22FF; font-weight: bold } /* Operator.Word */\n",
       ".highlight .w { color: #bbbbbb } /* Text.Whitespace */\n",
       ".highlight .mb { color: #666666 } /* Literal.Number.Bin */\n",
       ".highlight .mf { color: #666666 } /* Literal.Number.Float */\n",
       ".highlight .mh { color: #666666 } /* Literal.Number.Hex */\n",
       ".highlight .mi { color: #666666 } /* Literal.Number.Integer */\n",
       ".highlight .mo { color: #666666 } /* Literal.Number.Oct */\n",
       ".highlight .sa { color: #BA2121 } /* Literal.String.Affix */\n",
       ".highlight .sb { color: #BA2121 } /* Literal.String.Backtick */\n",
       ".highlight .sc { color: #BA2121 } /* Literal.String.Char */\n",
       ".highlight .dl { color: #BA2121 } /* Literal.String.Delimiter */\n",
       ".highlight .sd { color: #BA2121; font-style: italic } /* Literal.String.Doc */\n",
       ".highlight .s2 { color: #BA2121 } /* Literal.String.Double */\n",
       ".highlight .se { color: #BB6622; font-weight: bold } /* Literal.String.Escape */\n",
       ".highlight .sh { color: #BA2121 } /* Literal.String.Heredoc */\n",
       ".highlight .si { color: #BB6688; font-weight: bold } /* Literal.String.Interpol */\n",
       ".highlight .sx { color: #008000 } /* Literal.String.Other */\n",
       ".highlight .sr { color: #BB6688 } /* Literal.String.Regex */\n",
       ".highlight .s1 { color: #BA2121 } /* Literal.String.Single */\n",
       ".highlight .ss { color: #19177C } /* Literal.String.Symbol */\n",
       ".highlight .bp { color: #008000 } /* Name.Builtin.Pseudo */\n",
       ".highlight .fm { color: #0000FF } /* Name.Function.Magic */\n",
       ".highlight .vc { color: #19177C } /* Name.Variable.Class */\n",
       ".highlight .vg { color: #19177C } /* Name.Variable.Global */\n",
       ".highlight .vi { color: #19177C } /* Name.Variable.Instance */\n",
       ".highlight .vm { color: #19177C } /* Name.Variable.Magic */\n",
       ".highlight .il { color: #666666 } /* Literal.Number.Integer.Long */</style><div class=\"highlight\"><pre><span></span><span class=\"k\">def</span> <span class=\"nf\">normalize_data_strucrture</span><span class=\"p\">(</span><span class=\"n\">df</span><span class=\"p\">,</span> <span class=\"n\">group</span><span class=\"p\">,</span> <span class=\"n\">image_folder</span><span class=\"p\">):</span>\n",
       "    <span class=\"n\">cols</span> <span class=\"o\">=</span> <span class=\"p\">[</span><span class=\"s1\">&#39;image_name&#39;</span><span class=\"p\">,</span> <span class=\"s1\">&#39;question&#39;</span><span class=\"p\">,</span> <span class=\"s1\">&#39;answer&#39;</span><span class=\"p\">]</span>\n",
       "\n",
       "    <span class=\"n\">df_c</span> <span class=\"o\">=</span> <span class=\"n\">df</span><span class=\"p\">[</span><span class=\"n\">cols</span><span class=\"p\">]</span><span class=\"o\">.</span><span class=\"n\">copy</span><span class=\"p\">()</span>\n",
       "    <span class=\"n\">df_c</span><span class=\"p\">[</span><span class=\"s1\">&#39;group&#39;</span><span class=\"p\">]</span> <span class=\"o\">=</span> <span class=\"n\">group</span>\n",
       "\n",
       "\n",
       "    <span class=\"k\">def</span> <span class=\"nf\">get_image_path</span><span class=\"p\">(</span><span class=\"n\">image_name</span><span class=\"p\">):</span>\n",
       "        <span class=\"k\">return</span> <span class=\"n\">os</span><span class=\"o\">.</span><span class=\"n\">path</span><span class=\"o\">.</span><span class=\"n\">join</span><span class=\"p\">(</span><span class=\"n\">image_folder</span><span class=\"p\">,</span> <span class=\"n\">image_name</span><span class=\"o\">+</span> <span class=\"s1\">&#39;.jpg&#39;</span><span class=\"p\">)</span>\n",
       "\n",
       "    <span class=\"n\">df_c</span><span class=\"p\">[</span><span class=\"s1\">&#39;path&#39;</span><span class=\"p\">]</span> <span class=\"o\">=</span> <span class=\"n\">df_c</span><span class=\"o\">.</span><span class=\"n\">apply</span><span class=\"p\">(</span><span class=\"k\">lambda</span> <span class=\"n\">x</span><span class=\"p\">:</span>  <span class=\"n\">get_image_path</span><span class=\"p\">(</span><span class=\"n\">x</span><span class=\"p\">[</span><span class=\"s1\">&#39;image_name&#39;</span><span class=\"p\">]),</span><span class=\"n\">axis</span><span class=\"o\">=</span><span class=\"mi\">1</span><span class=\"p\">)</span> <span class=\"c1\">#x: get_image_path(x[&#39;group&#39;],x[&#39;image_name&#39;])</span>\n",
       "\n",
       "    <span class=\"k\">return</span> <span class=\"n\">df_c</span>\n",
       "</pre></div>\n"
      ],
      "text/plain": [
       "<IPython.core.display.HTML object>"
      ]
     },
     "metadata": {},
     "output_type": "display_data"
    }
   ],
   "source": [
    "code = get_highlited_function_code(normalize_data_strucrture,remove_comments=True)\n",
    "IPython.display.display(code)"
   ]
  },
  {
   "cell_type": "code",
   "execution_count": 8,
   "metadata": {},
   "outputs": [
    {
     "name": "stdout",
     "output_type": "stream",
     "text": [
      "[22:30:53][DEBUG] Loading test data from C:\\Users\\avitu\\Documents\\GitHub\\VQA-MED\\VQA-MED\\Cognitive-LUIS-Windows-master\\Sample\\VQA.Python\\data\\model_input.h5\n",
      "Loading Test Data: 0:00:00.673330\n"
     ]
    }
   ],
   "source": [
    "logger.debug(f\"Loading test data from {data_location}\")\n",
    "with VerboseTimer(\"Loading Test Data\"):\n",
    "    with HDFStore(data_location) as store:        \n",
    "        df_data = store['test']"
   ]
  },
  {
   "cell_type": "code",
   "execution_count": 9,
   "metadata": {},
   "outputs": [
    {
     "data": {
      "text/html": [
       "<div>\n",
       "<style scoped>\n",
       "    .dataframe tbody tr th:only-of-type {\n",
       "        vertical-align: middle;\n",
       "    }\n",
       "\n",
       "    .dataframe tbody tr th {\n",
       "        vertical-align: top;\n",
       "    }\n",
       "\n",
       "    .dataframe thead th {\n",
       "        text-align: right;\n",
       "    }\n",
       "</style>\n",
       "<table border=\"1\" class=\"dataframe\">\n",
       "  <thead>\n",
       "    <tr style=\"text-align: right;\">\n",
       "      <th></th>\n",
       "      <th>image_name</th>\n",
       "      <th>question</th>\n",
       "      <th>answer</th>\n",
       "      <th>group</th>\n",
       "      <th>path</th>\n",
       "      <th>answer_embedding</th>\n",
       "      <th>question_embedding</th>\n",
       "      <th>image</th>\n",
       "    </tr>\n",
       "  </thead>\n",
       "  <tbody>\n",
       "    <tr>\n",
       "      <th>0</th>\n",
       "      <td>AIAN-16-292-g001.jpg</td>\n",
       "      <td>where is the lesion located?</td>\n",
       "      <td>NaN</td>\n",
       "      <td>test</td>\n",
       "      <td>C:\\Users\\Public\\Documents\\Data\\2018\\VQAMed2018...</td>\n",
       "      <td></td>\n",
       "      <td>[[-0.24224531650543213, 0.43569791316986084, -...</td>\n",
       "      <td>[[[28, 28, 28], [26, 26, 26], [21, 21, 21], [2...</td>\n",
       "    </tr>\n",
       "    <tr>\n",
       "      <th>1</th>\n",
       "      <td>1757-1626-0002-0000007275-001.jpg</td>\n",
       "      <td>what does the abdominal ct show?</td>\n",
       "      <td>NaN</td>\n",
       "      <td>test</td>\n",
       "      <td>C:\\Users\\Public\\Documents\\Data\\2018\\VQAMed2018...</td>\n",
       "      <td></td>\n",
       "      <td>[[-1.792357087135315, 2.5371570587158203, 0.78...</td>\n",
       "      <td>[[[4, 3, 5], [5, 4, 6], [11, 10, 14], [7, 6, 1...</td>\n",
       "    </tr>\n",
       "    <tr>\n",
       "      <th>2</th>\n",
       "      <td>jkms-25-1536-g002.jpg</td>\n",
       "      <td>where is the lesion located?</td>\n",
       "      <td>NaN</td>\n",
       "      <td>test</td>\n",
       "      <td>C:\\Users\\Public\\Documents\\Data\\2018\\VQAMed2018...</td>\n",
       "      <td></td>\n",
       "      <td>[[-0.24224531650543213, 0.43569791316986084, -...</td>\n",
       "      <td>[[[37, 37, 37], [37, 37, 37], [37, 37, 37], [3...</td>\n",
       "    </tr>\n",
       "    <tr>\n",
       "      <th>3</th>\n",
       "      <td>IJRI-23-243-g004.jpg</td>\n",
       "      <td>what is the hypointense signal suggestive of?</td>\n",
       "      <td>NaN</td>\n",
       "      <td>test</td>\n",
       "      <td>C:\\Users\\Public\\Documents\\Data\\2018\\VQAMed2018...</td>\n",
       "      <td></td>\n",
       "      <td>[[-2.576011896133423, 1.1504747867584229, -0.0...</td>\n",
       "      <td>[[[45, 44, 46], [52, 52, 53], [54, 51, 53], [6...</td>\n",
       "    </tr>\n",
       "    <tr>\n",
       "      <th>4</th>\n",
       "      <td>kjh-47-142-g001.jpg</td>\n",
       "      <td>what does the chest ct image show?</td>\n",
       "      <td>NaN</td>\n",
       "      <td>test</td>\n",
       "      <td>C:\\Users\\Public\\Documents\\Data\\2018\\VQAMed2018...</td>\n",
       "      <td></td>\n",
       "      <td>[[-1.7583001852035522, 2.477630615234375, 0.76...</td>\n",
       "      <td>[[[23, 23, 23], [20, 20, 20], [23, 23, 23], [2...</td>\n",
       "    </tr>\n",
       "  </tbody>\n",
       "</table>\n",
       "</div>"
      ],
      "text/plain": [
       "                          image_name  \\\n",
       "0               AIAN-16-292-g001.jpg   \n",
       "1  1757-1626-0002-0000007275-001.jpg   \n",
       "2              jkms-25-1536-g002.jpg   \n",
       "3               IJRI-23-243-g004.jpg   \n",
       "4                kjh-47-142-g001.jpg   \n",
       "\n",
       "                                        question answer group  \\\n",
       "0                   where is the lesion located?    NaN  test   \n",
       "1               what does the abdominal ct show?    NaN  test   \n",
       "2                   where is the lesion located?    NaN  test   \n",
       "3  what is the hypointense signal suggestive of?    NaN  test   \n",
       "4             what does the chest ct image show?    NaN  test   \n",
       "\n",
       "                                                path answer_embedding  \\\n",
       "0  C:\\Users\\Public\\Documents\\Data\\2018\\VQAMed2018...                    \n",
       "1  C:\\Users\\Public\\Documents\\Data\\2018\\VQAMed2018...                    \n",
       "2  C:\\Users\\Public\\Documents\\Data\\2018\\VQAMed2018...                    \n",
       "3  C:\\Users\\Public\\Documents\\Data\\2018\\VQAMed2018...                    \n",
       "4  C:\\Users\\Public\\Documents\\Data\\2018\\VQAMed2018...                    \n",
       "\n",
       "                                  question_embedding  \\\n",
       "0  [[-0.24224531650543213, 0.43569791316986084, -...   \n",
       "1  [[-1.792357087135315, 2.5371570587158203, 0.78...   \n",
       "2  [[-0.24224531650543213, 0.43569791316986084, -...   \n",
       "3  [[-2.576011896133423, 1.1504747867584229, -0.0...   \n",
       "4  [[-1.7583001852035522, 2.477630615234375, 0.76...   \n",
       "\n",
       "                                               image  \n",
       "0  [[[28, 28, 28], [26, 26, 26], [21, 21, 21], [2...  \n",
       "1  [[[4, 3, 5], [5, 4, 6], [11, 10, 14], [7, 6, 1...  \n",
       "2  [[[37, 37, 37], [37, 37, 37], [37, 37, 37], [3...  \n",
       "3  [[[45, 44, 46], [52, 52, 53], [54, 51, 53], [6...  \n",
       "4  [[[23, 23, 23], [20, 20, 20], [23, 23, 23], [2...  "
      ]
     },
     "execution_count": 9,
     "metadata": {},
     "output_type": "execute_result"
    }
   ],
   "source": [
    "df_data.head()"
   ]
  },
  {
   "cell_type": "code",
   "execution_count": 11,
   "metadata": {},
   "outputs": [],
   "source": [
    "#TODO: Duplicate:"
   ]
  },
  {
   "cell_type": "code",
   "execution_count": 21,
   "metadata": {},
   "outputs": [],
   "source": [
    "def concate_row(df, col):\n",
    "    return np.concatenate(df[col], axis=0)\n",
    "\n",
    "def get_features_and_labels(df):\n",
    "    image_features = np.asarray([np.array(im) for im in df['image']])\n",
    "    # np.concatenate(image_features['question_embedding'], axis=0).shape\n",
    "    question_features = concate_row(df, 'question_embedding') \n",
    "\n",
    "    features = ([f for f in [question_features, image_features]])\n",
    "    labels = None# concate_row(df, 'answer_embedding')\n",
    "    return features, labels\n"
   ]
  },
  {
   "cell_type": "code",
   "execution_count": 22,
   "metadata": {},
   "outputs": [],
   "source": [
    "features, _ = get_features_and_labels(df_data)"
   ]
  },
  {
   "cell_type": "code",
   "execution_count": 25,
   "metadata": {},
   "outputs": [],
   "source": [
    "\n",
    "p = model.predict(features)"
   ]
  },
  {
   "cell_type": "code",
   "execution_count": 26,
   "metadata": {},
   "outputs": [
    {
     "data": {
      "text/plain": [
       "array([[2.1991243e-03, 6.2448200e-04, 3.7868265e-13, ..., 2.8776132e-14,\n",
       "        2.8661975e-14, 3.2802506e-14],\n",
       "       [7.8926963e-04, 3.0502008e-06, 9.8802566e-08, ..., 3.1193473e-15,\n",
       "        2.3324894e-15, 2.1542314e-15],\n",
       "       [7.2746834e-04, 3.8213318e-05, 3.0096334e-14, ..., 6.4665396e-16,\n",
       "        5.6478807e-16, 7.1179985e-16],\n",
       "       ...,\n",
       "       [1.4163327e-03, 1.3800043e-04, 1.1205324e-10, ..., 1.4214472e-13,\n",
       "        1.0711815e-13, 1.2806141e-13],\n",
       "       [2.7324797e-03, 1.2681780e-04, 4.3154436e-08, ..., 1.4278004e-14,\n",
       "        1.6359449e-14, 2.2394264e-14],\n",
       "       [3.2263366e-03, 1.3703281e-04, 2.9111610e-10, ..., 5.4152981e-14,\n",
       "        4.1082616e-14, 4.4914010e-14]], dtype=float32)"
      ]
     },
     "execution_count": 26,
     "metadata": {},
     "output_type": "execute_result"
    }
   ],
   "source": [
    "p"
   ]
  }
 ],
 "metadata": {
  "kernelspec": {
   "display_name": "Python conda_env",
   "language": "python",
   "name": "conda_env"
  },
  "language_info": {
   "codemirror_mode": {
    "name": "ipython",
    "version": 3
   },
   "file_extension": ".py",
   "mimetype": "text/x-python",
   "name": "python",
   "nbconvert_exporter": "python",
   "pygments_lexer": "ipython3",
   "version": "3.6.2"
  }
 },
 "nbformat": 4,
 "nbformat_minor": 2
}
